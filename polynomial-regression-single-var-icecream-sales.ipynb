{
 "cells": [
  {
   "cell_type": "code",
   "execution_count": 1,
   "id": "d9ea0bbf",
   "metadata": {
    "execution": {
     "iopub.execute_input": "2023-08-29T09:52:42.426817Z",
     "iopub.status.busy": "2023-08-29T09:52:42.426356Z",
     "iopub.status.idle": "2023-08-29T09:52:42.438452Z",
     "shell.execute_reply": "2023-08-29T09:52:42.437490Z"
    },
    "papermill": {
     "duration": 0.024023,
     "end_time": "2023-08-29T09:52:42.441071",
     "exception": false,
     "start_time": "2023-08-29T09:52:42.417048",
     "status": "completed"
    },
    "tags": []
   },
   "outputs": [],
   "source": [
    "#importing the necessary libraries\n",
    "import numpy as np \n",
    "import pandas as pd\n",
    "import matplotlib.pyplot as plt"
   ]
  },
  {
   "cell_type": "code",
   "execution_count": 2,
   "id": "a072366f",
   "metadata": {
    "execution": {
     "iopub.execute_input": "2023-08-29T09:52:42.457467Z",
     "iopub.status.busy": "2023-08-29T09:52:42.457020Z",
     "iopub.status.idle": "2023-08-29T09:52:42.482034Z",
     "shell.execute_reply": "2023-08-29T09:52:42.480955Z"
    },
    "papermill": {
     "duration": 0.036661,
     "end_time": "2023-08-29T09:52:42.484850",
     "exception": false,
     "start_time": "2023-08-29T09:52:42.448189",
     "status": "completed"
    },
    "tags": []
   },
   "outputs": [],
   "source": [
    "#reading the data from CSV\n",
    "dataset = pd.read_csv('/kaggle/input/polynomial-regression/Ice_cream selling data.csv')\n",
    "X = dataset.iloc[:,0:1].values\n",
    "y = dataset.iloc[:,-1].values"
   ]
  },
  {
   "cell_type": "code",
   "execution_count": 3,
   "id": "54572399",
   "metadata": {
    "execution": {
     "iopub.execute_input": "2023-08-29T09:52:42.500685Z",
     "iopub.status.busy": "2023-08-29T09:52:42.500224Z",
     "iopub.status.idle": "2023-08-29T09:52:42.509046Z",
     "shell.execute_reply": "2023-08-29T09:52:42.507850Z"
    },
    "papermill": {
     "duration": 0.019687,
     "end_time": "2023-08-29T09:52:42.511584",
     "exception": false,
     "start_time": "2023-08-29T09:52:42.491897",
     "status": "completed"
    },
    "tags": []
   },
   "outputs": [
    {
     "data": {
      "text/plain": [
       "49"
      ]
     },
     "execution_count": 3,
     "metadata": {},
     "output_type": "execute_result"
    }
   ],
   "source": [
    "len(dataset.index)"
   ]
  },
  {
   "cell_type": "code",
   "execution_count": 4,
   "id": "a0ccdfd3",
   "metadata": {
    "execution": {
     "iopub.execute_input": "2023-08-29T09:52:42.527550Z",
     "iopub.status.busy": "2023-08-29T09:52:42.527108Z",
     "iopub.status.idle": "2023-08-29T09:52:42.532610Z",
     "shell.execute_reply": "2023-08-29T09:52:42.531232Z"
    },
    "papermill": {
     "duration": 0.016338,
     "end_time": "2023-08-29T09:52:42.535019",
     "exception": false,
     "start_time": "2023-08-29T09:52:42.518681",
     "status": "completed"
    },
    "tags": []
   },
   "outputs": [],
   "source": [
    "X = X.reshape(-1,1)\n",
    "y = y.reshape(-1,1)"
   ]
  },
  {
   "cell_type": "code",
   "execution_count": 5,
   "id": "0fdecc3f",
   "metadata": {
    "execution": {
     "iopub.execute_input": "2023-08-29T09:52:42.552270Z",
     "iopub.status.busy": "2023-08-29T09:52:42.551870Z",
     "iopub.status.idle": "2023-08-29T09:52:43.773275Z",
     "shell.execute_reply": "2023-08-29T09:52:43.771905Z"
    },
    "papermill": {
     "duration": 1.233666,
     "end_time": "2023-08-29T09:52:43.776359",
     "exception": false,
     "start_time": "2023-08-29T09:52:42.542693",
     "status": "completed"
    },
    "tags": []
   },
   "outputs": [
    {
     "name": "stderr",
     "output_type": "stream",
     "text": [
      "/opt/conda/lib/python3.10/site-packages/scipy/__init__.py:146: UserWarning: A NumPy version >=1.16.5 and <1.23.0 is required for this version of SciPy (detected version 1.23.5\n",
      "  warnings.warn(f\"A NumPy version >={np_minversion} and <{np_maxversion}\"\n"
     ]
    }
   ],
   "source": [
    "#split into train and test set\n",
    "from sklearn.model_selection import train_test_split\n",
    "X_train, X_test, y_train, y_test = train_test_split(X,y,test_size=0.2,random_state=42)"
   ]
  },
  {
   "cell_type": "code",
   "execution_count": 6,
   "id": "79239802",
   "metadata": {
    "execution": {
     "iopub.execute_input": "2023-08-29T09:52:43.793218Z",
     "iopub.status.busy": "2023-08-29T09:52:43.792817Z",
     "iopub.status.idle": "2023-08-29T09:52:43.918433Z",
     "shell.execute_reply": "2023-08-29T09:52:43.917237Z"
    },
    "papermill": {
     "duration": 0.137002,
     "end_time": "2023-08-29T09:52:43.920970",
     "exception": false,
     "start_time": "2023-08-29T09:52:43.783968",
     "status": "completed"
    },
    "tags": []
   },
   "outputs": [
    {
     "data": {
      "text/html": [
       "<style>#sk-container-id-1 {color: black;background-color: white;}#sk-container-id-1 pre{padding: 0;}#sk-container-id-1 div.sk-toggleable {background-color: white;}#sk-container-id-1 label.sk-toggleable__label {cursor: pointer;display: block;width: 100%;margin-bottom: 0;padding: 0.3em;box-sizing: border-box;text-align: center;}#sk-container-id-1 label.sk-toggleable__label-arrow:before {content: \"▸\";float: left;margin-right: 0.25em;color: #696969;}#sk-container-id-1 label.sk-toggleable__label-arrow:hover:before {color: black;}#sk-container-id-1 div.sk-estimator:hover label.sk-toggleable__label-arrow:before {color: black;}#sk-container-id-1 div.sk-toggleable__content {max-height: 0;max-width: 0;overflow: hidden;text-align: left;background-color: #f0f8ff;}#sk-container-id-1 div.sk-toggleable__content pre {margin: 0.2em;color: black;border-radius: 0.25em;background-color: #f0f8ff;}#sk-container-id-1 input.sk-toggleable__control:checked~div.sk-toggleable__content {max-height: 200px;max-width: 100%;overflow: auto;}#sk-container-id-1 input.sk-toggleable__control:checked~label.sk-toggleable__label-arrow:before {content: \"▾\";}#sk-container-id-1 div.sk-estimator input.sk-toggleable__control:checked~label.sk-toggleable__label {background-color: #d4ebff;}#sk-container-id-1 div.sk-label input.sk-toggleable__control:checked~label.sk-toggleable__label {background-color: #d4ebff;}#sk-container-id-1 input.sk-hidden--visually {border: 0;clip: rect(1px 1px 1px 1px);clip: rect(1px, 1px, 1px, 1px);height: 1px;margin: -1px;overflow: hidden;padding: 0;position: absolute;width: 1px;}#sk-container-id-1 div.sk-estimator {font-family: monospace;background-color: #f0f8ff;border: 1px dotted black;border-radius: 0.25em;box-sizing: border-box;margin-bottom: 0.5em;}#sk-container-id-1 div.sk-estimator:hover {background-color: #d4ebff;}#sk-container-id-1 div.sk-parallel-item::after {content: \"\";width: 100%;border-bottom: 1px solid gray;flex-grow: 1;}#sk-container-id-1 div.sk-label:hover label.sk-toggleable__label {background-color: #d4ebff;}#sk-container-id-1 div.sk-serial::before {content: \"\";position: absolute;border-left: 1px solid gray;box-sizing: border-box;top: 0;bottom: 0;left: 50%;z-index: 0;}#sk-container-id-1 div.sk-serial {display: flex;flex-direction: column;align-items: center;background-color: white;padding-right: 0.2em;padding-left: 0.2em;position: relative;}#sk-container-id-1 div.sk-item {position: relative;z-index: 1;}#sk-container-id-1 div.sk-parallel {display: flex;align-items: stretch;justify-content: center;background-color: white;position: relative;}#sk-container-id-1 div.sk-item::before, #sk-container-id-1 div.sk-parallel-item::before {content: \"\";position: absolute;border-left: 1px solid gray;box-sizing: border-box;top: 0;bottom: 0;left: 50%;z-index: -1;}#sk-container-id-1 div.sk-parallel-item {display: flex;flex-direction: column;z-index: 1;position: relative;background-color: white;}#sk-container-id-1 div.sk-parallel-item:first-child::after {align-self: flex-end;width: 50%;}#sk-container-id-1 div.sk-parallel-item:last-child::after {align-self: flex-start;width: 50%;}#sk-container-id-1 div.sk-parallel-item:only-child::after {width: 0;}#sk-container-id-1 div.sk-dashed-wrapped {border: 1px dashed gray;margin: 0 0.4em 0.5em 0.4em;box-sizing: border-box;padding-bottom: 0.4em;background-color: white;}#sk-container-id-1 div.sk-label label {font-family: monospace;font-weight: bold;display: inline-block;line-height: 1.2em;}#sk-container-id-1 div.sk-label-container {text-align: center;}#sk-container-id-1 div.sk-container {/* jupyter's `normalize.less` sets `[hidden] { display: none; }` but bootstrap.min.css set `[hidden] { display: none !important; }` so we also need the `!important` here to be able to override the default hidden behavior on the sphinx rendered scikit-learn.org. See: https://github.com/scikit-learn/scikit-learn/issues/21755 */display: inline-block !important;position: relative;}#sk-container-id-1 div.sk-text-repr-fallback {display: none;}</style><div id=\"sk-container-id-1\" class=\"sk-top-container\"><div class=\"sk-text-repr-fallback\"><pre>LinearRegression()</pre><b>In a Jupyter environment, please rerun this cell to show the HTML representation or trust the notebook. <br />On GitHub, the HTML representation is unable to render, please try loading this page with nbviewer.org.</b></div><div class=\"sk-container\" hidden><div class=\"sk-item\"><div class=\"sk-estimator sk-toggleable\"><input class=\"sk-toggleable__control sk-hidden--visually\" id=\"sk-estimator-id-1\" type=\"checkbox\" checked><label for=\"sk-estimator-id-1\" class=\"sk-toggleable__label sk-toggleable__label-arrow\">LinearRegression</label><div class=\"sk-toggleable__content\"><pre>LinearRegression()</pre></div></div></div></div></div>"
      ],
      "text/plain": [
       "LinearRegression()"
      ]
     },
     "execution_count": 6,
     "metadata": {},
     "output_type": "execute_result"
    }
   ],
   "source": [
    "#Applyin Simple Regression to test the result\n",
    "from sklearn.linear_model import LinearRegression\n",
    "lin_reg = LinearRegression()\n",
    "lin_reg.fit(X_train,y_train)"
   ]
  },
  {
   "cell_type": "code",
   "execution_count": 7,
   "id": "cac664b0",
   "metadata": {
    "execution": {
     "iopub.execute_input": "2023-08-29T09:52:43.938820Z",
     "iopub.status.busy": "2023-08-29T09:52:43.937509Z",
     "iopub.status.idle": "2023-08-29T09:52:43.944069Z",
     "shell.execute_reply": "2023-08-29T09:52:43.942782Z"
    },
    "papermill": {
     "duration": 0.018208,
     "end_time": "2023-08-29T09:52:43.946785",
     "exception": false,
     "start_time": "2023-08-29T09:52:43.928577",
     "status": "completed"
    },
    "tags": []
   },
   "outputs": [],
   "source": [
    "y_pred = lin_reg.predict(X_test)"
   ]
  },
  {
   "cell_type": "code",
   "execution_count": 8,
   "id": "ee477fa2",
   "metadata": {
    "execution": {
     "iopub.execute_input": "2023-08-29T09:52:43.963475Z",
     "iopub.status.busy": "2023-08-29T09:52:43.963061Z",
     "iopub.status.idle": "2023-08-29T09:52:43.971034Z",
     "shell.execute_reply": "2023-08-29T09:52:43.969716Z"
    },
    "papermill": {
     "duration": 0.018926,
     "end_time": "2023-08-29T09:52:43.973255",
     "exception": false,
     "start_time": "2023-08-29T09:52:43.954329",
     "status": "completed"
    },
    "tags": []
   },
   "outputs": [
    {
     "data": {
      "text/plain": [
       "array([[12.55286567]])"
      ]
     },
     "execution_count": 8,
     "metadata": {},
     "output_type": "execute_result"
    }
   ],
   "source": [
    "lin_reg.predict([[4]])"
   ]
  },
  {
   "cell_type": "code",
   "execution_count": 9,
   "id": "197d85fd",
   "metadata": {
    "execution": {
     "iopub.execute_input": "2023-08-29T09:52:43.992070Z",
     "iopub.status.busy": "2023-08-29T09:52:43.991682Z",
     "iopub.status.idle": "2023-08-29T09:52:43.999687Z",
     "shell.execute_reply": "2023-08-29T09:52:43.998512Z"
    },
    "papermill": {
     "duration": 0.019969,
     "end_time": "2023-08-29T09:52:44.002223",
     "exception": false,
     "start_time": "2023-08-29T09:52:43.982254",
     "status": "completed"
    },
    "tags": []
   },
   "outputs": [
    {
     "data": {
      "text/plain": [
       "-30.375971246611176"
      ]
     },
     "execution_count": 9,
     "metadata": {},
     "output_type": "execute_result"
    }
   ],
   "source": [
    "from sklearn.metrics import r2_score\n",
    "r2_score(y_pred,y_test)"
   ]
  },
  {
   "cell_type": "code",
   "execution_count": 10,
   "id": "277dd25b",
   "metadata": {
    "execution": {
     "iopub.execute_input": "2023-08-29T09:52:44.019818Z",
     "iopub.status.busy": "2023-08-29T09:52:44.019131Z",
     "iopub.status.idle": "2023-08-29T09:52:44.318137Z",
     "shell.execute_reply": "2023-08-29T09:52:44.316972Z"
    },
    "papermill": {
     "duration": 0.311201,
     "end_time": "2023-08-29T09:52:44.321176",
     "exception": false,
     "start_time": "2023-08-29T09:52:44.009975",
     "status": "completed"
    },
    "tags": []
   },
   "outputs": [
    {
     "data": {
      "image/png": "[encoded data removed]",
      "text/plain": [
       "<Figure size 640x480 with 1 Axes>"
      ]
     },
     "metadata": {},
     "output_type": "display_data"
    }
   ],
   "source": [
    "plt.scatter(X_train,y_train,color='blue')\n",
    "plt.plot(X_train,lin_reg.predict(X_train),color='red')\n",
    "plt.xlabel(\"Temperature °C\")\n",
    "plt.ylabel(\"Ice Cream Sales (units) \")\n",
    "plt.show()"
   ]
  },
  {
   "cell_type": "code",
   "execution_count": 11,
   "id": "dc6632ef",
   "metadata": {
    "execution": {
     "iopub.execute_input": "2023-08-29T09:52:44.340377Z",
     "iopub.status.busy": "2023-08-29T09:52:44.339982Z",
     "iopub.status.idle": "2023-08-29T09:52:44.345421Z",
     "shell.execute_reply": "2023-08-29T09:52:44.344419Z"
    },
    "papermill": {
     "duration": 0.018207,
     "end_time": "2023-08-29T09:52:44.348035",
     "exception": false,
     "start_time": "2023-08-29T09:52:44.329828",
     "status": "completed"
    },
    "tags": []
   },
   "outputs": [],
   "source": [
    "from sklearn.preprocessing import PolynomialFeatures\n",
    "# poly = PolynomialFeatures(degree=2)"
   ]
  },
  {
   "cell_type": "code",
   "execution_count": 12,
   "id": "c3f7624c",
   "metadata": {
    "execution": {
     "iopub.execute_input": "2023-08-29T09:52:44.367479Z",
     "iopub.status.busy": "2023-08-29T09:52:44.366401Z",
     "iopub.status.idle": "2023-08-29T09:52:44.373258Z",
     "shell.execute_reply": "2023-08-29T09:52:44.372183Z"
    },
    "papermill": {
     "duration": 0.01977,
     "end_time": "2023-08-29T09:52:44.376147",
     "exception": false,
     "start_time": "2023-08-29T09:52:44.356377",
     "status": "completed"
    },
    "tags": []
   },
   "outputs": [],
   "source": [
    "poly = PolynomialFeatures(degree=3,include_bias=True)\n",
    "\n",
    "X_train_trans = poly.fit_transform(X_train)\n",
    "X_test_trans = poly.transform(X_test)"
   ]
  },
  {
   "cell_type": "code",
   "execution_count": 13,
   "id": "4cc05508",
   "metadata": {
    "execution": {
     "iopub.execute_input": "2023-08-29T09:52:44.394735Z",
     "iopub.status.busy": "2023-08-29T09:52:44.394308Z",
     "iopub.status.idle": "2023-08-29T09:52:44.400654Z",
     "shell.execute_reply": "2023-08-29T09:52:44.399365Z"
    },
    "papermill": {
     "duration": 0.019103,
     "end_time": "2023-08-29T09:52:44.403510",
     "exception": false,
     "start_time": "2023-08-29T09:52:44.384407",
     "status": "completed"
    },
    "tags": []
   },
   "outputs": [
    {
     "name": "stdout",
     "output_type": "stream",
     "text": [
      "[-2.11186969]\n",
      "[ 1.         -2.11186969  4.45999359 -9.41892528]\n"
     ]
    }
   ],
   "source": [
    "print(X_train[0])\n",
    "print(X_train_trans[0])"
   ]
  },
  {
   "cell_type": "code",
   "execution_count": 14,
   "id": "eb2a5788",
   "metadata": {
    "execution": {
     "iopub.execute_input": "2023-08-29T09:52:44.422148Z",
     "iopub.status.busy": "2023-08-29T09:52:44.421717Z",
     "iopub.status.idle": "2023-08-29T09:52:44.436993Z",
     "shell.execute_reply": "2023-08-29T09:52:44.435650Z"
    },
    "papermill": {
     "duration": 0.027693,
     "end_time": "2023-08-29T09:52:44.439533",
     "exception": false,
     "start_time": "2023-08-29T09:52:44.411840",
     "status": "completed"
    },
    "tags": []
   },
   "outputs": [
    {
     "data": {
      "text/html": [
       "<style>#sk-container-id-2 {color: black;background-color: white;}#sk-container-id-2 pre{padding: 0;}#sk-container-id-2 div.sk-toggleable {background-color: white;}#sk-container-id-2 label.sk-toggleable__label {cursor: pointer;display: block;width: 100%;margin-bottom: 0;padding: 0.3em;box-sizing: border-box;text-align: center;}#sk-container-id-2 label.sk-toggleable__label-arrow:before {content: \"▸\";float: left;margin-right: 0.25em;color: #696969;}#sk-container-id-2 label.sk-toggleable__label-arrow:hover:before {color: black;}#sk-container-id-2 div.sk-estimator:hover label.sk-toggleable__label-arrow:before {color: black;}#sk-container-id-2 div.sk-toggleable__content {max-height: 0;max-width: 0;overflow: hidden;text-align: left;background-color: #f0f8ff;}#sk-container-id-2 div.sk-toggleable__content pre {margin: 0.2em;color: black;border-radius: 0.25em;background-color: #f0f8ff;}#sk-container-id-2 input.sk-toggleable__control:checked~div.sk-toggleable__content {max-height: 200px;max-width: 100%;overflow: auto;}#sk-container-id-2 input.sk-toggleable__control:checked~label.sk-toggleable__label-arrow:before {content: \"▾\";}#sk-container-id-2 div.sk-estimator input.sk-toggleable__control:checked~label.sk-toggleable__label {background-color: #d4ebff;}#sk-container-id-2 div.sk-label input.sk-toggleable__control:checked~label.sk-toggleable__label {background-color: #d4ebff;}#sk-container-id-2 input.sk-hidden--visually {border: 0;clip: rect(1px 1px 1px 1px);clip: rect(1px, 1px, 1px, 1px);height: 1px;margin: -1px;overflow: hidden;padding: 0;position: absolute;width: 1px;}#sk-container-id-2 div.sk-estimator {font-family: monospace;background-color: #f0f8ff;border: 1px dotted black;border-radius: 0.25em;box-sizing: border-box;margin-bottom: 0.5em;}#sk-container-id-2 div.sk-estimator:hover {background-color: #d4ebff;}#sk-container-id-2 div.sk-parallel-item::after {content: \"\";width: 100%;border-bottom: 1px solid gray;flex-grow: 1;}#sk-container-id-2 div.sk-label:hover label.sk-toggleable__label {background-color: #d4ebff;}#sk-container-id-2 div.sk-serial::before {content: \"\";position: absolute;border-left: 1px solid gray;box-sizing: border-box;top: 0;bottom: 0;left: 50%;z-index: 0;}#sk-container-id-2 div.sk-serial {display: flex;flex-direction: column;align-items: center;background-color: white;padding-right: 0.2em;padding-left: 0.2em;position: relative;}#sk-container-id-2 div.sk-item {position: relative;z-index: 1;}#sk-container-id-2 div.sk-parallel {display: flex;align-items: stretch;justify-content: center;background-color: white;position: relative;}#sk-container-id-2 div.sk-item::before, #sk-container-id-2 div.sk-parallel-item::before {content: \"\";position: absolute;border-left: 1px solid gray;box-sizing: border-box;top: 0;bottom: 0;left: 50%;z-index: -1;}#sk-container-id-2 div.sk-parallel-item {display: flex;flex-direction: column;z-index: 1;position: relative;background-color: white;}#sk-container-id-2 div.sk-parallel-item:first-child::after {align-self: flex-end;width: 50%;}#sk-container-id-2 div.sk-parallel-item:last-child::after {align-self: flex-start;width: 50%;}#sk-container-id-2 div.sk-parallel-item:only-child::after {width: 0;}#sk-container-id-2 div.sk-dashed-wrapped {border: 1px dashed gray;margin: 0 0.4em 0.5em 0.4em;box-sizing: border-box;padding-bottom: 0.4em;background-color: white;}#sk-container-id-2 div.sk-label label {font-family: monospace;font-weight: bold;display: inline-block;line-height: 1.2em;}#sk-container-id-2 div.sk-label-container {text-align: center;}#sk-container-id-2 div.sk-container {/* jupyter's `normalize.less` sets `[hidden] { display: none; }` but bootstrap.min.css set `[hidden] { display: none !important; }` so we also need the `!important` here to be able to override the default hidden behavior on the sphinx rendered scikit-learn.org. See: https://github.com/scikit-learn/scikit-learn/issues/21755 */display: inline-block !important;position: relative;}#sk-container-id-2 div.sk-text-repr-fallback {display: none;}</style><div id=\"sk-container-id-2\" class=\"sk-top-container\"><div class=\"sk-text-repr-fallback\"><pre>LinearRegression()</pre><b>In a Jupyter environment, please rerun this cell to show the HTML representation or trust the notebook. <br />On GitHub, the HTML representation is unable to render, please try loading this page with nbviewer.org.</b></div><div class=\"sk-container\" hidden><div class=\"sk-item\"><div class=\"sk-estimator sk-toggleable\"><input class=\"sk-toggleable__control sk-hidden--visually\" id=\"sk-estimator-id-2\" type=\"checkbox\" checked><label for=\"sk-estimator-id-2\" class=\"sk-toggleable__label sk-toggleable__label-arrow\">LinearRegression</label><div class=\"sk-toggleable__content\"><pre>LinearRegression()</pre></div></div></div></div></div>"
      ],
      "text/plain": [
       "LinearRegression()"
      ]
     },
     "execution_count": 14,
     "metadata": {},
     "output_type": "execute_result"
    }
   ],
   "source": [
    "poly_reg = LinearRegression()\n",
    "poly_reg.fit(X_train_trans,y_train)"
   ]
  },
  {
   "cell_type": "code",
   "execution_count": 15,
   "id": "454024bc",
   "metadata": {
    "execution": {
     "iopub.execute_input": "2023-08-29T09:52:44.458319Z",
     "iopub.status.busy": "2023-08-29T09:52:44.457923Z",
     "iopub.status.idle": "2023-08-29T09:52:44.466397Z",
     "shell.execute_reply": "2023-08-29T09:52:44.465526Z"
    },
    "papermill": {
     "duration": 0.020698,
     "end_time": "2023-08-29T09:52:44.468778",
     "exception": false,
     "start_time": "2023-08-29T09:52:44.448080",
     "status": "completed"
    },
    "tags": []
   },
   "outputs": [
    {
     "data": {
      "text/plain": [
       "0.8733453841138886"
      ]
     },
     "execution_count": 15,
     "metadata": {},
     "output_type": "execute_result"
    }
   ],
   "source": [
    "r2_score(poly_reg.predict(X_test_trans),y_test)"
   ]
  },
  {
   "cell_type": "code",
   "execution_count": 16,
   "id": "7f668b7f",
   "metadata": {
    "execution": {
     "iopub.execute_input": "2023-08-29T09:52:44.488022Z",
     "iopub.status.busy": "2023-08-29T09:52:44.487592Z",
     "iopub.status.idle": "2023-08-29T09:52:44.494664Z",
     "shell.execute_reply": "2023-08-29T09:52:44.493288Z"
    },
    "papermill": {
     "duration": 0.019787,
     "end_time": "2023-08-29T09:52:44.497358",
     "exception": false,
     "start_time": "2023-08-29T09:52:44.477571",
     "status": "completed"
    },
    "tags": []
   },
   "outputs": [],
   "source": [
    "X_new=np.linspace(-5, 5, 49).reshape(49, 1)\n",
    "X_new_poly = poly.transform(X_new)\n",
    "y_new = poly_reg.predict(X_new_poly)"
   ]
  },
  {
   "cell_type": "code",
   "execution_count": 17,
   "id": "9746b7a3",
   "metadata": {
    "execution": {
     "iopub.execute_input": "2023-08-29T09:52:44.517962Z",
     "iopub.status.busy": "2023-08-29T09:52:44.516882Z",
     "iopub.status.idle": "2023-08-29T09:52:44.820329Z",
     "shell.execute_reply": "2023-08-29T09:52:44.819022Z"
    },
    "papermill": {
     "duration": 0.316951,
     "end_time": "2023-08-29T09:52:44.823372",
     "exception": false,
     "start_time": "2023-08-29T09:52:44.506421",
     "status": "completed"
    },
    "tags": []
   },
   "outputs": [
    {
     "data": {
      "image/png": "[encoded data removed]",
      "text/plain": [
       "<Figure size 640x480 with 1 Axes>"
      ]
     },
     "metadata": {},
     "output_type": "display_data"
    }
   ],
   "source": [
    "plt.plot(X_new, y_new, color='red', label=\"Predictions\")\n",
    "plt.plot(X_train, y_train, \"b.\",label='Training points')\n",
    "plt.plot(X_test, y_test, \"g.\",label='Testing points')\n",
    "plt.xlabel(\"X\")\n",
    "plt.ylabel(\"y\")\n",
    "plt.legend()\n",
    "plt.show()"
   ]
  },
  {
   "cell_type": "code",
   "execution_count": 18,
   "id": "2cb32755",
   "metadata": {
    "execution": {
     "iopub.execute_input": "2023-08-29T09:52:44.845927Z",
     "iopub.status.busy": "2023-08-29T09:52:44.845110Z",
     "iopub.status.idle": "2023-08-29T09:52:45.121138Z",
     "shell.execute_reply": "2023-08-29T09:52:45.119725Z"
    },
    "papermill": {
     "duration": 0.289526,
     "end_time": "2023-08-29T09:52:45.123818",
     "exception": false,
     "start_time": "2023-08-29T09:52:44.834292",
     "status": "completed"
    },
    "tags": []
   },
   "outputs": [
    {
     "data": {
      "image/png": "[encoded data removed]",
      "text/plain": [
       "<Figure size 640x480 with 1 Axes>"
      ]
     },
     "metadata": {},
     "output_type": "display_data"
    }
   ],
   "source": [
    "plt.scatter(X_train,y_train,color='blue')\n",
    "plt.scatter(X_test,y_test,color='green')\n",
    "\n",
    "plt.plot(X_new, y_new, color='red', label=\"Predictions\")\n",
    "plt.xlabel(\"Temperature °C\")\n",
    "plt.ylabel(\"Ice Cream Sales (units) \")\n",
    "plt.show()"
   ]
  },
  {
   "cell_type": "code",
   "execution_count": null,
   "id": "83297335",
   "metadata": {
    "papermill": {
     "duration": 0.010018,
     "end_time": "2023-08-29T09:52:45.143709",
     "exception": false,
     "start_time": "2023-08-29T09:52:45.133691",
     "status": "completed"
    },
    "tags": []
   },
   "outputs": [],
   "source": []
  },
  {
   "cell_type": "code",
   "execution_count": null,
   "id": "5b7cebeb",
   "metadata": {
    "papermill": {
     "duration": 0.009407,
     "end_time": "2023-08-29T09:52:45.163029",
     "exception": false,
     "start_time": "2023-08-29T09:52:45.153622",
     "status": "completed"
    },
    "tags": []
   },
   "outputs": [],
   "source": []
  }
 ],
 "metadata": {
  "kernelspec": {
   "display_name": "Python 3",
   "language": "python",
   "name": "python3"
  },
  "language_info": {
   "codemirror_mode": {
    "name": "ipython",
    "version": 3
   },
   "file_extension": ".py",
   "mimetype": "text/x-python",
   "name": "python",
   "nbconvert_exporter": "python",
   "pygments_lexer": "ipython3",
   "version": "3.10.12"
  },
  "papermill": {
   "default_parameters": {},
   "duration": 16.060647,
   "end_time": "2023-08-29T09:52:46.195854",
   "environment_variables": {},
   "exception": null,
   "input_path": "__notebook__.ipynb",
   "output_path": "__notebook__.ipynb",
   "parameters": {},
   "start_time": "2023-08-29T09:52:30.135207",
   "version": "2.4.0"
  }
 },
 "nbformat": 4,
 "nbformat_minor": 5
}
