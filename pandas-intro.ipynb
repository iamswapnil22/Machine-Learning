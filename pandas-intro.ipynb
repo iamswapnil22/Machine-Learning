{
 "cells": [
  {
   "cell_type": "code",
   "execution_count": 1,
   "id": "e131d2d4",
   "metadata": {
    "execution": {
     "iopub.execute_input": "2023-09-02T18:33:52.207116Z",
     "iopub.status.busy": "2023-09-02T18:33:52.206443Z",
     "iopub.status.idle": "2023-09-02T18:33:52.626571Z",
     "shell.execute_reply": "2023-09-02T18:33:52.625588Z"
    },
    "papermill": {
     "duration": 0.451061,
     "end_time": "2023-09-02T18:33:52.629431",
     "exception": false,
     "start_time": "2023-09-02T18:33:52.178370",
     "status": "completed"
    },
    "tags": []
   },
   "outputs": [],
   "source": [
    "import pandas as pd \n",
    "import numpy as np"
   ]
  },
  {
   "cell_type": "code",
   "execution_count": 2,
   "id": "22bdc5de",
   "metadata": {
    "execution": {
     "iopub.execute_input": "2023-09-02T18:33:52.681907Z",
     "iopub.status.busy": "2023-09-02T18:33:52.681359Z",
     "iopub.status.idle": "2023-09-02T18:33:52.703051Z",
     "shell.execute_reply": "2023-09-02T18:33:52.702035Z"
    },
    "papermill": {
     "duration": 0.051029,
     "end_time": "2023-09-02T18:33:52.705799",
     "exception": false,
     "start_time": "2023-09-02T18:33:52.654770",
     "status": "completed"
    },
    "tags": []
   },
   "outputs": [],
   "source": [
    "df = pd.read_csv('/kaggle/input/data-for-pandas-tutorial-for-beginners/data.csv')"
   ]
  },
  {
   "cell_type": "code",
   "execution_count": 3,
   "id": "c67b8dc3",
   "metadata": {
    "execution": {
     "iopub.execute_input": "2023-09-02T18:33:52.759757Z",
     "iopub.status.busy": "2023-09-02T18:33:52.758822Z",
     "iopub.status.idle": "2023-09-02T18:33:52.783032Z",
     "shell.execute_reply": "2023-09-02T18:33:52.781894Z"
    },
    "papermill": {
     "duration": 0.054324,
     "end_time": "2023-09-02T18:33:52.785640",
     "exception": false,
     "start_time": "2023-09-02T18:33:52.731316",
     "status": "completed"
    },
    "tags": []
   },
   "outputs": [
    {
     "data": {
      "text/html": [
       "<div>\n",
       "<style scoped>\n",
       "    .dataframe tbody tr th:only-of-type {\n",
       "        vertical-align: middle;\n",
       "    }\n",
       "\n",
       "    .dataframe tbody tr th {\n",
       "        vertical-align: top;\n",
       "    }\n",
       "\n",
       "    .dataframe thead th {\n",
       "        text-align: right;\n",
       "    }\n",
       "</style>\n",
       "<table border=\"1\" class=\"dataframe\">\n",
       "  <thead>\n",
       "    <tr style=\"text-align: right;\">\n",
       "      <th></th>\n",
       "      <th>Duration</th>\n",
       "      <th>Pulse</th>\n",
       "      <th>Maxpulse</th>\n",
       "      <th>Calories</th>\n",
       "    </tr>\n",
       "  </thead>\n",
       "  <tbody>\n",
       "    <tr>\n",
       "      <th>0</th>\n",
       "      <td>60</td>\n",
       "      <td>110</td>\n",
       "      <td>130</td>\n",
       "      <td>409.1</td>\n",
       "    </tr>\n",
       "    <tr>\n",
       "      <th>1</th>\n",
       "      <td>60</td>\n",
       "      <td>117</td>\n",
       "      <td>145</td>\n",
       "      <td>479.0</td>\n",
       "    </tr>\n",
       "    <tr>\n",
       "      <th>2</th>\n",
       "      <td>60</td>\n",
       "      <td>103</td>\n",
       "      <td>135</td>\n",
       "      <td>340.0</td>\n",
       "    </tr>\n",
       "    <tr>\n",
       "      <th>3</th>\n",
       "      <td>45</td>\n",
       "      <td>109</td>\n",
       "      <td>175</td>\n",
       "      <td>282.4</td>\n",
       "    </tr>\n",
       "    <tr>\n",
       "      <th>4</th>\n",
       "      <td>45</td>\n",
       "      <td>117</td>\n",
       "      <td>148</td>\n",
       "      <td>406.0</td>\n",
       "    </tr>\n",
       "  </tbody>\n",
       "</table>\n",
       "</div>"
      ],
      "text/plain": [
       "   Duration  Pulse  Maxpulse  Calories\n",
       "0        60    110       130     409.1\n",
       "1        60    117       145     479.0\n",
       "2        60    103       135     340.0\n",
       "3        45    109       175     282.4\n",
       "4        45    117       148     406.0"
      ]
     },
     "execution_count": 3,
     "metadata": {},
     "output_type": "execute_result"
    }
   ],
   "source": [
    "df.head()"
   ]
  },
  {
   "cell_type": "code",
   "execution_count": 4,
   "id": "0b23f54a",
   "metadata": {
    "execution": {
     "iopub.execute_input": "2023-09-02T18:33:52.838506Z",
     "iopub.status.busy": "2023-09-02T18:33:52.837741Z",
     "iopub.status.idle": "2023-09-02T18:33:52.846186Z",
     "shell.execute_reply": "2023-09-02T18:33:52.845063Z"
    },
    "papermill": {
     "duration": 0.03759,
     "end_time": "2023-09-02T18:33:52.848618",
     "exception": false,
     "start_time": "2023-09-02T18:33:52.811028",
     "status": "completed"
    },
    "tags": []
   },
   "outputs": [
    {
     "data": {
      "text/plain": [
       "0    60\n",
       "1    60\n",
       "2    60\n",
       "3    45\n",
       "4    45\n",
       "Name: Duration, dtype: int64"
      ]
     },
     "execution_count": 4,
     "metadata": {},
     "output_type": "execute_result"
    }
   ],
   "source": [
    "df['Duration'][:5]"
   ]
  },
  {
   "cell_type": "code",
   "execution_count": 5,
   "id": "0aa96dfa",
   "metadata": {
    "execution": {
     "iopub.execute_input": "2023-09-02T18:33:52.902011Z",
     "iopub.status.busy": "2023-09-02T18:33:52.901637Z",
     "iopub.status.idle": "2023-09-02T18:33:52.919219Z",
     "shell.execute_reply": "2023-09-02T18:33:52.918457Z"
    },
    "papermill": {
     "duration": 0.046908,
     "end_time": "2023-09-02T18:33:52.921614",
     "exception": false,
     "start_time": "2023-09-02T18:33:52.874706",
     "status": "completed"
    },
    "tags": []
   },
   "outputs": [
    {
     "data": {
      "text/html": [
       "<div>\n",
       "<style scoped>\n",
       "    .dataframe tbody tr th:only-of-type {\n",
       "        vertical-align: middle;\n",
       "    }\n",
       "\n",
       "    .dataframe tbody tr th {\n",
       "        vertical-align: top;\n",
       "    }\n",
       "\n",
       "    .dataframe thead th {\n",
       "        text-align: right;\n",
       "    }\n",
       "</style>\n",
       "<table border=\"1\" class=\"dataframe\">\n",
       "  <thead>\n",
       "    <tr style=\"text-align: right;\">\n",
       "      <th></th>\n",
       "      <th>Duration</th>\n",
       "      <th>Pulse</th>\n",
       "    </tr>\n",
       "  </thead>\n",
       "  <tbody>\n",
       "    <tr>\n",
       "      <th>0</th>\n",
       "      <td>60</td>\n",
       "      <td>110</td>\n",
       "    </tr>\n",
       "    <tr>\n",
       "      <th>1</th>\n",
       "      <td>60</td>\n",
       "      <td>117</td>\n",
       "    </tr>\n",
       "    <tr>\n",
       "      <th>2</th>\n",
       "      <td>60</td>\n",
       "      <td>103</td>\n",
       "    </tr>\n",
       "    <tr>\n",
       "      <th>3</th>\n",
       "      <td>45</td>\n",
       "      <td>109</td>\n",
       "    </tr>\n",
       "    <tr>\n",
       "      <th>4</th>\n",
       "      <td>45</td>\n",
       "      <td>117</td>\n",
       "    </tr>\n",
       "    <tr>\n",
       "      <th>5</th>\n",
       "      <td>60</td>\n",
       "      <td>102</td>\n",
       "    </tr>\n",
       "    <tr>\n",
       "      <th>6</th>\n",
       "      <td>60</td>\n",
       "      <td>110</td>\n",
       "    </tr>\n",
       "    <tr>\n",
       "      <th>7</th>\n",
       "      <td>45</td>\n",
       "      <td>104</td>\n",
       "    </tr>\n",
       "    <tr>\n",
       "      <th>8</th>\n",
       "      <td>30</td>\n",
       "      <td>109</td>\n",
       "    </tr>\n",
       "    <tr>\n",
       "      <th>9</th>\n",
       "      <td>60</td>\n",
       "      <td>98</td>\n",
       "    </tr>\n",
       "  </tbody>\n",
       "</table>\n",
       "</div>"
      ],
      "text/plain": [
       "   Duration  Pulse\n",
       "0        60    110\n",
       "1        60    117\n",
       "2        60    103\n",
       "3        45    109\n",
       "4        45    117\n",
       "5        60    102\n",
       "6        60    110\n",
       "7        45    104\n",
       "8        30    109\n",
       "9        60     98"
      ]
     },
     "execution_count": 5,
     "metadata": {},
     "output_type": "execute_result"
    }
   ],
   "source": [
    "df[['Duration','Pulse']][:10]"
   ]
  },
  {
   "cell_type": "code",
   "execution_count": 6,
   "id": "573a827c",
   "metadata": {
    "execution": {
     "iopub.execute_input": "2023-09-02T18:33:52.977909Z",
     "iopub.status.busy": "2023-09-02T18:33:52.976829Z",
     "iopub.status.idle": "2023-09-02T18:33:52.984516Z",
     "shell.execute_reply": "2023-09-02T18:33:52.983570Z"
    },
    "papermill": {
     "duration": 0.039725,
     "end_time": "2023-09-02T18:33:52.987117",
     "exception": false,
     "start_time": "2023-09-02T18:33:52.947392",
     "status": "completed"
    },
    "tags": []
   },
   "outputs": [
    {
     "data": {
      "text/plain": [
       "159"
      ]
     },
     "execution_count": 6,
     "metadata": {},
     "output_type": "execute_result"
    }
   ],
   "source": [
    "df.Pulse.max()"
   ]
  },
  {
   "cell_type": "code",
   "execution_count": 7,
   "id": "d453ea57",
   "metadata": {
    "execution": {
     "iopub.execute_input": "2023-09-02T18:33:53.041738Z",
     "iopub.status.busy": "2023-09-02T18:33:53.040649Z",
     "iopub.status.idle": "2023-09-02T18:33:53.058860Z",
     "shell.execute_reply": "2023-09-02T18:33:53.058074Z"
    },
    "papermill": {
     "duration": 0.04757,
     "end_time": "2023-09-02T18:33:53.061020",
     "exception": false,
     "start_time": "2023-09-02T18:33:53.013450",
     "status": "completed"
    },
    "tags": []
   },
   "outputs": [
    {
     "data": {
      "text/html": [
       "<div>\n",
       "<style scoped>\n",
       "    .dataframe tbody tr th:only-of-type {\n",
       "        vertical-align: middle;\n",
       "    }\n",
       "\n",
       "    .dataframe tbody tr th {\n",
       "        vertical-align: top;\n",
       "    }\n",
       "\n",
       "    .dataframe thead th {\n",
       "        text-align: right;\n",
       "    }\n",
       "</style>\n",
       "<table border=\"1\" class=\"dataframe\">\n",
       "  <thead>\n",
       "    <tr style=\"text-align: right;\">\n",
       "      <th></th>\n",
       "      <th>Duration</th>\n",
       "      <th>Pulse</th>\n",
       "      <th>Maxpulse</th>\n",
       "      <th>Calories</th>\n",
       "    </tr>\n",
       "  </thead>\n",
       "  <tbody>\n",
       "    <tr>\n",
       "      <th>3</th>\n",
       "      <td>45</td>\n",
       "      <td>109</td>\n",
       "      <td>175</td>\n",
       "      <td>282.4</td>\n",
       "    </tr>\n",
       "    <tr>\n",
       "      <th>4</th>\n",
       "      <td>45</td>\n",
       "      <td>117</td>\n",
       "      <td>148</td>\n",
       "      <td>406.0</td>\n",
       "    </tr>\n",
       "    <tr>\n",
       "      <th>7</th>\n",
       "      <td>45</td>\n",
       "      <td>104</td>\n",
       "      <td>134</td>\n",
       "      <td>253.3</td>\n",
       "    </tr>\n",
       "    <tr>\n",
       "      <th>17</th>\n",
       "      <td>45</td>\n",
       "      <td>90</td>\n",
       "      <td>112</td>\n",
       "      <td>NaN</td>\n",
       "    </tr>\n",
       "    <tr>\n",
       "      <th>19</th>\n",
       "      <td>45</td>\n",
       "      <td>97</td>\n",
       "      <td>125</td>\n",
       "      <td>243.0</td>\n",
       "    </tr>\n",
       "    <tr>\n",
       "      <th>21</th>\n",
       "      <td>45</td>\n",
       "      <td>100</td>\n",
       "      <td>119</td>\n",
       "      <td>282.0</td>\n",
       "    </tr>\n",
       "    <tr>\n",
       "      <th>23</th>\n",
       "      <td>45</td>\n",
       "      <td>105</td>\n",
       "      <td>132</td>\n",
       "      <td>246.0</td>\n",
       "    </tr>\n",
       "    <tr>\n",
       "      <th>31</th>\n",
       "      <td>45</td>\n",
       "      <td>90</td>\n",
       "      <td>112</td>\n",
       "      <td>180.1</td>\n",
       "    </tr>\n",
       "    <tr>\n",
       "      <th>39</th>\n",
       "      <td>45</td>\n",
       "      <td>104</td>\n",
       "      <td>129</td>\n",
       "      <td>266.0</td>\n",
       "    </tr>\n",
       "    <tr>\n",
       "      <th>40</th>\n",
       "      <td>45</td>\n",
       "      <td>90</td>\n",
       "      <td>112</td>\n",
       "      <td>180.1</td>\n",
       "    </tr>\n",
       "    <tr>\n",
       "      <th>47</th>\n",
       "      <td>45</td>\n",
       "      <td>111</td>\n",
       "      <td>136</td>\n",
       "      <td>300.0</td>\n",
       "    </tr>\n",
       "    <tr>\n",
       "      <th>48</th>\n",
       "      <td>45</td>\n",
       "      <td>108</td>\n",
       "      <td>129</td>\n",
       "      <td>298.0</td>\n",
       "    </tr>\n",
       "    <tr>\n",
       "      <th>57</th>\n",
       "      <td>45</td>\n",
       "      <td>115</td>\n",
       "      <td>144</td>\n",
       "      <td>305.0</td>\n",
       "    </tr>\n",
       "    <tr>\n",
       "      <th>59</th>\n",
       "      <td>45</td>\n",
       "      <td>123</td>\n",
       "      <td>152</td>\n",
       "      <td>321.0</td>\n",
       "    </tr>\n",
       "    <tr>\n",
       "      <th>63</th>\n",
       "      <td>45</td>\n",
       "      <td>118</td>\n",
       "      <td>141</td>\n",
       "      <td>341.0</td>\n",
       "    </tr>\n",
       "    <tr>\n",
       "      <th>74</th>\n",
       "      <td>45</td>\n",
       "      <td>114</td>\n",
       "      <td>146</td>\n",
       "      <td>304.0</td>\n",
       "    </tr>\n",
       "    <tr>\n",
       "      <th>76</th>\n",
       "      <td>45</td>\n",
       "      <td>105</td>\n",
       "      <td>134</td>\n",
       "      <td>251.0</td>\n",
       "    </tr>\n",
       "    <tr>\n",
       "      <th>77</th>\n",
       "      <td>45</td>\n",
       "      <td>110</td>\n",
       "      <td>141</td>\n",
       "      <td>300.0</td>\n",
       "    </tr>\n",
       "    <tr>\n",
       "      <th>81</th>\n",
       "      <td>45</td>\n",
       "      <td>149</td>\n",
       "      <td>169</td>\n",
       "      <td>344.0</td>\n",
       "    </tr>\n",
       "    <tr>\n",
       "      <th>84</th>\n",
       "      <td>45</td>\n",
       "      <td>100</td>\n",
       "      <td>120</td>\n",
       "      <td>225.3</td>\n",
       "    </tr>\n",
       "    <tr>\n",
       "      <th>86</th>\n",
       "      <td>45</td>\n",
       "      <td>102</td>\n",
       "      <td>136</td>\n",
       "      <td>234.0</td>\n",
       "    </tr>\n",
       "    <tr>\n",
       "      <th>88</th>\n",
       "      <td>45</td>\n",
       "      <td>129</td>\n",
       "      <td>103</td>\n",
       "      <td>242.0</td>\n",
       "    </tr>\n",
       "    <tr>\n",
       "      <th>91</th>\n",
       "      <td>45</td>\n",
       "      <td>107</td>\n",
       "      <td>137</td>\n",
       "      <td>NaN</td>\n",
       "    </tr>\n",
       "    <tr>\n",
       "      <th>111</th>\n",
       "      <td>45</td>\n",
       "      <td>107</td>\n",
       "      <td>124</td>\n",
       "      <td>275.0</td>\n",
       "    </tr>\n",
       "    <tr>\n",
       "      <th>113</th>\n",
       "      <td>45</td>\n",
       "      <td>100</td>\n",
       "      <td>120</td>\n",
       "      <td>225.3</td>\n",
       "    </tr>\n",
       "    <tr>\n",
       "      <th>121</th>\n",
       "      <td>45</td>\n",
       "      <td>100</td>\n",
       "      <td>120</td>\n",
       "      <td>100.7</td>\n",
       "    </tr>\n",
       "    <tr>\n",
       "      <th>136</th>\n",
       "      <td>45</td>\n",
       "      <td>117</td>\n",
       "      <td>143</td>\n",
       "      <td>317.7</td>\n",
       "    </tr>\n",
       "    <tr>\n",
       "      <th>137</th>\n",
       "      <td>45</td>\n",
       "      <td>115</td>\n",
       "      <td>137</td>\n",
       "      <td>318.0</td>\n",
       "    </tr>\n",
       "    <tr>\n",
       "      <th>138</th>\n",
       "      <td>45</td>\n",
       "      <td>113</td>\n",
       "      <td>138</td>\n",
       "      <td>308.0</td>\n",
       "    </tr>\n",
       "    <tr>\n",
       "      <th>142</th>\n",
       "      <td>45</td>\n",
       "      <td>100</td>\n",
       "      <td>120</td>\n",
       "      <td>250.4</td>\n",
       "    </tr>\n",
       "    <tr>\n",
       "      <th>143</th>\n",
       "      <td>45</td>\n",
       "      <td>122</td>\n",
       "      <td>149</td>\n",
       "      <td>335.4</td>\n",
       "    </tr>\n",
       "    <tr>\n",
       "      <th>145</th>\n",
       "      <td>45</td>\n",
       "      <td>106</td>\n",
       "      <td>126</td>\n",
       "      <td>270.8</td>\n",
       "    </tr>\n",
       "    <tr>\n",
       "      <th>161</th>\n",
       "      <td>45</td>\n",
       "      <td>90</td>\n",
       "      <td>130</td>\n",
       "      <td>260.4</td>\n",
       "    </tr>\n",
       "    <tr>\n",
       "      <th>162</th>\n",
       "      <td>45</td>\n",
       "      <td>95</td>\n",
       "      <td>130</td>\n",
       "      <td>270.0</td>\n",
       "    </tr>\n",
       "    <tr>\n",
       "      <th>163</th>\n",
       "      <td>45</td>\n",
       "      <td>100</td>\n",
       "      <td>140</td>\n",
       "      <td>280.9</td>\n",
       "    </tr>\n",
       "  </tbody>\n",
       "</table>\n",
       "</div>"
      ],
      "text/plain": [
       "     Duration  Pulse  Maxpulse  Calories\n",
       "3          45    109       175     282.4\n",
       "4          45    117       148     406.0\n",
       "7          45    104       134     253.3\n",
       "17         45     90       112       NaN\n",
       "19         45     97       125     243.0\n",
       "21         45    100       119     282.0\n",
       "23         45    105       132     246.0\n",
       "31         45     90       112     180.1\n",
       "39         45    104       129     266.0\n",
       "40         45     90       112     180.1\n",
       "47         45    111       136     300.0\n",
       "48         45    108       129     298.0\n",
       "57         45    115       144     305.0\n",
       "59         45    123       152     321.0\n",
       "63         45    118       141     341.0\n",
       "74         45    114       146     304.0\n",
       "76         45    105       134     251.0\n",
       "77         45    110       141     300.0\n",
       "81         45    149       169     344.0\n",
       "84         45    100       120     225.3\n",
       "86         45    102       136     234.0\n",
       "88         45    129       103     242.0\n",
       "91         45    107       137       NaN\n",
       "111        45    107       124     275.0\n",
       "113        45    100       120     225.3\n",
       "121        45    100       120     100.7\n",
       "136        45    117       143     317.7\n",
       "137        45    115       137     318.0\n",
       "138        45    113       138     308.0\n",
       "142        45    100       120     250.4\n",
       "143        45    122       149     335.4\n",
       "145        45    106       126     270.8\n",
       "161        45     90       130     260.4\n",
       "162        45     95       130     270.0\n",
       "163        45    100       140     280.9"
      ]
     },
     "execution_count": 7,
     "metadata": {},
     "output_type": "execute_result"
    }
   ],
   "source": [
    "df[df['Duration']==45]"
   ]
  },
  {
   "cell_type": "code",
   "execution_count": 8,
   "id": "70e16e26",
   "metadata": {
    "execution": {
     "iopub.execute_input": "2023-09-02T18:33:53.116184Z",
     "iopub.status.busy": "2023-09-02T18:33:53.115210Z",
     "iopub.status.idle": "2023-09-02T18:33:53.123046Z",
     "shell.execute_reply": "2023-09-02T18:33:53.122244Z"
    },
    "papermill": {
     "duration": 0.037891,
     "end_time": "2023-09-02T18:33:53.125328",
     "exception": false,
     "start_time": "2023-09-02T18:33:53.087437",
     "status": "completed"
    },
    "tags": []
   },
   "outputs": [],
   "source": [
    "df = df[(df['Duration']==45) & (df['Pulse']>110)]"
   ]
  },
  {
   "cell_type": "code",
   "execution_count": 9,
   "id": "9c02979f",
   "metadata": {
    "execution": {
     "iopub.execute_input": "2023-09-02T18:33:53.241284Z",
     "iopub.status.busy": "2023-09-02T18:33:53.240902Z",
     "iopub.status.idle": "2023-09-02T18:33:53.248030Z",
     "shell.execute_reply": "2023-09-02T18:33:53.246941Z"
    },
    "papermill": {
     "duration": 0.037161,
     "end_time": "2023-09-02T18:33:53.250212",
     "exception": false,
     "start_time": "2023-09-02T18:33:53.213051",
     "status": "completed"
    },
    "tags": []
   },
   "outputs": [
    {
     "data": {
      "text/plain": [
       "pandas.core.frame.DataFrame"
      ]
     },
     "execution_count": 9,
     "metadata": {},
     "output_type": "execute_result"
    }
   ],
   "source": [
    "type(df)"
   ]
  },
  {
   "cell_type": "code",
   "execution_count": 10,
   "id": "156fe407",
   "metadata": {
    "execution": {
     "iopub.execute_input": "2023-09-02T18:33:53.305905Z",
     "iopub.status.busy": "2023-09-02T18:33:53.304840Z",
     "iopub.status.idle": "2023-09-02T18:33:53.311193Z",
     "shell.execute_reply": "2023-09-02T18:33:53.310466Z"
    },
    "papermill": {
     "duration": 0.036411,
     "end_time": "2023-09-02T18:33:53.313301",
     "exception": false,
     "start_time": "2023-09-02T18:33:53.276890",
     "status": "completed"
    },
    "tags": []
   },
   "outputs": [
    {
     "data": {
      "text/plain": [
       "pandas.core.series.Series"
      ]
     },
     "execution_count": 10,
     "metadata": {},
     "output_type": "execute_result"
    }
   ],
   "source": [
    "type(df.Pulse)"
   ]
  },
  {
   "cell_type": "code",
   "execution_count": 11,
   "id": "329c5fed",
   "metadata": {
    "execution": {
     "iopub.execute_input": "2023-09-02T18:33:53.368646Z",
     "iopub.status.busy": "2023-09-02T18:33:53.368031Z",
     "iopub.status.idle": "2023-09-02T18:33:53.376478Z",
     "shell.execute_reply": "2023-09-02T18:33:53.375416Z"
    },
    "papermill": {
     "duration": 0.038844,
     "end_time": "2023-09-02T18:33:53.379065",
     "exception": false,
     "start_time": "2023-09-02T18:33:53.340221",
     "status": "completed"
    },
    "tags": []
   },
   "outputs": [
    {
     "data": {
      "text/plain": [
       "Duration      int64\n",
       "Pulse         int64\n",
       "Maxpulse      int64\n",
       "Calories    float64\n",
       "dtype: object"
      ]
     },
     "execution_count": 11,
     "metadata": {},
     "output_type": "execute_result"
    }
   ],
   "source": [
    "df.dtypes"
   ]
  },
  {
   "cell_type": "code",
   "execution_count": 12,
   "id": "b4b54892",
   "metadata": {
    "execution": {
     "iopub.execute_input": "2023-09-02T18:33:53.435058Z",
     "iopub.status.busy": "2023-09-02T18:33:53.434654Z",
     "iopub.status.idle": "2023-09-02T18:33:53.439639Z",
     "shell.execute_reply": "2023-09-02T18:33:53.438581Z"
    },
    "papermill": {
     "duration": 0.035693,
     "end_time": "2023-09-02T18:33:53.441912",
     "exception": false,
     "start_time": "2023-09-02T18:33:53.406219",
     "status": "completed"
    },
    "tags": []
   },
   "outputs": [],
   "source": [
    "x = np.array([4,3,2,1])"
   ]
  },
  {
   "cell_type": "code",
   "execution_count": 13,
   "id": "b988adcb",
   "metadata": {
    "execution": {
     "iopub.execute_input": "2023-09-02T18:33:53.498466Z",
     "iopub.status.busy": "2023-09-02T18:33:53.497320Z",
     "iopub.status.idle": "2023-09-02T18:33:53.503623Z",
     "shell.execute_reply": "2023-09-02T18:33:53.502705Z"
    },
    "papermill": {
     "duration": 0.037134,
     "end_time": "2023-09-02T18:33:53.506124",
     "exception": false,
     "start_time": "2023-09-02T18:33:53.468990",
     "status": "completed"
    },
    "tags": []
   },
   "outputs": [],
   "source": [
    "z = np.argsort(x)"
   ]
  },
  {
   "cell_type": "code",
   "execution_count": 14,
   "id": "9b233273",
   "metadata": {
    "execution": {
     "iopub.execute_input": "2023-09-02T18:33:53.563129Z",
     "iopub.status.busy": "2023-09-02T18:33:53.561919Z",
     "iopub.status.idle": "2023-09-02T18:33:53.569603Z",
     "shell.execute_reply": "2023-09-02T18:33:53.568489Z"
    },
    "papermill": {
     "duration": 0.038785,
     "end_time": "2023-09-02T18:33:53.572026",
     "exception": false,
     "start_time": "2023-09-02T18:33:53.533241",
     "status": "completed"
    },
    "tags": []
   },
   "outputs": [
    {
     "data": {
      "text/plain": [
       "array([3, 2, 1, 0])"
      ]
     },
     "execution_count": 14,
     "metadata": {},
     "output_type": "execute_result"
    }
   ],
   "source": [
    "z"
   ]
  },
  {
   "cell_type": "code",
   "execution_count": 15,
   "id": "25f0b3d5",
   "metadata": {
    "execution": {
     "iopub.execute_input": "2023-09-02T18:33:53.627961Z",
     "iopub.status.busy": "2023-09-02T18:33:53.627579Z",
     "iopub.status.idle": "2023-09-02T18:33:53.634271Z",
     "shell.execute_reply": "2023-09-02T18:33:53.633175Z"
    },
    "papermill": {
     "duration": 0.037692,
     "end_time": "2023-09-02T18:33:53.636750",
     "exception": false,
     "start_time": "2023-09-02T18:33:53.599058",
     "status": "completed"
    },
    "tags": []
   },
   "outputs": [
    {
     "data": {
      "text/plain": [
       "array([1, 2, 3, 4])"
      ]
     },
     "execution_count": 15,
     "metadata": {},
     "output_type": "execute_result"
    }
   ],
   "source": [
    "x[z]"
   ]
  },
  {
   "cell_type": "code",
   "execution_count": 16,
   "id": "413c02ad",
   "metadata": {
    "execution": {
     "iopub.execute_input": "2023-09-02T18:33:53.693811Z",
     "iopub.status.busy": "2023-09-02T18:33:53.693179Z",
     "iopub.status.idle": "2023-09-02T18:33:53.698029Z",
     "shell.execute_reply": "2023-09-02T18:33:53.696847Z"
    },
    "papermill": {
     "duration": 0.036318,
     "end_time": "2023-09-02T18:33:53.700192",
     "exception": false,
     "start_time": "2023-09-02T18:33:53.663874",
     "status": "completed"
    },
    "tags": []
   },
   "outputs": [],
   "source": [
    "# axis=1 is column and axis=0 is row"
   ]
  },
  {
   "cell_type": "code",
   "execution_count": 17,
   "id": "d9bb596f",
   "metadata": {
    "execution": {
     "iopub.execute_input": "2023-09-02T18:33:53.757944Z",
     "iopub.status.busy": "2023-09-02T18:33:53.757520Z",
     "iopub.status.idle": "2023-09-02T18:33:53.770100Z",
     "shell.execute_reply": "2023-09-02T18:33:53.769074Z"
    },
    "papermill": {
     "duration": 0.043851,
     "end_time": "2023-09-02T18:33:53.772163",
     "exception": false,
     "start_time": "2023-09-02T18:33:53.728312",
     "status": "completed"
    },
    "tags": []
   },
   "outputs": [
    {
     "data": {
      "text/html": [
       "<div>\n",
       "<style scoped>\n",
       "    .dataframe tbody tr th:only-of-type {\n",
       "        vertical-align: middle;\n",
       "    }\n",
       "\n",
       "    .dataframe tbody tr th {\n",
       "        vertical-align: top;\n",
       "    }\n",
       "\n",
       "    .dataframe thead th {\n",
       "        text-align: right;\n",
       "    }\n",
       "</style>\n",
       "<table border=\"1\" class=\"dataframe\">\n",
       "  <thead>\n",
       "    <tr style=\"text-align: right;\">\n",
       "      <th></th>\n",
       "      <th>Duration</th>\n",
       "      <th>Pulse</th>\n",
       "      <th>Maxpulse</th>\n",
       "      <th>Calories</th>\n",
       "    </tr>\n",
       "  </thead>\n",
       "  <tbody>\n",
       "    <tr>\n",
       "      <th>4</th>\n",
       "      <td>45</td>\n",
       "      <td>117</td>\n",
       "      <td>148</td>\n",
       "      <td>406.0</td>\n",
       "    </tr>\n",
       "    <tr>\n",
       "      <th>47</th>\n",
       "      <td>45</td>\n",
       "      <td>111</td>\n",
       "      <td>136</td>\n",
       "      <td>300.0</td>\n",
       "    </tr>\n",
       "    <tr>\n",
       "      <th>57</th>\n",
       "      <td>45</td>\n",
       "      <td>115</td>\n",
       "      <td>144</td>\n",
       "      <td>305.0</td>\n",
       "    </tr>\n",
       "    <tr>\n",
       "      <th>59</th>\n",
       "      <td>45</td>\n",
       "      <td>123</td>\n",
       "      <td>152</td>\n",
       "      <td>321.0</td>\n",
       "    </tr>\n",
       "    <tr>\n",
       "      <th>63</th>\n",
       "      <td>45</td>\n",
       "      <td>118</td>\n",
       "      <td>141</td>\n",
       "      <td>341.0</td>\n",
       "    </tr>\n",
       "  </tbody>\n",
       "</table>\n",
       "</div>"
      ],
      "text/plain": [
       "    Duration  Pulse  Maxpulse  Calories\n",
       "4         45    117       148     406.0\n",
       "47        45    111       136     300.0\n",
       "57        45    115       144     305.0\n",
       "59        45    123       152     321.0\n",
       "63        45    118       141     341.0"
      ]
     },
     "execution_count": 17,
     "metadata": {},
     "output_type": "execute_result"
    }
   ],
   "source": [
    "df.head()"
   ]
  },
  {
   "cell_type": "code",
   "execution_count": 18,
   "id": "56291a31",
   "metadata": {
    "execution": {
     "iopub.execute_input": "2023-09-02T18:33:53.829268Z",
     "iopub.status.busy": "2023-09-02T18:33:53.828901Z",
     "iopub.status.idle": "2023-09-02T18:33:53.843496Z",
     "shell.execute_reply": "2023-09-02T18:33:53.842643Z"
    },
    "papermill": {
     "duration": 0.046166,
     "end_time": "2023-09-02T18:33:53.845812",
     "exception": false,
     "start_time": "2023-09-02T18:33:53.799646",
     "status": "completed"
    },
    "tags": []
   },
   "outputs": [
    {
     "data": {
      "text/html": [
       "<div>\n",
       "<style scoped>\n",
       "    .dataframe tbody tr th:only-of-type {\n",
       "        vertical-align: middle;\n",
       "    }\n",
       "\n",
       "    .dataframe tbody tr th {\n",
       "        vertical-align: top;\n",
       "    }\n",
       "\n",
       "    .dataframe thead th {\n",
       "        text-align: right;\n",
       "    }\n",
       "</style>\n",
       "<table border=\"1\" class=\"dataframe\">\n",
       "  <thead>\n",
       "    <tr style=\"text-align: right;\">\n",
       "      <th></th>\n",
       "      <th>Duration</th>\n",
       "      <th>Pulse</th>\n",
       "      <th>Calories</th>\n",
       "    </tr>\n",
       "  </thead>\n",
       "  <tbody>\n",
       "    <tr>\n",
       "      <th>4</th>\n",
       "      <td>45</td>\n",
       "      <td>117</td>\n",
       "      <td>406.0</td>\n",
       "    </tr>\n",
       "    <tr>\n",
       "      <th>47</th>\n",
       "      <td>45</td>\n",
       "      <td>111</td>\n",
       "      <td>300.0</td>\n",
       "    </tr>\n",
       "    <tr>\n",
       "      <th>57</th>\n",
       "      <td>45</td>\n",
       "      <td>115</td>\n",
       "      <td>305.0</td>\n",
       "    </tr>\n",
       "    <tr>\n",
       "      <th>59</th>\n",
       "      <td>45</td>\n",
       "      <td>123</td>\n",
       "      <td>321.0</td>\n",
       "    </tr>\n",
       "    <tr>\n",
       "      <th>63</th>\n",
       "      <td>45</td>\n",
       "      <td>118</td>\n",
       "      <td>341.0</td>\n",
       "    </tr>\n",
       "    <tr>\n",
       "      <th>74</th>\n",
       "      <td>45</td>\n",
       "      <td>114</td>\n",
       "      <td>304.0</td>\n",
       "    </tr>\n",
       "    <tr>\n",
       "      <th>81</th>\n",
       "      <td>45</td>\n",
       "      <td>149</td>\n",
       "      <td>344.0</td>\n",
       "    </tr>\n",
       "    <tr>\n",
       "      <th>88</th>\n",
       "      <td>45</td>\n",
       "      <td>129</td>\n",
       "      <td>242.0</td>\n",
       "    </tr>\n",
       "    <tr>\n",
       "      <th>136</th>\n",
       "      <td>45</td>\n",
       "      <td>117</td>\n",
       "      <td>317.7</td>\n",
       "    </tr>\n",
       "    <tr>\n",
       "      <th>137</th>\n",
       "      <td>45</td>\n",
       "      <td>115</td>\n",
       "      <td>318.0</td>\n",
       "    </tr>\n",
       "    <tr>\n",
       "      <th>138</th>\n",
       "      <td>45</td>\n",
       "      <td>113</td>\n",
       "      <td>308.0</td>\n",
       "    </tr>\n",
       "    <tr>\n",
       "      <th>143</th>\n",
       "      <td>45</td>\n",
       "      <td>122</td>\n",
       "      <td>335.4</td>\n",
       "    </tr>\n",
       "  </tbody>\n",
       "</table>\n",
       "</div>"
      ],
      "text/plain": [
       "     Duration  Pulse  Calories\n",
       "4          45    117     406.0\n",
       "47         45    111     300.0\n",
       "57         45    115     305.0\n",
       "59         45    123     321.0\n",
       "63         45    118     341.0\n",
       "74         45    114     304.0\n",
       "81         45    149     344.0\n",
       "88         45    129     242.0\n",
       "136        45    117     317.7\n",
       "137        45    115     318.0\n",
       "138        45    113     308.0\n",
       "143        45    122     335.4"
      ]
     },
     "execution_count": 18,
     "metadata": {},
     "output_type": "execute_result"
    }
   ],
   "source": [
    "df.drop(['Maxpulse'],axis=1)\n",
    "#remove Maxpulse in above dataframe using drop"
   ]
  },
  {
   "cell_type": "code",
   "execution_count": 19,
   "id": "1f25a22d",
   "metadata": {
    "execution": {
     "iopub.execute_input": "2023-09-02T18:33:53.902998Z",
     "iopub.status.busy": "2023-09-02T18:33:53.902625Z",
     "iopub.status.idle": "2023-09-02T18:33:53.907707Z",
     "shell.execute_reply": "2023-09-02T18:33:53.906948Z"
    },
    "papermill": {
     "duration": 0.036145,
     "end_time": "2023-09-02T18:33:53.909899",
     "exception": false,
     "start_time": "2023-09-02T18:33:53.873754",
     "status": "completed"
    },
    "tags": []
   },
   "outputs": [],
   "source": [
    "x = df[1,'Duration'] = 65"
   ]
  },
  {
   "cell_type": "code",
   "execution_count": 20,
   "id": "f83884d1",
   "metadata": {
    "execution": {
     "iopub.execute_input": "2023-09-02T18:33:53.969616Z",
     "iopub.status.busy": "2023-09-02T18:33:53.968323Z",
     "iopub.status.idle": "2023-09-02T18:33:53.975211Z",
     "shell.execute_reply": "2023-09-02T18:33:53.974139Z"
    },
    "papermill": {
     "duration": 0.039975,
     "end_time": "2023-09-02T18:33:53.977553",
     "exception": false,
     "start_time": "2023-09-02T18:33:53.937578",
     "status": "completed"
    },
    "tags": []
   },
   "outputs": [
    {
     "data": {
      "text/plain": [
       "65"
      ]
     },
     "execution_count": 20,
     "metadata": {},
     "output_type": "execute_result"
    }
   ],
   "source": [
    "x"
   ]
  },
  {
   "cell_type": "code",
   "execution_count": 21,
   "id": "93b5e6bc",
   "metadata": {
    "execution": {
     "iopub.execute_input": "2023-09-02T18:33:54.036478Z",
     "iopub.status.busy": "2023-09-02T18:33:54.036047Z",
     "iopub.status.idle": "2023-09-02T18:33:54.049351Z",
     "shell.execute_reply": "2023-09-02T18:33:54.048256Z"
    },
    "papermill": {
     "duration": 0.04569,
     "end_time": "2023-09-02T18:33:54.051697",
     "exception": false,
     "start_time": "2023-09-02T18:33:54.006007",
     "status": "completed"
    },
    "tags": []
   },
   "outputs": [
    {
     "data": {
      "text/html": [
       "<div>\n",
       "<style scoped>\n",
       "    .dataframe tbody tr th:only-of-type {\n",
       "        vertical-align: middle;\n",
       "    }\n",
       "\n",
       "    .dataframe tbody tr th {\n",
       "        vertical-align: top;\n",
       "    }\n",
       "\n",
       "    .dataframe thead th {\n",
       "        text-align: right;\n",
       "    }\n",
       "</style>\n",
       "<table border=\"1\" class=\"dataframe\">\n",
       "  <thead>\n",
       "    <tr style=\"text-align: right;\">\n",
       "      <th></th>\n",
       "      <th>Duration</th>\n",
       "      <th>Pulse</th>\n",
       "      <th>Maxpulse</th>\n",
       "      <th>Calories</th>\n",
       "      <th>(1, Duration)</th>\n",
       "    </tr>\n",
       "  </thead>\n",
       "  <tbody>\n",
       "    <tr>\n",
       "      <th>4</th>\n",
       "      <td>45</td>\n",
       "      <td>117</td>\n",
       "      <td>148</td>\n",
       "      <td>406.0</td>\n",
       "      <td>65</td>\n",
       "    </tr>\n",
       "    <tr>\n",
       "      <th>47</th>\n",
       "      <td>45</td>\n",
       "      <td>111</td>\n",
       "      <td>136</td>\n",
       "      <td>300.0</td>\n",
       "      <td>65</td>\n",
       "    </tr>\n",
       "    <tr>\n",
       "      <th>57</th>\n",
       "      <td>45</td>\n",
       "      <td>115</td>\n",
       "      <td>144</td>\n",
       "      <td>305.0</td>\n",
       "      <td>65</td>\n",
       "    </tr>\n",
       "    <tr>\n",
       "      <th>59</th>\n",
       "      <td>45</td>\n",
       "      <td>123</td>\n",
       "      <td>152</td>\n",
       "      <td>321.0</td>\n",
       "      <td>65</td>\n",
       "    </tr>\n",
       "    <tr>\n",
       "      <th>63</th>\n",
       "      <td>45</td>\n",
       "      <td>118</td>\n",
       "      <td>141</td>\n",
       "      <td>341.0</td>\n",
       "      <td>65</td>\n",
       "    </tr>\n",
       "  </tbody>\n",
       "</table>\n",
       "</div>"
      ],
      "text/plain": [
       "    Duration  Pulse  Maxpulse  Calories  (1, Duration)\n",
       "4         45    117       148     406.0             65\n",
       "47        45    111       136     300.0             65\n",
       "57        45    115       144     305.0             65\n",
       "59        45    123       152     321.0             65\n",
       "63        45    118       141     341.0             65"
      ]
     },
     "execution_count": 21,
     "metadata": {},
     "output_type": "execute_result"
    }
   ],
   "source": [
    "df.head()"
   ]
  },
  {
   "cell_type": "code",
   "execution_count": 22,
   "id": "bc7bf041",
   "metadata": {
    "execution": {
     "iopub.execute_input": "2023-09-02T18:33:54.111699Z",
     "iopub.status.busy": "2023-09-02T18:33:54.110729Z",
     "iopub.status.idle": "2023-09-02T18:33:54.116990Z",
     "shell.execute_reply": "2023-09-02T18:33:54.115839Z"
    },
    "papermill": {
     "duration": 0.039483,
     "end_time": "2023-09-02T18:33:54.119464",
     "exception": false,
     "start_time": "2023-09-02T18:33:54.079981",
     "status": "completed"
    },
    "tags": []
   },
   "outputs": [],
   "source": [
    "df = df.iloc[:,:4]"
   ]
  },
  {
   "cell_type": "code",
   "execution_count": 23,
   "id": "32b96551",
   "metadata": {
    "execution": {
     "iopub.execute_input": "2023-09-02T18:33:54.178496Z",
     "iopub.status.busy": "2023-09-02T18:33:54.178056Z",
     "iopub.status.idle": "2023-09-02T18:33:54.192294Z",
     "shell.execute_reply": "2023-09-02T18:33:54.190795Z"
    },
    "papermill": {
     "duration": 0.046295,
     "end_time": "2023-09-02T18:33:54.194782",
     "exception": false,
     "start_time": "2023-09-02T18:33:54.148487",
     "status": "completed"
    },
    "tags": []
   },
   "outputs": [
    {
     "data": {
      "text/html": [
       "<div>\n",
       "<style scoped>\n",
       "    .dataframe tbody tr th:only-of-type {\n",
       "        vertical-align: middle;\n",
       "    }\n",
       "\n",
       "    .dataframe tbody tr th {\n",
       "        vertical-align: top;\n",
       "    }\n",
       "\n",
       "    .dataframe thead th {\n",
       "        text-align: right;\n",
       "    }\n",
       "</style>\n",
       "<table border=\"1\" class=\"dataframe\">\n",
       "  <thead>\n",
       "    <tr style=\"text-align: right;\">\n",
       "      <th></th>\n",
       "      <th>Duration</th>\n",
       "      <th>Pulse</th>\n",
       "      <th>Maxpulse</th>\n",
       "      <th>Calories</th>\n",
       "    </tr>\n",
       "  </thead>\n",
       "  <tbody>\n",
       "    <tr>\n",
       "      <th>4</th>\n",
       "      <td>45</td>\n",
       "      <td>117</td>\n",
       "      <td>148</td>\n",
       "      <td>406.0</td>\n",
       "    </tr>\n",
       "    <tr>\n",
       "      <th>47</th>\n",
       "      <td>45</td>\n",
       "      <td>111</td>\n",
       "      <td>136</td>\n",
       "      <td>300.0</td>\n",
       "    </tr>\n",
       "    <tr>\n",
       "      <th>57</th>\n",
       "      <td>45</td>\n",
       "      <td>115</td>\n",
       "      <td>144</td>\n",
       "      <td>305.0</td>\n",
       "    </tr>\n",
       "    <tr>\n",
       "      <th>59</th>\n",
       "      <td>45</td>\n",
       "      <td>123</td>\n",
       "      <td>152</td>\n",
       "      <td>321.0</td>\n",
       "    </tr>\n",
       "    <tr>\n",
       "      <th>63</th>\n",
       "      <td>45</td>\n",
       "      <td>118</td>\n",
       "      <td>141</td>\n",
       "      <td>341.0</td>\n",
       "    </tr>\n",
       "    <tr>\n",
       "      <th>74</th>\n",
       "      <td>45</td>\n",
       "      <td>114</td>\n",
       "      <td>146</td>\n",
       "      <td>304.0</td>\n",
       "    </tr>\n",
       "    <tr>\n",
       "      <th>81</th>\n",
       "      <td>45</td>\n",
       "      <td>149</td>\n",
       "      <td>169</td>\n",
       "      <td>344.0</td>\n",
       "    </tr>\n",
       "    <tr>\n",
       "      <th>88</th>\n",
       "      <td>45</td>\n",
       "      <td>129</td>\n",
       "      <td>103</td>\n",
       "      <td>242.0</td>\n",
       "    </tr>\n",
       "    <tr>\n",
       "      <th>136</th>\n",
       "      <td>45</td>\n",
       "      <td>117</td>\n",
       "      <td>143</td>\n",
       "      <td>317.7</td>\n",
       "    </tr>\n",
       "    <tr>\n",
       "      <th>137</th>\n",
       "      <td>45</td>\n",
       "      <td>115</td>\n",
       "      <td>137</td>\n",
       "      <td>318.0</td>\n",
       "    </tr>\n",
       "    <tr>\n",
       "      <th>138</th>\n",
       "      <td>45</td>\n",
       "      <td>113</td>\n",
       "      <td>138</td>\n",
       "      <td>308.0</td>\n",
       "    </tr>\n",
       "    <tr>\n",
       "      <th>143</th>\n",
       "      <td>45</td>\n",
       "      <td>122</td>\n",
       "      <td>149</td>\n",
       "      <td>335.4</td>\n",
       "    </tr>\n",
       "  </tbody>\n",
       "</table>\n",
       "</div>"
      ],
      "text/plain": [
       "     Duration  Pulse  Maxpulse  Calories\n",
       "4          45    117       148     406.0\n",
       "47         45    111       136     300.0\n",
       "57         45    115       144     305.0\n",
       "59         45    123       152     321.0\n",
       "63         45    118       141     341.0\n",
       "74         45    114       146     304.0\n",
       "81         45    149       169     344.0\n",
       "88         45    129       103     242.0\n",
       "136        45    117       143     317.7\n",
       "137        45    115       137     318.0\n",
       "138        45    113       138     308.0\n",
       "143        45    122       149     335.4"
      ]
     },
     "execution_count": 23,
     "metadata": {},
     "output_type": "execute_result"
    }
   ],
   "source": [
    "df"
   ]
  },
  {
   "cell_type": "code",
   "execution_count": null,
   "id": "114eaa2c",
   "metadata": {
    "execution": {
     "iopub.execute_input": "2023-09-02T18:20:08.135682Z",
     "iopub.status.busy": "2023-09-02T18:20:08.135169Z",
     "iopub.status.idle": "2023-09-02T18:20:08.147160Z",
     "shell.execute_reply": "2023-09-02T18:20:08.145550Z",
     "shell.execute_reply.started": "2023-09-02T18:20:08.135639Z"
    },
    "papermill": {
     "duration": 0.028751,
     "end_time": "2023-09-02T18:33:54.253357",
     "exception": false,
     "start_time": "2023-09-02T18:33:54.224606",
     "status": "completed"
    },
    "tags": []
   },
   "outputs": [],
   "source": []
  },
  {
   "cell_type": "code",
   "execution_count": 24,
   "id": "b9462f1d",
   "metadata": {
    "execution": {
     "iopub.execute_input": "2023-09-02T18:33:54.312871Z",
     "iopub.status.busy": "2023-09-02T18:33:54.312488Z",
     "iopub.status.idle": "2023-09-02T18:33:54.322739Z",
     "shell.execute_reply": "2023-09-02T18:33:54.321948Z"
    },
    "papermill": {
     "duration": 0.043265,
     "end_time": "2023-09-02T18:33:54.325166",
     "exception": false,
     "start_time": "2023-09-02T18:33:54.281901",
     "status": "completed"
    },
    "tags": []
   },
   "outputs": [
    {
     "data": {
      "text/html": [
       "<div>\n",
       "<style scoped>\n",
       "    .dataframe tbody tr th:only-of-type {\n",
       "        vertical-align: middle;\n",
       "    }\n",
       "\n",
       "    .dataframe tbody tr th {\n",
       "        vertical-align: top;\n",
       "    }\n",
       "\n",
       "    .dataframe thead th {\n",
       "        text-align: right;\n",
       "    }\n",
       "</style>\n",
       "<table border=\"1\" class=\"dataframe\">\n",
       "  <thead>\n",
       "    <tr style=\"text-align: right;\">\n",
       "      <th></th>\n",
       "      <th>Duration</th>\n",
       "      <th>Pulse</th>\n",
       "    </tr>\n",
       "  </thead>\n",
       "  <tbody>\n",
       "    <tr>\n",
       "      <th>4</th>\n",
       "      <td>45</td>\n",
       "      <td>117</td>\n",
       "    </tr>\n",
       "    <tr>\n",
       "      <th>47</th>\n",
       "      <td>45</td>\n",
       "      <td>111</td>\n",
       "    </tr>\n",
       "    <tr>\n",
       "      <th>57</th>\n",
       "      <td>45</td>\n",
       "      <td>115</td>\n",
       "    </tr>\n",
       "    <tr>\n",
       "      <th>59</th>\n",
       "      <td>45</td>\n",
       "      <td>123</td>\n",
       "    </tr>\n",
       "    <tr>\n",
       "      <th>63</th>\n",
       "      <td>45</td>\n",
       "      <td>118</td>\n",
       "    </tr>\n",
       "    <tr>\n",
       "      <th>74</th>\n",
       "      <td>45</td>\n",
       "      <td>114</td>\n",
       "    </tr>\n",
       "    <tr>\n",
       "      <th>81</th>\n",
       "      <td>45</td>\n",
       "      <td>149</td>\n",
       "    </tr>\n",
       "    <tr>\n",
       "      <th>88</th>\n",
       "      <td>45</td>\n",
       "      <td>129</td>\n",
       "    </tr>\n",
       "    <tr>\n",
       "      <th>136</th>\n",
       "      <td>45</td>\n",
       "      <td>117</td>\n",
       "    </tr>\n",
       "    <tr>\n",
       "      <th>137</th>\n",
       "      <td>45</td>\n",
       "      <td>115</td>\n",
       "    </tr>\n",
       "    <tr>\n",
       "      <th>138</th>\n",
       "      <td>45</td>\n",
       "      <td>113</td>\n",
       "    </tr>\n",
       "    <tr>\n",
       "      <th>143</th>\n",
       "      <td>45</td>\n",
       "      <td>122</td>\n",
       "    </tr>\n",
       "  </tbody>\n",
       "</table>\n",
       "</div>"
      ],
      "text/plain": [
       "     Duration  Pulse\n",
       "4          45    117\n",
       "47         45    111\n",
       "57         45    115\n",
       "59         45    123\n",
       "63         45    118\n",
       "74         45    114\n",
       "81         45    149\n",
       "88         45    129\n",
       "136        45    117\n",
       "137        45    115\n",
       "138        45    113\n",
       "143        45    122"
      ]
     },
     "execution_count": 24,
     "metadata": {},
     "output_type": "execute_result"
    }
   ],
   "source": [
    "df.loc[:,['Duration','Pulse']]"
   ]
  },
  {
   "cell_type": "code",
   "execution_count": 25,
   "id": "5762ec95",
   "metadata": {
    "execution": {
     "iopub.execute_input": "2023-09-02T18:33:54.385169Z",
     "iopub.status.busy": "2023-09-02T18:33:54.384066Z",
     "iopub.status.idle": "2023-09-02T18:33:54.391910Z",
     "shell.execute_reply": "2023-09-02T18:33:54.391033Z"
    },
    "papermill": {
     "duration": 0.040283,
     "end_time": "2023-09-02T18:33:54.394290",
     "exception": false,
     "start_time": "2023-09-02T18:33:54.354007",
     "status": "completed"
    },
    "tags": []
   },
   "outputs": [],
   "source": [
    "df.loc[0,'Duration'] = 70"
   ]
  },
  {
   "cell_type": "code",
   "execution_count": 26,
   "id": "ea4c3836",
   "metadata": {
    "execution": {
     "iopub.execute_input": "2023-09-02T18:33:54.456065Z",
     "iopub.status.busy": "2023-09-02T18:33:54.455650Z",
     "iopub.status.idle": "2023-09-02T18:33:54.474591Z",
     "shell.execute_reply": "2023-09-02T18:33:54.473427Z"
    },
    "papermill": {
     "duration": 0.053048,
     "end_time": "2023-09-02T18:33:54.477300",
     "exception": false,
     "start_time": "2023-09-02T18:33:54.424252",
     "status": "completed"
    },
    "tags": []
   },
   "outputs": [
    {
     "data": {
      "text/html": [
       "<div>\n",
       "<style scoped>\n",
       "    .dataframe tbody tr th:only-of-type {\n",
       "        vertical-align: middle;\n",
       "    }\n",
       "\n",
       "    .dataframe tbody tr th {\n",
       "        vertical-align: top;\n",
       "    }\n",
       "\n",
       "    .dataframe thead th {\n",
       "        text-align: right;\n",
       "    }\n",
       "</style>\n",
       "<table border=\"1\" class=\"dataframe\">\n",
       "  <thead>\n",
       "    <tr style=\"text-align: right;\">\n",
       "      <th></th>\n",
       "      <th>Duration</th>\n",
       "      <th>Pulse</th>\n",
       "      <th>Maxpulse</th>\n",
       "      <th>Calories</th>\n",
       "    </tr>\n",
       "  </thead>\n",
       "  <tbody>\n",
       "    <tr>\n",
       "      <th>4</th>\n",
       "      <td>45.0</td>\n",
       "      <td>117.0</td>\n",
       "      <td>148.0</td>\n",
       "      <td>406.0</td>\n",
       "    </tr>\n",
       "    <tr>\n",
       "      <th>47</th>\n",
       "      <td>45.0</td>\n",
       "      <td>111.0</td>\n",
       "      <td>136.0</td>\n",
       "      <td>300.0</td>\n",
       "    </tr>\n",
       "    <tr>\n",
       "      <th>57</th>\n",
       "      <td>45.0</td>\n",
       "      <td>115.0</td>\n",
       "      <td>144.0</td>\n",
       "      <td>305.0</td>\n",
       "    </tr>\n",
       "    <tr>\n",
       "      <th>59</th>\n",
       "      <td>45.0</td>\n",
       "      <td>123.0</td>\n",
       "      <td>152.0</td>\n",
       "      <td>321.0</td>\n",
       "    </tr>\n",
       "    <tr>\n",
       "      <th>63</th>\n",
       "      <td>45.0</td>\n",
       "      <td>118.0</td>\n",
       "      <td>141.0</td>\n",
       "      <td>341.0</td>\n",
       "    </tr>\n",
       "    <tr>\n",
       "      <th>74</th>\n",
       "      <td>45.0</td>\n",
       "      <td>114.0</td>\n",
       "      <td>146.0</td>\n",
       "      <td>304.0</td>\n",
       "    </tr>\n",
       "    <tr>\n",
       "      <th>81</th>\n",
       "      <td>45.0</td>\n",
       "      <td>149.0</td>\n",
       "      <td>169.0</td>\n",
       "      <td>344.0</td>\n",
       "    </tr>\n",
       "    <tr>\n",
       "      <th>88</th>\n",
       "      <td>45.0</td>\n",
       "      <td>129.0</td>\n",
       "      <td>103.0</td>\n",
       "      <td>242.0</td>\n",
       "    </tr>\n",
       "    <tr>\n",
       "      <th>136</th>\n",
       "      <td>45.0</td>\n",
       "      <td>117.0</td>\n",
       "      <td>143.0</td>\n",
       "      <td>317.7</td>\n",
       "    </tr>\n",
       "    <tr>\n",
       "      <th>137</th>\n",
       "      <td>45.0</td>\n",
       "      <td>115.0</td>\n",
       "      <td>137.0</td>\n",
       "      <td>318.0</td>\n",
       "    </tr>\n",
       "    <tr>\n",
       "      <th>138</th>\n",
       "      <td>45.0</td>\n",
       "      <td>113.0</td>\n",
       "      <td>138.0</td>\n",
       "      <td>308.0</td>\n",
       "    </tr>\n",
       "    <tr>\n",
       "      <th>143</th>\n",
       "      <td>45.0</td>\n",
       "      <td>122.0</td>\n",
       "      <td>149.0</td>\n",
       "      <td>335.4</td>\n",
       "    </tr>\n",
       "    <tr>\n",
       "      <th>0</th>\n",
       "      <td>70.0</td>\n",
       "      <td>NaN</td>\n",
       "      <td>NaN</td>\n",
       "      <td>NaN</td>\n",
       "    </tr>\n",
       "  </tbody>\n",
       "</table>\n",
       "</div>"
      ],
      "text/plain": [
       "     Duration  Pulse  Maxpulse  Calories\n",
       "4        45.0  117.0     148.0     406.0\n",
       "47       45.0  111.0     136.0     300.0\n",
       "57       45.0  115.0     144.0     305.0\n",
       "59       45.0  123.0     152.0     321.0\n",
       "63       45.0  118.0     141.0     341.0\n",
       "74       45.0  114.0     146.0     304.0\n",
       "81       45.0  149.0     169.0     344.0\n",
       "88       45.0  129.0     103.0     242.0\n",
       "136      45.0  117.0     143.0     317.7\n",
       "137      45.0  115.0     137.0     318.0\n",
       "138      45.0  113.0     138.0     308.0\n",
       "143      45.0  122.0     149.0     335.4\n",
       "0        70.0    NaN       NaN       NaN"
      ]
     },
     "execution_count": 26,
     "metadata": {},
     "output_type": "execute_result"
    }
   ],
   "source": [
    "df"
   ]
  },
  {
   "cell_type": "code",
   "execution_count": 27,
   "id": "c9cbb38e",
   "metadata": {
    "execution": {
     "iopub.execute_input": "2023-09-02T18:33:54.538673Z",
     "iopub.status.busy": "2023-09-02T18:33:54.537989Z",
     "iopub.status.idle": "2023-09-02T18:33:54.556695Z",
     "shell.execute_reply": "2023-09-02T18:33:54.555704Z"
    },
    "papermill": {
     "duration": 0.051757,
     "end_time": "2023-09-02T18:33:54.558933",
     "exception": false,
     "start_time": "2023-09-02T18:33:54.507176",
     "status": "completed"
    },
    "tags": []
   },
   "outputs": [
    {
     "data": {
      "text/html": [
       "<div>\n",
       "<style scoped>\n",
       "    .dataframe tbody tr th:only-of-type {\n",
       "        vertical-align: middle;\n",
       "    }\n",
       "\n",
       "    .dataframe tbody tr th {\n",
       "        vertical-align: top;\n",
       "    }\n",
       "\n",
       "    .dataframe thead th {\n",
       "        text-align: right;\n",
       "    }\n",
       "</style>\n",
       "<table border=\"1\" class=\"dataframe\">\n",
       "  <thead>\n",
       "    <tr style=\"text-align: right;\">\n",
       "      <th></th>\n",
       "      <th>Duration</th>\n",
       "      <th>Pulse</th>\n",
       "      <th>Maxpulse</th>\n",
       "      <th>Calories</th>\n",
       "    </tr>\n",
       "  </thead>\n",
       "  <tbody>\n",
       "    <tr>\n",
       "      <th>4</th>\n",
       "      <td>45.0</td>\n",
       "      <td>117.0</td>\n",
       "      <td>148.0</td>\n",
       "      <td>406.0</td>\n",
       "    </tr>\n",
       "    <tr>\n",
       "      <th>47</th>\n",
       "      <td>45.0</td>\n",
       "      <td>111.0</td>\n",
       "      <td>136.0</td>\n",
       "      <td>300.0</td>\n",
       "    </tr>\n",
       "    <tr>\n",
       "      <th>57</th>\n",
       "      <td>45.0</td>\n",
       "      <td>115.0</td>\n",
       "      <td>144.0</td>\n",
       "      <td>305.0</td>\n",
       "    </tr>\n",
       "    <tr>\n",
       "      <th>59</th>\n",
       "      <td>45.0</td>\n",
       "      <td>123.0</td>\n",
       "      <td>152.0</td>\n",
       "      <td>321.0</td>\n",
       "    </tr>\n",
       "    <tr>\n",
       "      <th>63</th>\n",
       "      <td>45.0</td>\n",
       "      <td>118.0</td>\n",
       "      <td>141.0</td>\n",
       "      <td>341.0</td>\n",
       "    </tr>\n",
       "    <tr>\n",
       "      <th>74</th>\n",
       "      <td>45.0</td>\n",
       "      <td>114.0</td>\n",
       "      <td>146.0</td>\n",
       "      <td>304.0</td>\n",
       "    </tr>\n",
       "    <tr>\n",
       "      <th>81</th>\n",
       "      <td>45.0</td>\n",
       "      <td>149.0</td>\n",
       "      <td>169.0</td>\n",
       "      <td>344.0</td>\n",
       "    </tr>\n",
       "    <tr>\n",
       "      <th>88</th>\n",
       "      <td>45.0</td>\n",
       "      <td>129.0</td>\n",
       "      <td>103.0</td>\n",
       "      <td>242.0</td>\n",
       "    </tr>\n",
       "    <tr>\n",
       "      <th>136</th>\n",
       "      <td>45.0</td>\n",
       "      <td>117.0</td>\n",
       "      <td>143.0</td>\n",
       "      <td>317.7</td>\n",
       "    </tr>\n",
       "    <tr>\n",
       "      <th>137</th>\n",
       "      <td>45.0</td>\n",
       "      <td>115.0</td>\n",
       "      <td>137.0</td>\n",
       "      <td>318.0</td>\n",
       "    </tr>\n",
       "    <tr>\n",
       "      <th>138</th>\n",
       "      <td>45.0</td>\n",
       "      <td>113.0</td>\n",
       "      <td>138.0</td>\n",
       "      <td>308.0</td>\n",
       "    </tr>\n",
       "    <tr>\n",
       "      <th>143</th>\n",
       "      <td>45.0</td>\n",
       "      <td>122.0</td>\n",
       "      <td>149.0</td>\n",
       "      <td>335.4</td>\n",
       "    </tr>\n",
       "    <tr>\n",
       "      <th>0</th>\n",
       "      <td>70.0</td>\n",
       "      <td>NaN</td>\n",
       "      <td>NaN</td>\n",
       "      <td>NaN</td>\n",
       "    </tr>\n",
       "  </tbody>\n",
       "</table>\n",
       "</div>"
      ],
      "text/plain": [
       "     Duration  Pulse  Maxpulse  Calories\n",
       "4        45.0  117.0     148.0     406.0\n",
       "47       45.0  111.0     136.0     300.0\n",
       "57       45.0  115.0     144.0     305.0\n",
       "59       45.0  123.0     152.0     321.0\n",
       "63       45.0  118.0     141.0     341.0\n",
       "74       45.0  114.0     146.0     304.0\n",
       "81       45.0  149.0     169.0     344.0\n",
       "88       45.0  129.0     103.0     242.0\n",
       "136      45.0  117.0     143.0     317.7\n",
       "137      45.0  115.0     137.0     318.0\n",
       "138      45.0  113.0     138.0     308.0\n",
       "143      45.0  122.0     149.0     335.4\n",
       "0        70.0    NaN       NaN       NaN"
      ]
     },
     "execution_count": 27,
     "metadata": {},
     "output_type": "execute_result"
    }
   ],
   "source": [
    "df"
   ]
  },
  {
   "cell_type": "code",
   "execution_count": 28,
   "id": "219cca3e",
   "metadata": {
    "execution": {
     "iopub.execute_input": "2023-09-02T18:33:54.621135Z",
     "iopub.status.busy": "2023-09-02T18:33:54.620012Z",
     "iopub.status.idle": "2023-09-02T18:33:54.628280Z",
     "shell.execute_reply": "2023-09-02T18:33:54.627110Z"
    },
    "papermill": {
     "duration": 0.041429,
     "end_time": "2023-09-02T18:33:54.630483",
     "exception": false,
     "start_time": "2023-09-02T18:33:54.589054",
     "status": "completed"
    },
    "tags": []
   },
   "outputs": [],
   "source": [
    "df.drop(['Duration'],axis=1,inplace=True)"
   ]
  },
  {
   "cell_type": "code",
   "execution_count": 29,
   "id": "8eb9cf8b",
   "metadata": {
    "execution": {
     "iopub.execute_input": "2023-09-02T18:33:54.691927Z",
     "iopub.status.busy": "2023-09-02T18:33:54.691425Z",
     "iopub.status.idle": "2023-09-02T18:33:54.708033Z",
     "shell.execute_reply": "2023-09-02T18:33:54.706883Z"
    },
    "papermill": {
     "duration": 0.050452,
     "end_time": "2023-09-02T18:33:54.710543",
     "exception": false,
     "start_time": "2023-09-02T18:33:54.660091",
     "status": "completed"
    },
    "tags": []
   },
   "outputs": [
    {
     "data": {
      "text/html": [
       "<div>\n",
       "<style scoped>\n",
       "    .dataframe tbody tr th:only-of-type {\n",
       "        vertical-align: middle;\n",
       "    }\n",
       "\n",
       "    .dataframe tbody tr th {\n",
       "        vertical-align: top;\n",
       "    }\n",
       "\n",
       "    .dataframe thead th {\n",
       "        text-align: right;\n",
       "    }\n",
       "</style>\n",
       "<table border=\"1\" class=\"dataframe\">\n",
       "  <thead>\n",
       "    <tr style=\"text-align: right;\">\n",
       "      <th></th>\n",
       "      <th>Pulse</th>\n",
       "      <th>Maxpulse</th>\n",
       "      <th>Calories</th>\n",
       "    </tr>\n",
       "  </thead>\n",
       "  <tbody>\n",
       "    <tr>\n",
       "      <th>4</th>\n",
       "      <td>117.0</td>\n",
       "      <td>148.0</td>\n",
       "      <td>406.0</td>\n",
       "    </tr>\n",
       "    <tr>\n",
       "      <th>47</th>\n",
       "      <td>111.0</td>\n",
       "      <td>136.0</td>\n",
       "      <td>300.0</td>\n",
       "    </tr>\n",
       "    <tr>\n",
       "      <th>57</th>\n",
       "      <td>115.0</td>\n",
       "      <td>144.0</td>\n",
       "      <td>305.0</td>\n",
       "    </tr>\n",
       "    <tr>\n",
       "      <th>59</th>\n",
       "      <td>123.0</td>\n",
       "      <td>152.0</td>\n",
       "      <td>321.0</td>\n",
       "    </tr>\n",
       "    <tr>\n",
       "      <th>63</th>\n",
       "      <td>118.0</td>\n",
       "      <td>141.0</td>\n",
       "      <td>341.0</td>\n",
       "    </tr>\n",
       "    <tr>\n",
       "      <th>74</th>\n",
       "      <td>114.0</td>\n",
       "      <td>146.0</td>\n",
       "      <td>304.0</td>\n",
       "    </tr>\n",
       "    <tr>\n",
       "      <th>81</th>\n",
       "      <td>149.0</td>\n",
       "      <td>169.0</td>\n",
       "      <td>344.0</td>\n",
       "    </tr>\n",
       "    <tr>\n",
       "      <th>88</th>\n",
       "      <td>129.0</td>\n",
       "      <td>103.0</td>\n",
       "      <td>242.0</td>\n",
       "    </tr>\n",
       "    <tr>\n",
       "      <th>136</th>\n",
       "      <td>117.0</td>\n",
       "      <td>143.0</td>\n",
       "      <td>317.7</td>\n",
       "    </tr>\n",
       "    <tr>\n",
       "      <th>137</th>\n",
       "      <td>115.0</td>\n",
       "      <td>137.0</td>\n",
       "      <td>318.0</td>\n",
       "    </tr>\n",
       "    <tr>\n",
       "      <th>138</th>\n",
       "      <td>113.0</td>\n",
       "      <td>138.0</td>\n",
       "      <td>308.0</td>\n",
       "    </tr>\n",
       "    <tr>\n",
       "      <th>143</th>\n",
       "      <td>122.0</td>\n",
       "      <td>149.0</td>\n",
       "      <td>335.4</td>\n",
       "    </tr>\n",
       "    <tr>\n",
       "      <th>0</th>\n",
       "      <td>NaN</td>\n",
       "      <td>NaN</td>\n",
       "      <td>NaN</td>\n",
       "    </tr>\n",
       "  </tbody>\n",
       "</table>\n",
       "</div>"
      ],
      "text/plain": [
       "     Pulse  Maxpulse  Calories\n",
       "4    117.0     148.0     406.0\n",
       "47   111.0     136.0     300.0\n",
       "57   115.0     144.0     305.0\n",
       "59   123.0     152.0     321.0\n",
       "63   118.0     141.0     341.0\n",
       "74   114.0     146.0     304.0\n",
       "81   149.0     169.0     344.0\n",
       "88   129.0     103.0     242.0\n",
       "136  117.0     143.0     317.7\n",
       "137  115.0     137.0     318.0\n",
       "138  113.0     138.0     308.0\n",
       "143  122.0     149.0     335.4\n",
       "0      NaN       NaN       NaN"
      ]
     },
     "execution_count": 29,
     "metadata": {},
     "output_type": "execute_result"
    }
   ],
   "source": [
    "df"
   ]
  },
  {
   "cell_type": "code",
   "execution_count": 30,
   "id": "653b0623",
   "metadata": {
    "execution": {
     "iopub.execute_input": "2023-09-02T18:33:54.772861Z",
     "iopub.status.busy": "2023-09-02T18:33:54.772485Z",
     "iopub.status.idle": "2023-09-02T18:33:54.780743Z",
     "shell.execute_reply": "2023-09-02T18:33:54.779480Z"
    },
    "papermill": {
     "duration": 0.042362,
     "end_time": "2023-09-02T18:33:54.782948",
     "exception": false,
     "start_time": "2023-09-02T18:33:54.740586",
     "status": "completed"
    },
    "tags": []
   },
   "outputs": [
    {
     "data": {
      "text/plain": [
       "Pulse       117.0\n",
       "Maxpulse    148.0\n",
       "Calories    406.0\n",
       "Name: 4, dtype: float64"
      ]
     },
     "execution_count": 30,
     "metadata": {},
     "output_type": "execute_result"
    }
   ],
   "source": [
    "df.iloc[0,:]"
   ]
  },
  {
   "cell_type": "code",
   "execution_count": 31,
   "id": "40db05b1",
   "metadata": {
    "execution": {
     "iopub.execute_input": "2023-09-02T18:33:54.846612Z",
     "iopub.status.busy": "2023-09-02T18:33:54.845480Z",
     "iopub.status.idle": "2023-09-02T18:33:54.857857Z",
     "shell.execute_reply": "2023-09-02T18:33:54.856784Z"
    },
    "papermill": {
     "duration": 0.045753,
     "end_time": "2023-09-02T18:33:54.860175",
     "exception": false,
     "start_time": "2023-09-02T18:33:54.814422",
     "status": "completed"
    },
    "tags": []
   },
   "outputs": [
    {
     "data": {
      "text/html": [
       "<div>\n",
       "<style scoped>\n",
       "    .dataframe tbody tr th:only-of-type {\n",
       "        vertical-align: middle;\n",
       "    }\n",
       "\n",
       "    .dataframe tbody tr th {\n",
       "        vertical-align: top;\n",
       "    }\n",
       "\n",
       "    .dataframe thead th {\n",
       "        text-align: right;\n",
       "    }\n",
       "</style>\n",
       "<table border=\"1\" class=\"dataframe\">\n",
       "  <thead>\n",
       "    <tr style=\"text-align: right;\">\n",
       "      <th></th>\n",
       "      <th>Pulse</th>\n",
       "      <th>Maxpulse</th>\n",
       "      <th>Calories</th>\n",
       "    </tr>\n",
       "  </thead>\n",
       "  <tbody>\n",
       "    <tr>\n",
       "      <th>4</th>\n",
       "      <td>117.0</td>\n",
       "      <td>148.0</td>\n",
       "      <td>406.0</td>\n",
       "    </tr>\n",
       "  </tbody>\n",
       "</table>\n",
       "</div>"
      ],
      "text/plain": [
       "   Pulse  Maxpulse  Calories\n",
       "4  117.0     148.0     406.0"
      ]
     },
     "execution_count": 31,
     "metadata": {},
     "output_type": "execute_result"
    }
   ],
   "source": [
    "df.head(1)"
   ]
  },
  {
   "cell_type": "code",
   "execution_count": 32,
   "id": "4cd51312",
   "metadata": {
    "execution": {
     "iopub.execute_input": "2023-09-02T18:33:54.923212Z",
     "iopub.status.busy": "2023-09-02T18:33:54.922831Z",
     "iopub.status.idle": "2023-09-02T18:33:54.934894Z",
     "shell.execute_reply": "2023-09-02T18:33:54.933836Z"
    },
    "papermill": {
     "duration": 0.046637,
     "end_time": "2023-09-02T18:33:54.937373",
     "exception": false,
     "start_time": "2023-09-02T18:33:54.890736",
     "status": "completed"
    },
    "tags": []
   },
   "outputs": [
    {
     "data": {
      "text/html": [
       "<div>\n",
       "<style scoped>\n",
       "    .dataframe tbody tr th:only-of-type {\n",
       "        vertical-align: middle;\n",
       "    }\n",
       "\n",
       "    .dataframe tbody tr th {\n",
       "        vertical-align: top;\n",
       "    }\n",
       "\n",
       "    .dataframe thead th {\n",
       "        text-align: right;\n",
       "    }\n",
       "</style>\n",
       "<table border=\"1\" class=\"dataframe\">\n",
       "  <thead>\n",
       "    <tr style=\"text-align: right;\">\n",
       "      <th></th>\n",
       "      <th>Pulse</th>\n",
       "      <th>Maxpulse</th>\n",
       "      <th>Calories</th>\n",
       "    </tr>\n",
       "  </thead>\n",
       "  <tbody>\n",
       "  </tbody>\n",
       "</table>\n",
       "</div>"
      ],
      "text/plain": [
       "Empty DataFrame\n",
       "Columns: [Pulse, Maxpulse, Calories]\n",
       "Index: []"
      ]
     },
     "execution_count": 32,
     "metadata": {},
     "output_type": "execute_result"
    }
   ],
   "source": [
    "df.loc[(df.Maxpulse > 170) & (df.Calories < 250) & (df.Pulse > 150)]"
   ]
  },
  {
   "cell_type": "code",
   "execution_count": 33,
   "id": "34671323",
   "metadata": {
    "execution": {
     "iopub.execute_input": "2023-09-02T18:33:55.002959Z",
     "iopub.status.busy": "2023-09-02T18:33:55.002572Z",
     "iopub.status.idle": "2023-09-02T18:33:55.011657Z",
     "shell.execute_reply": "2023-09-02T18:33:55.010436Z"
    },
    "papermill": {
     "duration": 0.043929,
     "end_time": "2023-09-02T18:33:55.013873",
     "exception": false,
     "start_time": "2023-09-02T18:33:54.969944",
     "status": "completed"
    },
    "tags": []
   },
   "outputs": [
    {
     "data": {
      "text/plain": [
       "Pulse       1\n",
       "Maxpulse    1\n",
       "Calories    1\n",
       "dtype: int64"
      ]
     },
     "execution_count": 33,
     "metadata": {},
     "output_type": "execute_result"
    }
   ],
   "source": [
    "df.isnull().sum()"
   ]
  },
  {
   "cell_type": "code",
   "execution_count": 34,
   "id": "7c958a41",
   "metadata": {
    "execution": {
     "iopub.execute_input": "2023-09-02T18:33:55.078068Z",
     "iopub.status.busy": "2023-09-02T18:33:55.077332Z",
     "iopub.status.idle": "2023-09-02T18:33:55.088986Z",
     "shell.execute_reply": "2023-09-02T18:33:55.087865Z"
    },
    "papermill": {
     "duration": 0.046565,
     "end_time": "2023-09-02T18:33:55.091441",
     "exception": false,
     "start_time": "2023-09-02T18:33:55.044876",
     "status": "completed"
    },
    "tags": []
   },
   "outputs": [
    {
     "data": {
      "text/html": [
       "<div>\n",
       "<style scoped>\n",
       "    .dataframe tbody tr th:only-of-type {\n",
       "        vertical-align: middle;\n",
       "    }\n",
       "\n",
       "    .dataframe tbody tr th {\n",
       "        vertical-align: top;\n",
       "    }\n",
       "\n",
       "    .dataframe thead th {\n",
       "        text-align: right;\n",
       "    }\n",
       "</style>\n",
       "<table border=\"1\" class=\"dataframe\">\n",
       "  <thead>\n",
       "    <tr style=\"text-align: right;\">\n",
       "      <th></th>\n",
       "      <th>Pulse</th>\n",
       "      <th>Maxpulse</th>\n",
       "      <th>Calories</th>\n",
       "    </tr>\n",
       "  </thead>\n",
       "  <tbody>\n",
       "    <tr>\n",
       "      <th>0</th>\n",
       "      <td>NaN</td>\n",
       "      <td>NaN</td>\n",
       "      <td>NaN</td>\n",
       "    </tr>\n",
       "  </tbody>\n",
       "</table>\n",
       "</div>"
      ],
      "text/plain": [
       "   Pulse  Maxpulse  Calories\n",
       "0    NaN       NaN       NaN"
      ]
     },
     "execution_count": 34,
     "metadata": {},
     "output_type": "execute_result"
    }
   ],
   "source": [
    "df[df['Calories'].isnull()]"
   ]
  },
  {
   "cell_type": "code",
   "execution_count": 35,
   "id": "0026172d",
   "metadata": {
    "execution": {
     "iopub.execute_input": "2023-09-02T18:33:55.157096Z",
     "iopub.status.busy": "2023-09-02T18:33:55.155965Z",
     "iopub.status.idle": "2023-09-02T18:33:56.810780Z",
     "shell.execute_reply": "2023-09-02T18:33:56.809478Z"
    },
    "papermill": {
     "duration": 1.690361,
     "end_time": "2023-09-02T18:33:56.813535",
     "exception": false,
     "start_time": "2023-09-02T18:33:55.123174",
     "status": "completed"
    },
    "tags": []
   },
   "outputs": [],
   "source": [
    "from sklearn.impute import SimpleImputer\n"
   ]
  },
  {
   "cell_type": "code",
   "execution_count": 36,
   "id": "b2a1092c",
   "metadata": {
    "execution": {
     "iopub.execute_input": "2023-09-02T18:33:56.877602Z",
     "iopub.status.busy": "2023-09-02T18:33:56.877161Z",
     "iopub.status.idle": "2023-09-02T18:33:56.882682Z",
     "shell.execute_reply": "2023-09-02T18:33:56.881582Z"
    },
    "papermill": {
     "duration": 0.040319,
     "end_time": "2023-09-02T18:33:56.885193",
     "exception": false,
     "start_time": "2023-09-02T18:33:56.844874",
     "status": "completed"
    },
    "tags": []
   },
   "outputs": [],
   "source": [
    "imputer = SimpleImputer(missing_values=np.nan , strategy='mean')"
   ]
  },
  {
   "cell_type": "code",
   "execution_count": 37,
   "id": "8e256c38",
   "metadata": {
    "execution": {
     "iopub.execute_input": "2023-09-02T18:33:56.950505Z",
     "iopub.status.busy": "2023-09-02T18:33:56.949778Z",
     "iopub.status.idle": "2023-09-02T18:33:56.962054Z",
     "shell.execute_reply": "2023-09-02T18:33:56.960610Z"
    },
    "papermill": {
     "duration": 0.046834,
     "end_time": "2023-09-02T18:33:56.964431",
     "exception": false,
     "start_time": "2023-09-02T18:33:56.917597",
     "status": "completed"
    },
    "tags": []
   },
   "outputs": [
    {
     "data": {
      "text/html": [
       "<div>\n",
       "<style scoped>\n",
       "    .dataframe tbody tr th:only-of-type {\n",
       "        vertical-align: middle;\n",
       "    }\n",
       "\n",
       "    .dataframe tbody tr th {\n",
       "        vertical-align: top;\n",
       "    }\n",
       "\n",
       "    .dataframe thead th {\n",
       "        text-align: right;\n",
       "    }\n",
       "</style>\n",
       "<table border=\"1\" class=\"dataframe\">\n",
       "  <thead>\n",
       "    <tr style=\"text-align: right;\">\n",
       "      <th></th>\n",
       "      <th>Pulse</th>\n",
       "      <th>Maxpulse</th>\n",
       "      <th>Calories</th>\n",
       "    </tr>\n",
       "  </thead>\n",
       "  <tbody>\n",
       "    <tr>\n",
       "      <th>4</th>\n",
       "      <td>117.0</td>\n",
       "      <td>148.0</td>\n",
       "      <td>406.0</td>\n",
       "    </tr>\n",
       "    <tr>\n",
       "      <th>47</th>\n",
       "      <td>111.0</td>\n",
       "      <td>136.0</td>\n",
       "      <td>300.0</td>\n",
       "    </tr>\n",
       "    <tr>\n",
       "      <th>57</th>\n",
       "      <td>115.0</td>\n",
       "      <td>144.0</td>\n",
       "      <td>305.0</td>\n",
       "    </tr>\n",
       "  </tbody>\n",
       "</table>\n",
       "</div>"
      ],
      "text/plain": [
       "    Pulse  Maxpulse  Calories\n",
       "4   117.0     148.0     406.0\n",
       "47  111.0     136.0     300.0\n",
       "57  115.0     144.0     305.0"
      ]
     },
     "execution_count": 37,
     "metadata": {},
     "output_type": "execute_result"
    }
   ],
   "source": [
    "df.head(3)"
   ]
  },
  {
   "cell_type": "code",
   "execution_count": null,
   "id": "b706be84",
   "metadata": {
    "papermill": {
     "duration": 0.036805,
     "end_time": "2023-09-02T18:33:57.043377",
     "exception": false,
     "start_time": "2023-09-02T18:33:57.006572",
     "status": "completed"
    },
    "tags": []
   },
   "outputs": [],
   "source": []
  },
  {
   "cell_type": "code",
   "execution_count": 38,
   "id": "8a972684",
   "metadata": {
    "execution": {
     "iopub.execute_input": "2023-09-02T18:33:57.112731Z",
     "iopub.status.busy": "2023-09-02T18:33:57.111766Z",
     "iopub.status.idle": "2023-09-02T18:33:57.117711Z",
     "shell.execute_reply": "2023-09-02T18:33:57.116607Z"
    },
    "papermill": {
     "duration": 0.042825,
     "end_time": "2023-09-02T18:33:57.120198",
     "exception": false,
     "start_time": "2023-09-02T18:33:57.077373",
     "status": "completed"
    },
    "tags": []
   },
   "outputs": [],
   "source": [
    "x = df.iloc[:,-1]"
   ]
  },
  {
   "cell_type": "code",
   "execution_count": 39,
   "id": "41d93620",
   "metadata": {
    "execution": {
     "iopub.execute_input": "2023-09-02T18:33:57.186455Z",
     "iopub.status.busy": "2023-09-02T18:33:57.185533Z",
     "iopub.status.idle": "2023-09-02T18:33:57.197511Z",
     "shell.execute_reply": "2023-09-02T18:33:57.196416Z"
    },
    "papermill": {
     "duration": 0.048866,
     "end_time": "2023-09-02T18:33:57.201160",
     "exception": false,
     "start_time": "2023-09-02T18:33:57.152294",
     "status": "completed"
    },
    "tags": []
   },
   "outputs": [
    {
     "data": {
      "text/plain": [
       "pandas.core.series.Series"
      ]
     },
     "execution_count": 39,
     "metadata": {},
     "output_type": "execute_result"
    }
   ],
   "source": [
    "type(x)"
   ]
  },
  {
   "cell_type": "code",
   "execution_count": 40,
   "id": "c6c4d111",
   "metadata": {
    "execution": {
     "iopub.execute_input": "2023-09-02T18:33:57.272623Z",
     "iopub.status.busy": "2023-09-02T18:33:57.271810Z",
     "iopub.status.idle": "2023-09-02T18:33:57.277007Z",
     "shell.execute_reply": "2023-09-02T18:33:57.276102Z"
    },
    "papermill": {
     "duration": 0.041298,
     "end_time": "2023-09-02T18:33:57.279481",
     "exception": false,
     "start_time": "2023-09-02T18:33:57.238183",
     "status": "completed"
    },
    "tags": []
   },
   "outputs": [],
   "source": [
    "x = np.array(x)"
   ]
  },
  {
   "cell_type": "code",
   "execution_count": 41,
   "id": "675ac786",
   "metadata": {
    "execution": {
     "iopub.execute_input": "2023-09-02T18:33:57.349770Z",
     "iopub.status.busy": "2023-09-02T18:33:57.349011Z",
     "iopub.status.idle": "2023-09-02T18:33:57.355929Z",
     "shell.execute_reply": "2023-09-02T18:33:57.354907Z"
    },
    "papermill": {
     "duration": 0.046537,
     "end_time": "2023-09-02T18:33:57.358214",
     "exception": false,
     "start_time": "2023-09-02T18:33:57.311677",
     "status": "completed"
    },
    "tags": []
   },
   "outputs": [
    {
     "data": {
      "text/plain": [
       "numpy.ndarray"
      ]
     },
     "execution_count": 41,
     "metadata": {},
     "output_type": "execute_result"
    }
   ],
   "source": [
    "type(x)"
   ]
  },
  {
   "cell_type": "code",
   "execution_count": 42,
   "id": "5925e122",
   "metadata": {
    "execution": {
     "iopub.execute_input": "2023-09-02T18:33:57.434715Z",
     "iopub.status.busy": "2023-09-02T18:33:57.433939Z",
     "iopub.status.idle": "2023-09-02T18:33:57.441540Z",
     "shell.execute_reply": "2023-09-02T18:33:57.440615Z"
    },
    "papermill": {
     "duration": 0.048337,
     "end_time": "2023-09-02T18:33:57.443839",
     "exception": false,
     "start_time": "2023-09-02T18:33:57.395502",
     "status": "completed"
    },
    "tags": []
   },
   "outputs": [
    {
     "data": {
      "text/plain": [
       "(13,)"
      ]
     },
     "execution_count": 42,
     "metadata": {},
     "output_type": "execute_result"
    }
   ],
   "source": [
    "x.shape"
   ]
  },
  {
   "cell_type": "code",
   "execution_count": 43,
   "id": "700fe180",
   "metadata": {
    "execution": {
     "iopub.execute_input": "2023-09-02T18:33:57.509853Z",
     "iopub.status.busy": "2023-09-02T18:33:57.508816Z",
     "iopub.status.idle": "2023-09-02T18:33:57.513806Z",
     "shell.execute_reply": "2023-09-02T18:33:57.513052Z"
    },
    "papermill": {
     "duration": 0.040723,
     "end_time": "2023-09-02T18:33:57.516466",
     "exception": false,
     "start_time": "2023-09-02T18:33:57.475743",
     "status": "completed"
    },
    "tags": []
   },
   "outputs": [],
   "source": [
    "x = x.reshape(-1,1)"
   ]
  },
  {
   "cell_type": "code",
   "execution_count": 44,
   "id": "d27d26de",
   "metadata": {
    "execution": {
     "iopub.execute_input": "2023-09-02T18:33:57.591804Z",
     "iopub.status.busy": "2023-09-02T18:33:57.590893Z",
     "iopub.status.idle": "2023-09-02T18:33:57.600619Z",
     "shell.execute_reply": "2023-09-02T18:33:57.599841Z"
    },
    "papermill": {
     "duration": 0.04596,
     "end_time": "2023-09-02T18:33:57.603037",
     "exception": false,
     "start_time": "2023-09-02T18:33:57.557077",
     "status": "completed"
    },
    "tags": []
   },
   "outputs": [
    {
     "data": {
      "text/plain": [
       "(13, 1)"
      ]
     },
     "execution_count": 44,
     "metadata": {},
     "output_type": "execute_result"
    }
   ],
   "source": [
    "x.shape"
   ]
  },
  {
   "cell_type": "code",
   "execution_count": 45,
   "id": "2f6e5c2b",
   "metadata": {
    "execution": {
     "iopub.execute_input": "2023-09-02T18:33:57.670101Z",
     "iopub.status.busy": "2023-09-02T18:33:57.669701Z",
     "iopub.status.idle": "2023-09-02T18:33:57.677416Z",
     "shell.execute_reply": "2023-09-02T18:33:57.676167Z"
    },
    "papermill": {
     "duration": 0.044235,
     "end_time": "2023-09-02T18:33:57.679874",
     "exception": false,
     "start_time": "2023-09-02T18:33:57.635639",
     "status": "completed"
    },
    "tags": []
   },
   "outputs": [],
   "source": [
    "imputer.fit(x)\n",
    "x = imputer.transform(x)"
   ]
  },
  {
   "cell_type": "code",
   "execution_count": 46,
   "id": "fd41e572",
   "metadata": {
    "execution": {
     "iopub.execute_input": "2023-09-02T18:33:57.747342Z",
     "iopub.status.busy": "2023-09-02T18:33:57.746955Z",
     "iopub.status.idle": "2023-09-02T18:33:57.751948Z",
     "shell.execute_reply": "2023-09-02T18:33:57.750765Z"
    },
    "papermill": {
     "duration": 0.041472,
     "end_time": "2023-09-02T18:33:57.754379",
     "exception": false,
     "start_time": "2023-09-02T18:33:57.712907",
     "status": "completed"
    },
    "tags": []
   },
   "outputs": [],
   "source": [
    "x = pd.DataFrame(x)"
   ]
  },
  {
   "cell_type": "code",
   "execution_count": 47,
   "id": "72a76521",
   "metadata": {
    "execution": {
     "iopub.execute_input": "2023-09-02T18:33:57.820485Z",
     "iopub.status.busy": "2023-09-02T18:33:57.820088Z",
     "iopub.status.idle": "2023-09-02T18:33:57.824855Z",
     "shell.execute_reply": "2023-09-02T18:33:57.823809Z"
    },
    "papermill": {
     "duration": 0.040366,
     "end_time": "2023-09-02T18:33:57.827087",
     "exception": false,
     "start_time": "2023-09-02T18:33:57.786721",
     "status": "completed"
    },
    "tags": []
   },
   "outputs": [],
   "source": [
    "x.columns = ['Calories']"
   ]
  },
  {
   "cell_type": "code",
   "execution_count": 48,
   "id": "c654ba07",
   "metadata": {
    "execution": {
     "iopub.execute_input": "2023-09-02T18:33:57.894080Z",
     "iopub.status.busy": "2023-09-02T18:33:57.892754Z",
     "iopub.status.idle": "2023-09-02T18:33:57.904573Z",
     "shell.execute_reply": "2023-09-02T18:33:57.903575Z"
    },
    "papermill": {
     "duration": 0.047444,
     "end_time": "2023-09-02T18:33:57.906966",
     "exception": false,
     "start_time": "2023-09-02T18:33:57.859522",
     "status": "completed"
    },
    "tags": []
   },
   "outputs": [
    {
     "data": {
      "text/html": [
       "<div>\n",
       "<style scoped>\n",
       "    .dataframe tbody tr th:only-of-type {\n",
       "        vertical-align: middle;\n",
       "    }\n",
       "\n",
       "    .dataframe tbody tr th {\n",
       "        vertical-align: top;\n",
       "    }\n",
       "\n",
       "    .dataframe thead th {\n",
       "        text-align: right;\n",
       "    }\n",
       "</style>\n",
       "<table border=\"1\" class=\"dataframe\">\n",
       "  <thead>\n",
       "    <tr style=\"text-align: right;\">\n",
       "      <th></th>\n",
       "      <th>Calories</th>\n",
       "    </tr>\n",
       "  </thead>\n",
       "  <tbody>\n",
       "  </tbody>\n",
       "</table>\n",
       "</div>"
      ],
      "text/plain": [
       "Empty DataFrame\n",
       "Columns: [Calories]\n",
       "Index: []"
      ]
     },
     "execution_count": 48,
     "metadata": {},
     "output_type": "execute_result"
    }
   ],
   "source": [
    "x[x.Calories.isnull()]"
   ]
  },
  {
   "cell_type": "code",
   "execution_count": 49,
   "id": "827fcd10",
   "metadata": {
    "execution": {
     "iopub.execute_input": "2023-09-02T18:33:57.992569Z",
     "iopub.status.busy": "2023-09-02T18:33:57.991624Z",
     "iopub.status.idle": "2023-09-02T18:33:58.009443Z",
     "shell.execute_reply": "2023-09-02T18:33:58.007563Z"
    },
    "papermill": {
     "duration": 0.071408,
     "end_time": "2023-09-02T18:33:58.014174",
     "exception": false,
     "start_time": "2023-09-02T18:33:57.942766",
     "status": "completed"
    },
    "tags": []
   },
   "outputs": [
    {
     "data": {
      "text/html": [
       "<div>\n",
       "<style scoped>\n",
       "    .dataframe tbody tr th:only-of-type {\n",
       "        vertical-align: middle;\n",
       "    }\n",
       "\n",
       "    .dataframe tbody tr th {\n",
       "        vertical-align: top;\n",
       "    }\n",
       "\n",
       "    .dataframe thead th {\n",
       "        text-align: right;\n",
       "    }\n",
       "</style>\n",
       "<table border=\"1\" class=\"dataframe\">\n",
       "  <thead>\n",
       "    <tr style=\"text-align: right;\">\n",
       "      <th></th>\n",
       "      <th>Pulse</th>\n",
       "      <th>Maxpulse</th>\n",
       "      <th>Calories</th>\n",
       "    </tr>\n",
       "  </thead>\n",
       "  <tbody>\n",
       "    <tr>\n",
       "      <th>0</th>\n",
       "      <td>NaN</td>\n",
       "      <td>NaN</td>\n",
       "      <td>NaN</td>\n",
       "    </tr>\n",
       "  </tbody>\n",
       "</table>\n",
       "</div>"
      ],
      "text/plain": [
       "   Pulse  Maxpulse  Calories\n",
       "0    NaN       NaN       NaN"
      ]
     },
     "execution_count": 49,
     "metadata": {},
     "output_type": "execute_result"
    }
   ],
   "source": [
    "df[df['Calories'].isnull()]"
   ]
  },
  {
   "cell_type": "code",
   "execution_count": 50,
   "id": "7955ccf1",
   "metadata": {
    "execution": {
     "iopub.execute_input": "2023-09-02T18:33:58.108722Z",
     "iopub.status.busy": "2023-09-02T18:33:58.107697Z",
     "iopub.status.idle": "2023-09-02T18:33:58.122328Z",
     "shell.execute_reply": "2023-09-02T18:33:58.121010Z"
    },
    "papermill": {
     "duration": 0.070067,
     "end_time": "2023-09-02T18:33:58.125328",
     "exception": false,
     "start_time": "2023-09-02T18:33:58.055261",
     "status": "completed"
    },
    "tags": []
   },
   "outputs": [
    {
     "data": {
      "text/html": [
       "<div>\n",
       "<style scoped>\n",
       "    .dataframe tbody tr th:only-of-type {\n",
       "        vertical-align: middle;\n",
       "    }\n",
       "\n",
       "    .dataframe tbody tr th {\n",
       "        vertical-align: top;\n",
       "    }\n",
       "\n",
       "    .dataframe thead th {\n",
       "        text-align: right;\n",
       "    }\n",
       "</style>\n",
       "<table border=\"1\" class=\"dataframe\">\n",
       "  <thead>\n",
       "    <tr style=\"text-align: right;\">\n",
       "      <th></th>\n",
       "      <th>Pulse</th>\n",
       "      <th>Maxpulse</th>\n",
       "      <th>Calories</th>\n",
       "    </tr>\n",
       "  </thead>\n",
       "  <tbody>\n",
       "    <tr>\n",
       "      <th>0</th>\n",
       "      <td>NaN</td>\n",
       "      <td>NaN</td>\n",
       "      <td>NaN</td>\n",
       "    </tr>\n",
       "  </tbody>\n",
       "</table>\n",
       "</div>"
      ],
      "text/plain": [
       "   Pulse  Maxpulse  Calories\n",
       "0    NaN       NaN       NaN"
      ]
     },
     "execution_count": 50,
     "metadata": {},
     "output_type": "execute_result"
    }
   ],
   "source": [
    "df[df['Calories'].isnull()]"
   ]
  },
  {
   "cell_type": "code",
   "execution_count": 51,
   "id": "555a1680",
   "metadata": {
    "execution": {
     "iopub.execute_input": "2023-09-02T18:33:58.203139Z",
     "iopub.status.busy": "2023-09-02T18:33:58.201929Z",
     "iopub.status.idle": "2023-09-02T18:33:58.206990Z",
     "shell.execute_reply": "2023-09-02T18:33:58.206069Z"
    },
    "papermill": {
     "duration": 0.04179,
     "end_time": "2023-09-02T18:33:58.209284",
     "exception": false,
     "start_time": "2023-09-02T18:33:58.167494",
     "status": "completed"
    },
    "tags": []
   },
   "outputs": [],
   "source": [
    "from sklearn.impute import SimpleImputer\n",
    "si = SimpleImputer(missing_values=np.nan,strategy='mean')"
   ]
  },
  {
   "cell_type": "code",
   "execution_count": 52,
   "id": "a4a43b9e",
   "metadata": {
    "execution": {
     "iopub.execute_input": "2023-09-02T18:33:58.283872Z",
     "iopub.status.busy": "2023-09-02T18:33:58.282338Z",
     "iopub.status.idle": "2023-09-02T18:33:58.290361Z",
     "shell.execute_reply": "2023-09-02T18:33:58.289089Z"
    },
    "papermill": {
     "duration": 0.05191,
     "end_time": "2023-09-02T18:33:58.294440",
     "exception": false,
     "start_time": "2023-09-02T18:33:58.242530",
     "status": "completed"
    },
    "tags": []
   },
   "outputs": [],
   "source": [
    "x = np.array(df.loc[:,'Calories'])"
   ]
  },
  {
   "cell_type": "code",
   "execution_count": 53,
   "id": "d34dbb93",
   "metadata": {
    "execution": {
     "iopub.execute_input": "2023-09-02T18:33:58.369989Z",
     "iopub.status.busy": "2023-09-02T18:33:58.368665Z",
     "iopub.status.idle": "2023-09-02T18:33:58.378586Z",
     "shell.execute_reply": "2023-09-02T18:33:58.377298Z"
    },
    "papermill": {
     "duration": 0.047768,
     "end_time": "2023-09-02T18:33:58.381391",
     "exception": false,
     "start_time": "2023-09-02T18:33:58.333623",
     "status": "completed"
    },
    "tags": []
   },
   "outputs": [
    {
     "data": {
      "text/plain": [
       "numpy.ndarray"
      ]
     },
     "execution_count": 53,
     "metadata": {},
     "output_type": "execute_result"
    }
   ],
   "source": [
    "type(x)"
   ]
  },
  {
   "cell_type": "code",
   "execution_count": null,
   "id": "522b4573",
   "metadata": {
    "papermill": {
     "duration": 0.033833,
     "end_time": "2023-09-02T18:33:58.449808",
     "exception": false,
     "start_time": "2023-09-02T18:33:58.415975",
     "status": "completed"
    },
    "tags": []
   },
   "outputs": [],
   "source": []
  },
  {
   "cell_type": "code",
   "execution_count": 54,
   "id": "6ea7673c",
   "metadata": {
    "execution": {
     "iopub.execute_input": "2023-09-02T18:33:58.516162Z",
     "iopub.status.busy": "2023-09-02T18:33:58.515750Z",
     "iopub.status.idle": "2023-09-02T18:33:58.529499Z",
     "shell.execute_reply": "2023-09-02T18:33:58.528177Z"
    },
    "papermill": {
     "duration": 0.049643,
     "end_time": "2023-09-02T18:33:58.531887",
     "exception": false,
     "start_time": "2023-09-02T18:33:58.482244",
     "status": "completed"
    },
    "tags": []
   },
   "outputs": [
    {
     "data": {
      "text/html": [
       "<style>#sk-container-id-1 {color: black;background-color: white;}#sk-container-id-1 pre{padding: 0;}#sk-container-id-1 div.sk-toggleable {background-color: white;}#sk-container-id-1 label.sk-toggleable__label {cursor: pointer;display: block;width: 100%;margin-bottom: 0;padding: 0.3em;box-sizing: border-box;text-align: center;}#sk-container-id-1 label.sk-toggleable__label-arrow:before {content: \"▸\";float: left;margin-right: 0.25em;color: #696969;}#sk-container-id-1 label.sk-toggleable__label-arrow:hover:before {color: black;}#sk-container-id-1 div.sk-estimator:hover label.sk-toggleable__label-arrow:before {color: black;}#sk-container-id-1 div.sk-toggleable__content {max-height: 0;max-width: 0;overflow: hidden;text-align: left;background-color: #f0f8ff;}#sk-container-id-1 div.sk-toggleable__content pre {margin: 0.2em;color: black;border-radius: 0.25em;background-color: #f0f8ff;}#sk-container-id-1 input.sk-toggleable__control:checked~div.sk-toggleable__content {max-height: 200px;max-width: 100%;overflow: auto;}#sk-container-id-1 input.sk-toggleable__control:checked~label.sk-toggleable__label-arrow:before {content: \"▾\";}#sk-container-id-1 div.sk-estimator input.sk-toggleable__control:checked~label.sk-toggleable__label {background-color: #d4ebff;}#sk-container-id-1 div.sk-label input.sk-toggleable__control:checked~label.sk-toggleable__label {background-color: #d4ebff;}#sk-container-id-1 input.sk-hidden--visually {border: 0;clip: rect(1px 1px 1px 1px);clip: rect(1px, 1px, 1px, 1px);height: 1px;margin: -1px;overflow: hidden;padding: 0;position: absolute;width: 1px;}#sk-container-id-1 div.sk-estimator {font-family: monospace;background-color: #f0f8ff;border: 1px dotted black;border-radius: 0.25em;box-sizing: border-box;margin-bottom: 0.5em;}#sk-container-id-1 div.sk-estimator:hover {background-color: #d4ebff;}#sk-container-id-1 div.sk-parallel-item::after {content: \"\";width: 100%;border-bottom: 1px solid gray;flex-grow: 1;}#sk-container-id-1 div.sk-label:hover label.sk-toggleable__label {background-color: #d4ebff;}#sk-container-id-1 div.sk-serial::before {content: \"\";position: absolute;border-left: 1px solid gray;box-sizing: border-box;top: 0;bottom: 0;left: 50%;z-index: 0;}#sk-container-id-1 div.sk-serial {display: flex;flex-direction: column;align-items: center;background-color: white;padding-right: 0.2em;padding-left: 0.2em;position: relative;}#sk-container-id-1 div.sk-item {position: relative;z-index: 1;}#sk-container-id-1 div.sk-parallel {display: flex;align-items: stretch;justify-content: center;background-color: white;position: relative;}#sk-container-id-1 div.sk-item::before, #sk-container-id-1 div.sk-parallel-item::before {content: \"\";position: absolute;border-left: 1px solid gray;box-sizing: border-box;top: 0;bottom: 0;left: 50%;z-index: -1;}#sk-container-id-1 div.sk-parallel-item {display: flex;flex-direction: column;z-index: 1;position: relative;background-color: white;}#sk-container-id-1 div.sk-parallel-item:first-child::after {align-self: flex-end;width: 50%;}#sk-container-id-1 div.sk-parallel-item:last-child::after {align-self: flex-start;width: 50%;}#sk-container-id-1 div.sk-parallel-item:only-child::after {width: 0;}#sk-container-id-1 div.sk-dashed-wrapped {border: 1px dashed gray;margin: 0 0.4em 0.5em 0.4em;box-sizing: border-box;padding-bottom: 0.4em;background-color: white;}#sk-container-id-1 div.sk-label label {font-family: monospace;font-weight: bold;display: inline-block;line-height: 1.2em;}#sk-container-id-1 div.sk-label-container {text-align: center;}#sk-container-id-1 div.sk-container {/* jupyter's `normalize.less` sets `[hidden] { display: none; }` but bootstrap.min.css set `[hidden] { display: none !important; }` so we also need the `!important` here to be able to override the default hidden behavior on the sphinx rendered scikit-learn.org. See: https://github.com/scikit-learn/scikit-learn/issues/21755 */display: inline-block !important;position: relative;}#sk-container-id-1 div.sk-text-repr-fallback {display: none;}</style><div id=\"sk-container-id-1\" class=\"sk-top-container\"><div class=\"sk-text-repr-fallback\"><pre>SimpleImputer()</pre><b>In a Jupyter environment, please rerun this cell to show the HTML representation or trust the notebook. <br />On GitHub, the HTML representation is unable to render, please try loading this page with nbviewer.org.</b></div><div class=\"sk-container\" hidden><div class=\"sk-item\"><div class=\"sk-estimator sk-toggleable\"><input class=\"sk-toggleable__control sk-hidden--visually\" id=\"sk-estimator-id-1\" type=\"checkbox\" checked><label for=\"sk-estimator-id-1\" class=\"sk-toggleable__label sk-toggleable__label-arrow\">SimpleImputer</label><div class=\"sk-toggleable__content\"><pre>SimpleImputer()</pre></div></div></div></div></div>"
      ],
      "text/plain": [
       "SimpleImputer()"
      ]
     },
     "execution_count": 54,
     "metadata": {},
     "output_type": "execute_result"
    }
   ],
   "source": [
    "si.fit(x.reshape(-1,1))"
   ]
  },
  {
   "cell_type": "code",
   "execution_count": 55,
   "id": "2400e403",
   "metadata": {
    "execution": {
     "iopub.execute_input": "2023-09-02T18:33:58.601657Z",
     "iopub.status.busy": "2023-09-02T18:33:58.600912Z",
     "iopub.status.idle": "2023-09-02T18:33:58.606240Z",
     "shell.execute_reply": "2023-09-02T18:33:58.605070Z"
    },
    "papermill": {
     "duration": 0.044149,
     "end_time": "2023-09-02T18:33:58.608868",
     "exception": false,
     "start_time": "2023-09-02T18:33:58.564719",
     "status": "completed"
    },
    "tags": []
   },
   "outputs": [],
   "source": [
    "x = si.transform(x.reshape(-1,1))"
   ]
  },
  {
   "cell_type": "code",
   "execution_count": 56,
   "id": "7d6ab131",
   "metadata": {
    "execution": {
     "iopub.execute_input": "2023-09-02T18:33:58.683108Z",
     "iopub.status.busy": "2023-09-02T18:33:58.682178Z",
     "iopub.status.idle": "2023-09-02T18:33:58.688121Z",
     "shell.execute_reply": "2023-09-02T18:33:58.687087Z"
    },
    "papermill": {
     "duration": 0.045481,
     "end_time": "2023-09-02T18:33:58.690574",
     "exception": false,
     "start_time": "2023-09-02T18:33:58.645093",
     "status": "completed"
    },
    "tags": []
   },
   "outputs": [],
   "source": [
    "df['New_Calories']=x"
   ]
  },
  {
   "cell_type": "code",
   "execution_count": 57,
   "id": "0ec0a4fa",
   "metadata": {
    "execution": {
     "iopub.execute_input": "2023-09-02T18:33:58.762093Z",
     "iopub.status.busy": "2023-09-02T18:33:58.761309Z",
     "iopub.status.idle": "2023-09-02T18:33:58.767520Z",
     "shell.execute_reply": "2023-09-02T18:33:58.766512Z"
    },
    "papermill": {
     "duration": 0.043883,
     "end_time": "2023-09-02T18:33:58.770001",
     "exception": false,
     "start_time": "2023-09-02T18:33:58.726118",
     "status": "completed"
    },
    "tags": []
   },
   "outputs": [],
   "source": [
    "df.head(3)\n",
    "df.drop(['Calories'], axis=1,inplace=True)"
   ]
  },
  {
   "cell_type": "code",
   "execution_count": 58,
   "id": "759ed148",
   "metadata": {
    "execution": {
     "iopub.execute_input": "2023-09-02T18:33:58.838641Z",
     "iopub.status.busy": "2023-09-02T18:33:58.837977Z",
     "iopub.status.idle": "2023-09-02T18:33:58.852275Z",
     "shell.execute_reply": "2023-09-02T18:33:58.851162Z"
    },
    "papermill": {
     "duration": 0.051479,
     "end_time": "2023-09-02T18:33:58.854731",
     "exception": false,
     "start_time": "2023-09-02T18:33:58.803252",
     "status": "completed"
    },
    "tags": []
   },
   "outputs": [
    {
     "data": {
      "text/html": [
       "<div>\n",
       "<style scoped>\n",
       "    .dataframe tbody tr th:only-of-type {\n",
       "        vertical-align: middle;\n",
       "    }\n",
       "\n",
       "    .dataframe tbody tr th {\n",
       "        vertical-align: top;\n",
       "    }\n",
       "\n",
       "    .dataframe thead th {\n",
       "        text-align: right;\n",
       "    }\n",
       "</style>\n",
       "<table border=\"1\" class=\"dataframe\">\n",
       "  <thead>\n",
       "    <tr style=\"text-align: right;\">\n",
       "      <th></th>\n",
       "      <th>Pulse</th>\n",
       "      <th>Maxpulse</th>\n",
       "      <th>New_Calories</th>\n",
       "    </tr>\n",
       "  </thead>\n",
       "  <tbody>\n",
       "    <tr>\n",
       "      <th>4</th>\n",
       "      <td>117.0</td>\n",
       "      <td>148.0</td>\n",
       "      <td>406.0</td>\n",
       "    </tr>\n",
       "    <tr>\n",
       "      <th>47</th>\n",
       "      <td>111.0</td>\n",
       "      <td>136.0</td>\n",
       "      <td>300.0</td>\n",
       "    </tr>\n",
       "    <tr>\n",
       "      <th>57</th>\n",
       "      <td>115.0</td>\n",
       "      <td>144.0</td>\n",
       "      <td>305.0</td>\n",
       "    </tr>\n",
       "  </tbody>\n",
       "</table>\n",
       "</div>"
      ],
      "text/plain": [
       "    Pulse  Maxpulse  New_Calories\n",
       "4   117.0     148.0         406.0\n",
       "47  111.0     136.0         300.0\n",
       "57  115.0     144.0         305.0"
      ]
     },
     "execution_count": 58,
     "metadata": {},
     "output_type": "execute_result"
    }
   ],
   "source": [
    "df.head(3)"
   ]
  },
  {
   "cell_type": "code",
   "execution_count": 59,
   "id": "04971c8d",
   "metadata": {
    "execution": {
     "iopub.execute_input": "2023-09-02T18:33:58.922803Z",
     "iopub.status.busy": "2023-09-02T18:33:58.922368Z",
     "iopub.status.idle": "2023-09-02T18:33:58.928436Z",
     "shell.execute_reply": "2023-09-02T18:33:58.927344Z"
    },
    "papermill": {
     "duration": 0.043281,
     "end_time": "2023-09-02T18:33:58.930840",
     "exception": false,
     "start_time": "2023-09-02T18:33:58.887559",
     "status": "completed"
    },
    "tags": []
   },
   "outputs": [],
   "source": [
    "df.rename(columns={'New_Calories':'Calories'},inplace=True)"
   ]
  },
  {
   "cell_type": "code",
   "execution_count": 60,
   "id": "95650921",
   "metadata": {
    "execution": {
     "iopub.execute_input": "2023-09-02T18:33:59.000011Z",
     "iopub.status.busy": "2023-09-02T18:33:58.999592Z",
     "iopub.status.idle": "2023-09-02T18:33:59.012883Z",
     "shell.execute_reply": "2023-09-02T18:33:59.011690Z"
    },
    "papermill": {
     "duration": 0.051381,
     "end_time": "2023-09-02T18:33:59.015154",
     "exception": false,
     "start_time": "2023-09-02T18:33:58.963773",
     "status": "completed"
    },
    "tags": []
   },
   "outputs": [
    {
     "data": {
      "text/html": [
       "<div>\n",
       "<style scoped>\n",
       "    .dataframe tbody tr th:only-of-type {\n",
       "        vertical-align: middle;\n",
       "    }\n",
       "\n",
       "    .dataframe tbody tr th {\n",
       "        vertical-align: top;\n",
       "    }\n",
       "\n",
       "    .dataframe thead th {\n",
       "        text-align: right;\n",
       "    }\n",
       "</style>\n",
       "<table border=\"1\" class=\"dataframe\">\n",
       "  <thead>\n",
       "    <tr style=\"text-align: right;\">\n",
       "      <th></th>\n",
       "      <th>Pulse</th>\n",
       "      <th>Maxpulse</th>\n",
       "      <th>Calories</th>\n",
       "    </tr>\n",
       "  </thead>\n",
       "  <tbody>\n",
       "    <tr>\n",
       "      <th>4</th>\n",
       "      <td>117.0</td>\n",
       "      <td>148.0</td>\n",
       "      <td>406.0</td>\n",
       "    </tr>\n",
       "    <tr>\n",
       "      <th>47</th>\n",
       "      <td>111.0</td>\n",
       "      <td>136.0</td>\n",
       "      <td>300.0</td>\n",
       "    </tr>\n",
       "    <tr>\n",
       "      <th>57</th>\n",
       "      <td>115.0</td>\n",
       "      <td>144.0</td>\n",
       "      <td>305.0</td>\n",
       "    </tr>\n",
       "    <tr>\n",
       "      <th>59</th>\n",
       "      <td>123.0</td>\n",
       "      <td>152.0</td>\n",
       "      <td>321.0</td>\n",
       "    </tr>\n",
       "  </tbody>\n",
       "</table>\n",
       "</div>"
      ],
      "text/plain": [
       "    Pulse  Maxpulse  Calories\n",
       "4   117.0     148.0     406.0\n",
       "47  111.0     136.0     300.0\n",
       "57  115.0     144.0     305.0\n",
       "59  123.0     152.0     321.0"
      ]
     },
     "execution_count": 60,
     "metadata": {},
     "output_type": "execute_result"
    }
   ],
   "source": [
    "df.head(4)"
   ]
  },
  {
   "cell_type": "code",
   "execution_count": 61,
   "id": "2fcdf5d9",
   "metadata": {
    "execution": {
     "iopub.execute_input": "2023-09-02T18:33:59.083139Z",
     "iopub.status.busy": "2023-09-02T18:33:59.082621Z",
     "iopub.status.idle": "2023-09-02T18:33:59.093497Z",
     "shell.execute_reply": "2023-09-02T18:33:59.092380Z"
    },
    "papermill": {
     "duration": 0.047617,
     "end_time": "2023-09-02T18:33:59.095738",
     "exception": false,
     "start_time": "2023-09-02T18:33:59.048121",
     "status": "completed"
    },
    "tags": []
   },
   "outputs": [
    {
     "data": {
      "text/html": [
       "<div>\n",
       "<style scoped>\n",
       "    .dataframe tbody tr th:only-of-type {\n",
       "        vertical-align: middle;\n",
       "    }\n",
       "\n",
       "    .dataframe tbody tr th {\n",
       "        vertical-align: top;\n",
       "    }\n",
       "\n",
       "    .dataframe thead th {\n",
       "        text-align: right;\n",
       "    }\n",
       "</style>\n",
       "<table border=\"1\" class=\"dataframe\">\n",
       "  <thead>\n",
       "    <tr style=\"text-align: right;\">\n",
       "      <th></th>\n",
       "      <th>Pulse</th>\n",
       "      <th>Maxpulse</th>\n",
       "      <th>Calories</th>\n",
       "    </tr>\n",
       "  </thead>\n",
       "  <tbody>\n",
       "  </tbody>\n",
       "</table>\n",
       "</div>"
      ],
      "text/plain": [
       "Empty DataFrame\n",
       "Columns: [Pulse, Maxpulse, Calories]\n",
       "Index: []"
      ]
     },
     "execution_count": 61,
     "metadata": {},
     "output_type": "execute_result"
    }
   ],
   "source": [
    "df[df['Calories'].isnull()]"
   ]
  },
  {
   "cell_type": "code",
   "execution_count": 62,
   "id": "6ac265b5",
   "metadata": {
    "execution": {
     "iopub.execute_input": "2023-09-02T18:33:59.167556Z",
     "iopub.status.busy": "2023-09-02T18:33:59.166357Z",
     "iopub.status.idle": "2023-09-02T18:33:59.174856Z",
     "shell.execute_reply": "2023-09-02T18:33:59.173769Z"
    },
    "papermill": {
     "duration": 0.047255,
     "end_time": "2023-09-02T18:33:59.177308",
     "exception": false,
     "start_time": "2023-09-02T18:33:59.130053",
     "status": "completed"
    },
    "tags": []
   },
   "outputs": [
    {
     "data": {
      "text/plain": [
       "0"
      ]
     },
     "execution_count": 62,
     "metadata": {},
     "output_type": "execute_result"
    }
   ],
   "source": [
    "df['Calories'].isnull().sum()"
   ]
  },
  {
   "cell_type": "code",
   "execution_count": 63,
   "id": "08f23e6d",
   "metadata": {
    "execution": {
     "iopub.execute_input": "2023-09-02T18:33:59.246349Z",
     "iopub.status.busy": "2023-09-02T18:33:59.245926Z",
     "iopub.status.idle": "2023-09-02T18:33:59.251324Z",
     "shell.execute_reply": "2023-09-02T18:33:59.250101Z"
    },
    "papermill": {
     "duration": 0.042814,
     "end_time": "2023-09-02T18:33:59.253914",
     "exception": false,
     "start_time": "2023-09-02T18:33:59.211100",
     "status": "completed"
    },
    "tags": []
   },
   "outputs": [],
   "source": [
    "import pandas as pd\n",
    "import numpy as np"
   ]
  },
  {
   "cell_type": "code",
   "execution_count": 64,
   "id": "e7f0e3e2",
   "metadata": {
    "execution": {
     "iopub.execute_input": "2023-09-02T18:33:59.323821Z",
     "iopub.status.busy": "2023-09-02T18:33:59.323370Z",
     "iopub.status.idle": "2023-09-02T18:33:59.827826Z",
     "shell.execute_reply": "2023-09-02T18:33:59.826689Z"
    },
    "papermill": {
     "duration": 0.542022,
     "end_time": "2023-09-02T18:33:59.830631",
     "exception": false,
     "start_time": "2023-09-02T18:33:59.288609",
     "status": "completed"
    },
    "tags": []
   },
   "outputs": [],
   "source": [
    "dataset = pd.read_csv('/kaggle/input/housing-properties-in-maharashtra-big-cities/analysis_data.csv')\n",
    "dataset.head()\n",
    "dataset = dataset.drop(['locality_name','construction_status','house_type','total_rooms','total_beds','new_resale','age'],axis=1)"
   ]
  },
  {
   "cell_type": "code",
   "execution_count": 65,
   "id": "2eadc035",
   "metadata": {
    "execution": {
     "iopub.execute_input": "2023-09-02T18:33:59.900051Z",
     "iopub.status.busy": "2023-09-02T18:33:59.899641Z",
     "iopub.status.idle": "2023-09-02T18:33:59.911517Z",
     "shell.execute_reply": "2023-09-02T18:33:59.910447Z"
    },
    "papermill": {
     "duration": 0.049193,
     "end_time": "2023-09-02T18:33:59.913952",
     "exception": false,
     "start_time": "2023-09-02T18:33:59.864759",
     "status": "completed"
    },
    "tags": []
   },
   "outputs": [
    {
     "data": {
      "text/html": [
       "<div>\n",
       "<style scoped>\n",
       "    .dataframe tbody tr th:only-of-type {\n",
       "        vertical-align: middle;\n",
       "    }\n",
       "\n",
       "    .dataframe tbody tr th {\n",
       "        vertical-align: top;\n",
       "    }\n",
       "\n",
       "    .dataframe thead th {\n",
       "        text-align: right;\n",
       "    }\n",
       "</style>\n",
       "<table border=\"1\" class=\"dataframe\">\n",
       "  <thead>\n",
       "    <tr style=\"text-align: right;\">\n",
       "      <th></th>\n",
       "      <th>region_name</th>\n",
       "      <th>price</th>\n",
       "      <th>value_per_sqft</th>\n",
       "      <th>area</th>\n",
       "    </tr>\n",
       "  </thead>\n",
       "  <tbody>\n",
       "    <tr>\n",
       "      <th>0</th>\n",
       "      <td>Nashik</td>\n",
       "      <td>8499000.0</td>\n",
       "      <td>3761</td>\n",
       "      <td>2260</td>\n",
       "    </tr>\n",
       "    <tr>\n",
       "      <th>1</th>\n",
       "      <td>Mumbai</td>\n",
       "      <td>6790000.0</td>\n",
       "      <td>13580</td>\n",
       "      <td>500</td>\n",
       "    </tr>\n",
       "    <tr>\n",
       "      <th>2</th>\n",
       "      <td>Pune</td>\n",
       "      <td>6030000.0</td>\n",
       "      <td>7811</td>\n",
       "      <td>773</td>\n",
       "    </tr>\n",
       "    <tr>\n",
       "      <th>3</th>\n",
       "      <td>Pune</td>\n",
       "      <td>3537000.0</td>\n",
       "      <td>7417</td>\n",
       "      <td>477</td>\n",
       "    </tr>\n",
       "    <tr>\n",
       "      <th>4</th>\n",
       "      <td>Mumbai</td>\n",
       "      <td>9500000.0</td>\n",
       "      <td>10359</td>\n",
       "      <td>917</td>\n",
       "    </tr>\n",
       "  </tbody>\n",
       "</table>\n",
       "</div>"
      ],
      "text/plain": [
       "  region_name      price  value_per_sqft  area\n",
       "0      Nashik  8499000.0            3761  2260\n",
       "1      Mumbai  6790000.0           13580   500\n",
       "2        Pune  6030000.0            7811   773\n",
       "3        Pune  3537000.0            7417   477\n",
       "4      Mumbai  9500000.0           10359   917"
      ]
     },
     "execution_count": 65,
     "metadata": {},
     "output_type": "execute_result"
    }
   ],
   "source": [
    "dataset.head()"
   ]
  },
  {
   "cell_type": "code",
   "execution_count": 66,
   "id": "eaac58c4",
   "metadata": {
    "execution": {
     "iopub.execute_input": "2023-09-02T18:33:59.982815Z",
     "iopub.status.busy": "2023-09-02T18:33:59.982377Z",
     "iopub.status.idle": "2023-09-02T18:33:59.987561Z",
     "shell.execute_reply": "2023-09-02T18:33:59.986642Z"
    },
    "papermill": {
     "duration": 0.043048,
     "end_time": "2023-09-02T18:33:59.990623",
     "exception": false,
     "start_time": "2023-09-02T18:33:59.947575",
     "status": "completed"
    },
    "tags": []
   },
   "outputs": [],
   "source": [
    "grpBy = dataset.groupby('region_name')"
   ]
  },
  {
   "cell_type": "code",
   "execution_count": 67,
   "id": "95159831",
   "metadata": {
    "execution": {
     "iopub.execute_input": "2023-09-02T18:34:00.061159Z",
     "iopub.status.busy": "2023-09-02T18:34:00.060552Z",
     "iopub.status.idle": "2023-09-02T18:34:00.221846Z",
     "shell.execute_reply": "2023-09-02T18:34:00.220590Z"
    },
    "papermill": {
     "duration": 0.200772,
     "end_time": "2023-09-02T18:34:00.226208",
     "exception": false,
     "start_time": "2023-09-02T18:34:00.025436",
     "status": "completed"
    },
    "tags": []
   },
   "outputs": [
    {
     "name": "stdout",
     "output_type": "stream",
     "text": [
      " Ahmednagar  -> \n",
      "        region_name       price  value_per_sqft  area\n",
      "1846     Ahmednagar   2300000.0            3538   650\n",
      "58354    Ahmednagar   9700000.0            7760  1250\n",
      "84549    Ahmednagar   5500000.0            5500  1000\n",
      "84898    Ahmednagar   5500000.0            5500  1000\n",
      "88164    Ahmednagar   5500000.0            5500  1000\n",
      "89234    Ahmednagar   3000000.0            5357   560\n",
      "101065   Ahmednagar   3790000.0            3790  1000\n",
      "101132   Ahmednagar   3790000.0            3790  1000\n",
      "149359   Ahmednagar   4000000.0            3636  1100\n",
      "152533   Ahmednagar   2000000.0            4444   450\n",
      "153285   Ahmednagar   1630000.0            3704   440\n",
      "155244   Ahmednagar  30000000.0            6000  5000\n",
      "156013   Ahmednagar   3500000.0            7559   463\n",
      "157606   Ahmednagar   1250000.0            2380   525\n",
      "157634   Ahmednagar   1250000.0            2380   525\n",
      "169059   Ahmednagar   4000000.0            4581   873\n",
      "171609   Ahmednagar   5500000.0            4583  1200\n",
      "171637   Ahmednagar   1000000.0            1941   515\n",
      "181087   Ahmednagar   4500000.0            8571   525\n",
      "181339   Ahmednagar   4000000.0            4123   970\n",
      "181377   Ahmednagar   2200000.0            4526   486\n",
      "182231   Ahmednagar   5200000.0            5252   990\n",
      "182592   Ahmednagar   6000000.0            6315   950\n",
      "182846   Ahmednagar   4000000.0            4123   970\n",
      "183631   Ahmednagar   4000000.0            4123   970\n",
      "185024   Ahmednagar   2200000.0            4526   486\n",
      "185294   Ahmednagar   6052000.0            3922  1543\n",
      "185601   Ahmednagar   5200000.0            5252   990\n",
      "186026   Ahmednagar   2600000.0            4126   630\n",
      "186176   Ahmednagar   6000000.0            6315   950\n",
      "186252   Ahmednagar   2600000.0            4126   630\n",
      "186417   Ahmednagar   1600000.0            4000   400\n",
      "187022   Ahmednagar   3200000.0            3809   840\n",
      "187082   Ahmednagar   1750000.0            3333   525\n",
      "187196   Ahmednagar   6200000.0            4133  1500\n",
      "187551   Ahmednagar   6052000.0            3922  1543\n",
      "187917   Ahmednagar   1100000.0            2231   493\n",
      "188172   Ahmednagar   1100000.0            2231   493\n",
      "189043   Ahmednagar   4080000.0            3437  1187\n",
      "189223   Ahmednagar   6200000.0            4133  1500\n",
      "189353   Ahmednagar   6200000.0            4133  1500\n",
      " Akola  -> \n",
      "       region_name      price  value_per_sqft  area\n",
      "155652       Akola  2500000.0            2857   875\n",
      "155653       Akola  2500000.0            2857   875\n",
      "157891       Akola  1500000.0            1818   825\n",
      "157945       Akola  1500000.0            1818   825\n",
      "165639       Akola  1400000.0            2153   650\n",
      "165691       Akola  1400000.0            2153   650\n",
      "165715       Akola  1400000.0            2153   650\n",
      "166268       Akola  2300000.0            2787   825\n",
      "175692       Akola  3600000.0            3000  1200\n",
      "176991       Akola  3500000.0            3181  1100\n",
      "177053       Akola  3500000.0            3181  1100\n",
      "180753       Akola  2890000.0            3612   800\n",
      "183549       Akola  3250000.0            3250  1000\n",
      "183555       Akola  1000000.0            1428   700\n",
      "183566       Akola  2890000.0            3612   800\n",
      "185217       Akola  1500000.0            2500   600\n",
      "185557       Akola  6000000.0            4137  1450\n",
      "187044       Akola  3800000.0            4000   950\n",
      "187581       Akola  1500000.0            1666   900\n",
      "187867       Akola  8500000.0            5441  1562\n",
      "188300       Akola  1500000.0            1666   900\n",
      "188473       Akola  2400000.0            2823   850\n",
      "189034       Akola  2400000.0            2823   850\n",
      "189119       Akola  3800000.0            4000   950\n",
      " Alibaugh  -> \n",
      "       region_name       price  value_per_sqft  area\n",
      "2208      Alibaugh   9600000.0            7084  1355\n",
      "14887     Alibaugh   8600000.0           11241   765\n",
      "15208     Alibaugh   8500000.0           11805   720\n",
      "15219     Alibaugh   8450000.0           11736   720\n",
      "42888     Alibaugh   8500000.0            8095  1050\n",
      "43129     Alibaugh   8500000.0            9803   867\n",
      "140506    Alibaugh   3221000.0            4675   689\n",
      "150124    Alibaugh  40000000.0           21621  1850\n",
      "154902    Alibaugh  10000000.0            2325  4300\n",
      "158479    Alibaugh   8000000.0            5333  1500\n",
      "158547    Alibaugh  11000000.0            5365  2050\n",
      "158647    Alibaugh  16200000.0            7200  2260\n",
      "159149    Alibaugh   8000000.0            5333  1500\n",
      "163545    Alibaugh  40000000.0            6153  6500\n",
      "163569    Alibaugh  40000000.0            6153  6500\n",
      "165740    Alibaugh  13000000.0            8333  1560\n",
      "166686    Alibaugh   9500000.0            3392  2800\n",
      "166721    Alibaugh   9500000.0            3392  2800\n",
      "166729    Alibaugh   9500000.0            3392  2800\n",
      "177078    Alibaugh   3700000.0            4625   800\n",
      "180580    Alibaugh   5500000.0            4782  1150\n",
      "187441    Alibaugh   2200000.0            4036   545\n",
      "187527    Alibaugh   1798000.0            3575   503\n",
      "188152    Alibaugh   2500000.0            4464   560\n",
      "188161    Alibaugh   8000000.0            6477  1235\n",
      " Amravati  -> \n",
      "       region_name       price  value_per_sqft  area\n",
      "2112      Amravati   2950000.0            2809  1050\n",
      "3082      Amravati   2800000.0            2731  1025\n",
      "3154      Amravati   2800000.0            2731  1025\n",
      "142421    Amravati   4500000.0            3461  1300\n",
      "143051    Amravati   2400000.0            2526   950\n",
      "143052    Amravati   1700000.0            3090   550\n",
      "143802    Amravati   2400000.0            2400  1000\n",
      "144413    Amravati   4000000.0            2857  1400\n",
      "150126    Amravati   5500000.0            4230  1300\n",
      "150589    Amravati   5000000.0            2688  1860\n",
      "151644    Amravati   4500000.0            4090  1100\n",
      "152903    Amravati   5000000.0            3333  1500\n",
      "154042    Amravati   5000000.0            3333  1500\n",
      "154087    Amravati   2900000.0            3052   950\n",
      "154122    Amravati   5500000.0            3928  1400\n",
      "155593    Amravati   3200000.0            3375   948\n",
      "166196    Amravati   7200000.0            8000   900\n",
      "166405    Amravati   1800000.0            3000   600\n",
      "169050    Amravati   2000000.0            2352   850\n",
      "171418    Amravati   4500000.0            3750  1200\n",
      "172003    Amravati   2500000.0            2777   900\n",
      "172219    Amravati   2500000.0            2777   900\n",
      "174983    Amravati  12000000.0            3883  3090\n",
      "176540    Amravati   3800000.0            3800  1000\n",
      "176691    Amravati   3800000.0            3800  1000\n",
      "177801    Amravati   3000000.0            3000  1000\n",
      "178456    Amravati   3500000.0            2500  1400\n",
      "178467    Amravati   3500000.0            2500  1400\n",
      "179208    Amravati   9000000.0            6000  1500\n",
      "180860    Amravati   5000000.0            2272  2200\n",
      "181277    Amravati   7000000.0            3941  1776\n",
      "182140    Amravati   3000000.0            2000  1500\n",
      "182707    Amravati   7000000.0            3941  1776\n",
      "184793    Amravati   5200000.0            4333  1200\n",
      "185355    Amravati   2500000.0            3571   700\n",
      "185356    Amravati   3750000.0            2884  1300\n",
      "185438    Amravati   4400000.0            3209  1371\n",
      "185514    Amravati   1800000.0            2250   800\n",
      "185981    Amravati   3600000.0            4500   800\n",
      "186883    Amravati   2300000.0            2555   900\n",
      "187470    Amravati   5000000.0            6666   750\n",
      "187585    Amravati   8500000.0            6538  1300\n",
      "188304    Amravati   8500000.0            6538  1300\n",
      "188797    Amravati   5000000.0            6666   750\n",
      "190064    Amravati   3600000.0            4157   866\n",
      " Aurangabad  -> \n",
      "        region_name       price  value_per_sqft  area\n",
      "1629     Aurangabad   3500000.0            3747   934\n",
      "1817     Aurangabad   7500000.0            4054  1850\n",
      "1820     Aurangabad   7500000.0            4054  1850\n",
      "2022     Aurangabad   2200000.0            2315   950\n",
      "2108     Aurangabad   2650000.0            2789   950\n",
      "...             ...         ...             ...   ...\n",
      "189322   Aurangabad   2600000.0            4814   540\n",
      "189484   Aurangabad   2600000.0            4000   650\n",
      "189577   Aurangabad  11700000.0            8478  1380\n",
      "190046   Aurangabad   1350000.0            3375   400\n",
      "190076   Aurangabad  12500000.0            8928  1400\n",
      "\n",
      "[154 rows x 4 columns]\n",
      " Baramati  -> \n",
      "       region_name      price  value_per_sqft  area\n",
      "181254    Baramati  4400000.0            2694  1633\n",
      "183405    Baramati  4400000.0            2694  1633\n",
      "185743    Baramati  4400000.0            2694  1633\n",
      "187641    Baramati  3200000.0            3764   850\n",
      " Beed  -> \n",
      "       region_name      price  value_per_sqft  area\n",
      "185161        Beed  1600000.0            2909   550\n",
      " Bhandara  -> \n",
      "       region_name       price  value_per_sqft  area\n",
      "154813    Bhandara  15000000.0            3750  4000\n",
      "154822    Bhandara   2200000.0            2750   800\n",
      "154895    Bhandara   2200000.0            2750   800\n",
      "171622    Bhandara   3800000.0            3166  1200\n",
      "173806    Bhandara   6200000.0            4769  1300\n",
      "178408    Bhandara   2800000.0            2947   950\n",
      "182906    Bhandara   1650000.0            1650  1000\n",
      "183864    Bhandara  15000000.0            3750  4000\n",
      "183919    Bhandara  15000000.0            3750  4000\n",
      "185122    Bhandara   1650000.0            1650  1000\n",
      "186074    Bhandara   2600000.0            2166  1200\n",
      "187915    Bhandara   4000000.0            1428  2800\n",
      "187993    Bhandara   5300000.0            3028  1750\n",
      "188247    Bhandara   5300000.0            3028  1750\n",
      " Buldana  -> \n",
      "       region_name      price  value_per_sqft  area\n",
      "166224     Buldana  4500000.0            2812  1600\n",
      "166241     Buldana  4500000.0            2812  1600\n",
      " Chandrapur  -> \n",
      "        region_name       price  value_per_sqft  area\n",
      "2291     Chandrapur   9500000.0            5937  1600\n",
      "2707     Chandrapur   2700000.0            2076  1300\n",
      "2708     Chandrapur   2700000.0            2076  1300\n",
      "2709     Chandrapur   2700000.0            2076  1300\n",
      "2710     Chandrapur   2700000.0            2076  1300\n",
      "2711     Chandrapur   2700000.0            2076  1300\n",
      "146017   Chandrapur   3000000.0            2857  1050\n",
      "146021   Chandrapur   3000000.0            2857  1050\n",
      "146039   Chandrapur   3000000.0            2857  1050\n",
      "146074   Chandrapur   1650000.0            1650  1000\n",
      "154371   Chandrapur   1990000.0            1809  1100\n",
      "154386   Chandrapur   1990000.0            1809  1100\n",
      "179158   Chandrapur   4300000.0            2150  2000\n",
      "179191   Chandrapur   1500000.0            1704   880\n",
      "180101   Chandrapur   3700000.0            3122  1185\n",
      "180735   Chandrapur   6500000.0            5416  1200\n",
      "180921   Chandrapur   3500000.0            2500  1400\n",
      "182934   Chandrapur   3700000.0            3122  1185\n",
      "183124   Chandrapur   3700000.0            3122  1185\n",
      "183493   Chandrapur   3500000.0            2500  1400\n",
      "184967   Chandrapur   2200000.0            2037  1080\n",
      "185259   Chandrapur   1900000.0            2111   900\n",
      "186477   Chandrapur   3500000.0            2916  1200\n",
      "186821   Chandrapur   3000000.0            3157   950\n",
      "188154   Chandrapur   1600000.0            2000   800\n",
      "188726   Chandrapur  13600000.0            9714  1400\n",
      "189151   Chandrapur   1475000.0            2269   650\n",
      "189544   Chandrapur   1500000.0            1500  1000\n",
      " Dhule  -> \n",
      "       region_name      price  value_per_sqft  area\n",
      "169300       Dhule  3351000.0            2577  1300\n",
      "180149       Dhule  9540000.0            6360  1500\n",
      "181609       Dhule  9000000.0            2777  3240\n",
      "181688       Dhule  4000000.0            4444   900\n",
      "181873       Dhule  4000000.0            4444   900\n",
      "183726       Dhule  4000000.0            4444   900\n",
      "185915       Dhule  4100000.0            2562  1600\n",
      "187102       Dhule  6000000.0            5000  1200\n",
      "188189       Dhule  6099000.0            4518  1350\n",
      "189301       Dhule  6000000.0            5000  1200\n",
      " Hingoli  -> \n",
      "       region_name       price  value_per_sqft  area\n",
      "144883     Hingoli   3490000.0            3130  1115\n",
      "158225     Hingoli   9000000.0            1363  6600\n",
      "158706     Hingoli   8900000.0            7416  1200\n",
      "174990     Hingoli   2350000.0            1958  1200\n",
      "178792     Hingoli   7000000.0            4666  1500\n",
      "178893     Hingoli   7000000.0            4666  1500\n",
      "180393     Hingoli   1400000.0            3111   450\n",
      "180738     Hingoli  14000000.0           10769  1300\n",
      "182093     Hingoli  14000000.0           10769  1300\n",
      "186033     Hingoli  14000000.0           10769  1300\n",
      "186553     Hingoli   1400000.0            3111   450\n",
      " Jalgaon  -> \n",
      "       region_name       price  value_per_sqft  area\n",
      "1642       Jalgaon   5000000.0            2500  2000\n",
      "2446       Jalgaon   2600000.0            3416   761\n",
      "149160     Jalgaon   2100000.0            3925   535\n",
      "152342     Jalgaon   3500000.0            6517   537\n",
      "152841     Jalgaon    900000.0            1159   776\n",
      "156253     Jalgaon   3500000.0            3684   950\n",
      "156282     Jalgaon   3500000.0            3684   950\n",
      "156740     Jalgaon   1800000.0            3272   550\n",
      "157950     Jalgaon   3500000.0            4375   800\n",
      "166680     Jalgaon   3100000.0            1550  2000\n",
      "173996     Jalgaon   7800000.0            3120  2500\n",
      "178184     Jalgaon   1800000.0            1945   925\n",
      "180482     Jalgaon   4500000.0            3214  1400\n",
      "180552     Jalgaon   4600000.0            3982  1155\n",
      "181372     Jalgaon   5100000.0            4636  1100\n",
      "181468     Jalgaon   4000000.0            2478  1614\n",
      "182454     Jalgaon   6000000.0            4285  1400\n",
      "183284     Jalgaon  15000000.0            9090  1650\n",
      "183542     Jalgaon   3600000.0            2250  1600\n",
      "184076     Jalgaon   1500000.0            1616   928\n",
      "184618     Jalgaon    600000.0            1071   560\n",
      "184697     Jalgaon   4600000.0            3982  1155\n",
      "184848     Jalgaon   1500000.0            1616   928\n",
      "184894     Jalgaon   4000000.0            4444   900\n",
      "185065     Jalgaon  18000000.0            6923  2600\n",
      "185505     Jalgaon   2500000.0            2617   955\n",
      "185577     Jalgaon   6000000.0            4285  1400\n",
      "185847     Jalgaon   1500000.0            1616   928\n",
      "186749     Jalgaon   4000000.0            4444   900\n",
      "187367     Jalgaon   2650000.0            4416   600\n",
      "187772     Jalgaon   3000000.0            4285   700\n",
      "187961     Jalgaon   8500000.0            5312  1600\n",
      "188060     Jalgaon   6900000.0            4317  1598\n",
      "188366     Jalgaon   6900000.0            4317  1598\n",
      "189468     Jalgaon   3000000.0            4285   700\n",
      "189573     Jalgaon   4500000.0            4736   950\n",
      " Jalna  -> \n",
      "       region_name      price  value_per_sqft  area\n",
      "152535       Jalna  1600000.0            2461   650\n",
      "184881       Jalna  1000000.0            2222   450\n",
      "189895       Jalna  9500000.0            3958  2400\n",
      " Kolhapur  -> \n",
      "       region_name       price  value_per_sqft  area\n",
      "1429      Kolhapur   1800000.0            3673   490\n",
      "1444      Kolhapur   1800000.0            3673   490\n",
      "1599      Kolhapur   2600000.0            3768   690\n",
      "2578      Kolhapur   3800000.0            3800  1000\n",
      "3115      Kolhapur  13000000.0            6500  2000\n",
      "...            ...         ...             ...   ...\n",
      "187553    Kolhapur   1600000.0            2666   600\n",
      "187957    Kolhapur   3200000.0            5333   600\n",
      "188690    Kolhapur   5200000.0            5777   900\n",
      "189363    Kolhapur   4999000.0            4166  1200\n",
      "189904    Kolhapur   3500000.0            4666   750\n",
      "\n",
      "[88 rows x 4 columns]\n",
      " Latur  -> \n",
      "       region_name      price  value_per_sqft  area\n",
      "181169       Latur  7000000.0            4117  1700\n",
      "181395       Latur  2900000.0            2230  1300\n",
      "182380       Latur  7000000.0            4117  1700\n",
      "182916       Latur  2900000.0            2230  1300\n",
      "183236       Latur  7000000.0            4117  1700\n",
      "185133       Latur  2900000.0            2230  1300\n",
      "187017       Latur  6000000.0            1500  4000\n",
      "190060       Latur  5100000.0            4047  1260\n",
      " Lonikand  -> \n",
      "      region_name      price  value_per_sqft  area\n",
      "88321    Lonikand  3400000.0            3400  1000\n",
      "88334    Lonikand  3400000.0            3400  1000\n",
      "88403    Lonikand  3600000.0            3188  1129\n",
      "88410    Lonikand  3600000.0            3185  1130\n",
      "94409    Lonikand  2600000.0            3504   742\n",
      "94412    Lonikand  2600000.0            3504   742\n",
      "99649    Lonikand  2200000.0            2497   881\n",
      " Mumbai  -> \n",
      "       region_name       price  value_per_sqft  area\n",
      "1           Mumbai   6790000.0           13580   500\n",
      "4           Mumbai   9500000.0           10359   917\n",
      "5           Mumbai   4621000.0            8575   539\n",
      "9           Mumbai   2500000.0            5446   459\n",
      "11          Mumbai  17500000.0           27821   629\n",
      "...            ...         ...             ...   ...\n",
      "191215      Mumbai   7800000.0           14552   536\n",
      "191251      Mumbai   7500000.0           22522   333\n",
      "191252      Mumbai  13500000.0           23397   577\n",
      "191253      Mumbai   9499000.0           22352   425\n",
      "191254      Mumbai   3800000.0            9268   410\n",
      "\n",
      "[128073 rows x 4 columns]\n",
      " Nagpur  -> \n",
      "       region_name       price  value_per_sqft  area\n",
      "383         Nagpur   5100000.0            4304  1185\n",
      "391         Nagpur   5971000.0            4118  1450\n",
      "415         Nagpur   3015000.0            4500   670\n",
      "418         Nagpur   3249000.0            3892   835\n",
      "428         Nagpur   5258000.0            5600   939\n",
      "...            ...         ...             ...   ...\n",
      "191006      Nagpur   6300000.0            3315  1900\n",
      "191007      Nagpur   6000000.0            4000  1500\n",
      "191062      Nagpur   3800000.0            3304  1150\n",
      "191120      Nagpur   3700000.0            4431   835\n",
      "191125      Nagpur  11500000.0            6052  1900\n",
      "\n",
      "[3187 rows x 4 columns]\n",
      " Nanded  -> \n",
      "       region_name       price  value_per_sqft  area\n",
      "157665      Nanded   9900000.0            6187  1600\n",
      "180957      Nanded   3000000.0            4137   725\n",
      "181716      Nanded   6000000.0            4761  1260\n",
      "183020      Nanded   3000000.0            4137   725\n",
      "188634      Nanded   9200000.0            6133  1500\n",
      "189360      Nanded  18000000.0            8372  2150\n",
      " Nandurbar  -> \n",
      "       region_name      price  value_per_sqft  area\n",
      "185021   Nandurbar  2000000.0            4444   450\n",
      " Nashik  -> \n",
      "       region_name       price  value_per_sqft  area\n",
      "0           Nashik   8499000.0            3761  2260\n",
      "7           Nashik   4499000.0            4797   938\n",
      "13          Nashik  38900000.0            7500  5196\n",
      "20          Nashik   8499000.0            3761  2260\n",
      "27          Nashik   4499000.0            4797   938\n",
      "...            ...         ...             ...   ...\n",
      "189951      Nashik   2150000.0            4134   520\n",
      "189990      Nashik  11000000.0            6084  1808\n",
      "190075      Nashik  21000000.0            8400  2500\n",
      "190135      Nashik  11000000.0            6084  1808\n",
      "190884      Nashik   2150000.0            2945   730\n",
      "\n",
      "[782 rows x 4 columns]\n",
      " Nasik  -> \n",
      "       region_name      price  value_per_sqft  area\n",
      "1557         Nasik  3150000.0            3247   970\n",
      "2036         Nasik  2700000.0            3913   690\n",
      "115727       Nasik  3500000.0            3684   950\n",
      "154600       Nasik  4500000.0            3214  1400\n",
      "154628       Nasik  4500000.0            3214  1400\n",
      "157655       Nasik  4411000.0            4411  1000\n",
      "157661       Nasik  4411000.0            2940  1500\n",
      "171910       Nasik  4000000.0            4878   820\n",
      "171938       Nasik  4000000.0            4878   820\n",
      "181396       Nasik  2200000.0            3264   674\n",
      "183690       Nasik  3600000.0            4500   800\n",
      "184199       Nasik  4000000.0            4056   986\n",
      "184314       Nasik  8300000.0            8691   955\n",
      "185134       Nasik  2200000.0            3264   674\n",
      "185195       Nasik  8300000.0            8691   955\n",
      "185213       Nasik  2800000.0            2679  1045\n",
      "186457       Nasik  3500000.0            4117   850\n",
      "188021       Nasik  2500000.0            3164   790\n",
      "188270       Nasik  2500000.0            3164   790\n",
      "188946       Nasik  4000000.0            3902  1025\n",
      "189590       Nasik  7000000.0            5833  1200\n",
      "190043       Nasik  3200000.0            3902   820\n",
      " Osmanabad  -> \n",
      "       region_name      price  value_per_sqft  area\n",
      "181018   Osmanabad  2500000.0            2941   850\n",
      "181630   Osmanabad  2500000.0            2941   850\n",
      "182329   Osmanabad  2500000.0            2941   850\n",
      " Parbhani  -> \n",
      "       region_name      price  value_per_sqft  area\n",
      "166203    Parbhani   850000.0            1478   575\n",
      "185214    Parbhani  1600000.0            2909   550\n",
      " Pune  -> \n",
      "       region_name       price  value_per_sqft  area\n",
      "2             Pune   6030000.0            7811   773\n",
      "3             Pune   3537000.0            7417   477\n",
      "6             Pune  14300000.0           11602  1241\n",
      "8             Pune   4399000.0            5812   757\n",
      "10            Pune   3605000.0            6269   575\n",
      "...            ...         ...             ...   ...\n",
      "191269        Pune   8060000.0            8511   947\n",
      "191270        Pune   4000000.0            8948   448\n",
      "191271        Pune  16800000.0            8931  1887\n",
      "191272        Pune   7500000.0            9778   768\n",
      "191273        Pune   6583000.0            9568   689\n",
      "\n",
      "[57720 rows x 4 columns]\n",
      " Raigad  -> \n",
      "       region_name       price  value_per_sqft  area\n",
      "1907        Raigad   3900000.0            5349   729\n",
      "2017        Raigad   1499000.0            2380   630\n",
      "2049        Raigad   5500000.0            8730   630\n",
      "2190        Raigad   4500000.0            8653   520\n",
      "2271        Raigad  21000000.0           22340   940\n",
      "...            ...         ...             ...   ...\n",
      "189916      Raigad   4000000.0           10000   400\n",
      "190023      Raigad   3600000.0            6000   600\n",
      "190068      Raigad   2000000.0            3091   647\n",
      "190071      Raigad   1600000.0            3106   515\n",
      "190145      Raigad   5800000.0            9666   600\n",
      "\n",
      "[712 rows x 4 columns]\n",
      " Ratnagiri  -> \n",
      "       region_name       price  value_per_sqft  area\n",
      "1615     Ratnagiri   3000000.0            3333   900\n",
      "2482     Ratnagiri   2800000.0            3733   750\n",
      "2729     Ratnagiri   2800000.0            3733   750\n",
      "2845     Ratnagiri   2800000.0            3733   750\n",
      "135399   Ratnagiri   2200000.0            3013   730\n",
      "135659   Ratnagiri   2000000.0            3636   550\n",
      "141950   Ratnagiri   1800000.0            7200   250\n",
      "142559   Ratnagiri   6500000.0            2166  3000\n",
      "143306   Ratnagiri   8500000.0            2125  4000\n",
      "152334   Ratnagiri   5500000.0            3985  1380\n",
      "156052   Ratnagiri   2000000.0            2395   835\n",
      "156952   Ratnagiri   1200000.0            2181   550\n",
      "156958   Ratnagiri   2100000.0            2545   825\n",
      "156990   Ratnagiri   2100000.0            2545   825\n",
      "157956   Ratnagiri  15000000.0            4285  3500\n",
      "158613   Ratnagiri   1699000.0            2718   625\n",
      "158744   Ratnagiri   1699000.0            2718   625\n",
      "159293   Ratnagiri   1699000.0            2718   625\n",
      "165700   Ratnagiri   2000000.0            4246   471\n",
      "168188   Ratnagiri   1400000.0            2276   615\n",
      "168761   Ratnagiri   1400000.0            2276   615\n",
      "168939   Ratnagiri   2600000.0            3250   800\n",
      "177022   Ratnagiri   1600000.0            1720   930\n",
      "177067   Ratnagiri   1600000.0            1720   930\n",
      "179227   Ratnagiri   1600000.0            2930   546\n",
      "179833   Ratnagiri   1850000.0            2841   651\n",
      "181817   Ratnagiri   1150000.0            2987   385\n",
      "182252   Ratnagiri   1550000.0            2640   587\n",
      "183090   Ratnagiri   5000000.0            4166  1200\n",
      "184235   Ratnagiri   1800000.0            2278   790\n",
      "187046   Ratnagiri   3000000.0            2523  1189\n",
      "187103   Ratnagiri   2700000.0            4231   638\n",
      "187593   Ratnagiri   8500000.0            6204  1370\n",
      "187639   Ratnagiri   2200000.0            3793   580\n",
      "187859   Ratnagiri   2699000.0            4231   638\n",
      "188312   Ratnagiri   8500000.0            6204  1370\n",
      "188915   Ratnagiri   2699000.0            4231   638\n",
      "189054   Ratnagiri   2200000.0            3793   580\n",
      "189121   Ratnagiri   3000000.0            2523  1189\n",
      "189302   Ratnagiri   2700000.0            4231   638\n",
      "189543   Ratnagiri   2800000.0            4713   594\n",
      " Sangli  -> \n",
      "       region_name      price  value_per_sqft  area\n",
      "2447        Sangli  3000000.0            3260   920\n",
      "22361       Sangli  2900000.0            5421   536\n",
      "22362       Sangli  3330000.0            5598   595\n",
      "22363       Sangli  5390000.0            5626   959\n",
      "22364       Sangli  3500000.0            5460   642\n",
      "22365       Sangli  3273000.0            5634   582\n",
      "88423       Sangli   800000.0            2105   380\n",
      "150471      Sangli  1850000.0            2960   625\n",
      "150505      Sangli  1850000.0            2960   625\n",
      "158045      Sangli  2550000.0            3187   800\n",
      "165938      Sangli  2600000.0            4000   650\n",
      "165941      Sangli  6600000.0            5500  1200\n",
      "166779      Sangli  3325000.0            3500   950\n",
      "167399      Sangli  3325000.0            3500   950\n",
      "167758      Sangli  4462000.0            3500  1275\n",
      "168015      Sangli  4305000.0            3500  1230\n",
      "168100      Sangli  4305000.0            3500  1230\n",
      "168537      Sangli  2800000.0            3486   803\n",
      "168538      Sangli  2800000.0            3486   803\n",
      "168625      Sangli  2800000.0            3486   803\n",
      "168626      Sangli  2800000.0            3486   803\n",
      "168697      Sangli  4305000.0            3500  1230\n",
      "168721      Sangli  4305000.0            3500  1230\n",
      "174971      Sangli  2550000.0            3187   800\n",
      "175645      Sangli  2800000.0            3030   924\n",
      "181218      Sangli  8000000.0            3200  2500\n",
      "181541      Sangli  5500000.0            5092  1080\n",
      "182310      Sangli  5500000.0            5092  1080\n",
      "183144      Sangli  1800000.0            2400   750\n",
      "183593      Sangli  9900000.0            6600  1500\n",
      "184286      Sangli  8000000.0            3200  2500\n",
      "184386      Sangli  6500000.0            1756  3700\n",
      "184532      Sangli  5500000.0            5092  1080\n",
      "184749      Sangli  2000000.0            2666   750\n",
      "184938      Sangli  5000000.0            4694  1065\n",
      "185200      Sangli  1500000.0            2000   750\n",
      "185459      Sangli  2850000.0            2905   981\n",
      "185929      Sangli  3500000.0            2916  1200\n",
      "187283      Sangli  3700000.0            3982   929\n",
      "187922      Sangli  4680000.0            4800   975\n",
      "188401      Sangli  4680000.0            4800   975\n",
      "188666      Sangli  7200000.0            6000  1200\n",
      "189563      Sangli  3300000.0            3142  1050\n",
      "189708      Sangli  3300000.0            3142  1050\n",
      "189836      Sangli  2500000.0            4464   560\n",
      " Satara  -> \n",
      "       region_name       price  value_per_sqft  area\n",
      "9360        Satara  11100000.0            5550  2000\n",
      "9361        Satara   5500000.0            5500  1000\n",
      "9362        Satara   5099000.0            5368   950\n",
      "9363        Satara   5099000.0            5666   900\n",
      "55733       Satara   1099000.0            2444   450\n",
      "...            ...         ...             ...   ...\n",
      "188556      Satara   1100000.0            2444   450\n",
      "188603      Satara   1100000.0            2444   450\n",
      "188894      Satara   3000000.0            3076   975\n",
      "189627      Satara   1500000.0            2857   525\n",
      "189772      Satara   1500000.0            2857   525\n",
      "\n",
      "[63 rows x 4 columns]\n",
      " Shirdi  -> \n",
      "       region_name      price  value_per_sqft  area\n",
      "143575      Shirdi  1550000.0            2094   740\n",
      " Sindhudurg  -> \n",
      "        region_name       price  value_per_sqft  area\n",
      "1849     Sindhudurg   1600000.0            2461   650\n",
      "68981    Sindhudurg  14000000.0            9333  1500\n",
      "78989    Sindhudurg   1100000.0            2933   375\n",
      "78990    Sindhudurg   1250000.0            3571   350\n",
      "78991    Sindhudurg   2100000.0            3225   651\n",
      "79018    Sindhudurg   1100000.0            2933   375\n",
      "79019    Sindhudurg   1250000.0            3571   350\n",
      "79020    Sindhudurg   2100000.0            3225   651\n",
      "88856    Sindhudurg  14500000.0           10357  1400\n",
      "89246    Sindhudurg  14500000.0           10357  1400\n",
      "135397   Sindhudurg   2400000.0            3587   669\n",
      "135398   Sindhudurg   2400000.0            3587   669\n",
      "153548   Sindhudurg   6500000.0            7558   860\n",
      "155791   Sindhudurg   1680000.0            2871   585\n",
      "156855   Sindhudurg   3700000.0            4926   751\n",
      "156857   Sindhudurg   4800000.0            5234   917\n",
      "156906   Sindhudurg   3700000.0            4926   751\n",
      "156908   Sindhudurg   4800000.0            5234   917\n",
      "157889   Sindhudurg   7000000.0            1000  7000\n",
      "164957   Sindhudurg   1600000.0            2666   600\n",
      "165064   Sindhudurg   1600000.0            2666   600\n",
      "168816   Sindhudurg   1124000.0            2804   401\n",
      "169044   Sindhudurg  40000000.0           11428  3500\n",
      "169151   Sindhudurg  40000000.0           11428  3500\n",
      "172013   Sindhudurg   1975000.0            2417   817\n",
      "172347   Sindhudurg   3000000.0            3529   850\n",
      "172592   Sindhudurg   4419000.0            4446   994\n",
      "172593   Sindhudurg   2810000.0            5091   552\n",
      "178428   Sindhudurg   2350000.0            3391   693\n",
      "180886   Sindhudurg   2000000.0            2857   700\n",
      "181046   Sindhudurg   3000000.0            3571   840\n",
      "181602   Sindhudurg   1700000.0            3148   540\n",
      "184034   Sindhudurg   3900000.0            4252   917\n",
      "184311   Sindhudurg   4400000.0            4798   917\n",
      "184440   Sindhudurg  10000000.0            4761  2100\n",
      "185192   Sindhudurg   4400000.0            4798   917\n",
      "185425   Sindhudurg    900000.0            1800   500\n",
      "186092   Sindhudurg  10000000.0            4761  2100\n",
      "186342   Sindhudurg  10000000.0            4761  2100\n",
      "186516   Sindhudurg   4000000.0            3475  1151\n",
      "186622   Sindhudurg   3900000.0            4252   917\n",
      "187006   Sindhudurg   1700000.0            2125   800\n",
      "187336   Sindhudurg   4000000.0            3475  1151\n",
      "187513   Sindhudurg   1700000.0            2125   800\n",
      "188638   Sindhudurg   4000000.0            3475  1151\n",
      " Solapur  -> \n",
      "       region_name       price  value_per_sqft  area\n",
      "2109       Solapur   1851000.0            2618   707\n",
      "2110       Solapur   2025000.0            2599   779\n",
      "2221       Solapur    999000.0            1665   600\n",
      "143597     Solapur   3600000.0            3600  1000\n",
      "145313     Solapur   1551000.0            3371   460\n",
      "154824     Solapur   4000000.0            3555  1125\n",
      "154897     Solapur   4000000.0            3555  1125\n",
      "155363     Solapur   5100000.0            5100  1000\n",
      "155384     Solapur   5100000.0            5100  1000\n",
      "162457     Solapur   3150000.0            3818   825\n",
      "165189     Solapur   7500000.0            5000  1500\n",
      "165360     Solapur   7500000.0            5000  1500\n",
      "165943     Solapur   6000000.0            6000  1000\n",
      "165951     Solapur  10000000.0            4000  2500\n",
      "165975     Solapur  10000000.0            4000  2500\n",
      "171549     Solapur   4000000.0            3333  1200\n",
      "171605     Solapur   4000000.0            3333  1200\n",
      "172062     Solapur   3600000.0            3600  1000\n",
      "172139     Solapur   3600000.0            3600  1000\n",
      "172169     Solapur   2300000.0            4181   550\n",
      "172664     Solapur   2250000.0            4090   550\n",
      "180340     Solapur   3550000.0            2958  1200\n",
      "180457     Solapur   4000000.0            4081   980\n",
      "181735     Solapur   4200000.0            4077  1030\n",
      "181970     Solapur   4150000.0            3458  1200\n",
      "182228     Solapur   1143000.0            3571   320\n",
      "182384     Solapur   4000000.0            4081   980\n",
      "183204     Solapur  31500000.0           38181   825\n",
      "183240     Solapur   4000000.0            4081   980\n",
      "184065     Solapur   3500000.0            3735   937\n",
      "184561     Solapur   1850000.0            2846   650\n",
      "185209     Solapur   3300000.0            4125   800\n",
      "185598     Solapur   1143000.0            3571   320\n",
      "185835     Solapur   3500000.0            3735   937\n",
      "186486     Solapur   1999000.0            3846   520\n",
      "187651     Solapur   3800000.0            3800  1000\n",
      "187715     Solapur   1999000.0            3846   520\n",
      "187928     Solapur   1400000.0            2456   570\n",
      "187929     Solapur   3150000.0            2692  1170\n",
      "188407     Solapur   1400000.0            2456   570\n",
      "188408     Solapur   3150000.0            2692  1170\n",
      "188434     Solapur   7000000.0            5922  1182\n",
      "188905     Solapur   3500000.0            5000   700\n",
      "189983     Solapur   2900000.0            3314   875\n",
      "190128     Solapur   2900000.0            3314   875\n",
      " Vikramgad  -> \n",
      "       region_name      price  value_per_sqft  area\n",
      "182406   Vikramgad  5000000.0            2500  2000\n",
      "183411   Vikramgad  1700000.0            2428   700\n",
      "187399   Vikramgad  2600000.0            3741   695\n",
      " Wardha  -> \n",
      "       region_name       price  value_per_sqft  area\n",
      "142769      Wardha   1200000.0            1846   650\n",
      "142775      Wardha   1200000.0            1846   650\n",
      "146768      Wardha   2700000.0            2454  1100\n",
      "155108      Wardha  10000000.0           10000  1000\n",
      "165650      Wardha  15000000.0            9375  1600\n",
      "173061      Wardha   3000000.0            2000  1500\n",
      "183273      Wardha   4000000.0            1904  2100\n",
      "185589      Wardha   4000000.0            1904  2100\n",
      "187164      Wardha   6200000.0            2952  2100\n",
      "187389      Wardha   2800000.0            3393   825\n",
      "188514      Wardha   3000000.0            2500  1200\n",
      "190872      Wardha   5000000.0            2631  1900\n",
      " Yavatmal  -> \n",
      "       region_name      price  value_per_sqft  area\n",
      "151524    Yavatmal  6600000.0            2200  3000\n",
      "151652    Yavatmal  8400000.0            4666  1800\n",
      "151681    Yavatmal  8400000.0            4666  1800\n",
      "152192    Yavatmal  4800000.0            2181  2200\n",
      "166685    Yavatmal  2500000.0            2500  1000\n",
      "169240    Yavatmal  7000000.0            5384  1300\n",
      "169285    Yavatmal  7000000.0            5384  1300\n",
      "185202    Yavatmal  3500000.0            2333  1500\n",
      "188993    Yavatmal  9500000.0            7196  1320\n",
      "189456    Yavatmal  9500000.0            7196  1320\n"
     ]
    }
   ],
   "source": [
    "for city,city_data in grpBy:\n",
    "    print(city,\" -> \")\n",
    "    print(city_data)"
   ]
  },
  {
   "cell_type": "code",
   "execution_count": 68,
   "id": "64013f77",
   "metadata": {
    "execution": {
     "iopub.execute_input": "2023-09-02T18:34:00.300548Z",
     "iopub.status.busy": "2023-09-02T18:34:00.300123Z",
     "iopub.status.idle": "2023-09-02T18:34:00.327629Z",
     "shell.execute_reply": "2023-09-02T18:34:00.326493Z"
    },
    "papermill": {
     "duration": 0.068126,
     "end_time": "2023-09-02T18:34:00.329980",
     "exception": false,
     "start_time": "2023-09-02T18:34:00.261854",
     "status": "completed"
    },
    "tags": []
   },
   "outputs": [
    {
     "data": {
      "text/html": [
       "<div>\n",
       "<style scoped>\n",
       "    .dataframe tbody tr th:only-of-type {\n",
       "        vertical-align: middle;\n",
       "    }\n",
       "\n",
       "    .dataframe tbody tr th {\n",
       "        vertical-align: top;\n",
       "    }\n",
       "\n",
       "    .dataframe thead th {\n",
       "        text-align: right;\n",
       "    }\n",
       "</style>\n",
       "<table border=\"1\" class=\"dataframe\">\n",
       "  <thead>\n",
       "    <tr style=\"text-align: right;\">\n",
       "      <th></th>\n",
       "      <th>price</th>\n",
       "      <th>value_per_sqft</th>\n",
       "      <th>area</th>\n",
       "    </tr>\n",
       "    <tr>\n",
       "      <th>region_name</th>\n",
       "      <th></th>\n",
       "      <th></th>\n",
       "      <th></th>\n",
       "    </tr>\n",
       "  </thead>\n",
       "  <tbody>\n",
       "    <tr>\n",
       "      <th>Ahmednagar</th>\n",
       "      <td>30000000.0</td>\n",
       "      <td>8571</td>\n",
       "      <td>5000</td>\n",
       "    </tr>\n",
       "    <tr>\n",
       "      <th>Akola</th>\n",
       "      <td>8500000.0</td>\n",
       "      <td>5441</td>\n",
       "      <td>1562</td>\n",
       "    </tr>\n",
       "    <tr>\n",
       "      <th>Alibaugh</th>\n",
       "      <td>40000000.0</td>\n",
       "      <td>21621</td>\n",
       "      <td>6500</td>\n",
       "    </tr>\n",
       "    <tr>\n",
       "      <th>Amravati</th>\n",
       "      <td>12000000.0</td>\n",
       "      <td>8000</td>\n",
       "      <td>3090</td>\n",
       "    </tr>\n",
       "    <tr>\n",
       "      <th>Aurangabad</th>\n",
       "      <td>90000000.0</td>\n",
       "      <td>16666</td>\n",
       "      <td>10000</td>\n",
       "    </tr>\n",
       "    <tr>\n",
       "      <th>Baramati</th>\n",
       "      <td>4400000.0</td>\n",
       "      <td>3764</td>\n",
       "      <td>1633</td>\n",
       "    </tr>\n",
       "    <tr>\n",
       "      <th>Beed</th>\n",
       "      <td>1600000.0</td>\n",
       "      <td>2909</td>\n",
       "      <td>550</td>\n",
       "    </tr>\n",
       "    <tr>\n",
       "      <th>Bhandara</th>\n",
       "      <td>15000000.0</td>\n",
       "      <td>4769</td>\n",
       "      <td>4000</td>\n",
       "    </tr>\n",
       "    <tr>\n",
       "      <th>Buldana</th>\n",
       "      <td>4500000.0</td>\n",
       "      <td>2812</td>\n",
       "      <td>1600</td>\n",
       "    </tr>\n",
       "    <tr>\n",
       "      <th>Chandrapur</th>\n",
       "      <td>13600000.0</td>\n",
       "      <td>9714</td>\n",
       "      <td>2000</td>\n",
       "    </tr>\n",
       "    <tr>\n",
       "      <th>Dhule</th>\n",
       "      <td>9540000.0</td>\n",
       "      <td>6360</td>\n",
       "      <td>3240</td>\n",
       "    </tr>\n",
       "    <tr>\n",
       "      <th>Hingoli</th>\n",
       "      <td>14000000.0</td>\n",
       "      <td>10769</td>\n",
       "      <td>6600</td>\n",
       "    </tr>\n",
       "    <tr>\n",
       "      <th>Jalgaon</th>\n",
       "      <td>18000000.0</td>\n",
       "      <td>9090</td>\n",
       "      <td>2600</td>\n",
       "    </tr>\n",
       "    <tr>\n",
       "      <th>Jalna</th>\n",
       "      <td>9500000.0</td>\n",
       "      <td>3958</td>\n",
       "      <td>2400</td>\n",
       "    </tr>\n",
       "    <tr>\n",
       "      <th>Kolhapur</th>\n",
       "      <td>18000000.0</td>\n",
       "      <td>10416</td>\n",
       "      <td>2250</td>\n",
       "    </tr>\n",
       "    <tr>\n",
       "      <th>Latur</th>\n",
       "      <td>7000000.0</td>\n",
       "      <td>4117</td>\n",
       "      <td>4000</td>\n",
       "    </tr>\n",
       "    <tr>\n",
       "      <th>Lonikand</th>\n",
       "      <td>3600000.0</td>\n",
       "      <td>3504</td>\n",
       "      <td>1130</td>\n",
       "    </tr>\n",
       "    <tr>\n",
       "      <th>Mumbai</th>\n",
       "      <td>999900000.0</td>\n",
       "      <td>189898</td>\n",
       "      <td>20000</td>\n",
       "    </tr>\n",
       "    <tr>\n",
       "      <th>Nagpur</th>\n",
       "      <td>75000000.0</td>\n",
       "      <td>46052</td>\n",
       "      <td>6000</td>\n",
       "    </tr>\n",
       "    <tr>\n",
       "      <th>Nanded</th>\n",
       "      <td>18000000.0</td>\n",
       "      <td>8372</td>\n",
       "      <td>2150</td>\n",
       "    </tr>\n",
       "    <tr>\n",
       "      <th>Nandurbar</th>\n",
       "      <td>2000000.0</td>\n",
       "      <td>4444</td>\n",
       "      <td>450</td>\n",
       "    </tr>\n",
       "    <tr>\n",
       "      <th>Nashik</th>\n",
       "      <td>50000000.0</td>\n",
       "      <td>12500</td>\n",
       "      <td>6000</td>\n",
       "    </tr>\n",
       "    <tr>\n",
       "      <th>Nasik</th>\n",
       "      <td>8300000.0</td>\n",
       "      <td>8691</td>\n",
       "      <td>1500</td>\n",
       "    </tr>\n",
       "    <tr>\n",
       "      <th>Osmanabad</th>\n",
       "      <td>2500000.0</td>\n",
       "      <td>2941</td>\n",
       "      <td>850</td>\n",
       "    </tr>\n",
       "    <tr>\n",
       "      <th>Parbhani</th>\n",
       "      <td>1600000.0</td>\n",
       "      <td>2909</td>\n",
       "      <td>575</td>\n",
       "    </tr>\n",
       "    <tr>\n",
       "      <th>Pune</th>\n",
       "      <td>240000000.0</td>\n",
       "      <td>40000</td>\n",
       "      <td>12000</td>\n",
       "    </tr>\n",
       "    <tr>\n",
       "      <th>Raigad</th>\n",
       "      <td>21000000.0</td>\n",
       "      <td>23333</td>\n",
       "      <td>7000</td>\n",
       "    </tr>\n",
       "    <tr>\n",
       "      <th>Ratnagiri</th>\n",
       "      <td>15000000.0</td>\n",
       "      <td>7200</td>\n",
       "      <td>4000</td>\n",
       "    </tr>\n",
       "    <tr>\n",
       "      <th>Sangli</th>\n",
       "      <td>9900000.0</td>\n",
       "      <td>6600</td>\n",
       "      <td>3700</td>\n",
       "    </tr>\n",
       "    <tr>\n",
       "      <th>Satara</th>\n",
       "      <td>16000000.0</td>\n",
       "      <td>7142</td>\n",
       "      <td>5500</td>\n",
       "    </tr>\n",
       "    <tr>\n",
       "      <th>Shirdi</th>\n",
       "      <td>1550000.0</td>\n",
       "      <td>2094</td>\n",
       "      <td>740</td>\n",
       "    </tr>\n",
       "    <tr>\n",
       "      <th>Sindhudurg</th>\n",
       "      <td>40000000.0</td>\n",
       "      <td>11428</td>\n",
       "      <td>7000</td>\n",
       "    </tr>\n",
       "    <tr>\n",
       "      <th>Solapur</th>\n",
       "      <td>31500000.0</td>\n",
       "      <td>38181</td>\n",
       "      <td>2500</td>\n",
       "    </tr>\n",
       "    <tr>\n",
       "      <th>Vikramgad</th>\n",
       "      <td>5000000.0</td>\n",
       "      <td>3741</td>\n",
       "      <td>2000</td>\n",
       "    </tr>\n",
       "    <tr>\n",
       "      <th>Wardha</th>\n",
       "      <td>15000000.0</td>\n",
       "      <td>10000</td>\n",
       "      <td>2100</td>\n",
       "    </tr>\n",
       "    <tr>\n",
       "      <th>Yavatmal</th>\n",
       "      <td>9500000.0</td>\n",
       "      <td>7196</td>\n",
       "      <td>3000</td>\n",
       "    </tr>\n",
       "  </tbody>\n",
       "</table>\n",
       "</div>"
      ],
      "text/plain": [
       "                   price  value_per_sqft   area\n",
       "region_name                                    \n",
       " Ahmednagar   30000000.0            8571   5000\n",
       " Akola         8500000.0            5441   1562\n",
       " Alibaugh     40000000.0           21621   6500\n",
       " Amravati     12000000.0            8000   3090\n",
       " Aurangabad   90000000.0           16666  10000\n",
       " Baramati      4400000.0            3764   1633\n",
       " Beed          1600000.0            2909    550\n",
       " Bhandara     15000000.0            4769   4000\n",
       " Buldana       4500000.0            2812   1600\n",
       " Chandrapur   13600000.0            9714   2000\n",
       " Dhule         9540000.0            6360   3240\n",
       " Hingoli      14000000.0           10769   6600\n",
       " Jalgaon      18000000.0            9090   2600\n",
       " Jalna         9500000.0            3958   2400\n",
       " Kolhapur     18000000.0           10416   2250\n",
       " Latur         7000000.0            4117   4000\n",
       " Lonikand      3600000.0            3504   1130\n",
       " Mumbai      999900000.0          189898  20000\n",
       " Nagpur       75000000.0           46052   6000\n",
       " Nanded       18000000.0            8372   2150\n",
       " Nandurbar     2000000.0            4444    450\n",
       " Nashik       50000000.0           12500   6000\n",
       " Nasik         8300000.0            8691   1500\n",
       " Osmanabad     2500000.0            2941    850\n",
       " Parbhani      1600000.0            2909    575\n",
       " Pune        240000000.0           40000  12000\n",
       " Raigad       21000000.0           23333   7000\n",
       " Ratnagiri    15000000.0            7200   4000\n",
       " Sangli        9900000.0            6600   3700\n",
       " Satara       16000000.0            7142   5500\n",
       " Shirdi        1550000.0            2094    740\n",
       " Sindhudurg   40000000.0           11428   7000\n",
       " Solapur      31500000.0           38181   2500\n",
       " Vikramgad     5000000.0            3741   2000\n",
       " Wardha       15000000.0           10000   2100\n",
       " Yavatmal      9500000.0            7196   3000"
      ]
     },
     "execution_count": 68,
     "metadata": {},
     "output_type": "execute_result"
    }
   ],
   "source": [
    "grpBy.max()"
   ]
  },
  {
   "cell_type": "code",
   "execution_count": 69,
   "id": "b5538f2f",
   "metadata": {
    "execution": {
     "iopub.execute_input": "2023-09-02T18:34:00.402272Z",
     "iopub.status.busy": "2023-09-02T18:34:00.401845Z",
     "iopub.status.idle": "2023-09-02T18:34:00.414380Z",
     "shell.execute_reply": "2023-09-02T18:34:00.413278Z"
    },
    "papermill": {
     "duration": 0.051127,
     "end_time": "2023-09-02T18:34:00.416557",
     "exception": false,
     "start_time": "2023-09-02T18:34:00.365430",
     "status": "completed"
    },
    "tags": []
   },
   "outputs": [
    {
     "data": {
      "text/html": [
       "<div>\n",
       "<style scoped>\n",
       "    .dataframe tbody tr th:only-of-type {\n",
       "        vertical-align: middle;\n",
       "    }\n",
       "\n",
       "    .dataframe tbody tr th {\n",
       "        vertical-align: top;\n",
       "    }\n",
       "\n",
       "    .dataframe thead th {\n",
       "        text-align: right;\n",
       "    }\n",
       "</style>\n",
       "<table border=\"1\" class=\"dataframe\">\n",
       "  <thead>\n",
       "    <tr style=\"text-align: right;\">\n",
       "      <th></th>\n",
       "      <th>region_name</th>\n",
       "      <th>price</th>\n",
       "      <th>value_per_sqft</th>\n",
       "      <th>area</th>\n",
       "    </tr>\n",
       "  </thead>\n",
       "  <tbody>\n",
       "    <tr>\n",
       "      <th>0</th>\n",
       "      <td>Nashik</td>\n",
       "      <td>8499000.0</td>\n",
       "      <td>3761</td>\n",
       "      <td>2260</td>\n",
       "    </tr>\n",
       "    <tr>\n",
       "      <th>1</th>\n",
       "      <td>Mumbai</td>\n",
       "      <td>6790000.0</td>\n",
       "      <td>13580</td>\n",
       "      <td>500</td>\n",
       "    </tr>\n",
       "    <tr>\n",
       "      <th>2</th>\n",
       "      <td>Pune</td>\n",
       "      <td>6030000.0</td>\n",
       "      <td>7811</td>\n",
       "      <td>773</td>\n",
       "    </tr>\n",
       "    <tr>\n",
       "      <th>3</th>\n",
       "      <td>Pune</td>\n",
       "      <td>3537000.0</td>\n",
       "      <td>7417</td>\n",
       "      <td>477</td>\n",
       "    </tr>\n",
       "    <tr>\n",
       "      <th>4</th>\n",
       "      <td>Mumbai</td>\n",
       "      <td>9500000.0</td>\n",
       "      <td>10359</td>\n",
       "      <td>917</td>\n",
       "    </tr>\n",
       "  </tbody>\n",
       "</table>\n",
       "</div>"
      ],
      "text/plain": [
       "  region_name      price  value_per_sqft  area\n",
       "0      Nashik  8499000.0            3761  2260\n",
       "1      Mumbai  6790000.0           13580   500\n",
       "2        Pune  6030000.0            7811   773\n",
       "3        Pune  3537000.0            7417   477\n",
       "4      Mumbai  9500000.0           10359   917"
      ]
     },
     "execution_count": 69,
     "metadata": {},
     "output_type": "execute_result"
    }
   ],
   "source": [
    "dataset.head()"
   ]
  },
  {
   "cell_type": "code",
   "execution_count": 70,
   "id": "56989250",
   "metadata": {
    "execution": {
     "iopub.execute_input": "2023-09-02T18:34:00.490054Z",
     "iopub.status.busy": "2023-09-02T18:34:00.488913Z",
     "iopub.status.idle": "2023-09-02T18:34:00.504256Z",
     "shell.execute_reply": "2023-09-02T18:34:00.503360Z"
    },
    "papermill": {
     "duration": 0.054209,
     "end_time": "2023-09-02T18:34:00.506478",
     "exception": false,
     "start_time": "2023-09-02T18:34:00.452269",
     "status": "completed"
    },
    "tags": []
   },
   "outputs": [
    {
     "data": {
      "text/html": [
       "<div>\n",
       "<style scoped>\n",
       "    .dataframe tbody tr th:only-of-type {\n",
       "        vertical-align: middle;\n",
       "    }\n",
       "\n",
       "    .dataframe tbody tr th {\n",
       "        vertical-align: top;\n",
       "    }\n",
       "\n",
       "    .dataframe thead th {\n",
       "        text-align: right;\n",
       "    }\n",
       "</style>\n",
       "<table border=\"1\" class=\"dataframe\">\n",
       "  <thead>\n",
       "    <tr style=\"text-align: right;\">\n",
       "      <th></th>\n",
       "      <th>region_name</th>\n",
       "      <th>price</th>\n",
       "      <th>value_per_sqft</th>\n",
       "      <th>area</th>\n",
       "    </tr>\n",
       "  </thead>\n",
       "  <tbody>\n",
       "    <tr>\n",
       "      <th>63710</th>\n",
       "      <td>Mumbai</td>\n",
       "      <td>80000000.0</td>\n",
       "      <td>5333</td>\n",
       "      <td>15000</td>\n",
       "    </tr>\n",
       "    <tr>\n",
       "      <th>135147</th>\n",
       "      <td>Mumbai</td>\n",
       "      <td>250000000.0</td>\n",
       "      <td>16666</td>\n",
       "      <td>15000</td>\n",
       "    </tr>\n",
       "    <tr>\n",
       "      <th>145593</th>\n",
       "      <td>Mumbai</td>\n",
       "      <td>750000000.0</td>\n",
       "      <td>43893</td>\n",
       "      <td>17087</td>\n",
       "    </tr>\n",
       "    <tr>\n",
       "      <th>145594</th>\n",
       "      <td>Mumbai</td>\n",
       "      <td>800000000.0</td>\n",
       "      <td>44603</td>\n",
       "      <td>17936</td>\n",
       "    </tr>\n",
       "    <tr>\n",
       "      <th>148602</th>\n",
       "      <td>Mumbai</td>\n",
       "      <td>500000000.0</td>\n",
       "      <td>31250</td>\n",
       "      <td>16000</td>\n",
       "    </tr>\n",
       "    <tr>\n",
       "      <th>148604</th>\n",
       "      <td>Mumbai</td>\n",
       "      <td>200000000.0</td>\n",
       "      <td>10526</td>\n",
       "      <td>19000</td>\n",
       "    </tr>\n",
       "    <tr>\n",
       "      <th>148606</th>\n",
       "      <td>Mumbai</td>\n",
       "      <td>500000000.0</td>\n",
       "      <td>26315</td>\n",
       "      <td>19000</td>\n",
       "    </tr>\n",
       "    <tr>\n",
       "      <th>148608</th>\n",
       "      <td>Mumbai</td>\n",
       "      <td>400000000.0</td>\n",
       "      <td>25000</td>\n",
       "      <td>16000</td>\n",
       "    </tr>\n",
       "    <tr>\n",
       "      <th>148615</th>\n",
       "      <td>Mumbai</td>\n",
       "      <td>400000000.0</td>\n",
       "      <td>25000</td>\n",
       "      <td>16000</td>\n",
       "    </tr>\n",
       "    <tr>\n",
       "      <th>177450</th>\n",
       "      <td>Mumbai</td>\n",
       "      <td>999900000.0</td>\n",
       "      <td>49999</td>\n",
       "      <td>20000</td>\n",
       "    </tr>\n",
       "    <tr>\n",
       "      <th>177454</th>\n",
       "      <td>Mumbai</td>\n",
       "      <td>999900000.0</td>\n",
       "      <td>49999</td>\n",
       "      <td>20000</td>\n",
       "    </tr>\n",
       "  </tbody>\n",
       "</table>\n",
       "</div>"
      ],
      "text/plain": [
       "       region_name        price  value_per_sqft   area\n",
       "63710       Mumbai   80000000.0            5333  15000\n",
       "135147      Mumbai  250000000.0           16666  15000\n",
       "145593      Mumbai  750000000.0           43893  17087\n",
       "145594      Mumbai  800000000.0           44603  17936\n",
       "148602      Mumbai  500000000.0           31250  16000\n",
       "148604      Mumbai  200000000.0           10526  19000\n",
       "148606      Mumbai  500000000.0           26315  19000\n",
       "148608      Mumbai  400000000.0           25000  16000\n",
       "148615      Mumbai  400000000.0           25000  16000\n",
       "177450      Mumbai  999900000.0           49999  20000\n",
       "177454      Mumbai  999900000.0           49999  20000"
      ]
     },
     "execution_count": 70,
     "metadata": {},
     "output_type": "execute_result"
    }
   ],
   "source": [
    "dataset[dataset['area'] > 12000]"
   ]
  },
  {
   "cell_type": "code",
   "execution_count": 71,
   "id": "e9d1d677",
   "metadata": {
    "execution": {
     "iopub.execute_input": "2023-09-02T18:34:00.579882Z",
     "iopub.status.busy": "2023-09-02T18:34:00.579339Z",
     "iopub.status.idle": "2023-09-02T18:34:00.584848Z",
     "shell.execute_reply": "2023-09-02T18:34:00.583700Z"
    },
    "papermill": {
     "duration": 0.04493,
     "end_time": "2023-09-02T18:34:00.587208",
     "exception": false,
     "start_time": "2023-09-02T18:34:00.542278",
     "status": "completed"
    },
    "tags": []
   },
   "outputs": [],
   "source": [
    "d = dataset.iloc[0,0]"
   ]
  },
  {
   "cell_type": "code",
   "execution_count": 72,
   "id": "485993bd",
   "metadata": {
    "execution": {
     "iopub.execute_input": "2023-09-02T18:34:00.661930Z",
     "iopub.status.busy": "2023-09-02T18:34:00.661518Z",
     "iopub.status.idle": "2023-09-02T18:34:00.709986Z",
     "shell.execute_reply": "2023-09-02T18:34:00.708929Z"
    },
    "papermill": {
     "duration": 0.088852,
     "end_time": "2023-09-02T18:34:00.712369",
     "exception": false,
     "start_time": "2023-09-02T18:34:00.623517",
     "status": "completed"
    },
    "tags": []
   },
   "outputs": [
    {
     "data": {
      "text/html": [
       "<div>\n",
       "<style scoped>\n",
       "    .dataframe tbody tr th:only-of-type {\n",
       "        vertical-align: middle;\n",
       "    }\n",
       "\n",
       "    .dataframe tbody tr th {\n",
       "        vertical-align: top;\n",
       "    }\n",
       "\n",
       "    .dataframe thead th {\n",
       "        text-align: right;\n",
       "    }\n",
       "</style>\n",
       "<table border=\"1\" class=\"dataframe\">\n",
       "  <thead>\n",
       "    <tr style=\"text-align: right;\">\n",
       "      <th></th>\n",
       "      <th>region_name</th>\n",
       "      <th>price</th>\n",
       "      <th>value_per_sqft</th>\n",
       "      <th>area</th>\n",
       "    </tr>\n",
       "  </thead>\n",
       "  <tbody>\n",
       "    <tr>\n",
       "      <th>1642</th>\n",
       "      <td>Jalgaon</td>\n",
       "      <td>5000000.0</td>\n",
       "      <td>2500</td>\n",
       "      <td>2000</td>\n",
       "    </tr>\n",
       "    <tr>\n",
       "      <th>166680</th>\n",
       "      <td>Jalgaon</td>\n",
       "      <td>3100000.0</td>\n",
       "      <td>1550</td>\n",
       "      <td>2000</td>\n",
       "    </tr>\n",
       "    <tr>\n",
       "      <th>173996</th>\n",
       "      <td>Jalgaon</td>\n",
       "      <td>7800000.0</td>\n",
       "      <td>3120</td>\n",
       "      <td>2500</td>\n",
       "    </tr>\n",
       "    <tr>\n",
       "      <th>181468</th>\n",
       "      <td>Jalgaon</td>\n",
       "      <td>4000000.0</td>\n",
       "      <td>2478</td>\n",
       "      <td>1614</td>\n",
       "    </tr>\n",
       "    <tr>\n",
       "      <th>183284</th>\n",
       "      <td>Jalgaon</td>\n",
       "      <td>15000000.0</td>\n",
       "      <td>9090</td>\n",
       "      <td>1650</td>\n",
       "    </tr>\n",
       "    <tr>\n",
       "      <th>183542</th>\n",
       "      <td>Jalgaon</td>\n",
       "      <td>3600000.0</td>\n",
       "      <td>2250</td>\n",
       "      <td>1600</td>\n",
       "    </tr>\n",
       "    <tr>\n",
       "      <th>185065</th>\n",
       "      <td>Jalgaon</td>\n",
       "      <td>18000000.0</td>\n",
       "      <td>6923</td>\n",
       "      <td>2600</td>\n",
       "    </tr>\n",
       "    <tr>\n",
       "      <th>187961</th>\n",
       "      <td>Jalgaon</td>\n",
       "      <td>8500000.0</td>\n",
       "      <td>5312</td>\n",
       "      <td>1600</td>\n",
       "    </tr>\n",
       "    <tr>\n",
       "      <th>188060</th>\n",
       "      <td>Jalgaon</td>\n",
       "      <td>6900000.0</td>\n",
       "      <td>4317</td>\n",
       "      <td>1598</td>\n",
       "    </tr>\n",
       "    <tr>\n",
       "      <th>188366</th>\n",
       "      <td>Jalgaon</td>\n",
       "      <td>6900000.0</td>\n",
       "      <td>4317</td>\n",
       "      <td>1598</td>\n",
       "    </tr>\n",
       "  </tbody>\n",
       "</table>\n",
       "</div>"
      ],
      "text/plain": [
       "       region_name       price  value_per_sqft  area\n",
       "1642       Jalgaon   5000000.0            2500  2000\n",
       "166680     Jalgaon   3100000.0            1550  2000\n",
       "173996     Jalgaon   7800000.0            3120  2500\n",
       "181468     Jalgaon   4000000.0            2478  1614\n",
       "183284     Jalgaon  15000000.0            9090  1650\n",
       "183542     Jalgaon   3600000.0            2250  1600\n",
       "185065     Jalgaon  18000000.0            6923  2600\n",
       "187961     Jalgaon   8500000.0            5312  1600\n",
       "188060     Jalgaon   6900000.0            4317  1598\n",
       "188366     Jalgaon   6900000.0            4317  1598"
      ]
     },
     "execution_count": 72,
     "metadata": {},
     "output_type": "execute_result"
    }
   ],
   "source": [
    "dataset[(dataset['region_name'] == ' Jalgaon') & (dataset['area'] >= 1500)]"
   ]
  },
  {
   "cell_type": "code",
   "execution_count": 73,
   "id": "d01fd5e5",
   "metadata": {
    "execution": {
     "iopub.execute_input": "2023-09-02T18:34:00.787425Z",
     "iopub.status.busy": "2023-09-02T18:34:00.786276Z",
     "iopub.status.idle": "2023-09-02T18:34:00.793205Z",
     "shell.execute_reply": "2023-09-02T18:34:00.792147Z"
    },
    "papermill": {
     "duration": 0.047244,
     "end_time": "2023-09-02T18:34:00.795608",
     "exception": false,
     "start_time": "2023-09-02T18:34:00.748364",
     "status": "completed"
    },
    "tags": []
   },
   "outputs": [
    {
     "data": {
      "text/plain": [
       "' Nashik'"
      ]
     },
     "execution_count": 73,
     "metadata": {},
     "output_type": "execute_result"
    }
   ],
   "source": [
    "type(d)\n",
    "d"
   ]
  },
  {
   "cell_type": "code",
   "execution_count": 74,
   "id": "c0903c99",
   "metadata": {
    "execution": {
     "iopub.execute_input": "2023-09-02T18:34:00.870569Z",
     "iopub.status.busy": "2023-09-02T18:34:00.870130Z",
     "iopub.status.idle": "2023-09-02T18:34:00.921456Z",
     "shell.execute_reply": "2023-09-02T18:34:00.920188Z"
    },
    "papermill": {
     "duration": 0.091918,
     "end_time": "2023-09-02T18:34:00.923974",
     "exception": false,
     "start_time": "2023-09-02T18:34:00.832056",
     "status": "completed"
    },
    "tags": []
   },
   "outputs": [
    {
     "data": {
      "text/html": [
       "<div>\n",
       "<style scoped>\n",
       "    .dataframe tbody tr th:only-of-type {\n",
       "        vertical-align: middle;\n",
       "    }\n",
       "\n",
       "    .dataframe tbody tr th {\n",
       "        vertical-align: top;\n",
       "    }\n",
       "\n",
       "    .dataframe thead th {\n",
       "        text-align: right;\n",
       "    }\n",
       "</style>\n",
       "<table border=\"1\" class=\"dataframe\">\n",
       "  <thead>\n",
       "    <tr style=\"text-align: right;\">\n",
       "      <th></th>\n",
       "      <th>price</th>\n",
       "      <th>value_per_sqft</th>\n",
       "      <th>area</th>\n",
       "    </tr>\n",
       "  </thead>\n",
       "  <tbody>\n",
       "    <tr>\n",
       "      <th>count</th>\n",
       "      <td>1.912740e+05</td>\n",
       "      <td>191274.000000</td>\n",
       "      <td>191274.000000</td>\n",
       "    </tr>\n",
       "    <tr>\n",
       "      <th>mean</th>\n",
       "      <td>1.389354e+07</td>\n",
       "      <td>12191.690674</td>\n",
       "      <td>1000.162767</td>\n",
       "    </tr>\n",
       "    <tr>\n",
       "      <th>std</th>\n",
       "      <td>3.098177e+07</td>\n",
       "      <td>9506.747248</td>\n",
       "      <td>673.777787</td>\n",
       "    </tr>\n",
       "    <tr>\n",
       "      <th>min</th>\n",
       "      <td>2.200000e+05</td>\n",
       "      <td>600.000000</td>\n",
       "      <td>113.000000</td>\n",
       "    </tr>\n",
       "    <tr>\n",
       "      <th>25%</th>\n",
       "      <td>4.985000e+06</td>\n",
       "      <td>6306.000000</td>\n",
       "      <td>627.000000</td>\n",
       "    </tr>\n",
       "    <tr>\n",
       "      <th>50%</th>\n",
       "      <td>7.919500e+06</td>\n",
       "      <td>9300.000000</td>\n",
       "      <td>856.000000</td>\n",
       "    </tr>\n",
       "    <tr>\n",
       "      <th>75%</th>\n",
       "      <td>1.420000e+07</td>\n",
       "      <td>15384.000000</td>\n",
       "      <td>1140.000000</td>\n",
       "    </tr>\n",
       "    <tr>\n",
       "      <th>max</th>\n",
       "      <td>9.999000e+08</td>\n",
       "      <td>189898.000000</td>\n",
       "      <td>20000.000000</td>\n",
       "    </tr>\n",
       "  </tbody>\n",
       "</table>\n",
       "</div>"
      ],
      "text/plain": [
       "              price  value_per_sqft           area\n",
       "count  1.912740e+05   191274.000000  191274.000000\n",
       "mean   1.389354e+07    12191.690674    1000.162767\n",
       "std    3.098177e+07     9506.747248     673.777787\n",
       "min    2.200000e+05      600.000000     113.000000\n",
       "25%    4.985000e+06     6306.000000     627.000000\n",
       "50%    7.919500e+06     9300.000000     856.000000\n",
       "75%    1.420000e+07    15384.000000    1140.000000\n",
       "max    9.999000e+08   189898.000000   20000.000000"
      ]
     },
     "execution_count": 74,
     "metadata": {},
     "output_type": "execute_result"
    }
   ],
   "source": [
    "dataset.describe()"
   ]
  },
  {
   "cell_type": "code",
   "execution_count": 75,
   "id": "db5414fe",
   "metadata": {
    "execution": {
     "iopub.execute_input": "2023-09-02T18:34:01.004233Z",
     "iopub.status.busy": "2023-09-02T18:34:01.003848Z",
     "iopub.status.idle": "2023-09-02T18:34:01.043064Z",
     "shell.execute_reply": "2023-09-02T18:34:01.041794Z"
    },
    "papermill": {
     "duration": 0.084858,
     "end_time": "2023-09-02T18:34:01.045361",
     "exception": false,
     "start_time": "2023-09-02T18:34:00.960503",
     "status": "completed"
    },
    "tags": []
   },
   "outputs": [
    {
     "name": "stdout",
     "output_type": "stream",
     "text": [
      "<class 'pandas.core.frame.DataFrame'>\n",
      "RangeIndex: 191274 entries, 0 to 191273\n",
      "Data columns (total 4 columns):\n",
      " #   Column          Non-Null Count   Dtype  \n",
      "---  ------          --------------   -----  \n",
      " 0   region_name     191274 non-null  object \n",
      " 1   price           191274 non-null  float64\n",
      " 2   value_per_sqft  191274 non-null  int64  \n",
      " 3   area            191274 non-null  int64  \n",
      "dtypes: float64(1), int64(2), object(1)\n",
      "memory usage: 5.8+ MB\n"
     ]
    }
   ],
   "source": [
    "dataset.info()"
   ]
  },
  {
   "cell_type": "code",
   "execution_count": 76,
   "id": "5736178f",
   "metadata": {
    "execution": {
     "iopub.execute_input": "2023-09-02T18:34:01.122103Z",
     "iopub.status.busy": "2023-09-02T18:34:01.121683Z",
     "iopub.status.idle": "2023-09-02T18:34:01.125887Z",
     "shell.execute_reply": "2023-09-02T18:34:01.124967Z"
    },
    "papermill": {
     "duration": 0.045172,
     "end_time": "2023-09-02T18:34:01.128043",
     "exception": false,
     "start_time": "2023-09-02T18:34:01.082871",
     "status": "completed"
    },
    "tags": []
   },
   "outputs": [],
   "source": [
    "# This is about pandas to explore more refer Cheatsheet or Pandas.org official documentation"
   ]
  }
 ],
 "kernelspec": {
  "display_name": "Python 3",
  "language": "python",
  "name": "python3"
 },
 "language_info": {
  "codemirror_mode": {
   "name": "ipython",
   "version": 3
  },
  "file_extension": ".py",
  "mimetype": "text/x-python",
  "name": "python",
  "nbconvert_exporter": "python",
  "pygments_lexer": "ipython3",
  "version": "3.6.4"
 },
 "metadata": {
  "kernelspec": {
   "display_name": "Python 3",
   "language": "python",
   "name": "python3"
  },
  "language_info": {
   "codemirror_mode": {
    "name": "ipython",
    "version": 3
   },
   "file_extension": ".py",
   "mimetype": "text/x-python",
   "name": "python",
   "nbconvert_exporter": "python",
   "pygments_lexer": "ipython3",
   "version": "3.10.12"
  },
  "papermill": {
   "default_parameters": {},
   "duration": 13.280717,
   "end_time": "2023-09-02T18:34:01.787010",
   "environment_variables": {},
   "exception": null,
   "input_path": "__notebook__.ipynb",
   "output_path": "__notebook__.ipynb",
   "parameters": {},
   "start_time": "2023-09-02T18:33:48.506293",
   "version": "2.4.0"
  }
 },
 "nbformat": 4,
 "nbformat_minor": 5
}
