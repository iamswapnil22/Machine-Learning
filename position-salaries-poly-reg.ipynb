{
 "cells": [
  {
   "cell_type": "markdown",
   "id": "f9a46747",
   "metadata": {
    "id": "vN99YjPTDena",
    "papermill": {
     "duration": 0.00728,
     "end_time": "2023-08-30T10:52:39.656660",
     "exception": false,
     "start_time": "2023-08-30T10:52:39.649380",
     "status": "completed"
    },
    "tags": []
   },
   "source": [
    "# Polynomial Regression"
   ]
  },
  {
   "cell_type": "markdown",
   "id": "28d7b20f",
   "metadata": {
    "id": "ZIx_naXnDyHd",
    "papermill": {
     "duration": 0.006516,
     "end_time": "2023-08-30T10:52:39.670732",
     "exception": false,
     "start_time": "2023-08-30T10:52:39.664216",
     "status": "completed"
    },
    "tags": []
   },
   "source": [
    "## Importing the libraries"
   ]
  },
  {
   "cell_type": "code",
   "execution_count": 1,
   "id": "a653677e",
   "metadata": {
    "execution": {
     "iopub.execute_input": "2023-08-30T10:52:39.685672Z",
     "iopub.status.busy": "2023-08-30T10:52:39.684881Z",
     "iopub.status.idle": "2023-08-30T10:52:39.697665Z",
     "shell.execute_reply": "2023-08-30T10:52:39.696791Z"
    },
    "papermill": {
     "duration": 0.022881,
     "end_time": "2023-08-30T10:52:39.700046",
     "exception": false,
     "start_time": "2023-08-30T10:52:39.677165",
     "status": "completed"
    },
    "tags": []
   },
   "outputs": [],
   "source": [
    "import pandas as pd\n",
    "import numpy as np\n",
    "import matplotlib.pyplot as plt"
   ]
  },
  {
   "cell_type": "markdown",
   "id": "5d294338",
   "metadata": {
    "id": "6c8YExmOD5x5",
    "papermill": {
     "duration": 0.007089,
     "end_time": "2023-08-30T10:52:39.714244",
     "exception": false,
     "start_time": "2023-08-30T10:52:39.707155",
     "status": "completed"
    },
    "tags": []
   },
   "source": [
    "## Importing the dataset"
   ]
  },
  {
   "cell_type": "code",
   "execution_count": 2,
   "id": "53a45132",
   "metadata": {
    "execution": {
     "iopub.execute_input": "2023-08-30T10:52:39.728996Z",
     "iopub.status.busy": "2023-08-30T10:52:39.728631Z",
     "iopub.status.idle": "2023-08-30T10:52:39.757684Z",
     "shell.execute_reply": "2023-08-30T10:52:39.755758Z"
    },
    "papermill": {
     "duration": 0.039164,
     "end_time": "2023-08-30T10:52:39.760115",
     "exception": false,
     "start_time": "2023-08-30T10:52:39.720951",
     "status": "completed"
    },
    "tags": []
   },
   "outputs": [],
   "source": [
    "df = pd.read_csv('/kaggle/input/position-salaries/CBD64F0F-77F6-42A5-A1AF-4925868EECBC_Position_Salaries.csv')\n",
    "X = df.iloc[:,1].values\n",
    "y = df.iloc[:,-1].values"
   ]
  },
  {
   "cell_type": "code",
   "execution_count": 3,
   "id": "e9772a88",
   "metadata": {
    "execution": {
     "iopub.execute_input": "2023-08-30T10:52:39.777357Z",
     "iopub.status.busy": "2023-08-30T10:52:39.776944Z",
     "iopub.status.idle": "2023-08-30T10:52:39.784731Z",
     "shell.execute_reply": "2023-08-30T10:52:39.783486Z"
    },
    "papermill": {
     "duration": 0.021139,
     "end_time": "2023-08-30T10:52:39.788191",
     "exception": false,
     "start_time": "2023-08-30T10:52:39.767052",
     "status": "completed"
    },
    "tags": []
   },
   "outputs": [
    {
     "name": "stdout",
     "output_type": "stream",
     "text": [
      "[ 1  2  3  4  5  6  7  8  9 10]\n"
     ]
    }
   ],
   "source": [
    "print(X)"
   ]
  },
  {
   "cell_type": "code",
   "execution_count": 4,
   "id": "a6d4f1fa",
   "metadata": {
    "execution": {
     "iopub.execute_input": "2023-08-30T10:52:39.804434Z",
     "iopub.status.busy": "2023-08-30T10:52:39.804047Z",
     "iopub.status.idle": "2023-08-30T10:52:39.809115Z",
     "shell.execute_reply": "2023-08-30T10:52:39.808348Z"
    },
    "papermill": {
     "duration": 0.015389,
     "end_time": "2023-08-30T10:52:39.811098",
     "exception": false,
     "start_time": "2023-08-30T10:52:39.795709",
     "status": "completed"
    },
    "tags": []
   },
   "outputs": [
    {
     "name": "stdout",
     "output_type": "stream",
     "text": [
      "[  45000   50000   60000   80000  110000  150000  200000  300000  500000\n",
      " 1000000]\n"
     ]
    }
   ],
   "source": [
    "print(y)"
   ]
  },
  {
   "cell_type": "markdown",
   "id": "ef634af8",
   "metadata": {
    "papermill": {
     "duration": 0.006505,
     "end_time": "2023-08-30T10:52:39.824485",
     "exception": false,
     "start_time": "2023-08-30T10:52:39.817980",
     "status": "completed"
    },
    "tags": []
   },
   "source": [
    "## Checking for Null Values"
   ]
  },
  {
   "cell_type": "code",
   "execution_count": 5,
   "id": "b785f184",
   "metadata": {
    "execution": {
     "iopub.execute_input": "2023-08-30T10:52:39.839772Z",
     "iopub.status.busy": "2023-08-30T10:52:39.839429Z",
     "iopub.status.idle": "2023-08-30T10:52:39.860565Z",
     "shell.execute_reply": "2023-08-30T10:52:39.858939Z"
    },
    "papermill": {
     "duration": 0.031136,
     "end_time": "2023-08-30T10:52:39.862577",
     "exception": false,
     "start_time": "2023-08-30T10:52:39.831441",
     "status": "completed"
    },
    "tags": []
   },
   "outputs": [
    {
     "data": {
      "text/plain": [
       "Position    0\n",
       "Level       0\n",
       "Salary      0\n",
       "dtype: int64"
      ]
     },
     "execution_count": 5,
     "metadata": {},
     "output_type": "execute_result"
    }
   ],
   "source": [
    "df.isnull().sum()"
   ]
  },
  {
   "cell_type": "code",
   "execution_count": 6,
   "id": "410e9de3",
   "metadata": {
    "execution": {
     "iopub.execute_input": "2023-08-30T10:52:39.878250Z",
     "iopub.status.busy": "2023-08-30T10:52:39.877906Z",
     "iopub.status.idle": "2023-08-30T10:52:39.904529Z",
     "shell.execute_reply": "2023-08-30T10:52:39.903080Z"
    },
    "papermill": {
     "duration": 0.037298,
     "end_time": "2023-08-30T10:52:39.906943",
     "exception": false,
     "start_time": "2023-08-30T10:52:39.869645",
     "status": "completed"
    },
    "tags": []
   },
   "outputs": [
    {
     "data": {
      "text/html": [
       "<div>\n",
       "<style scoped>\n",
       "    .dataframe tbody tr th:only-of-type {\n",
       "        vertical-align: middle;\n",
       "    }\n",
       "\n",
       "    .dataframe tbody tr th {\n",
       "        vertical-align: top;\n",
       "    }\n",
       "\n",
       "    .dataframe thead th {\n",
       "        text-align: right;\n",
       "    }\n",
       "</style>\n",
       "<table border=\"1\" class=\"dataframe\">\n",
       "  <thead>\n",
       "    <tr style=\"text-align: right;\">\n",
       "      <th></th>\n",
       "      <th>Level</th>\n",
       "      <th>Salary</th>\n",
       "    </tr>\n",
       "  </thead>\n",
       "  <tbody>\n",
       "    <tr>\n",
       "      <th>count</th>\n",
       "      <td>10.00000</td>\n",
       "      <td>10.000000</td>\n",
       "    </tr>\n",
       "    <tr>\n",
       "      <th>mean</th>\n",
       "      <td>5.50000</td>\n",
       "      <td>249500.000000</td>\n",
       "    </tr>\n",
       "    <tr>\n",
       "      <th>std</th>\n",
       "      <td>3.02765</td>\n",
       "      <td>299373.883668</td>\n",
       "    </tr>\n",
       "    <tr>\n",
       "      <th>min</th>\n",
       "      <td>1.00000</td>\n",
       "      <td>45000.000000</td>\n",
       "    </tr>\n",
       "    <tr>\n",
       "      <th>25%</th>\n",
       "      <td>3.25000</td>\n",
       "      <td>65000.000000</td>\n",
       "    </tr>\n",
       "    <tr>\n",
       "      <th>50%</th>\n",
       "      <td>5.50000</td>\n",
       "      <td>130000.000000</td>\n",
       "    </tr>\n",
       "    <tr>\n",
       "      <th>75%</th>\n",
       "      <td>7.75000</td>\n",
       "      <td>275000.000000</td>\n",
       "    </tr>\n",
       "    <tr>\n",
       "      <th>max</th>\n",
       "      <td>10.00000</td>\n",
       "      <td>1000000.000000</td>\n",
       "    </tr>\n",
       "  </tbody>\n",
       "</table>\n",
       "</div>"
      ],
      "text/plain": [
       "          Level          Salary\n",
       "count  10.00000       10.000000\n",
       "mean    5.50000   249500.000000\n",
       "std     3.02765   299373.883668\n",
       "min     1.00000    45000.000000\n",
       "25%     3.25000    65000.000000\n",
       "50%     5.50000   130000.000000\n",
       "75%     7.75000   275000.000000\n",
       "max    10.00000  1000000.000000"
      ]
     },
     "execution_count": 6,
     "metadata": {},
     "output_type": "execute_result"
    }
   ],
   "source": [
    "df.describe()"
   ]
  },
  {
   "cell_type": "markdown",
   "id": "8953ea57",
   "metadata": {
    "id": "Le8SEL-YEOLb",
    "papermill": {
     "duration": 0.007871,
     "end_time": "2023-08-30T10:52:39.922512",
     "exception": false,
     "start_time": "2023-08-30T10:52:39.914641",
     "status": "completed"
    },
    "tags": []
   },
   "source": [
    "## Training the Linear Regression model on the whole dataset"
   ]
  },
  {
   "cell_type": "code",
   "execution_count": 7,
   "id": "24307c4f",
   "metadata": {
    "execution": {
     "iopub.execute_input": "2023-08-30T10:52:39.940406Z",
     "iopub.status.busy": "2023-08-30T10:52:39.939964Z",
     "iopub.status.idle": "2023-08-30T10:52:41.558582Z",
     "shell.execute_reply": "2023-08-30T10:52:41.557025Z"
    },
    "papermill": {
     "duration": 1.631114,
     "end_time": "2023-08-30T10:52:41.561166",
     "exception": false,
     "start_time": "2023-08-30T10:52:39.930052",
     "status": "completed"
    },
    "tags": []
   },
   "outputs": [
    {
     "name": "stderr",
     "output_type": "stream",
     "text": [
      "/opt/conda/lib/python3.10/site-packages/scipy/__init__.py:146: UserWarning: A NumPy version >=1.16.5 and <1.23.0 is required for this version of SciPy (detected version 1.23.5\n",
      "  warnings.warn(f\"A NumPy version >={np_minversion} and <{np_maxversion}\"\n"
     ]
    },
    {
     "data": {
      "text/html": [
       "<style>#sk-container-id-1 {color: black;background-color: white;}#sk-container-id-1 pre{padding: 0;}#sk-container-id-1 div.sk-toggleable {background-color: white;}#sk-container-id-1 label.sk-toggleable__label {cursor: pointer;display: block;width: 100%;margin-bottom: 0;padding: 0.3em;box-sizing: border-box;text-align: center;}#sk-container-id-1 label.sk-toggleable__label-arrow:before {content: \"▸\";float: left;margin-right: 0.25em;color: #696969;}#sk-container-id-1 label.sk-toggleable__label-arrow:hover:before {color: black;}#sk-container-id-1 div.sk-estimator:hover label.sk-toggleable__label-arrow:before {color: black;}#sk-container-id-1 div.sk-toggleable__content {max-height: 0;max-width: 0;overflow: hidden;text-align: left;background-color: #f0f8ff;}#sk-container-id-1 div.sk-toggleable__content pre {margin: 0.2em;color: black;border-radius: 0.25em;background-color: #f0f8ff;}#sk-container-id-1 input.sk-toggleable__control:checked~div.sk-toggleable__content {max-height: 200px;max-width: 100%;overflow: auto;}#sk-container-id-1 input.sk-toggleable__control:checked~label.sk-toggleable__label-arrow:before {content: \"▾\";}#sk-container-id-1 div.sk-estimator input.sk-toggleable__control:checked~label.sk-toggleable__label {background-color: #d4ebff;}#sk-container-id-1 div.sk-label input.sk-toggleable__control:checked~label.sk-toggleable__label {background-color: #d4ebff;}#sk-container-id-1 input.sk-hidden--visually {border: 0;clip: rect(1px 1px 1px 1px);clip: rect(1px, 1px, 1px, 1px);height: 1px;margin: -1px;overflow: hidden;padding: 0;position: absolute;width: 1px;}#sk-container-id-1 div.sk-estimator {font-family: monospace;background-color: #f0f8ff;border: 1px dotted black;border-radius: 0.25em;box-sizing: border-box;margin-bottom: 0.5em;}#sk-container-id-1 div.sk-estimator:hover {background-color: #d4ebff;}#sk-container-id-1 div.sk-parallel-item::after {content: \"\";width: 100%;border-bottom: 1px solid gray;flex-grow: 1;}#sk-container-id-1 div.sk-label:hover label.sk-toggleable__label {background-color: #d4ebff;}#sk-container-id-1 div.sk-serial::before {content: \"\";position: absolute;border-left: 1px solid gray;box-sizing: border-box;top: 0;bottom: 0;left: 50%;z-index: 0;}#sk-container-id-1 div.sk-serial {display: flex;flex-direction: column;align-items: center;background-color: white;padding-right: 0.2em;padding-left: 0.2em;position: relative;}#sk-container-id-1 div.sk-item {position: relative;z-index: 1;}#sk-container-id-1 div.sk-parallel {display: flex;align-items: stretch;justify-content: center;background-color: white;position: relative;}#sk-container-id-1 div.sk-item::before, #sk-container-id-1 div.sk-parallel-item::before {content: \"\";position: absolute;border-left: 1px solid gray;box-sizing: border-box;top: 0;bottom: 0;left: 50%;z-index: -1;}#sk-container-id-1 div.sk-parallel-item {display: flex;flex-direction: column;z-index: 1;position: relative;background-color: white;}#sk-container-id-1 div.sk-parallel-item:first-child::after {align-self: flex-end;width: 50%;}#sk-container-id-1 div.sk-parallel-item:last-child::after {align-self: flex-start;width: 50%;}#sk-container-id-1 div.sk-parallel-item:only-child::after {width: 0;}#sk-container-id-1 div.sk-dashed-wrapped {border: 1px dashed gray;margin: 0 0.4em 0.5em 0.4em;box-sizing: border-box;padding-bottom: 0.4em;background-color: white;}#sk-container-id-1 div.sk-label label {font-family: monospace;font-weight: bold;display: inline-block;line-height: 1.2em;}#sk-container-id-1 div.sk-label-container {text-align: center;}#sk-container-id-1 div.sk-container {/* jupyter's `normalize.less` sets `[hidden] { display: none; }` but bootstrap.min.css set `[hidden] { display: none !important; }` so we also need the `!important` here to be able to override the default hidden behavior on the sphinx rendered scikit-learn.org. See: https://github.com/scikit-learn/scikit-learn/issues/21755 */display: inline-block !important;position: relative;}#sk-container-id-1 div.sk-text-repr-fallback {display: none;}</style><div id=\"sk-container-id-1\" class=\"sk-top-container\"><div class=\"sk-text-repr-fallback\"><pre>LinearRegression()</pre><b>In a Jupyter environment, please rerun this cell to show the HTML representation or trust the notebook. <br />On GitHub, the HTML representation is unable to render, please try loading this page with nbviewer.org.</b></div><div class=\"sk-container\" hidden><div class=\"sk-item\"><div class=\"sk-estimator sk-toggleable\"><input class=\"sk-toggleable__control sk-hidden--visually\" id=\"sk-estimator-id-1\" type=\"checkbox\" checked><label for=\"sk-estimator-id-1\" class=\"sk-toggleable__label sk-toggleable__label-arrow\">LinearRegression</label><div class=\"sk-toggleable__content\"><pre>LinearRegression()</pre></div></div></div></div></div>"
      ],
      "text/plain": [
       "LinearRegression()"
      ]
     },
     "execution_count": 7,
     "metadata": {},
     "output_type": "execute_result"
    }
   ],
   "source": [
    "from sklearn.linear_model import LinearRegression \n",
    "lin_reg = LinearRegression()\n",
    "lin_reg.fit(X.reshape(-1,1),y.reshape(-1,1))"
   ]
  },
  {
   "cell_type": "markdown",
   "id": "6cb665a0",
   "metadata": {
    "id": "Rb5nWuSHEfBV",
    "papermill": {
     "duration": 0.007343,
     "end_time": "2023-08-30T10:52:41.576129",
     "exception": false,
     "start_time": "2023-08-30T10:52:41.568786",
     "status": "completed"
    },
    "tags": []
   },
   "source": [
    "## Training the Polynomial Regression model on the whole dataset"
   ]
  },
  {
   "cell_type": "code",
   "execution_count": 8,
   "id": "ceae4488",
   "metadata": {
    "execution": {
     "iopub.execute_input": "2023-08-30T10:52:41.593140Z",
     "iopub.status.busy": "2023-08-30T10:52:41.592673Z",
     "iopub.status.idle": "2023-08-30T10:52:41.608950Z",
     "shell.execute_reply": "2023-08-30T10:52:41.607586Z"
    },
    "papermill": {
     "duration": 0.027329,
     "end_time": "2023-08-30T10:52:41.611191",
     "exception": false,
     "start_time": "2023-08-30T10:52:41.583862",
     "status": "completed"
    },
    "tags": []
   },
   "outputs": [
    {
     "data": {
      "text/html": [
       "<style>#sk-container-id-2 {color: black;background-color: white;}#sk-container-id-2 pre{padding: 0;}#sk-container-id-2 div.sk-toggleable {background-color: white;}#sk-container-id-2 label.sk-toggleable__label {cursor: pointer;display: block;width: 100%;margin-bottom: 0;padding: 0.3em;box-sizing: border-box;text-align: center;}#sk-container-id-2 label.sk-toggleable__label-arrow:before {content: \"▸\";float: left;margin-right: 0.25em;color: #696969;}#sk-container-id-2 label.sk-toggleable__label-arrow:hover:before {color: black;}#sk-container-id-2 div.sk-estimator:hover label.sk-toggleable__label-arrow:before {color: black;}#sk-container-id-2 div.sk-toggleable__content {max-height: 0;max-width: 0;overflow: hidden;text-align: left;background-color: #f0f8ff;}#sk-container-id-2 div.sk-toggleable__content pre {margin: 0.2em;color: black;border-radius: 0.25em;background-color: #f0f8ff;}#sk-container-id-2 input.sk-toggleable__control:checked~div.sk-toggleable__content {max-height: 200px;max-width: 100%;overflow: auto;}#sk-container-id-2 input.sk-toggleable__control:checked~label.sk-toggleable__label-arrow:before {content: \"▾\";}#sk-container-id-2 div.sk-estimator input.sk-toggleable__control:checked~label.sk-toggleable__label {background-color: #d4ebff;}#sk-container-id-2 div.sk-label input.sk-toggleable__control:checked~label.sk-toggleable__label {background-color: #d4ebff;}#sk-container-id-2 input.sk-hidden--visually {border: 0;clip: rect(1px 1px 1px 1px);clip: rect(1px, 1px, 1px, 1px);height: 1px;margin: -1px;overflow: hidden;padding: 0;position: absolute;width: 1px;}#sk-container-id-2 div.sk-estimator {font-family: monospace;background-color: #f0f8ff;border: 1px dotted black;border-radius: 0.25em;box-sizing: border-box;margin-bottom: 0.5em;}#sk-container-id-2 div.sk-estimator:hover {background-color: #d4ebff;}#sk-container-id-2 div.sk-parallel-item::after {content: \"\";width: 100%;border-bottom: 1px solid gray;flex-grow: 1;}#sk-container-id-2 div.sk-label:hover label.sk-toggleable__label {background-color: #d4ebff;}#sk-container-id-2 div.sk-serial::before {content: \"\";position: absolute;border-left: 1px solid gray;box-sizing: border-box;top: 0;bottom: 0;left: 50%;z-index: 0;}#sk-container-id-2 div.sk-serial {display: flex;flex-direction: column;align-items: center;background-color: white;padding-right: 0.2em;padding-left: 0.2em;position: relative;}#sk-container-id-2 div.sk-item {position: relative;z-index: 1;}#sk-container-id-2 div.sk-parallel {display: flex;align-items: stretch;justify-content: center;background-color: white;position: relative;}#sk-container-id-2 div.sk-item::before, #sk-container-id-2 div.sk-parallel-item::before {content: \"\";position: absolute;border-left: 1px solid gray;box-sizing: border-box;top: 0;bottom: 0;left: 50%;z-index: -1;}#sk-container-id-2 div.sk-parallel-item {display: flex;flex-direction: column;z-index: 1;position: relative;background-color: white;}#sk-container-id-2 div.sk-parallel-item:first-child::after {align-self: flex-end;width: 50%;}#sk-container-id-2 div.sk-parallel-item:last-child::after {align-self: flex-start;width: 50%;}#sk-container-id-2 div.sk-parallel-item:only-child::after {width: 0;}#sk-container-id-2 div.sk-dashed-wrapped {border: 1px dashed gray;margin: 0 0.4em 0.5em 0.4em;box-sizing: border-box;padding-bottom: 0.4em;background-color: white;}#sk-container-id-2 div.sk-label label {font-family: monospace;font-weight: bold;display: inline-block;line-height: 1.2em;}#sk-container-id-2 div.sk-label-container {text-align: center;}#sk-container-id-2 div.sk-container {/* jupyter's `normalize.less` sets `[hidden] { display: none; }` but bootstrap.min.css set `[hidden] { display: none !important; }` so we also need the `!important` here to be able to override the default hidden behavior on the sphinx rendered scikit-learn.org. See: https://github.com/scikit-learn/scikit-learn/issues/21755 */display: inline-block !important;position: relative;}#sk-container-id-2 div.sk-text-repr-fallback {display: none;}</style><div id=\"sk-container-id-2\" class=\"sk-top-container\"><div class=\"sk-text-repr-fallback\"><pre>LinearRegression()</pre><b>In a Jupyter environment, please rerun this cell to show the HTML representation or trust the notebook. <br />On GitHub, the HTML representation is unable to render, please try loading this page with nbviewer.org.</b></div><div class=\"sk-container\" hidden><div class=\"sk-item\"><div class=\"sk-estimator sk-toggleable\"><input class=\"sk-toggleable__control sk-hidden--visually\" id=\"sk-estimator-id-2\" type=\"checkbox\" checked><label for=\"sk-estimator-id-2\" class=\"sk-toggleable__label sk-toggleable__label-arrow\">LinearRegression</label><div class=\"sk-toggleable__content\"><pre>LinearRegression()</pre></div></div></div></div></div>"
      ],
      "text/plain": [
       "LinearRegression()"
      ]
     },
     "execution_count": 8,
     "metadata": {},
     "output_type": "execute_result"
    }
   ],
   "source": [
    "from sklearn.preprocessing import PolynomialFeatures\n",
    "poly = PolynomialFeatures(degree=4)\n",
    "X_poly = poly.fit_transform(X.reshape(-1,1))\n",
    "lin_reg_poly = LinearRegression()\n",
    "lin_reg_poly.fit(X_poly,y)"
   ]
  },
  {
   "cell_type": "markdown",
   "id": "6cb0283d",
   "metadata": {
    "id": "0O8R0tzbEpvy",
    "papermill": {
     "duration": 0.007237,
     "end_time": "2023-08-30T10:52:41.626309",
     "exception": false,
     "start_time": "2023-08-30T10:52:41.619072",
     "status": "completed"
    },
    "tags": []
   },
   "source": [
    "## Visualising the Linear Regression results"
   ]
  },
  {
   "cell_type": "code",
   "execution_count": 9,
   "id": "2a734fa0",
   "metadata": {
    "execution": {
     "iopub.execute_input": "2023-08-30T10:52:41.643022Z",
     "iopub.status.busy": "2023-08-30T10:52:41.642656Z",
     "iopub.status.idle": "2023-08-30T10:52:41.890364Z",
     "shell.execute_reply": "2023-08-30T10:52:41.889365Z"
    },
    "papermill": {
     "duration": 0.258529,
     "end_time": "2023-08-30T10:52:41.892263",
     "exception": false,
     "start_time": "2023-08-30T10:52:41.633734",
     "status": "completed"
    },
    "tags": []
   },
   "outputs": [
    {
     "data": {
      "image/png": "[encoded data removed]",
      "text/plain": [
       "<Figure size 640x480 with 1 Axes>"
      ]
     },
     "metadata": {},
     "output_type": "display_data"
    }
   ],
   "source": [
    "plt.scatter(X.reshape(-1,1),y.reshape(-1,1), color='red')\n",
    "plt.plot(X.reshape(-1,1), lin_reg.predict(X.reshape(-1,1)), color='blue')\n",
    "plt.title('Truth or Bluff (Simple Linear Regression) ')\n",
    "plt.xlabel(\"Level\")\n",
    "plt.ylabel(\"Salary\")\n",
    "plt.show()"
   ]
  },
  {
   "cell_type": "markdown",
   "id": "d1132526",
   "metadata": {
    "id": "stOnSo74E52m",
    "papermill": {
     "duration": 0.007856,
     "end_time": "2023-08-30T10:52:41.908468",
     "exception": false,
     "start_time": "2023-08-30T10:52:41.900612",
     "status": "completed"
    },
    "tags": []
   },
   "source": [
    "## Visualising the Polynomial Regression results"
   ]
  },
  {
   "cell_type": "code",
   "execution_count": 10,
   "id": "03f1da12",
   "metadata": {
    "execution": {
     "iopub.execute_input": "2023-08-30T10:52:41.926254Z",
     "iopub.status.busy": "2023-08-30T10:52:41.925869Z",
     "iopub.status.idle": "2023-08-30T10:52:41.933417Z",
     "shell.execute_reply": "2023-08-30T10:52:41.932292Z"
    },
    "papermill": {
     "duration": 0.019514,
     "end_time": "2023-08-30T10:52:41.935831",
     "exception": false,
     "start_time": "2023-08-30T10:52:41.916317",
     "status": "completed"
    },
    "tags": []
   },
   "outputs": [
    {
     "data": {
      "text/plain": [
       "array([[1.000e+00, 1.000e+00, 1.000e+00, 1.000e+00, 1.000e+00],\n",
       "       [1.000e+00, 2.000e+00, 4.000e+00, 8.000e+00, 1.600e+01],\n",
       "       [1.000e+00, 3.000e+00, 9.000e+00, 2.700e+01, 8.100e+01],\n",
       "       [1.000e+00, 4.000e+00, 1.600e+01, 6.400e+01, 2.560e+02],\n",
       "       [1.000e+00, 5.000e+00, 2.500e+01, 1.250e+02, 6.250e+02],\n",
       "       [1.000e+00, 6.000e+00, 3.600e+01, 2.160e+02, 1.296e+03],\n",
       "       [1.000e+00, 7.000e+00, 4.900e+01, 3.430e+02, 2.401e+03],\n",
       "       [1.000e+00, 8.000e+00, 6.400e+01, 5.120e+02, 4.096e+03],\n",
       "       [1.000e+00, 9.000e+00, 8.100e+01, 7.290e+02, 6.561e+03],\n",
       "       [1.000e+00, 1.000e+01, 1.000e+02, 1.000e+03, 1.000e+04]])"
      ]
     },
     "execution_count": 10,
     "metadata": {},
     "output_type": "execute_result"
    }
   ],
   "source": [
    "X_poly"
   ]
  },
  {
   "cell_type": "code",
   "execution_count": 11,
   "id": "a32d2d07",
   "metadata": {
    "execution": {
     "iopub.execute_input": "2023-08-30T10:52:41.954197Z",
     "iopub.status.busy": "2023-08-30T10:52:41.953868Z",
     "iopub.status.idle": "2023-08-30T10:52:42.163529Z",
     "shell.execute_reply": "2023-08-30T10:52:42.162039Z"
    },
    "papermill": {
     "duration": 0.221919,
     "end_time": "2023-08-30T10:52:42.166175",
     "exception": false,
     "start_time": "2023-08-30T10:52:41.944256",
     "status": "completed"
    },
    "tags": []
   },
   "outputs": [
    {
     "data": {
      "image/png": "[encoded data removed]",
      "text/plain": [
       "<Figure size 640x480 with 1 Axes>"
      ]
     },
     "metadata": {},
     "output_type": "display_data"
    }
   ],
   "source": [
    "plt.scatter(X.reshape(-1,1),y.reshape(-1,1), color='red')\n",
    "plt.plot(X.reshape(-1,1), lin_reg_poly.predict(X_poly), color='blue')\n",
    "plt.title('Truth or Bluff (Polynomial Linear Regression) ')\n",
    "plt.xlabel(\"Level\")\n",
    "plt.ylabel(\"Salary\")\n",
    "plt.show()"
   ]
  },
  {
   "cell_type": "markdown",
   "id": "fda8f0bc",
   "metadata": {
    "id": "U_qsAMKnE-PJ",
    "papermill": {
     "duration": 0.008069,
     "end_time": "2023-08-30T10:52:42.183549",
     "exception": false,
     "start_time": "2023-08-30T10:52:42.175480",
     "status": "completed"
    },
    "tags": []
   },
   "source": [
    "## Visualising the Polynomial Regression results (for higher resolution and smoother curve)"
   ]
  },
  {
   "cell_type": "code",
   "execution_count": 12,
   "id": "60a86a8d",
   "metadata": {
    "execution": {
     "iopub.execute_input": "2023-08-30T10:52:42.202080Z",
     "iopub.status.busy": "2023-08-30T10:52:42.201586Z",
     "iopub.status.idle": "2023-08-30T10:52:42.409608Z",
     "shell.execute_reply": "2023-08-30T10:52:42.407792Z"
    },
    "papermill": {
     "duration": 0.220771,
     "end_time": "2023-08-30T10:52:42.412557",
     "exception": false,
     "start_time": "2023-08-30T10:52:42.191786",
     "status": "completed"
    },
    "tags": []
   },
   "outputs": [
    {
     "data": {
      "image/png": "[encoded data removed]",
      "text/plain": [
       "<Figure size 640x480 with 1 Axes>"
      ]
     },
     "metadata": {},
     "output_type": "display_data"
    }
   ],
   "source": [
    "plt.scatter(X.reshape(-1,1),y.reshape(-1,1), color='red')\n",
    "plt.plot(X.reshape(-1,1), lin_reg_poly.predict(X_poly), color='blue')\n",
    "plt.title('Truth or Bluff (Polynomial Linear Regression) ')\n",
    "plt.xlabel(\"Level\")\n",
    "plt.ylabel(\"Salary\")\n",
    "plt.show()"
   ]
  },
  {
   "cell_type": "markdown",
   "id": "2267d92c",
   "metadata": {
    "id": "diyJFZHhFFeK",
    "papermill": {
     "duration": 0.008447,
     "end_time": "2023-08-30T10:52:42.430133",
     "exception": false,
     "start_time": "2023-08-30T10:52:42.421686",
     "status": "completed"
    },
    "tags": []
   },
   "source": [
    "## Predicting a new result with Linear Regression"
   ]
  },
  {
   "cell_type": "code",
   "execution_count": 13,
   "id": "4c587bf1",
   "metadata": {
    "execution": {
     "iopub.execute_input": "2023-08-30T10:52:42.449640Z",
     "iopub.status.busy": "2023-08-30T10:52:42.449171Z",
     "iopub.status.idle": "2023-08-30T10:52:42.456618Z",
     "shell.execute_reply": "2023-08-30T10:52:42.455037Z"
    },
    "papermill": {
     "duration": 0.020628,
     "end_time": "2023-08-30T10:52:42.459336",
     "exception": false,
     "start_time": "2023-08-30T10:52:42.438708",
     "status": "completed"
    },
    "tags": []
   },
   "outputs": [
    {
     "name": "stdout",
     "output_type": "stream",
     "text": [
      "Level -> 6 Salary -> [[289939.39393939]]\n"
     ]
    }
   ],
   "source": [
    "print(\"Level -> 6 Salary ->\",lin_reg.predict([[6]]))"
   ]
  },
  {
   "cell_type": "markdown",
   "id": "11da6693",
   "metadata": {
    "id": "DW7I7ZVDFNkk",
    "papermill": {
     "duration": 0.010018,
     "end_time": "2023-08-30T10:52:42.478583",
     "exception": false,
     "start_time": "2023-08-30T10:52:42.468565",
     "status": "completed"
    },
    "tags": []
   },
   "source": [
    "## Predicting a new result with Polynomial Regression"
   ]
  },
  {
   "cell_type": "code",
   "execution_count": 14,
   "id": "46ffbb7f",
   "metadata": {
    "execution": {
     "iopub.execute_input": "2023-08-30T10:52:42.498665Z",
     "iopub.status.busy": "2023-08-30T10:52:42.498333Z",
     "iopub.status.idle": "2023-08-30T10:52:42.505975Z",
     "shell.execute_reply": "2023-08-30T10:52:42.504960Z"
    },
    "papermill": {
     "duration": 0.019812,
     "end_time": "2023-08-30T10:52:42.507670",
     "exception": false,
     "start_time": "2023-08-30T10:52:42.487858",
     "status": "completed"
    },
    "tags": []
   },
   "outputs": [
    {
     "data": {
      "text/plain": [
       "array([1.000e+00, 6.000e+00, 3.600e+01, 2.160e+02, 1.296e+03])"
      ]
     },
     "execution_count": 14,
     "metadata": {},
     "output_type": "execute_result"
    }
   ],
   "source": [
    "X_poly[5]"
   ]
  },
  {
   "cell_type": "code",
   "execution_count": 15,
   "id": "c53dc4f7",
   "metadata": {
    "execution": {
     "iopub.execute_input": "2023-08-30T10:52:42.527635Z",
     "iopub.status.busy": "2023-08-30T10:52:42.527298Z",
     "iopub.status.idle": "2023-08-30T10:52:42.534064Z",
     "shell.execute_reply": "2023-08-30T10:52:42.532761Z"
    },
    "papermill": {
     "duration": 0.019814,
     "end_time": "2023-08-30T10:52:42.536682",
     "exception": false,
     "start_time": "2023-08-30T10:52:42.516868",
     "status": "completed"
    },
    "tags": []
   },
   "outputs": [
    {
     "name": "stdout",
     "output_type": "stream",
     "text": [
      "Level -> 6 Salary -> [143275.05827509]\n"
     ]
    }
   ],
   "source": [
    "print(\"Level -> 6 Salary ->\",lin_reg_poly.predict([[1.000e+00, 6.000e+00, 3.600e+01, 2.160e+02, 1.296e+03]]))"
   ]
  },
  {
   "cell_type": "markdown",
   "id": "99ee47fd",
   "metadata": {
    "papermill": {
     "duration": 0.008671,
     "end_time": "2023-08-30T10:52:42.554521",
     "exception": false,
     "start_time": "2023-08-30T10:52:42.545850",
     "status": "completed"
    },
    "tags": []
   },
   "source": [
    "## R2 Score "
   ]
  },
  {
   "cell_type": "code",
   "execution_count": 16,
   "id": "4262b782",
   "metadata": {
    "execution": {
     "iopub.execute_input": "2023-08-30T10:52:42.574546Z",
     "iopub.status.busy": "2023-08-30T10:52:42.573962Z",
     "iopub.status.idle": "2023-08-30T10:52:42.581211Z",
     "shell.execute_reply": "2023-08-30T10:52:42.579730Z"
    },
    "papermill": {
     "duration": 0.020069,
     "end_time": "2023-08-30T10:52:42.583653",
     "exception": false,
     "start_time": "2023-08-30T10:52:42.563584",
     "status": "completed"
    },
    "tags": []
   },
   "outputs": [
    {
     "data": {
      "text/plain": [
       "0.9973854712356893"
      ]
     },
     "execution_count": 16,
     "metadata": {},
     "output_type": "execute_result"
    }
   ],
   "source": [
    "from sklearn.metrics import r2_score\n",
    "r2_score( lin_reg_poly.predict(X_poly) , y)"
   ]
  }
 ],
 "kernelspec": {
  "display_name": "Python 3",
  "language": "python",
  "name": "python3"
 },
 "language_info": {
  "codemirror_mode": {
   "name": "ipython",
   "version": 3
  },
  "file_extension": ".py",
  "mimetype": "text/x-python",
  "name": "python",
  "nbconvert_exporter": "python",
  "pygments_lexer": "ipython3",
  "version": "3.6.4"
 },
 "metadata": {
  "colab": {
   "collapsed_sections": [],
   "name": "polynomial_regression.ipynb",
   "provenance": [],
   "toc_visible": true
  },
  "kernelspec": {
   "display_name": "Python 3",
   "language": "python",
   "name": "python3"
  },
  "language_info": {
   "codemirror_mode": {
    "name": "ipython",
    "version": 3
   },
   "file_extension": ".py",
   "mimetype": "text/x-python",
   "name": "python",
   "nbconvert_exporter": "python",
   "pygments_lexer": "ipython3",
   "version": "3.10.12"
  },
  "papermill": {
   "default_parameters": {},
   "duration": 13.338124,
   "end_time": "2023-08-30T10:52:43.615217",
   "environment_variables": {},
   "exception": null,
   "input_path": "__notebook__.ipynb",
   "output_path": "__notebook__.ipynb",
   "parameters": {},
   "start_time": "2023-08-30T10:52:30.277093",
   "version": "2.4.0"
  }
 },
 "nbformat": 4,
 "nbformat_minor": 5
}
