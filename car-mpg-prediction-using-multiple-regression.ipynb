{
 "cells": [
  {
   "cell_type": "code",
   "execution_count": 1,
   "id": "4b2b70ab",
   "metadata": {
    "execution": {
     "iopub.execute_input": "2023-08-28T14:01:44.959946Z",
     "iopub.status.busy": "2023-08-28T14:01:44.959542Z",
     "iopub.status.idle": "2023-08-28T14:01:44.969446Z",
     "shell.execute_reply": "2023-08-28T14:01:44.968383Z"
    },
    "papermill": {
     "duration": 0.022553,
     "end_time": "2023-08-28T14:01:44.971739",
     "exception": false,
     "start_time": "2023-08-28T14:01:44.949186",
     "status": "completed"
    },
    "tags": []
   },
   "outputs": [],
   "source": [
    "#import important modules\n",
    "import numpy as np\n",
    "import pandas as pd\n",
    "import matplotlib.pyplot as plt"
   ]
  },
  {
   "cell_type": "code",
   "execution_count": 2,
   "id": "d128cfa0",
   "metadata": {
    "execution": {
     "iopub.execute_input": "2023-08-28T14:01:44.989709Z",
     "iopub.status.busy": "2023-08-28T14:01:44.989300Z",
     "iopub.status.idle": "2023-08-28T14:01:45.019328Z",
     "shell.execute_reply": "2023-08-28T14:01:45.018316Z"
    },
    "papermill": {
     "duration": 0.041734,
     "end_time": "2023-08-28T14:01:45.021848",
     "exception": false,
     "start_time": "2023-08-28T14:01:44.980114",
     "status": "completed"
    },
    "tags": []
   },
   "outputs": [],
   "source": [
    "df = pd.read_csv('/kaggle/input/autompg-dataset/auto-mpg.csv')"
   ]
  },
  {
   "cell_type": "code",
   "execution_count": 3,
   "id": "1656ba91",
   "metadata": {
    "execution": {
     "iopub.execute_input": "2023-08-28T14:01:45.040515Z",
     "iopub.status.busy": "2023-08-28T14:01:45.039618Z",
     "iopub.status.idle": "2023-08-28T14:01:45.084136Z",
     "shell.execute_reply": "2023-08-28T14:01:45.082557Z"
    },
    "papermill": {
     "duration": 0.05727,
     "end_time": "2023-08-28T14:01:45.087462",
     "exception": false,
     "start_time": "2023-08-28T14:01:45.030192",
     "status": "completed"
    },
    "tags": []
   },
   "outputs": [
    {
     "data": {
      "text/html": [
       "<div>\n",
       "<style scoped>\n",
       "    .dataframe tbody tr th:only-of-type {\n",
       "        vertical-align: middle;\n",
       "    }\n",
       "\n",
       "    .dataframe tbody tr th {\n",
       "        vertical-align: top;\n",
       "    }\n",
       "\n",
       "    .dataframe thead th {\n",
       "        text-align: right;\n",
       "    }\n",
       "</style>\n",
       "<table border=\"1\" class=\"dataframe\">\n",
       "  <thead>\n",
       "    <tr style=\"text-align: right;\">\n",
       "      <th></th>\n",
       "      <th>mpg</th>\n",
       "      <th>cylinders</th>\n",
       "      <th>displacement</th>\n",
       "      <th>horsepower</th>\n",
       "      <th>weight</th>\n",
       "      <th>acceleration</th>\n",
       "      <th>model year</th>\n",
       "      <th>origin</th>\n",
       "      <th>car name</th>\n",
       "    </tr>\n",
       "  </thead>\n",
       "  <tbody>\n",
       "    <tr>\n",
       "      <th>0</th>\n",
       "      <td>18.0</td>\n",
       "      <td>8</td>\n",
       "      <td>307.0</td>\n",
       "      <td>130</td>\n",
       "      <td>3504</td>\n",
       "      <td>12.0</td>\n",
       "      <td>70</td>\n",
       "      <td>1</td>\n",
       "      <td>chevrolet chevelle malibu</td>\n",
       "    </tr>\n",
       "    <tr>\n",
       "      <th>1</th>\n",
       "      <td>15.0</td>\n",
       "      <td>8</td>\n",
       "      <td>350.0</td>\n",
       "      <td>165</td>\n",
       "      <td>3693</td>\n",
       "      <td>11.5</td>\n",
       "      <td>70</td>\n",
       "      <td>1</td>\n",
       "      <td>buick skylark 320</td>\n",
       "    </tr>\n",
       "    <tr>\n",
       "      <th>2</th>\n",
       "      <td>18.0</td>\n",
       "      <td>8</td>\n",
       "      <td>318.0</td>\n",
       "      <td>150</td>\n",
       "      <td>3436</td>\n",
       "      <td>11.0</td>\n",
       "      <td>70</td>\n",
       "      <td>1</td>\n",
       "      <td>plymouth satellite</td>\n",
       "    </tr>\n",
       "    <tr>\n",
       "      <th>3</th>\n",
       "      <td>16.0</td>\n",
       "      <td>8</td>\n",
       "      <td>304.0</td>\n",
       "      <td>150</td>\n",
       "      <td>3433</td>\n",
       "      <td>12.0</td>\n",
       "      <td>70</td>\n",
       "      <td>1</td>\n",
       "      <td>amc rebel sst</td>\n",
       "    </tr>\n",
       "    <tr>\n",
       "      <th>4</th>\n",
       "      <td>17.0</td>\n",
       "      <td>8</td>\n",
       "      <td>302.0</td>\n",
       "      <td>140</td>\n",
       "      <td>3449</td>\n",
       "      <td>10.5</td>\n",
       "      <td>70</td>\n",
       "      <td>1</td>\n",
       "      <td>ford torino</td>\n",
       "    </tr>\n",
       "    <tr>\n",
       "      <th>...</th>\n",
       "      <td>...</td>\n",
       "      <td>...</td>\n",
       "      <td>...</td>\n",
       "      <td>...</td>\n",
       "      <td>...</td>\n",
       "      <td>...</td>\n",
       "      <td>...</td>\n",
       "      <td>...</td>\n",
       "      <td>...</td>\n",
       "    </tr>\n",
       "    <tr>\n",
       "      <th>393</th>\n",
       "      <td>27.0</td>\n",
       "      <td>4</td>\n",
       "      <td>140.0</td>\n",
       "      <td>86</td>\n",
       "      <td>2790</td>\n",
       "      <td>15.6</td>\n",
       "      <td>82</td>\n",
       "      <td>1</td>\n",
       "      <td>ford mustang gl</td>\n",
       "    </tr>\n",
       "    <tr>\n",
       "      <th>394</th>\n",
       "      <td>44.0</td>\n",
       "      <td>4</td>\n",
       "      <td>97.0</td>\n",
       "      <td>52</td>\n",
       "      <td>2130</td>\n",
       "      <td>24.6</td>\n",
       "      <td>82</td>\n",
       "      <td>2</td>\n",
       "      <td>vw pickup</td>\n",
       "    </tr>\n",
       "    <tr>\n",
       "      <th>395</th>\n",
       "      <td>32.0</td>\n",
       "      <td>4</td>\n",
       "      <td>135.0</td>\n",
       "      <td>84</td>\n",
       "      <td>2295</td>\n",
       "      <td>11.6</td>\n",
       "      <td>82</td>\n",
       "      <td>1</td>\n",
       "      <td>dodge rampage</td>\n",
       "    </tr>\n",
       "    <tr>\n",
       "      <th>396</th>\n",
       "      <td>28.0</td>\n",
       "      <td>4</td>\n",
       "      <td>120.0</td>\n",
       "      <td>79</td>\n",
       "      <td>2625</td>\n",
       "      <td>18.6</td>\n",
       "      <td>82</td>\n",
       "      <td>1</td>\n",
       "      <td>ford ranger</td>\n",
       "    </tr>\n",
       "    <tr>\n",
       "      <th>397</th>\n",
       "      <td>31.0</td>\n",
       "      <td>4</td>\n",
       "      <td>119.0</td>\n",
       "      <td>82</td>\n",
       "      <td>2720</td>\n",
       "      <td>19.4</td>\n",
       "      <td>82</td>\n",
       "      <td>1</td>\n",
       "      <td>chevy s-10</td>\n",
       "    </tr>\n",
       "  </tbody>\n",
       "</table>\n",
       "<p>398 rows × 9 columns</p>\n",
       "</div>"
      ],
      "text/plain": [
       "      mpg  cylinders  displacement horsepower  weight  acceleration  \\\n",
       "0    18.0          8         307.0        130    3504          12.0   \n",
       "1    15.0          8         350.0        165    3693          11.5   \n",
       "2    18.0          8         318.0        150    3436          11.0   \n",
       "3    16.0          8         304.0        150    3433          12.0   \n",
       "4    17.0          8         302.0        140    3449          10.5   \n",
       "..    ...        ...           ...        ...     ...           ...   \n",
       "393  27.0          4         140.0         86    2790          15.6   \n",
       "394  44.0          4          97.0         52    2130          24.6   \n",
       "395  32.0          4         135.0         84    2295          11.6   \n",
       "396  28.0          4         120.0         79    2625          18.6   \n",
       "397  31.0          4         119.0         82    2720          19.4   \n",
       "\n",
       "     model year  origin                   car name  \n",
       "0            70       1  chevrolet chevelle malibu  \n",
       "1            70       1          buick skylark 320  \n",
       "2            70       1         plymouth satellite  \n",
       "3            70       1              amc rebel sst  \n",
       "4            70       1                ford torino  \n",
       "..          ...     ...                        ...  \n",
       "393          82       1            ford mustang gl  \n",
       "394          82       2                  vw pickup  \n",
       "395          82       1              dodge rampage  \n",
       "396          82       1                ford ranger  \n",
       "397          82       1                 chevy s-10  \n",
       "\n",
       "[398 rows x 9 columns]"
      ]
     },
     "execution_count": 3,
     "metadata": {},
     "output_type": "execute_result"
    }
   ],
   "source": [
    "df"
   ]
  },
  {
   "cell_type": "code",
   "execution_count": 4,
   "id": "82a079a7",
   "metadata": {
    "execution": {
     "iopub.execute_input": "2023-08-28T14:01:45.108810Z",
     "iopub.status.busy": "2023-08-28T14:01:45.108454Z",
     "iopub.status.idle": "2023-08-28T14:01:45.118219Z",
     "shell.execute_reply": "2023-08-28T14:01:45.117111Z"
    },
    "papermill": {
     "duration": 0.024858,
     "end_time": "2023-08-28T14:01:45.121746",
     "exception": false,
     "start_time": "2023-08-28T14:01:45.096888",
     "status": "completed"
    },
    "tags": []
   },
   "outputs": [
    {
     "data": {
      "text/plain": [
       "mpg             0\n",
       "cylinders       0\n",
       "displacement    0\n",
       "horsepower      0\n",
       "weight          0\n",
       "acceleration    0\n",
       "model year      0\n",
       "origin          0\n",
       "car name        0\n",
       "dtype: int64"
      ]
     },
     "execution_count": 4,
     "metadata": {},
     "output_type": "execute_result"
    }
   ],
   "source": [
    "df.isnull().sum()"
   ]
  },
  {
   "cell_type": "code",
   "execution_count": 5,
   "id": "e7ec1fb8",
   "metadata": {
    "execution": {
     "iopub.execute_input": "2023-08-28T14:01:45.143737Z",
     "iopub.status.busy": "2023-08-28T14:01:45.143336Z",
     "iopub.status.idle": "2023-08-28T14:01:45.160969Z",
     "shell.execute_reply": "2023-08-28T14:01:45.159642Z"
    },
    "papermill": {
     "duration": 0.030707,
     "end_time": "2023-08-28T14:01:45.163747",
     "exception": false,
     "start_time": "2023-08-28T14:01:45.133040",
     "status": "completed"
    },
    "tags": []
   },
   "outputs": [
    {
     "data": {
      "text/html": [
       "<div>\n",
       "<style scoped>\n",
       "    .dataframe tbody tr th:only-of-type {\n",
       "        vertical-align: middle;\n",
       "    }\n",
       "\n",
       "    .dataframe tbody tr th {\n",
       "        vertical-align: top;\n",
       "    }\n",
       "\n",
       "    .dataframe thead th {\n",
       "        text-align: right;\n",
       "    }\n",
       "</style>\n",
       "<table border=\"1\" class=\"dataframe\">\n",
       "  <thead>\n",
       "    <tr style=\"text-align: right;\">\n",
       "      <th></th>\n",
       "      <th>mpg</th>\n",
       "      <th>cylinders</th>\n",
       "      <th>displacement</th>\n",
       "      <th>horsepower</th>\n",
       "      <th>weight</th>\n",
       "      <th>acceleration</th>\n",
       "      <th>model year</th>\n",
       "      <th>origin</th>\n",
       "      <th>car name</th>\n",
       "    </tr>\n",
       "  </thead>\n",
       "  <tbody>\n",
       "    <tr>\n",
       "      <th>0</th>\n",
       "      <td>18.0</td>\n",
       "      <td>8</td>\n",
       "      <td>307.0</td>\n",
       "      <td>130</td>\n",
       "      <td>3504</td>\n",
       "      <td>12.0</td>\n",
       "      <td>70</td>\n",
       "      <td>1</td>\n",
       "      <td>chevrolet chevelle malibu</td>\n",
       "    </tr>\n",
       "  </tbody>\n",
       "</table>\n",
       "</div>"
      ],
      "text/plain": [
       "    mpg  cylinders  displacement horsepower  weight  acceleration  model year  \\\n",
       "0  18.0          8         307.0        130    3504          12.0          70   \n",
       "\n",
       "   origin                   car name  \n",
       "0       1  chevrolet chevelle malibu  "
      ]
     },
     "execution_count": 5,
     "metadata": {},
     "output_type": "execute_result"
    }
   ],
   "source": [
    "df.head(1)"
   ]
  },
  {
   "cell_type": "code",
   "execution_count": 6,
   "id": "ec78a6d2",
   "metadata": {
    "execution": {
     "iopub.execute_input": "2023-08-28T14:01:45.187130Z",
     "iopub.status.busy": "2023-08-28T14:01:45.186187Z",
     "iopub.status.idle": "2023-08-28T14:01:45.213612Z",
     "shell.execute_reply": "2023-08-28T14:01:45.212714Z"
    },
    "papermill": {
     "duration": 0.042332,
     "end_time": "2023-08-28T14:01:45.216134",
     "exception": false,
     "start_time": "2023-08-28T14:01:45.173802",
     "status": "completed"
    },
    "tags": []
   },
   "outputs": [
    {
     "name": "stdout",
     "output_type": "stream",
     "text": [
      "<class 'pandas.core.frame.DataFrame'>\n",
      "RangeIndex: 398 entries, 0 to 397\n",
      "Data columns (total 9 columns):\n",
      " #   Column        Non-Null Count  Dtype  \n",
      "---  ------        --------------  -----  \n",
      " 0   mpg           398 non-null    float64\n",
      " 1   cylinders     398 non-null    int64  \n",
      " 2   displacement  398 non-null    float64\n",
      " 3   horsepower    398 non-null    object \n",
      " 4   weight        398 non-null    int64  \n",
      " 5   acceleration  398 non-null    float64\n",
      " 6   model year    398 non-null    int64  \n",
      " 7   origin        398 non-null    int64  \n",
      " 8   car name      398 non-null    object \n",
      "dtypes: float64(3), int64(4), object(2)\n",
      "memory usage: 28.1+ KB\n"
     ]
    }
   ],
   "source": [
    "df.info()"
   ]
  },
  {
   "cell_type": "code",
   "execution_count": 7,
   "id": "780d8423",
   "metadata": {
    "execution": {
     "iopub.execute_input": "2023-08-28T14:01:45.241311Z",
     "iopub.status.busy": "2023-08-28T14:01:45.240872Z",
     "iopub.status.idle": "2023-08-28T14:01:45.245821Z",
     "shell.execute_reply": "2023-08-28T14:01:45.244630Z"
    },
    "papermill": {
     "duration": 0.020454,
     "end_time": "2023-08-28T14:01:45.247924",
     "exception": false,
     "start_time": "2023-08-28T14:01:45.227470",
     "status": "completed"
    },
    "tags": []
   },
   "outputs": [],
   "source": [
    "#we noticed that horsepower don't have numeric value as it contains '?' which cause change model accuracy "
   ]
  },
  {
   "cell_type": "code",
   "execution_count": 8,
   "id": "f362fb74",
   "metadata": {
    "execution": {
     "iopub.execute_input": "2023-08-28T14:01:45.267830Z",
     "iopub.status.busy": "2023-08-28T14:01:45.267215Z",
     "iopub.status.idle": "2023-08-28T14:01:45.301076Z",
     "shell.execute_reply": "2023-08-28T14:01:45.300117Z"
    },
    "papermill": {
     "duration": 0.04645,
     "end_time": "2023-08-28T14:01:45.303371",
     "exception": false,
     "start_time": "2023-08-28T14:01:45.256921",
     "status": "completed"
    },
    "tags": []
   },
   "outputs": [
    {
     "data": {
      "text/html": [
       "<div>\n",
       "<style scoped>\n",
       "    .dataframe tbody tr th:only-of-type {\n",
       "        vertical-align: middle;\n",
       "    }\n",
       "\n",
       "    .dataframe tbody tr th {\n",
       "        vertical-align: top;\n",
       "    }\n",
       "\n",
       "    .dataframe thead th {\n",
       "        text-align: right;\n",
       "    }\n",
       "</style>\n",
       "<table border=\"1\" class=\"dataframe\">\n",
       "  <thead>\n",
       "    <tr style=\"text-align: right;\">\n",
       "      <th></th>\n",
       "      <th>mpg</th>\n",
       "      <th>cylinders</th>\n",
       "      <th>displacement</th>\n",
       "      <th>weight</th>\n",
       "      <th>acceleration</th>\n",
       "      <th>model year</th>\n",
       "      <th>origin</th>\n",
       "    </tr>\n",
       "  </thead>\n",
       "  <tbody>\n",
       "    <tr>\n",
       "      <th>count</th>\n",
       "      <td>398.000000</td>\n",
       "      <td>398.000000</td>\n",
       "      <td>398.000000</td>\n",
       "      <td>398.000000</td>\n",
       "      <td>398.000000</td>\n",
       "      <td>398.000000</td>\n",
       "      <td>398.000000</td>\n",
       "    </tr>\n",
       "    <tr>\n",
       "      <th>mean</th>\n",
       "      <td>23.514573</td>\n",
       "      <td>5.454774</td>\n",
       "      <td>193.425879</td>\n",
       "      <td>2970.424623</td>\n",
       "      <td>15.568090</td>\n",
       "      <td>76.010050</td>\n",
       "      <td>1.572864</td>\n",
       "    </tr>\n",
       "    <tr>\n",
       "      <th>std</th>\n",
       "      <td>7.815984</td>\n",
       "      <td>1.701004</td>\n",
       "      <td>104.269838</td>\n",
       "      <td>846.841774</td>\n",
       "      <td>2.757689</td>\n",
       "      <td>3.697627</td>\n",
       "      <td>0.802055</td>\n",
       "    </tr>\n",
       "    <tr>\n",
       "      <th>min</th>\n",
       "      <td>9.000000</td>\n",
       "      <td>3.000000</td>\n",
       "      <td>68.000000</td>\n",
       "      <td>1613.000000</td>\n",
       "      <td>8.000000</td>\n",
       "      <td>70.000000</td>\n",
       "      <td>1.000000</td>\n",
       "    </tr>\n",
       "    <tr>\n",
       "      <th>25%</th>\n",
       "      <td>17.500000</td>\n",
       "      <td>4.000000</td>\n",
       "      <td>104.250000</td>\n",
       "      <td>2223.750000</td>\n",
       "      <td>13.825000</td>\n",
       "      <td>73.000000</td>\n",
       "      <td>1.000000</td>\n",
       "    </tr>\n",
       "    <tr>\n",
       "      <th>50%</th>\n",
       "      <td>23.000000</td>\n",
       "      <td>4.000000</td>\n",
       "      <td>148.500000</td>\n",
       "      <td>2803.500000</td>\n",
       "      <td>15.500000</td>\n",
       "      <td>76.000000</td>\n",
       "      <td>1.000000</td>\n",
       "    </tr>\n",
       "    <tr>\n",
       "      <th>75%</th>\n",
       "      <td>29.000000</td>\n",
       "      <td>8.000000</td>\n",
       "      <td>262.000000</td>\n",
       "      <td>3608.000000</td>\n",
       "      <td>17.175000</td>\n",
       "      <td>79.000000</td>\n",
       "      <td>2.000000</td>\n",
       "    </tr>\n",
       "    <tr>\n",
       "      <th>max</th>\n",
       "      <td>46.600000</td>\n",
       "      <td>8.000000</td>\n",
       "      <td>455.000000</td>\n",
       "      <td>5140.000000</td>\n",
       "      <td>24.800000</td>\n",
       "      <td>82.000000</td>\n",
       "      <td>3.000000</td>\n",
       "    </tr>\n",
       "  </tbody>\n",
       "</table>\n",
       "</div>"
      ],
      "text/plain": [
       "              mpg   cylinders  displacement       weight  acceleration  \\\n",
       "count  398.000000  398.000000    398.000000   398.000000    398.000000   \n",
       "mean    23.514573    5.454774    193.425879  2970.424623     15.568090   \n",
       "std      7.815984    1.701004    104.269838   846.841774      2.757689   \n",
       "min      9.000000    3.000000     68.000000  1613.000000      8.000000   \n",
       "25%     17.500000    4.000000    104.250000  2223.750000     13.825000   \n",
       "50%     23.000000    4.000000    148.500000  2803.500000     15.500000   \n",
       "75%     29.000000    8.000000    262.000000  3608.000000     17.175000   \n",
       "max     46.600000    8.000000    455.000000  5140.000000     24.800000   \n",
       "\n",
       "       model year      origin  \n",
       "count  398.000000  398.000000  \n",
       "mean    76.010050    1.572864  \n",
       "std      3.697627    0.802055  \n",
       "min     70.000000    1.000000  \n",
       "25%     73.000000    1.000000  \n",
       "50%     76.000000    1.000000  \n",
       "75%     79.000000    2.000000  \n",
       "max     82.000000    3.000000  "
      ]
     },
     "execution_count": 8,
     "metadata": {},
     "output_type": "execute_result"
    }
   ],
   "source": [
    "df.describe()"
   ]
  },
  {
   "cell_type": "code",
   "execution_count": 9,
   "id": "3f3a7f67",
   "metadata": {
    "execution": {
     "iopub.execute_input": "2023-08-28T14:01:45.323986Z",
     "iopub.status.busy": "2023-08-28T14:01:45.323570Z",
     "iopub.status.idle": "2023-08-28T14:01:45.328681Z",
     "shell.execute_reply": "2023-08-28T14:01:45.327443Z"
    },
    "papermill": {
     "duration": 0.018264,
     "end_time": "2023-08-28T14:01:45.330983",
     "exception": false,
     "start_time": "2023-08-28T14:01:45.312719",
     "status": "completed"
    },
    "tags": []
   },
   "outputs": [],
   "source": [
    "a = df.mpg.unique()"
   ]
  },
  {
   "cell_type": "code",
   "execution_count": 10,
   "id": "2fd10320",
   "metadata": {
    "execution": {
     "iopub.execute_input": "2023-08-28T14:01:45.351532Z",
     "iopub.status.busy": "2023-08-28T14:01:45.351111Z",
     "iopub.status.idle": "2023-08-28T14:01:45.357071Z",
     "shell.execute_reply": "2023-08-28T14:01:45.356265Z"
    },
    "papermill": {
     "duration": 0.018635,
     "end_time": "2023-08-28T14:01:45.358927",
     "exception": false,
     "start_time": "2023-08-28T14:01:45.340292",
     "status": "completed"
    },
    "tags": []
   },
   "outputs": [
    {
     "data": {
      "text/plain": [
       "129"
      ]
     },
     "execution_count": 10,
     "metadata": {},
     "output_type": "execute_result"
    }
   ],
   "source": [
    "len(a)"
   ]
  },
  {
   "cell_type": "code",
   "execution_count": 11,
   "id": "549a2591",
   "metadata": {
    "execution": {
     "iopub.execute_input": "2023-08-28T14:01:45.379890Z",
     "iopub.status.busy": "2023-08-28T14:01:45.379228Z",
     "iopub.status.idle": "2023-08-28T14:01:45.384712Z",
     "shell.execute_reply": "2023-08-28T14:01:45.383918Z"
    },
    "papermill": {
     "duration": 0.018087,
     "end_time": "2023-08-28T14:01:45.386720",
     "exception": false,
     "start_time": "2023-08-28T14:01:45.368633",
     "status": "completed"
    },
    "tags": []
   },
   "outputs": [
    {
     "data": {
      "text/plain": [
       "398"
      ]
     },
     "execution_count": 11,
     "metadata": {},
     "output_type": "execute_result"
    }
   ],
   "source": [
    "len(df.mpg)"
   ]
  },
  {
   "cell_type": "code",
   "execution_count": 12,
   "id": "8a578118",
   "metadata": {
    "execution": {
     "iopub.execute_input": "2023-08-28T14:01:45.407849Z",
     "iopub.status.busy": "2023-08-28T14:01:45.407191Z",
     "iopub.status.idle": "2023-08-28T14:01:45.419603Z",
     "shell.execute_reply": "2023-08-28T14:01:45.418160Z"
    },
    "papermill": {
     "duration": 0.025617,
     "end_time": "2023-08-28T14:01:45.421856",
     "exception": false,
     "start_time": "2023-08-28T14:01:45.396239",
     "status": "completed"
    },
    "tags": []
   },
   "outputs": [
    {
     "name": "stdout",
     "output_type": "stream",
     "text": [
      "<class 'pandas.core.frame.DataFrame'>\n",
      "RangeIndex: 398 entries, 0 to 397\n",
      "Data columns (total 9 columns):\n",
      " #   Column        Non-Null Count  Dtype  \n",
      "---  ------        --------------  -----  \n",
      " 0   mpg           398 non-null    float64\n",
      " 1   cylinders     398 non-null    int64  \n",
      " 2   displacement  398 non-null    float64\n",
      " 3   horsepower    398 non-null    object \n",
      " 4   weight        398 non-null    int64  \n",
      " 5   acceleration  398 non-null    float64\n",
      " 6   model year    398 non-null    int64  \n",
      " 7   origin        398 non-null    int64  \n",
      " 8   car name      398 non-null    object \n",
      "dtypes: float64(3), int64(4), object(2)\n",
      "memory usage: 28.1+ KB\n"
     ]
    }
   ],
   "source": [
    "df.info()"
   ]
  },
  {
   "cell_type": "code",
   "execution_count": 13,
   "id": "e04a6e72",
   "metadata": {
    "execution": {
     "iopub.execute_input": "2023-08-28T14:01:45.445501Z",
     "iopub.status.busy": "2023-08-28T14:01:45.443644Z",
     "iopub.status.idle": "2023-08-28T14:01:45.460291Z",
     "shell.execute_reply": "2023-08-28T14:01:45.459141Z"
    },
    "papermill": {
     "duration": 0.033672,
     "end_time": "2023-08-28T14:01:45.465073",
     "exception": false,
     "start_time": "2023-08-28T14:01:45.431401",
     "status": "completed"
    },
    "tags": []
   },
   "outputs": [
    {
     "name": "stdout",
     "output_type": "stream",
     "text": [
      "column mpg\n",
      "[18.  15.  16.  17.  14.  24.  22.  21.  27.  26.  25.  10.  11.   9.\n",
      " 28.  19.  12.  13.  23.  30.  31.  35.  20.  29.  32.  33.  17.5 15.5\n",
      " 14.5 22.5 24.5 18.5 29.5 26.5 16.5 31.5 36.  25.5 33.5 20.5 30.5 21.5\n",
      " 43.1 36.1 32.8 39.4 19.9 19.4 20.2 19.2 25.1 20.6 20.8 18.6 18.1 17.7\n",
      " 27.5 27.2 30.9 21.1 23.2 23.8 23.9 20.3 21.6 16.2 19.8 22.3 17.6 18.2\n",
      " 16.9 31.9 34.1 35.7 27.4 25.4 34.2 34.5 31.8 37.3 28.4 28.8 26.8 41.5\n",
      " 38.1 32.1 37.2 26.4 24.3 19.1 34.3 29.8 31.3 37.  32.2 46.6 27.9 40.8\n",
      " 44.3 43.4 36.4 44.6 40.9 33.8 32.7 23.7 23.6 32.4 26.6 25.8 23.5 39.1\n",
      " 39.  35.1 32.3 37.7 34.7 34.4 29.9 33.7 32.9 31.6 28.1 30.7 24.2 22.4\n",
      " 34.  38.  44. ]\n",
      "column cylinders\n",
      "[8 4 6 3 5]\n",
      "column displacement\n",
      "[307.  350.  318.  304.  302.  429.  454.  440.  455.  390.  383.  340.\n",
      " 400.  113.  198.  199.  200.   97.  110.  107.  104.  121.  360.  140.\n",
      "  98.  232.  225.  250.  351.  258.  122.  116.   79.   88.   71.   72.\n",
      "  91.   97.5  70.  120.   96.  108.  155.   68.  114.  156.   76.   83.\n",
      "  90.  231.  262.  134.  119.  171.  115.  101.  305.   85.  130.  168.\n",
      " 111.  260.  151.  146.   80.   78.  105.  131.  163.   89.  267.   86.\n",
      " 183.  141.  173.  135.   81.  100.  145.  112.  181.  144. ]\n",
      "column horsepower\n",
      "['130' '165' '150' '140' '198' '220' '215' '225' '190' '170' '160' '95'\n",
      " '97' '85' '88' '46' '87' '90' '113' '200' '210' '193' '?' '100' '105'\n",
      " '175' '153' '180' '110' '72' '86' '70' '76' '65' '69' '60' '80' '54'\n",
      " '208' '155' '112' '92' '145' '137' '158' '167' '94' '107' '230' '49' '75'\n",
      " '91' '122' '67' '83' '78' '52' '61' '93' '148' '129' '96' '71' '98' '115'\n",
      " '53' '81' '79' '120' '152' '102' '108' '68' '58' '149' '89' '63' '48'\n",
      " '66' '139' '103' '125' '133' '138' '135' '142' '77' '62' '132' '84' '64'\n",
      " '74' '116' '82']\n",
      "column weight\n",
      "[3504 3693 3436 3433 3449 4341 4354 4312 4425 3850 3563 3609 3761 3086\n",
      " 2372 2833 2774 2587 2130 1835 2672 2430 2375 2234 2648 4615 4376 4382\n",
      " 4732 2264 2228 2046 2634 3439 3329 3302 3288 4209 4464 4154 4096 4955\n",
      " 4746 5140 2962 2408 3282 3139 2220 2123 2074 2065 1773 1613 1834 1955\n",
      " 2278 2126 2254 2226 4274 4385 4135 4129 3672 4633 4502 4456 4422 2330\n",
      " 3892 4098 4294 4077 2933 2511 2979 2189 2395 2288 2506 2164 2100 4100\n",
      " 3988 4042 3777 4952 4363 4237 4735 4951 3821 3121 3278 2945 3021 2904\n",
      " 1950 4997 4906 4654 4499 2789 2279 2401 2379 2124 2310 2472 2265 4082\n",
      " 4278 1867 2158 2582 2868 3399 2660 2807 3664 3102 2875 2901 3336 2451\n",
      " 1836 2542 3781 3632 3613 4141 4699 4457 4638 4257 2219 1963 2300 1649\n",
      " 2003 2125 2108 2246 2489 2391 2000 3264 3459 3432 3158 4668 4440 4498\n",
      " 4657 3907 3897 3730 3785 3039 3221 3169 2171 2639 2914 2592 2702 2223\n",
      " 2545 2984 1937 3211 2694 2957 2671 1795 2464 2572 2255 2202 4215 4190\n",
      " 3962 3233 3353 3012 3085 2035 3651 3574 3645 3193 1825 1990 2155 2565\n",
      " 3150 3940 3270 2930 3820 4380 4055 3870 3755 2045 1945 3880 4060 4140\n",
      " 4295 3520 3425 3630 3525 4220 4165 4325 4335 1940 2740 2755 2051 2075\n",
      " 1985 2190 2815 2600 2720 1800 2070 3365 3735 3570 3535 3155 2965 3430\n",
      " 3210 3380 3070 3620 3410 3445 3205 4080 2560 2230 2515 2745 2855 2405\n",
      " 2830 3140 2795 2135 3245 2990 2890 3265 3360 3840 3725 3955 3830 4360\n",
      " 4054 3605 1925 1975 1915 2670 3530 3900 3190 3420 2200 2150 2020 2595\n",
      " 2700 2556 2144 1968 2120 2019 2678 2870 3003 3381 2188 2711 2434 2110\n",
      " 2800 2085 2335 2950 3250 1850 2145 1845 2910 2420 2500 2905 2290 2490\n",
      " 2635 2620 2725 2385 1755 1875 1760 2050 2215 2380 2320 2210 2350 2615\n",
      " 3230 3160 2900 3415 3060 3465 2605 2640 2575 2525 2735 2865 3035 1980\n",
      " 2025 1970 2160 2205 2245 1965 1995 3015 2585 2835 2665 2370 2790 2295\n",
      " 2625]\n",
      "column acceleration\n",
      "[12.  11.5 11.  10.5 10.   9.   8.5  8.   9.5 15.  15.5 16.  14.5 20.5\n",
      " 17.5 12.5 14.  13.5 18.5 19.  13.  19.5 18.  17.  23.5 16.5 21.  16.9\n",
      " 14.9 17.7 15.3 13.9 12.8 15.4 17.6 22.2 22.1 14.2 17.4 16.2 17.8 12.2\n",
      " 16.4 13.6 15.7 13.2 21.9 16.7 12.1 14.8 18.6 16.8 13.7 11.1 11.4 18.2\n",
      " 15.8 15.9 14.1 21.5 14.4 19.4 19.2 17.2 18.7 15.1 13.4 11.2 14.7 16.6\n",
      " 17.3 15.2 14.3 20.1 24.8 11.3 12.9 18.8 18.1 17.9 21.7 23.7 19.9 21.8\n",
      " 13.8 12.6 16.1 20.7 18.3 20.4 19.6 17.1 15.6 24.6 11.6]\n",
      "column model year\n",
      "[70 71 72 73 74 75 76 77 78 79 80 81 82]\n",
      "column origin\n",
      "[1 3 2]\n",
      "column car name\n",
      "['chevrolet chevelle malibu' 'buick skylark 320' 'plymouth satellite'\n",
      " 'amc rebel sst' 'ford torino' 'ford galaxie 500' 'chevrolet impala'\n",
      " 'plymouth fury iii' 'pontiac catalina' 'amc ambassador dpl'\n",
      " 'dodge challenger se' \"plymouth 'cuda 340\" 'chevrolet monte carlo'\n",
      " 'buick estate wagon (sw)' 'toyota corona mark ii' 'plymouth duster'\n",
      " 'amc hornet' 'ford maverick' 'datsun pl510'\n",
      " 'volkswagen 1131 deluxe sedan' 'peugeot 504' 'audi 100 ls' 'saab 99e'\n",
      " 'bmw 2002' 'amc gremlin' 'ford f250' 'chevy c20' 'dodge d200' 'hi 1200d'\n",
      " 'chevrolet vega 2300' 'toyota corona' 'ford pinto'\n",
      " 'plymouth satellite custom' 'ford torino 500' 'amc matador'\n",
      " 'pontiac catalina brougham' 'dodge monaco (sw)'\n",
      " 'ford country squire (sw)' 'pontiac safari (sw)'\n",
      " 'amc hornet sportabout (sw)' 'chevrolet vega (sw)' 'pontiac firebird'\n",
      " 'ford mustang' 'mercury capri 2000' 'opel 1900' 'peugeot 304' 'fiat 124b'\n",
      " 'toyota corolla 1200' 'datsun 1200' 'volkswagen model 111'\n",
      " 'plymouth cricket' 'toyota corona hardtop' 'dodge colt hardtop'\n",
      " 'volkswagen type 3' 'chevrolet vega' 'ford pinto runabout'\n",
      " 'amc ambassador sst' 'mercury marquis' 'buick lesabre custom'\n",
      " 'oldsmobile delta 88 royale' 'chrysler newport royal' 'mazda rx2 coupe'\n",
      " 'amc matador (sw)' 'chevrolet chevelle concours (sw)'\n",
      " 'ford gran torino (sw)' 'plymouth satellite custom (sw)'\n",
      " 'volvo 145e (sw)' 'volkswagen 411 (sw)' 'peugeot 504 (sw)'\n",
      " 'renault 12 (sw)' 'ford pinto (sw)' 'datsun 510 (sw)'\n",
      " 'toyouta corona mark ii (sw)' 'dodge colt (sw)'\n",
      " 'toyota corolla 1600 (sw)' 'buick century 350' 'chevrolet malibu'\n",
      " 'ford gran torino' 'dodge coronet custom' 'mercury marquis brougham'\n",
      " 'chevrolet caprice classic' 'ford ltd' 'plymouth fury gran sedan'\n",
      " 'chrysler new yorker brougham' 'buick electra 225 custom'\n",
      " 'amc ambassador brougham' 'plymouth valiant' 'chevrolet nova custom'\n",
      " 'volkswagen super beetle' 'ford country' 'plymouth custom suburb'\n",
      " 'oldsmobile vista cruiser' 'toyota carina' 'datsun 610' 'maxda rx3'\n",
      " 'mercury capri v6' 'fiat 124 sport coupe' 'chevrolet monte carlo s'\n",
      " 'pontiac grand prix' 'fiat 128' 'opel manta' 'audi 100ls' 'volvo 144ea'\n",
      " 'dodge dart custom' 'saab 99le' 'toyota mark ii' 'oldsmobile omega'\n",
      " 'chevrolet nova' 'datsun b210' 'chevrolet chevelle malibu classic'\n",
      " 'plymouth satellite sebring' 'buick century luxus (sw)'\n",
      " 'dodge coronet custom (sw)' 'audi fox' 'volkswagen dasher' 'datsun 710'\n",
      " 'dodge colt' 'fiat 124 tc' 'honda civic' 'subaru' 'fiat x1.9'\n",
      " 'plymouth valiant custom' 'mercury monarch' 'chevrolet bel air'\n",
      " 'plymouth grand fury' 'buick century' 'chevroelt chevelle malibu'\n",
      " 'plymouth fury' 'buick skyhawk' 'chevrolet monza 2+2' 'ford mustang ii'\n",
      " 'toyota corolla' 'pontiac astro' 'volkswagen rabbit' 'amc pacer'\n",
      " 'volvo 244dl' 'honda civic cvcc' 'fiat 131' 'capri ii' 'renault 12tl'\n",
      " 'dodge coronet brougham' 'chevrolet chevette' 'chevrolet woody'\n",
      " 'vw rabbit' 'dodge aspen se' 'ford granada ghia' 'pontiac ventura sj'\n",
      " 'amc pacer d/l' 'datsun b-210' 'volvo 245' 'plymouth volare premier v8'\n",
      " 'mercedes-benz 280s' 'cadillac seville' 'chevy c10' 'ford f108'\n",
      " 'dodge d100' 'honda accord cvcc' 'buick opel isuzu deluxe'\n",
      " 'renault 5 gtl' 'plymouth arrow gs' 'datsun f-10 hatchback'\n",
      " 'oldsmobile cutlass supreme' 'dodge monaco brougham'\n",
      " 'mercury cougar brougham' 'chevrolet concours' 'buick skylark'\n",
      " 'plymouth volare custom' 'ford granada' 'pontiac grand prix lj'\n",
      " 'chevrolet monte carlo landau' 'chrysler cordoba' 'ford thunderbird'\n",
      " 'volkswagen rabbit custom' 'pontiac sunbird coupe'\n",
      " 'toyota corolla liftback' 'ford mustang ii 2+2' 'dodge colt m/m'\n",
      " 'subaru dl' 'datsun 810' 'bmw 320i' 'mazda rx-4'\n",
      " 'volkswagen rabbit custom diesel' 'ford fiesta' 'mazda glc deluxe'\n",
      " 'datsun b210 gx' 'oldsmobile cutlass salon brougham' 'dodge diplomat'\n",
      " 'mercury monarch ghia' 'pontiac phoenix lj' 'ford fairmont (auto)'\n",
      " 'ford fairmont (man)' 'plymouth volare' 'amc concord'\n",
      " 'buick century special' 'mercury zephyr' 'dodge aspen' 'amc concord d/l'\n",
      " 'buick regal sport coupe (turbo)' 'ford futura' 'dodge magnum xe'\n",
      " 'datsun 510' 'dodge omni' 'toyota celica gt liftback' 'plymouth sapporo'\n",
      " 'oldsmobile starfire sx' 'datsun 200-sx' 'audi 5000' 'volvo 264gl'\n",
      " 'saab 99gle' 'peugeot 604sl' 'volkswagen scirocco' 'honda accord lx'\n",
      " 'pontiac lemans v6' 'mercury zephyr 6' 'ford fairmont 4'\n",
      " 'amc concord dl 6' 'dodge aspen 6' 'ford ltd landau'\n",
      " 'mercury grand marquis' 'dodge st. regis' 'chevrolet malibu classic (sw)'\n",
      " 'chrysler lebaron town @ country (sw)' 'vw rabbit custom'\n",
      " 'maxda glc deluxe' 'dodge colt hatchback custom' 'amc spirit dl'\n",
      " 'mercedes benz 300d' 'cadillac eldorado' 'plymouth horizon'\n",
      " 'plymouth horizon tc3' 'datsun 210' 'fiat strada custom'\n",
      " 'buick skylark limited' 'chevrolet citation' 'oldsmobile omega brougham'\n",
      " 'pontiac phoenix' 'toyota corolla tercel' 'datsun 310' 'ford fairmont'\n",
      " 'audi 4000' 'toyota corona liftback' 'mazda 626' 'datsun 510 hatchback'\n",
      " 'mazda glc' 'vw rabbit c (diesel)' 'vw dasher (diesel)'\n",
      " 'audi 5000s (diesel)' 'mercedes-benz 240d' 'honda civic 1500 gl'\n",
      " 'renault lecar deluxe' 'vokswagen rabbit' 'datsun 280-zx' 'mazda rx-7 gs'\n",
      " 'triumph tr7 coupe' 'ford mustang cobra' 'honda accord'\n",
      " 'plymouth reliant' 'dodge aries wagon (sw)' 'toyota starlet'\n",
      " 'plymouth champ' 'honda civic 1300' 'datsun 210 mpg' 'toyota tercel'\n",
      " 'mazda glc 4' 'plymouth horizon 4' 'ford escort 4w' 'ford escort 2h'\n",
      " 'volkswagen jetta' 'renault 18i' 'honda prelude' 'datsun 200sx'\n",
      " 'peugeot 505s turbo diesel' 'volvo diesel' 'toyota cressida'\n",
      " 'datsun 810 maxima' 'oldsmobile cutlass ls' 'ford granada gl'\n",
      " 'chrysler lebaron salon' 'chevrolet cavalier' 'chevrolet cavalier wagon'\n",
      " 'chevrolet cavalier 2-door' 'pontiac j2000 se hatchback' 'dodge aries se'\n",
      " 'ford fairmont futura' 'amc concord dl' 'volkswagen rabbit l'\n",
      " 'mazda glc custom l' 'mazda glc custom' 'plymouth horizon miser'\n",
      " 'mercury lynx l' 'nissan stanza xe' 'honda civic (auto)' 'datsun 310 gx'\n",
      " 'buick century limited' 'oldsmobile cutlass ciera (diesel)'\n",
      " 'chrysler lebaron medallion' 'ford granada l' 'toyota celica gt'\n",
      " 'dodge charger 2.2' 'chevrolet camaro' 'ford mustang gl' 'vw pickup'\n",
      " 'dodge rampage' 'ford ranger' 'chevy s-10']\n"
     ]
    }
   ],
   "source": [
    "for i in df.columns:\n",
    "    print(\"column\",i)\n",
    "    print(df[i].unique())"
   ]
  },
  {
   "cell_type": "code",
   "execution_count": 14,
   "id": "80fd377d",
   "metadata": {
    "execution": {
     "iopub.execute_input": "2023-08-28T14:01:45.490886Z",
     "iopub.status.busy": "2023-08-28T14:01:45.489888Z",
     "iopub.status.idle": "2023-08-28T14:01:45.495591Z",
     "shell.execute_reply": "2023-08-28T14:01:45.494786Z"
    },
    "papermill": {
     "duration": 0.02071,
     "end_time": "2023-08-28T14:01:45.498124",
     "exception": false,
     "start_time": "2023-08-28T14:01:45.477414",
     "status": "completed"
    },
    "tags": []
   },
   "outputs": [],
   "source": [
    "df.horsepower.replace('?',np.nan,inplace=True)"
   ]
  },
  {
   "cell_type": "code",
   "execution_count": 15,
   "id": "56a2fe59",
   "metadata": {
    "execution": {
     "iopub.execute_input": "2023-08-28T14:01:45.527545Z",
     "iopub.status.busy": "2023-08-28T14:01:45.526753Z",
     "iopub.status.idle": "2023-08-28T14:01:45.532546Z",
     "shell.execute_reply": "2023-08-28T14:01:45.531772Z"
    },
    "papermill": {
     "duration": 0.023336,
     "end_time": "2023-08-28T14:01:45.534791",
     "exception": false,
     "start_time": "2023-08-28T14:01:45.511455",
     "status": "completed"
    },
    "tags": []
   },
   "outputs": [],
   "source": [
    "df.horsepower = pd.to_numeric(df.horsepower)"
   ]
  },
  {
   "cell_type": "code",
   "execution_count": 16,
   "id": "c691bc14",
   "metadata": {
    "execution": {
     "iopub.execute_input": "2023-08-28T14:01:45.559021Z",
     "iopub.status.busy": "2023-08-28T14:01:45.558223Z",
     "iopub.status.idle": "2023-08-28T14:01:45.578945Z",
     "shell.execute_reply": "2023-08-28T14:01:45.577686Z"
    },
    "papermill": {
     "duration": 0.036626,
     "end_time": "2023-08-28T14:01:45.581466",
     "exception": false,
     "start_time": "2023-08-28T14:01:45.544840",
     "status": "completed"
    },
    "tags": []
   },
   "outputs": [
    {
     "data": {
      "text/html": [
       "<div>\n",
       "<style scoped>\n",
       "    .dataframe tbody tr th:only-of-type {\n",
       "        vertical-align: middle;\n",
       "    }\n",
       "\n",
       "    .dataframe tbody tr th {\n",
       "        vertical-align: top;\n",
       "    }\n",
       "\n",
       "    .dataframe thead th {\n",
       "        text-align: right;\n",
       "    }\n",
       "</style>\n",
       "<table border=\"1\" class=\"dataframe\">\n",
       "  <thead>\n",
       "    <tr style=\"text-align: right;\">\n",
       "      <th></th>\n",
       "      <th>mpg</th>\n",
       "      <th>cylinders</th>\n",
       "      <th>displacement</th>\n",
       "      <th>horsepower</th>\n",
       "      <th>weight</th>\n",
       "      <th>acceleration</th>\n",
       "      <th>model year</th>\n",
       "      <th>origin</th>\n",
       "      <th>car name</th>\n",
       "    </tr>\n",
       "  </thead>\n",
       "  <tbody>\n",
       "    <tr>\n",
       "      <th>0</th>\n",
       "      <td>18.0</td>\n",
       "      <td>8</td>\n",
       "      <td>307.0</td>\n",
       "      <td>130.0</td>\n",
       "      <td>3504</td>\n",
       "      <td>12.0</td>\n",
       "      <td>70</td>\n",
       "      <td>1</td>\n",
       "      <td>chevrolet chevelle malibu</td>\n",
       "    </tr>\n",
       "    <tr>\n",
       "      <th>1</th>\n",
       "      <td>15.0</td>\n",
       "      <td>8</td>\n",
       "      <td>350.0</td>\n",
       "      <td>165.0</td>\n",
       "      <td>3693</td>\n",
       "      <td>11.5</td>\n",
       "      <td>70</td>\n",
       "      <td>1</td>\n",
       "      <td>buick skylark 320</td>\n",
       "    </tr>\n",
       "    <tr>\n",
       "      <th>2</th>\n",
       "      <td>18.0</td>\n",
       "      <td>8</td>\n",
       "      <td>318.0</td>\n",
       "      <td>150.0</td>\n",
       "      <td>3436</td>\n",
       "      <td>11.0</td>\n",
       "      <td>70</td>\n",
       "      <td>1</td>\n",
       "      <td>plymouth satellite</td>\n",
       "    </tr>\n",
       "    <tr>\n",
       "      <th>3</th>\n",
       "      <td>16.0</td>\n",
       "      <td>8</td>\n",
       "      <td>304.0</td>\n",
       "      <td>150.0</td>\n",
       "      <td>3433</td>\n",
       "      <td>12.0</td>\n",
       "      <td>70</td>\n",
       "      <td>1</td>\n",
       "      <td>amc rebel sst</td>\n",
       "    </tr>\n",
       "    <tr>\n",
       "      <th>4</th>\n",
       "      <td>17.0</td>\n",
       "      <td>8</td>\n",
       "      <td>302.0</td>\n",
       "      <td>140.0</td>\n",
       "      <td>3449</td>\n",
       "      <td>10.5</td>\n",
       "      <td>70</td>\n",
       "      <td>1</td>\n",
       "      <td>ford torino</td>\n",
       "    </tr>\n",
       "    <tr>\n",
       "      <th>...</th>\n",
       "      <td>...</td>\n",
       "      <td>...</td>\n",
       "      <td>...</td>\n",
       "      <td>...</td>\n",
       "      <td>...</td>\n",
       "      <td>...</td>\n",
       "      <td>...</td>\n",
       "      <td>...</td>\n",
       "      <td>...</td>\n",
       "    </tr>\n",
       "    <tr>\n",
       "      <th>393</th>\n",
       "      <td>27.0</td>\n",
       "      <td>4</td>\n",
       "      <td>140.0</td>\n",
       "      <td>86.0</td>\n",
       "      <td>2790</td>\n",
       "      <td>15.6</td>\n",
       "      <td>82</td>\n",
       "      <td>1</td>\n",
       "      <td>ford mustang gl</td>\n",
       "    </tr>\n",
       "    <tr>\n",
       "      <th>394</th>\n",
       "      <td>44.0</td>\n",
       "      <td>4</td>\n",
       "      <td>97.0</td>\n",
       "      <td>52.0</td>\n",
       "      <td>2130</td>\n",
       "      <td>24.6</td>\n",
       "      <td>82</td>\n",
       "      <td>2</td>\n",
       "      <td>vw pickup</td>\n",
       "    </tr>\n",
       "    <tr>\n",
       "      <th>395</th>\n",
       "      <td>32.0</td>\n",
       "      <td>4</td>\n",
       "      <td>135.0</td>\n",
       "      <td>84.0</td>\n",
       "      <td>2295</td>\n",
       "      <td>11.6</td>\n",
       "      <td>82</td>\n",
       "      <td>1</td>\n",
       "      <td>dodge rampage</td>\n",
       "    </tr>\n",
       "    <tr>\n",
       "      <th>396</th>\n",
       "      <td>28.0</td>\n",
       "      <td>4</td>\n",
       "      <td>120.0</td>\n",
       "      <td>79.0</td>\n",
       "      <td>2625</td>\n",
       "      <td>18.6</td>\n",
       "      <td>82</td>\n",
       "      <td>1</td>\n",
       "      <td>ford ranger</td>\n",
       "    </tr>\n",
       "    <tr>\n",
       "      <th>397</th>\n",
       "      <td>31.0</td>\n",
       "      <td>4</td>\n",
       "      <td>119.0</td>\n",
       "      <td>82.0</td>\n",
       "      <td>2720</td>\n",
       "      <td>19.4</td>\n",
       "      <td>82</td>\n",
       "      <td>1</td>\n",
       "      <td>chevy s-10</td>\n",
       "    </tr>\n",
       "  </tbody>\n",
       "</table>\n",
       "<p>398 rows × 9 columns</p>\n",
       "</div>"
      ],
      "text/plain": [
       "      mpg  cylinders  displacement  horsepower  weight  acceleration  \\\n",
       "0    18.0          8         307.0       130.0    3504          12.0   \n",
       "1    15.0          8         350.0       165.0    3693          11.5   \n",
       "2    18.0          8         318.0       150.0    3436          11.0   \n",
       "3    16.0          8         304.0       150.0    3433          12.0   \n",
       "4    17.0          8         302.0       140.0    3449          10.5   \n",
       "..    ...        ...           ...         ...     ...           ...   \n",
       "393  27.0          4         140.0        86.0    2790          15.6   \n",
       "394  44.0          4          97.0        52.0    2130          24.6   \n",
       "395  32.0          4         135.0        84.0    2295          11.6   \n",
       "396  28.0          4         120.0        79.0    2625          18.6   \n",
       "397  31.0          4         119.0        82.0    2720          19.4   \n",
       "\n",
       "     model year  origin                   car name  \n",
       "0            70       1  chevrolet chevelle malibu  \n",
       "1            70       1          buick skylark 320  \n",
       "2            70       1         plymouth satellite  \n",
       "3            70       1              amc rebel sst  \n",
       "4            70       1                ford torino  \n",
       "..          ...     ...                        ...  \n",
       "393          82       1            ford mustang gl  \n",
       "394          82       2                  vw pickup  \n",
       "395          82       1              dodge rampage  \n",
       "396          82       1                ford ranger  \n",
       "397          82       1                 chevy s-10  \n",
       "\n",
       "[398 rows x 9 columns]"
      ]
     },
     "execution_count": 16,
     "metadata": {},
     "output_type": "execute_result"
    }
   ],
   "source": [
    "df"
   ]
  },
  {
   "cell_type": "code",
   "execution_count": 17,
   "id": "c6568a28",
   "metadata": {
    "execution": {
     "iopub.execute_input": "2023-08-28T14:01:45.604556Z",
     "iopub.status.busy": "2023-08-28T14:01:45.603557Z",
     "iopub.status.idle": "2023-08-28T14:01:45.615731Z",
     "shell.execute_reply": "2023-08-28T14:01:45.614489Z"
    },
    "papermill": {
     "duration": 0.027132,
     "end_time": "2023-08-28T14:01:45.619044",
     "exception": false,
     "start_time": "2023-08-28T14:01:45.591912",
     "status": "completed"
    },
    "tags": []
   },
   "outputs": [
    {
     "name": "stdout",
     "output_type": "stream",
     "text": [
      "<class 'pandas.core.frame.DataFrame'>\n",
      "RangeIndex: 398 entries, 0 to 397\n",
      "Data columns (total 9 columns):\n",
      " #   Column        Non-Null Count  Dtype  \n",
      "---  ------        --------------  -----  \n",
      " 0   mpg           398 non-null    float64\n",
      " 1   cylinders     398 non-null    int64  \n",
      " 2   displacement  398 non-null    float64\n",
      " 3   horsepower    392 non-null    float64\n",
      " 4   weight        398 non-null    int64  \n",
      " 5   acceleration  398 non-null    float64\n",
      " 6   model year    398 non-null    int64  \n",
      " 7   origin        398 non-null    int64  \n",
      " 8   car name      398 non-null    object \n",
      "dtypes: float64(4), int64(4), object(1)\n",
      "memory usage: 28.1+ KB\n"
     ]
    }
   ],
   "source": [
    "df.info()"
   ]
  },
  {
   "cell_type": "code",
   "execution_count": 18,
   "id": "16d77ca7",
   "metadata": {
    "execution": {
     "iopub.execute_input": "2023-08-28T14:01:45.641743Z",
     "iopub.status.busy": "2023-08-28T14:01:45.641367Z",
     "iopub.status.idle": "2023-08-28T14:01:45.651770Z",
     "shell.execute_reply": "2023-08-28T14:01:45.650255Z"
    },
    "papermill": {
     "duration": 0.024581,
     "end_time": "2023-08-28T14:01:45.654225",
     "exception": false,
     "start_time": "2023-08-28T14:01:45.629644",
     "status": "completed"
    },
    "tags": []
   },
   "outputs": [
    {
     "name": "stdout",
     "output_type": "stream",
     "text": [
      "Missing VaLues in  Horsepower 6\n"
     ]
    },
    {
     "data": {
      "text/plain": [
       "32    NaN\n",
       "126   NaN\n",
       "330   NaN\n",
       "336   NaN\n",
       "354   NaN\n",
       "374   NaN\n",
       "Name: horsepower, dtype: float64"
      ]
     },
     "execution_count": 18,
     "metadata": {},
     "output_type": "execute_result"
    }
   ],
   "source": [
    "print(\"Missing VaLues in  Horsepower\",df.horsepower.isnull().sum())\n",
    "df.horsepower[df.horsepower.isnull()]"
   ]
  },
  {
   "cell_type": "code",
   "execution_count": 19,
   "id": "29fcede4",
   "metadata": {
    "execution": {
     "iopub.execute_input": "2023-08-28T14:01:45.677836Z",
     "iopub.status.busy": "2023-08-28T14:01:45.676769Z",
     "iopub.status.idle": "2023-08-28T14:01:47.282640Z",
     "shell.execute_reply": "2023-08-28T14:01:47.281419Z"
    },
    "papermill": {
     "duration": 1.620212,
     "end_time": "2023-08-28T14:01:47.285058",
     "exception": false,
     "start_time": "2023-08-28T14:01:45.664846",
     "status": "completed"
    },
    "tags": []
   },
   "outputs": [
    {
     "name": "stderr",
     "output_type": "stream",
     "text": [
      "/opt/conda/lib/python3.10/site-packages/scipy/__init__.py:146: UserWarning: A NumPy version >=1.16.5 and <1.23.0 is required for this version of SciPy (detected version 1.23.5\n",
      "  warnings.warn(f\"A NumPy version >={np_minversion} and <{np_maxversion}\"\n"
     ]
    }
   ],
   "source": [
    "from sklearn.impute import SimpleImputer\n",
    "imputer = SimpleImputer(missing_values=np.nan, strategy='mean')\n",
    "temp = np.array(df.horsepower)\n",
    "imputer.fit(temp.reshape(-1,1))\n",
    "df.horsepower = imputer.transform(temp.reshape(-1,1))"
   ]
  },
  {
   "cell_type": "code",
   "execution_count": 20,
   "id": "a2ebb216",
   "metadata": {
    "execution": {
     "iopub.execute_input": "2023-08-28T14:01:47.307925Z",
     "iopub.status.busy": "2023-08-28T14:01:47.307527Z",
     "iopub.status.idle": "2023-08-28T14:01:47.315430Z",
     "shell.execute_reply": "2023-08-28T14:01:47.314212Z"
    },
    "papermill": {
     "duration": 0.021857,
     "end_time": "2023-08-28T14:01:47.317549",
     "exception": false,
     "start_time": "2023-08-28T14:01:47.295692",
     "status": "completed"
    },
    "tags": []
   },
   "outputs": [
    {
     "data": {
      "text/plain": [
       "Series([], Name: horsepower, dtype: float64)"
      ]
     },
     "execution_count": 20,
     "metadata": {},
     "output_type": "execute_result"
    }
   ],
   "source": [
    "df.horsepower[df.horsepower.isnull()]"
   ]
  },
  {
   "cell_type": "code",
   "execution_count": 21,
   "id": "e17fb387",
   "metadata": {
    "execution": {
     "iopub.execute_input": "2023-08-28T14:01:47.340478Z",
     "iopub.status.busy": "2023-08-28T14:01:47.340070Z",
     "iopub.status.idle": "2023-08-28T14:01:47.346100Z",
     "shell.execute_reply": "2023-08-28T14:01:47.345013Z"
    },
    "papermill": {
     "duration": 0.020296,
     "end_time": "2023-08-28T14:01:47.348511",
     "exception": false,
     "start_time": "2023-08-28T14:01:47.328215",
     "status": "completed"
    },
    "tags": []
   },
   "outputs": [
    {
     "name": "stdout",
     "output_type": "stream",
     "text": [
      "After replacing with mean missing data =  0\n"
     ]
    }
   ],
   "source": [
    "print(\"After replacing with mean missing data = \",df.horsepower.isnull().sum())\n"
   ]
  },
  {
   "cell_type": "code",
   "execution_count": 22,
   "id": "cd05fe69",
   "metadata": {
    "execution": {
     "iopub.execute_input": "2023-08-28T14:01:47.371985Z",
     "iopub.status.busy": "2023-08-28T14:01:47.371589Z",
     "iopub.status.idle": "2023-08-28T14:01:47.390453Z",
     "shell.execute_reply": "2023-08-28T14:01:47.389332Z"
    },
    "papermill": {
     "duration": 0.033402,
     "end_time": "2023-08-28T14:01:47.392991",
     "exception": false,
     "start_time": "2023-08-28T14:01:47.359589",
     "status": "completed"
    },
    "tags": []
   },
   "outputs": [
    {
     "name": "stderr",
     "output_type": "stream",
     "text": [
      "/tmp/ipykernel_21/1134722465.py:1: FutureWarning: The default value of numeric_only in DataFrame.corr is deprecated. In a future version, it will default to False. Select only valid columns or specify the value of numeric_only to silence this warning.\n",
      "  df.corr()\n"
     ]
    },
    {
     "data": {
      "text/html": [
       "<div>\n",
       "<style scoped>\n",
       "    .dataframe tbody tr th:only-of-type {\n",
       "        vertical-align: middle;\n",
       "    }\n",
       "\n",
       "    .dataframe tbody tr th {\n",
       "        vertical-align: top;\n",
       "    }\n",
       "\n",
       "    .dataframe thead th {\n",
       "        text-align: right;\n",
       "    }\n",
       "</style>\n",
       "<table border=\"1\" class=\"dataframe\">\n",
       "  <thead>\n",
       "    <tr style=\"text-align: right;\">\n",
       "      <th></th>\n",
       "      <th>mpg</th>\n",
       "      <th>cylinders</th>\n",
       "      <th>displacement</th>\n",
       "      <th>horsepower</th>\n",
       "      <th>weight</th>\n",
       "      <th>acceleration</th>\n",
       "      <th>model year</th>\n",
       "      <th>origin</th>\n",
       "    </tr>\n",
       "  </thead>\n",
       "  <tbody>\n",
       "    <tr>\n",
       "      <th>mpg</th>\n",
       "      <td>1.000000</td>\n",
       "      <td>-0.775396</td>\n",
       "      <td>-0.804203</td>\n",
       "      <td>-0.771437</td>\n",
       "      <td>-0.831741</td>\n",
       "      <td>0.420289</td>\n",
       "      <td>0.579267</td>\n",
       "      <td>0.563450</td>\n",
       "    </tr>\n",
       "    <tr>\n",
       "      <th>cylinders</th>\n",
       "      <td>-0.775396</td>\n",
       "      <td>1.000000</td>\n",
       "      <td>0.950721</td>\n",
       "      <td>0.838939</td>\n",
       "      <td>0.896017</td>\n",
       "      <td>-0.505419</td>\n",
       "      <td>-0.348746</td>\n",
       "      <td>-0.562543</td>\n",
       "    </tr>\n",
       "    <tr>\n",
       "      <th>displacement</th>\n",
       "      <td>-0.804203</td>\n",
       "      <td>0.950721</td>\n",
       "      <td>1.000000</td>\n",
       "      <td>0.893646</td>\n",
       "      <td>0.932824</td>\n",
       "      <td>-0.543684</td>\n",
       "      <td>-0.370164</td>\n",
       "      <td>-0.609409</td>\n",
       "    </tr>\n",
       "    <tr>\n",
       "      <th>horsepower</th>\n",
       "      <td>-0.771437</td>\n",
       "      <td>0.838939</td>\n",
       "      <td>0.893646</td>\n",
       "      <td>1.000000</td>\n",
       "      <td>0.860574</td>\n",
       "      <td>-0.684259</td>\n",
       "      <td>-0.411651</td>\n",
       "      <td>-0.453669</td>\n",
       "    </tr>\n",
       "    <tr>\n",
       "      <th>weight</th>\n",
       "      <td>-0.831741</td>\n",
       "      <td>0.896017</td>\n",
       "      <td>0.932824</td>\n",
       "      <td>0.860574</td>\n",
       "      <td>1.000000</td>\n",
       "      <td>-0.417457</td>\n",
       "      <td>-0.306564</td>\n",
       "      <td>-0.581024</td>\n",
       "    </tr>\n",
       "    <tr>\n",
       "      <th>acceleration</th>\n",
       "      <td>0.420289</td>\n",
       "      <td>-0.505419</td>\n",
       "      <td>-0.543684</td>\n",
       "      <td>-0.684259</td>\n",
       "      <td>-0.417457</td>\n",
       "      <td>1.000000</td>\n",
       "      <td>0.288137</td>\n",
       "      <td>0.205873</td>\n",
       "    </tr>\n",
       "    <tr>\n",
       "      <th>model year</th>\n",
       "      <td>0.579267</td>\n",
       "      <td>-0.348746</td>\n",
       "      <td>-0.370164</td>\n",
       "      <td>-0.411651</td>\n",
       "      <td>-0.306564</td>\n",
       "      <td>0.288137</td>\n",
       "      <td>1.000000</td>\n",
       "      <td>0.180662</td>\n",
       "    </tr>\n",
       "    <tr>\n",
       "      <th>origin</th>\n",
       "      <td>0.563450</td>\n",
       "      <td>-0.562543</td>\n",
       "      <td>-0.609409</td>\n",
       "      <td>-0.453669</td>\n",
       "      <td>-0.581024</td>\n",
       "      <td>0.205873</td>\n",
       "      <td>0.180662</td>\n",
       "      <td>1.000000</td>\n",
       "    </tr>\n",
       "  </tbody>\n",
       "</table>\n",
       "</div>"
      ],
      "text/plain": [
       "                   mpg  cylinders  displacement  horsepower    weight  \\\n",
       "mpg           1.000000  -0.775396     -0.804203   -0.771437 -0.831741   \n",
       "cylinders    -0.775396   1.000000      0.950721    0.838939  0.896017   \n",
       "displacement -0.804203   0.950721      1.000000    0.893646  0.932824   \n",
       "horsepower   -0.771437   0.838939      0.893646    1.000000  0.860574   \n",
       "weight       -0.831741   0.896017      0.932824    0.860574  1.000000   \n",
       "acceleration  0.420289  -0.505419     -0.543684   -0.684259 -0.417457   \n",
       "model year    0.579267  -0.348746     -0.370164   -0.411651 -0.306564   \n",
       "origin        0.563450  -0.562543     -0.609409   -0.453669 -0.581024   \n",
       "\n",
       "              acceleration  model year    origin  \n",
       "mpg               0.420289    0.579267  0.563450  \n",
       "cylinders        -0.505419   -0.348746 -0.562543  \n",
       "displacement     -0.543684   -0.370164 -0.609409  \n",
       "horsepower       -0.684259   -0.411651 -0.453669  \n",
       "weight           -0.417457   -0.306564 -0.581024  \n",
       "acceleration      1.000000    0.288137  0.205873  \n",
       "model year        0.288137    1.000000  0.180662  \n",
       "origin            0.205873    0.180662  1.000000  "
      ]
     },
     "execution_count": 22,
     "metadata": {},
     "output_type": "execute_result"
    }
   ],
   "source": [
    "df.corr()"
   ]
  },
  {
   "cell_type": "code",
   "execution_count": 23,
   "id": "40503768",
   "metadata": {
    "execution": {
     "iopub.execute_input": "2023-08-28T14:01:47.416709Z",
     "iopub.status.busy": "2023-08-28T14:01:47.416007Z",
     "iopub.status.idle": "2023-08-28T14:01:47.420003Z",
     "shell.execute_reply": "2023-08-28T14:01:47.419272Z"
    },
    "papermill": {
     "duration": 0.01788,
     "end_time": "2023-08-28T14:01:47.421777",
     "exception": false,
     "start_time": "2023-08-28T14:01:47.403897",
     "status": "completed"
    },
    "tags": []
   },
   "outputs": [],
   "source": [
    "#We Have done all data cleaning as well as filling missing values\n",
    "#which mean our data preprocessing phase is completed\n",
    "#Now It's time to split in train and test and import sklearn.linear model and predict"
   ]
  },
  {
   "cell_type": "code",
   "execution_count": 24,
   "id": "b66a284e",
   "metadata": {
    "execution": {
     "iopub.execute_input": "2023-08-28T14:01:47.445565Z",
     "iopub.status.busy": "2023-08-28T14:01:47.445149Z",
     "iopub.status.idle": "2023-08-28T14:01:47.452234Z",
     "shell.execute_reply": "2023-08-28T14:01:47.451035Z"
    },
    "papermill": {
     "duration": 0.021193,
     "end_time": "2023-08-28T14:01:47.454234",
     "exception": false,
     "start_time": "2023-08-28T14:01:47.433041",
     "status": "completed"
    },
    "tags": []
   },
   "outputs": [],
   "source": [
    "target = 'mpg'\n",
    "features = ['weight','acceleration','model year','origin']\n",
    "\n",
    "X = df[features]\n",
    "y = df[target]"
   ]
  },
  {
   "cell_type": "code",
   "execution_count": 25,
   "id": "aae6c0b6",
   "metadata": {
    "execution": {
     "iopub.execute_input": "2023-08-28T14:01:47.478255Z",
     "iopub.status.busy": "2023-08-28T14:01:47.477829Z",
     "iopub.status.idle": "2023-08-28T14:01:47.485489Z",
     "shell.execute_reply": "2023-08-28T14:01:47.484487Z"
    },
    "papermill": {
     "duration": 0.022624,
     "end_time": "2023-08-28T14:01:47.487904",
     "exception": false,
     "start_time": "2023-08-28T14:01:47.465280",
     "status": "completed"
    },
    "tags": []
   },
   "outputs": [],
   "source": [
    "from sklearn.model_selection import train_test_split\n",
    "X_train, X_test, y_train, y_test = train_test_split(X,y,test_size=0.2,random_state=1)"
   ]
  },
  {
   "cell_type": "code",
   "execution_count": 26,
   "id": "ecd004b2",
   "metadata": {
    "execution": {
     "iopub.execute_input": "2023-08-28T14:01:47.511869Z",
     "iopub.status.busy": "2023-08-28T14:01:47.511497Z",
     "iopub.status.idle": "2023-08-28T14:01:47.545351Z",
     "shell.execute_reply": "2023-08-28T14:01:47.544278Z"
    },
    "papermill": {
     "duration": 0.048839,
     "end_time": "2023-08-28T14:01:47.547763",
     "exception": false,
     "start_time": "2023-08-28T14:01:47.498924",
     "status": "completed"
    },
    "tags": []
   },
   "outputs": [
    {
     "data": {
      "text/html": [
       "<style>#sk-container-id-1 {color: black;background-color: white;}#sk-container-id-1 pre{padding: 0;}#sk-container-id-1 div.sk-toggleable {background-color: white;}#sk-container-id-1 label.sk-toggleable__label {cursor: pointer;display: block;width: 100%;margin-bottom: 0;padding: 0.3em;box-sizing: border-box;text-align: center;}#sk-container-id-1 label.sk-toggleable__label-arrow:before {content: \"▸\";float: left;margin-right: 0.25em;color: #696969;}#sk-container-id-1 label.sk-toggleable__label-arrow:hover:before {color: black;}#sk-container-id-1 div.sk-estimator:hover label.sk-toggleable__label-arrow:before {color: black;}#sk-container-id-1 div.sk-toggleable__content {max-height: 0;max-width: 0;overflow: hidden;text-align: left;background-color: #f0f8ff;}#sk-container-id-1 div.sk-toggleable__content pre {margin: 0.2em;color: black;border-radius: 0.25em;background-color: #f0f8ff;}#sk-container-id-1 input.sk-toggleable__control:checked~div.sk-toggleable__content {max-height: 200px;max-width: 100%;overflow: auto;}#sk-container-id-1 input.sk-toggleable__control:checked~label.sk-toggleable__label-arrow:before {content: \"▾\";}#sk-container-id-1 div.sk-estimator input.sk-toggleable__control:checked~label.sk-toggleable__label {background-color: #d4ebff;}#sk-container-id-1 div.sk-label input.sk-toggleable__control:checked~label.sk-toggleable__label {background-color: #d4ebff;}#sk-container-id-1 input.sk-hidden--visually {border: 0;clip: rect(1px 1px 1px 1px);clip: rect(1px, 1px, 1px, 1px);height: 1px;margin: -1px;overflow: hidden;padding: 0;position: absolute;width: 1px;}#sk-container-id-1 div.sk-estimator {font-family: monospace;background-color: #f0f8ff;border: 1px dotted black;border-radius: 0.25em;box-sizing: border-box;margin-bottom: 0.5em;}#sk-container-id-1 div.sk-estimator:hover {background-color: #d4ebff;}#sk-container-id-1 div.sk-parallel-item::after {content: \"\";width: 100%;border-bottom: 1px solid gray;flex-grow: 1;}#sk-container-id-1 div.sk-label:hover label.sk-toggleable__label {background-color: #d4ebff;}#sk-container-id-1 div.sk-serial::before {content: \"\";position: absolute;border-left: 1px solid gray;box-sizing: border-box;top: 0;bottom: 0;left: 50%;z-index: 0;}#sk-container-id-1 div.sk-serial {display: flex;flex-direction: column;align-items: center;background-color: white;padding-right: 0.2em;padding-left: 0.2em;position: relative;}#sk-container-id-1 div.sk-item {position: relative;z-index: 1;}#sk-container-id-1 div.sk-parallel {display: flex;align-items: stretch;justify-content: center;background-color: white;position: relative;}#sk-container-id-1 div.sk-item::before, #sk-container-id-1 div.sk-parallel-item::before {content: \"\";position: absolute;border-left: 1px solid gray;box-sizing: border-box;top: 0;bottom: 0;left: 50%;z-index: -1;}#sk-container-id-1 div.sk-parallel-item {display: flex;flex-direction: column;z-index: 1;position: relative;background-color: white;}#sk-container-id-1 div.sk-parallel-item:first-child::after {align-self: flex-end;width: 50%;}#sk-container-id-1 div.sk-parallel-item:last-child::after {align-self: flex-start;width: 50%;}#sk-container-id-1 div.sk-parallel-item:only-child::after {width: 0;}#sk-container-id-1 div.sk-dashed-wrapped {border: 1px dashed gray;margin: 0 0.4em 0.5em 0.4em;box-sizing: border-box;padding-bottom: 0.4em;background-color: white;}#sk-container-id-1 div.sk-label label {font-family: monospace;font-weight: bold;display: inline-block;line-height: 1.2em;}#sk-container-id-1 div.sk-label-container {text-align: center;}#sk-container-id-1 div.sk-container {/* jupyter's `normalize.less` sets `[hidden] { display: none; }` but bootstrap.min.css set `[hidden] { display: none !important; }` so we also need the `!important` here to be able to override the default hidden behavior on the sphinx rendered scikit-learn.org. See: https://github.com/scikit-learn/scikit-learn/issues/21755 */display: inline-block !important;position: relative;}#sk-container-id-1 div.sk-text-repr-fallback {display: none;}</style><div id=\"sk-container-id-1\" class=\"sk-top-container\"><div class=\"sk-text-repr-fallback\"><pre>LinearRegression()</pre><b>In a Jupyter environment, please rerun this cell to show the HTML representation or trust the notebook. <br />On GitHub, the HTML representation is unable to render, please try loading this page with nbviewer.org.</b></div><div class=\"sk-container\" hidden><div class=\"sk-item\"><div class=\"sk-estimator sk-toggleable\"><input class=\"sk-toggleable__control sk-hidden--visually\" id=\"sk-estimator-id-1\" type=\"checkbox\" checked><label for=\"sk-estimator-id-1\" class=\"sk-toggleable__label sk-toggleable__label-arrow\">LinearRegression</label><div class=\"sk-toggleable__content\"><pre>LinearRegression()</pre></div></div></div></div></div>"
      ],
      "text/plain": [
       "LinearRegression()"
      ]
     },
     "execution_count": 26,
     "metadata": {},
     "output_type": "execute_result"
    }
   ],
   "source": [
    "#Now Importing LinearRegression Class\n",
    "from sklearn.linear_model import LinearRegression\n",
    "lr = LinearRegression()\n",
    "lr.fit(X_train,y_train)"
   ]
  },
  {
   "cell_type": "code",
   "execution_count": 27,
   "id": "8e95dbb1",
   "metadata": {
    "execution": {
     "iopub.execute_input": "2023-08-28T14:01:47.572835Z",
     "iopub.status.busy": "2023-08-28T14:01:47.572073Z",
     "iopub.status.idle": "2023-08-28T14:01:47.578899Z",
     "shell.execute_reply": "2023-08-28T14:01:47.577572Z"
    },
    "papermill": {
     "duration": 0.022384,
     "end_time": "2023-08-28T14:01:47.581531",
     "exception": false,
     "start_time": "2023-08-28T14:01:47.559147",
     "status": "completed"
    },
    "tags": []
   },
   "outputs": [],
   "source": [
    "y_pred = lr.predict(X_test)"
   ]
  },
  {
   "cell_type": "code",
   "execution_count": 28,
   "id": "3aefd27b",
   "metadata": {
    "execution": {
     "iopub.execute_input": "2023-08-28T14:01:47.606697Z",
     "iopub.status.busy": "2023-08-28T14:01:47.606308Z",
     "iopub.status.idle": "2023-08-28T14:01:47.613683Z",
     "shell.execute_reply": "2023-08-28T14:01:47.612651Z"
    },
    "papermill": {
     "duration": 0.021979,
     "end_time": "2023-08-28T14:01:47.615656",
     "exception": false,
     "start_time": "2023-08-28T14:01:47.593677",
     "status": "completed"
    },
    "tags": []
   },
   "outputs": [
    {
     "data": {
      "text/plain": [
       "array([21.94443393, 26.77820061, 19.6853123 , 26.39072566, 23.7534651 ,\n",
       "       15.43379719, 28.5644542 , 34.5814613 , 16.82310569, 11.12333071,\n",
       "       30.32792817, 17.50317623, 21.80852732, 26.68886531, 36.30828615,\n",
       "       23.21516047,  9.47697007, 20.64204742,  8.31936972, 33.36969858,\n",
       "       26.88103154, 30.79703147, 20.53453166, 25.98671487, 26.28505487,\n",
       "       28.2094716 , 32.73983763, 32.81270541, 14.85966529, 29.82755058,\n",
       "       27.85341085,  9.30488658, 21.1277702 , 28.882838  , 25.11583835,\n",
       "       13.55712682, 27.39202329,  8.27818952, 31.28865906, 24.03887144,\n",
       "       24.95676848, 25.00725056, 20.54920415, 32.41419649, 26.6331207 ,\n",
       "       22.05399995, 20.70330002, 11.63680367, 29.02380396, 18.93619778,\n",
       "       25.20150312, 26.96166367, 16.0876079 , 11.98398186, 29.08412996,\n",
       "       26.06265201,  9.39510742, 12.59845041, 30.98599788, 35.65815996,\n",
       "       34.55928742, 35.72418639, 17.96675085, 28.02570867, 19.22544371,\n",
       "       31.9512973 , 27.11026483, 26.44634845, 29.72377327, 12.87914107,\n",
       "       19.1545853 , 23.25341081, 13.66681025, 27.01064617, 12.01062947,\n",
       "       26.29736486, 27.62065827, 16.52473867, 11.8429944 , 23.35332956])"
      ]
     },
     "execution_count": 28,
     "metadata": {},
     "output_type": "execute_result"
    }
   ],
   "source": [
    "y_pred"
   ]
  },
  {
   "cell_type": "code",
   "execution_count": 29,
   "id": "90ea0e8b",
   "metadata": {
    "execution": {
     "iopub.execute_input": "2023-08-28T14:01:47.640510Z",
     "iopub.status.busy": "2023-08-28T14:01:47.639604Z",
     "iopub.status.idle": "2023-08-28T14:01:47.644524Z",
     "shell.execute_reply": "2023-08-28T14:01:47.643806Z"
    },
    "papermill": {
     "duration": 0.019516,
     "end_time": "2023-08-28T14:01:47.646518",
     "exception": false,
     "start_time": "2023-08-28T14:01:47.627002",
     "status": "completed"
    },
    "tags": []
   },
   "outputs": [],
   "source": [
    "from sklearn.metrics import r2_score\n",
    "r2 = r2_score(y_pred,y_test)"
   ]
  },
  {
   "cell_type": "code",
   "execution_count": 30,
   "id": "3afc8ed6",
   "metadata": {
    "execution": {
     "iopub.execute_input": "2023-08-28T14:01:47.671913Z",
     "iopub.status.busy": "2023-08-28T14:01:47.670892Z",
     "iopub.status.idle": "2023-08-28T14:01:47.677135Z",
     "shell.execute_reply": "2023-08-28T14:01:47.676305Z"
    },
    "papermill": {
     "duration": 0.021371,
     "end_time": "2023-08-28T14:01:47.679434",
     "exception": false,
     "start_time": "2023-08-28T14:01:47.658063",
     "status": "completed"
    },
    "tags": []
   },
   "outputs": [
    {
     "data": {
      "text/plain": [
       "85.95"
      ]
     },
     "execution_count": 30,
     "metadata": {},
     "output_type": "execute_result"
    }
   ],
   "source": [
    "round(r2*100,2)"
   ]
  },
  {
   "cell_type": "code",
   "execution_count": 31,
   "id": "4530dba8",
   "metadata": {
    "execution": {
     "iopub.execute_input": "2023-08-28T14:01:47.704619Z",
     "iopub.status.busy": "2023-08-28T14:01:47.704204Z",
     "iopub.status.idle": "2023-08-28T14:01:47.712804Z",
     "shell.execute_reply": "2023-08-28T14:01:47.711612Z"
    },
    "papermill": {
     "duration": 0.023944,
     "end_time": "2023-08-28T14:01:47.714883",
     "exception": false,
     "start_time": "2023-08-28T14:01:47.690939",
     "status": "completed"
    },
    "tags": []
   },
   "outputs": [
    {
     "name": "stdout",
     "output_type": "stream",
     "text": [
      "Mean Squared Error: 7.75511412778336\n",
      "R-squared: 0.8595171178796926\n",
      "Accuray using R2 : 85.95\n"
     ]
    }
   ],
   "source": [
    "from sklearn.metrics import mean_absolute_error,mean_squared_error,r2_score\n",
    "print(\"Mean Squared Error:\", mean_squared_error(y_pred,y_test))\n",
    "print(\"R-squared:\", r2_score(y_pred,y_test))\n",
    "print('Accuray using R2 :',round(r2_score(y_pred,y_test)*100,2))"
   ]
  },
  {
   "cell_type": "markdown",
   "id": "e8a22c10",
   "metadata": {
    "papermill": {
     "duration": 0.011624,
     "end_time": "2023-08-28T14:01:47.738029",
     "exception": false,
     "start_time": "2023-08-28T14:01:47.726405",
     "status": "completed"
    },
    "tags": []
   },
   "source": [
    "Let Add More Features to our model "
   ]
  },
  {
   "cell_type": "code",
   "execution_count": 32,
   "id": "c6ba6aff",
   "metadata": {
    "execution": {
     "iopub.execute_input": "2023-08-28T14:01:47.763702Z",
     "iopub.status.busy": "2023-08-28T14:01:47.762583Z",
     "iopub.status.idle": "2023-08-28T14:01:47.770108Z",
     "shell.execute_reply": "2023-08-28T14:01:47.769202Z"
    },
    "papermill": {
     "duration": 0.022739,
     "end_time": "2023-08-28T14:01:47.772371",
     "exception": false,
     "start_time": "2023-08-28T14:01:47.749632",
     "status": "completed"
    },
    "tags": []
   },
   "outputs": [],
   "source": [
    "target = 'mpg'\n",
    "features = ['cylinders','displacement','horsepower','weight','acceleration','model year','origin'] \n",
    "\n",
    "X = df[features]\n",
    "y = df[target]"
   ]
  },
  {
   "cell_type": "code",
   "execution_count": 33,
   "id": "44c2a921",
   "metadata": {
    "execution": {
     "iopub.execute_input": "2023-08-28T14:01:47.797706Z",
     "iopub.status.busy": "2023-08-28T14:01:47.796666Z",
     "iopub.status.idle": "2023-08-28T14:01:47.803647Z",
     "shell.execute_reply": "2023-08-28T14:01:47.802734Z"
    },
    "papermill": {
     "duration": 0.021965,
     "end_time": "2023-08-28T14:01:47.805873",
     "exception": false,
     "start_time": "2023-08-28T14:01:47.783908",
     "status": "completed"
    },
    "tags": []
   },
   "outputs": [],
   "source": [
    "from sklearn.model_selection import train_test_split\n",
    "X_train, X_test, y_train, y_test = train_test_split(X,y,test_size=0.2,random_state=1)"
   ]
  },
  {
   "cell_type": "code",
   "execution_count": 34,
   "id": "f0d65cfc",
   "metadata": {
    "execution": {
     "iopub.execute_input": "2023-08-28T14:01:47.832062Z",
     "iopub.status.busy": "2023-08-28T14:01:47.831371Z",
     "iopub.status.idle": "2023-08-28T14:01:47.842925Z",
     "shell.execute_reply": "2023-08-28T14:01:47.841686Z"
    },
    "papermill": {
     "duration": 0.027027,
     "end_time": "2023-08-28T14:01:47.845211",
     "exception": false,
     "start_time": "2023-08-28T14:01:47.818184",
     "status": "completed"
    },
    "tags": []
   },
   "outputs": [
    {
     "data": {
      "text/html": [
       "<style>#sk-container-id-2 {color: black;background-color: white;}#sk-container-id-2 pre{padding: 0;}#sk-container-id-2 div.sk-toggleable {background-color: white;}#sk-container-id-2 label.sk-toggleable__label {cursor: pointer;display: block;width: 100%;margin-bottom: 0;padding: 0.3em;box-sizing: border-box;text-align: center;}#sk-container-id-2 label.sk-toggleable__label-arrow:before {content: \"▸\";float: left;margin-right: 0.25em;color: #696969;}#sk-container-id-2 label.sk-toggleable__label-arrow:hover:before {color: black;}#sk-container-id-2 div.sk-estimator:hover label.sk-toggleable__label-arrow:before {color: black;}#sk-container-id-2 div.sk-toggleable__content {max-height: 0;max-width: 0;overflow: hidden;text-align: left;background-color: #f0f8ff;}#sk-container-id-2 div.sk-toggleable__content pre {margin: 0.2em;color: black;border-radius: 0.25em;background-color: #f0f8ff;}#sk-container-id-2 input.sk-toggleable__control:checked~div.sk-toggleable__content {max-height: 200px;max-width: 100%;overflow: auto;}#sk-container-id-2 input.sk-toggleable__control:checked~label.sk-toggleable__label-arrow:before {content: \"▾\";}#sk-container-id-2 div.sk-estimator input.sk-toggleable__control:checked~label.sk-toggleable__label {background-color: #d4ebff;}#sk-container-id-2 div.sk-label input.sk-toggleable__control:checked~label.sk-toggleable__label {background-color: #d4ebff;}#sk-container-id-2 input.sk-hidden--visually {border: 0;clip: rect(1px 1px 1px 1px);clip: rect(1px, 1px, 1px, 1px);height: 1px;margin: -1px;overflow: hidden;padding: 0;position: absolute;width: 1px;}#sk-container-id-2 div.sk-estimator {font-family: monospace;background-color: #f0f8ff;border: 1px dotted black;border-radius: 0.25em;box-sizing: border-box;margin-bottom: 0.5em;}#sk-container-id-2 div.sk-estimator:hover {background-color: #d4ebff;}#sk-container-id-2 div.sk-parallel-item::after {content: \"\";width: 100%;border-bottom: 1px solid gray;flex-grow: 1;}#sk-container-id-2 div.sk-label:hover label.sk-toggleable__label {background-color: #d4ebff;}#sk-container-id-2 div.sk-serial::before {content: \"\";position: absolute;border-left: 1px solid gray;box-sizing: border-box;top: 0;bottom: 0;left: 50%;z-index: 0;}#sk-container-id-2 div.sk-serial {display: flex;flex-direction: column;align-items: center;background-color: white;padding-right: 0.2em;padding-left: 0.2em;position: relative;}#sk-container-id-2 div.sk-item {position: relative;z-index: 1;}#sk-container-id-2 div.sk-parallel {display: flex;align-items: stretch;justify-content: center;background-color: white;position: relative;}#sk-container-id-2 div.sk-item::before, #sk-container-id-2 div.sk-parallel-item::before {content: \"\";position: absolute;border-left: 1px solid gray;box-sizing: border-box;top: 0;bottom: 0;left: 50%;z-index: -1;}#sk-container-id-2 div.sk-parallel-item {display: flex;flex-direction: column;z-index: 1;position: relative;background-color: white;}#sk-container-id-2 div.sk-parallel-item:first-child::after {align-self: flex-end;width: 50%;}#sk-container-id-2 div.sk-parallel-item:last-child::after {align-self: flex-start;width: 50%;}#sk-container-id-2 div.sk-parallel-item:only-child::after {width: 0;}#sk-container-id-2 div.sk-dashed-wrapped {border: 1px dashed gray;margin: 0 0.4em 0.5em 0.4em;box-sizing: border-box;padding-bottom: 0.4em;background-color: white;}#sk-container-id-2 div.sk-label label {font-family: monospace;font-weight: bold;display: inline-block;line-height: 1.2em;}#sk-container-id-2 div.sk-label-container {text-align: center;}#sk-container-id-2 div.sk-container {/* jupyter's `normalize.less` sets `[hidden] { display: none; }` but bootstrap.min.css set `[hidden] { display: none !important; }` so we also need the `!important` here to be able to override the default hidden behavior on the sphinx rendered scikit-learn.org. See: https://github.com/scikit-learn/scikit-learn/issues/21755 */display: inline-block !important;position: relative;}#sk-container-id-2 div.sk-text-repr-fallback {display: none;}</style><div id=\"sk-container-id-2\" class=\"sk-top-container\"><div class=\"sk-text-repr-fallback\"><pre>LinearRegression()</pre><b>In a Jupyter environment, please rerun this cell to show the HTML representation or trust the notebook. <br />On GitHub, the HTML representation is unable to render, please try loading this page with nbviewer.org.</b></div><div class=\"sk-container\" hidden><div class=\"sk-item\"><div class=\"sk-estimator sk-toggleable\"><input class=\"sk-toggleable__control sk-hidden--visually\" id=\"sk-estimator-id-2\" type=\"checkbox\" checked><label for=\"sk-estimator-id-2\" class=\"sk-toggleable__label sk-toggleable__label-arrow\">LinearRegression</label><div class=\"sk-toggleable__content\"><pre>LinearRegression()</pre></div></div></div></div></div>"
      ],
      "text/plain": [
       "LinearRegression()"
      ]
     },
     "execution_count": 34,
     "metadata": {},
     "output_type": "execute_result"
    }
   ],
   "source": [
    "#Now Importing LinearRegression Class\n",
    "from sklearn.linear_model import LinearRegression\n",
    "lr = LinearRegression()\n",
    "lr.fit(X_train,y_train)"
   ]
  },
  {
   "cell_type": "code",
   "execution_count": 35,
   "id": "6db99cad",
   "metadata": {
    "execution": {
     "iopub.execute_input": "2023-08-28T14:01:47.870952Z",
     "iopub.status.busy": "2023-08-28T14:01:47.870287Z",
     "iopub.status.idle": "2023-08-28T14:01:47.877083Z",
     "shell.execute_reply": "2023-08-28T14:01:47.876184Z"
    },
    "papermill": {
     "duration": 0.022308,
     "end_time": "2023-08-28T14:01:47.879332",
     "exception": false,
     "start_time": "2023-08-28T14:01:47.857024",
     "status": "completed"
    },
    "tags": []
   },
   "outputs": [],
   "source": [
    "y_pred = lr.predict(X_test)"
   ]
  },
  {
   "cell_type": "code",
   "execution_count": 36,
   "id": "cf20a196",
   "metadata": {
    "execution": {
     "iopub.execute_input": "2023-08-28T14:01:47.905406Z",
     "iopub.status.busy": "2023-08-28T14:01:47.904508Z",
     "iopub.status.idle": "2023-08-28T14:01:47.912713Z",
     "shell.execute_reply": "2023-08-28T14:01:47.911506Z"
    },
    "papermill": {
     "duration": 0.023984,
     "end_time": "2023-08-28T14:01:47.915119",
     "exception": false,
     "start_time": "2023-08-28T14:01:47.891135",
     "status": "completed"
    },
    "tags": []
   },
   "outputs": [
    {
     "data": {
      "text/plain": [
       "85.97"
      ]
     },
     "execution_count": 36,
     "metadata": {},
     "output_type": "execute_result"
    }
   ],
   "source": [
    "from sklearn.metrics import r2_score\n",
    "r2 = r2_score(y_pred,y_test)\n",
    "round(r2*100,2)"
   ]
  },
  {
   "cell_type": "code",
   "execution_count": 37,
   "id": "19fa2038",
   "metadata": {
    "execution": {
     "iopub.execute_input": "2023-08-28T14:01:47.940951Z",
     "iopub.status.busy": "2023-08-28T14:01:47.940538Z",
     "iopub.status.idle": "2023-08-28T14:01:47.948797Z",
     "shell.execute_reply": "2023-08-28T14:01:47.947428Z"
    },
    "papermill": {
     "duration": 0.024625,
     "end_time": "2023-08-28T14:01:47.951856",
     "exception": false,
     "start_time": "2023-08-28T14:01:47.927231",
     "status": "completed"
    },
    "tags": []
   },
   "outputs": [
    {
     "name": "stdout",
     "output_type": "stream",
     "text": [
      "Mean Squared Error: 7.652290437537195\n",
      "R-squared: 0.859747016340312\n",
      "Accuray using R2 : 85.97\n"
     ]
    }
   ],
   "source": [
    "from sklearn.metrics import mean_absolute_error,mean_squared_error,r2_score\n",
    "print(\"Mean Squared Error:\", mean_squared_error(y_pred,y_test))\n",
    "print(\"R-squared:\", r2_score(y_pred,y_test))\n",
    "print('Accuray using R2 :',round(r2_score(y_pred,y_test)*100,2))"
   ]
  }
 ],
 "metadata": {
  "kernelspec": {
   "display_name": "Python 3",
   "language": "python",
   "name": "python3"
  },
  "language_info": {
   "codemirror_mode": {
    "name": "ipython",
    "version": 3
   },
   "file_extension": ".py",
   "mimetype": "text/x-python",
   "name": "python",
   "nbconvert_exporter": "python",
   "pygments_lexer": "ipython3",
   "version": "3.10.12"
  },
  "papermill": {
   "default_parameters": {},
   "duration": 13.690259,
   "end_time": "2023-08-28T14:01:48.886904",
   "environment_variables": {},
   "exception": null,
   "input_path": "__notebook__.ipynb",
   "output_path": "__notebook__.ipynb",
   "parameters": {},
   "start_time": "2023-08-28T14:01:35.196645",
   "version": "2.4.0"
  }
 },
 "nbformat": 4,
 "nbformat_minor": 5
}
