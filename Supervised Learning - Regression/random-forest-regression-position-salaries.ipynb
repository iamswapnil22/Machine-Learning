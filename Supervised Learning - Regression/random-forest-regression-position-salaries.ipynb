{
 "cells": [
  {
   "cell_type": "markdown",
   "id": "04a58eb8",
   "metadata": {
    "id": "LeamvpPVXuS_",
    "papermill": {
     "duration": 0.006829,
     "end_time": "2023-09-08T08:34:44.410027",
     "exception": false,
     "start_time": "2023-09-08T08:34:44.403198",
     "status": "completed"
    },
    "tags": []
   },
   "source": [
    "# Random Forest Regression"
   ]
  },
  {
   "cell_type": "markdown",
   "id": "419f3f09",
   "metadata": {
    "id": "O2wvZ7SKXzVC",
    "papermill": {
     "duration": 0.006388,
     "end_time": "2023-09-08T08:34:44.422839",
     "exception": false,
     "start_time": "2023-09-08T08:34:44.416451",
     "status": "completed"
    },
    "tags": []
   },
   "source": [
    "## Importing the libraries"
   ]
  },
  {
   "cell_type": "code",
   "execution_count": 1,
   "id": "18606d30",
   "metadata": {
    "execution": {
     "iopub.execute_input": "2023-09-08T08:34:44.438272Z",
     "iopub.status.busy": "2023-09-08T08:34:44.437279Z",
     "iopub.status.idle": "2023-09-08T08:34:45.397657Z",
     "shell.execute_reply": "2023-09-08T08:34:45.396400Z"
    },
    "id": "PVmESEFZX4Ig",
    "papermill": {
     "duration": 0.971172,
     "end_time": "2023-09-08T08:34:45.400549",
     "exception": false,
     "start_time": "2023-09-08T08:34:44.429377",
     "status": "completed"
    },
    "tags": []
   },
   "outputs": [],
   "source": [
    "import numpy as np\n",
    "import pandas as pd\n",
    "import matplotlib.pyplot as plt"
   ]
  },
  {
   "cell_type": "markdown",
   "id": "570175f5",
   "metadata": {
    "id": "zgbK_F8-X7em",
    "papermill": {
     "duration": 0.005912,
     "end_time": "2023-09-08T08:34:45.413154",
     "exception": false,
     "start_time": "2023-09-08T08:34:45.407242",
     "status": "completed"
    },
    "tags": []
   },
   "source": [
    "## Importing the dataset"
   ]
  },
  {
   "cell_type": "code",
   "execution_count": 2,
   "id": "bfcdc331",
   "metadata": {
    "execution": {
     "iopub.execute_input": "2023-09-08T08:34:45.428319Z",
     "iopub.status.busy": "2023-09-08T08:34:45.427799Z",
     "iopub.status.idle": "2023-09-08T08:34:45.455860Z",
     "shell.execute_reply": "2023-09-08T08:34:45.454542Z"
    },
    "papermill": {
     "duration": 0.038815,
     "end_time": "2023-09-08T08:34:45.458666",
     "exception": false,
     "start_time": "2023-09-08T08:34:45.419851",
     "status": "completed"
    },
    "tags": []
   },
   "outputs": [],
   "source": [
    "dataset = pd.read_csv('/kaggle/input/position-salaries-polynomial-linear-regression/position_salaries.csv')\n",
    "X = dataset.iloc[:,1:-1].values\n",
    "y = dataset.iloc[:,-1].values"
   ]
  },
  {
   "cell_type": "markdown",
   "id": "190cfefa",
   "metadata": {
    "id": "v4S2fyIBYDcu",
    "papermill": {
     "duration": 0.005975,
     "end_time": "2023-09-08T08:34:45.470938",
     "exception": false,
     "start_time": "2023-09-08T08:34:45.464963",
     "status": "completed"
    },
    "tags": []
   },
   "source": [
    "## Training the Random Forest Regression model on the whole dataset"
   ]
  },
  {
   "cell_type": "code",
   "execution_count": 3,
   "id": "56ba1659",
   "metadata": {
    "execution": {
     "iopub.execute_input": "2023-09-08T08:34:45.485649Z",
     "iopub.status.busy": "2023-09-08T08:34:45.484635Z",
     "iopub.status.idle": "2023-09-08T08:34:47.660221Z",
     "shell.execute_reply": "2023-09-08T08:34:47.658672Z"
    },
    "papermill": {
     "duration": 2.186022,
     "end_time": "2023-09-08T08:34:47.663103",
     "exception": false,
     "start_time": "2023-09-08T08:34:45.477081",
     "status": "completed"
    },
    "tags": []
   },
   "outputs": [
    {
     "data": {
      "text/html": [
       "<style>#sk-container-id-1 {color: black;background-color: white;}#sk-container-id-1 pre{padding: 0;}#sk-container-id-1 div.sk-toggleable {background-color: white;}#sk-container-id-1 label.sk-toggleable__label {cursor: pointer;display: block;width: 100%;margin-bottom: 0;padding: 0.3em;box-sizing: border-box;text-align: center;}#sk-container-id-1 label.sk-toggleable__label-arrow:before {content: \"▸\";float: left;margin-right: 0.25em;color: #696969;}#sk-container-id-1 label.sk-toggleable__label-arrow:hover:before {color: black;}#sk-container-id-1 div.sk-estimator:hover label.sk-toggleable__label-arrow:before {color: black;}#sk-container-id-1 div.sk-toggleable__content {max-height: 0;max-width: 0;overflow: hidden;text-align: left;background-color: #f0f8ff;}#sk-container-id-1 div.sk-toggleable__content pre {margin: 0.2em;color: black;border-radius: 0.25em;background-color: #f0f8ff;}#sk-container-id-1 input.sk-toggleable__control:checked~div.sk-toggleable__content {max-height: 200px;max-width: 100%;overflow: auto;}#sk-container-id-1 input.sk-toggleable__control:checked~label.sk-toggleable__label-arrow:before {content: \"▾\";}#sk-container-id-1 div.sk-estimator input.sk-toggleable__control:checked~label.sk-toggleable__label {background-color: #d4ebff;}#sk-container-id-1 div.sk-label input.sk-toggleable__control:checked~label.sk-toggleable__label {background-color: #d4ebff;}#sk-container-id-1 input.sk-hidden--visually {border: 0;clip: rect(1px 1px 1px 1px);clip: rect(1px, 1px, 1px, 1px);height: 1px;margin: -1px;overflow: hidden;padding: 0;position: absolute;width: 1px;}#sk-container-id-1 div.sk-estimator {font-family: monospace;background-color: #f0f8ff;border: 1px dotted black;border-radius: 0.25em;box-sizing: border-box;margin-bottom: 0.5em;}#sk-container-id-1 div.sk-estimator:hover {background-color: #d4ebff;}#sk-container-id-1 div.sk-parallel-item::after {content: \"\";width: 100%;border-bottom: 1px solid gray;flex-grow: 1;}#sk-container-id-1 div.sk-label:hover label.sk-toggleable__label {background-color: #d4ebff;}#sk-container-id-1 div.sk-serial::before {content: \"\";position: absolute;border-left: 1px solid gray;box-sizing: border-box;top: 0;bottom: 0;left: 50%;z-index: 0;}#sk-container-id-1 div.sk-serial {display: flex;flex-direction: column;align-items: center;background-color: white;padding-right: 0.2em;padding-left: 0.2em;position: relative;}#sk-container-id-1 div.sk-item {position: relative;z-index: 1;}#sk-container-id-1 div.sk-parallel {display: flex;align-items: stretch;justify-content: center;background-color: white;position: relative;}#sk-container-id-1 div.sk-item::before, #sk-container-id-1 div.sk-parallel-item::before {content: \"\";position: absolute;border-left: 1px solid gray;box-sizing: border-box;top: 0;bottom: 0;left: 50%;z-index: -1;}#sk-container-id-1 div.sk-parallel-item {display: flex;flex-direction: column;z-index: 1;position: relative;background-color: white;}#sk-container-id-1 div.sk-parallel-item:first-child::after {align-self: flex-end;width: 50%;}#sk-container-id-1 div.sk-parallel-item:last-child::after {align-self: flex-start;width: 50%;}#sk-container-id-1 div.sk-parallel-item:only-child::after {width: 0;}#sk-container-id-1 div.sk-dashed-wrapped {border: 1px dashed gray;margin: 0 0.4em 0.5em 0.4em;box-sizing: border-box;padding-bottom: 0.4em;background-color: white;}#sk-container-id-1 div.sk-label label {font-family: monospace;font-weight: bold;display: inline-block;line-height: 1.2em;}#sk-container-id-1 div.sk-label-container {text-align: center;}#sk-container-id-1 div.sk-container {/* jupyter's `normalize.less` sets `[hidden] { display: none; }` but bootstrap.min.css set `[hidden] { display: none !important; }` so we also need the `!important` here to be able to override the default hidden behavior on the sphinx rendered scikit-learn.org. See: https://github.com/scikit-learn/scikit-learn/issues/21755 */display: inline-block !important;position: relative;}#sk-container-id-1 div.sk-text-repr-fallback {display: none;}</style><div id=\"sk-container-id-1\" class=\"sk-top-container\"><div class=\"sk-text-repr-fallback\"><pre>RandomForestRegressor(n_estimators=10, random_state=0)</pre><b>In a Jupyter environment, please rerun this cell to show the HTML representation or trust the notebook. <br />On GitHub, the HTML representation is unable to render, please try loading this page with nbviewer.org.</b></div><div class=\"sk-container\" hidden><div class=\"sk-item\"><div class=\"sk-estimator sk-toggleable\"><input class=\"sk-toggleable__control sk-hidden--visually\" id=\"sk-estimator-id-1\" type=\"checkbox\" checked><label for=\"sk-estimator-id-1\" class=\"sk-toggleable__label sk-toggleable__label-arrow\">RandomForestRegressor</label><div class=\"sk-toggleable__content\"><pre>RandomForestRegressor(n_estimators=10, random_state=0)</pre></div></div></div></div></div>"
      ],
      "text/plain": [
       "RandomForestRegressor(n_estimators=10, random_state=0)"
      ]
     },
     "execution_count": 3,
     "metadata": {},
     "output_type": "execute_result"
    }
   ],
   "source": [
    "from sklearn.ensemble import RandomForestRegressor\n",
    "regressor = RandomForestRegressor(n_estimators = 10, random_state = 0)\n",
    "regressor.fit(X,y)"
   ]
  },
  {
   "cell_type": "markdown",
   "id": "84b56570",
   "metadata": {
    "id": "8IbsXbK3YM4M",
    "papermill": {
     "duration": 0.007263,
     "end_time": "2023-09-08T08:34:47.677077",
     "exception": false,
     "start_time": "2023-09-08T08:34:47.669814",
     "status": "completed"
    },
    "tags": []
   },
   "source": [
    "## Predicting a new result"
   ]
  },
  {
   "cell_type": "code",
   "execution_count": 4,
   "id": "ad53a6d3",
   "metadata": {
    "execution": {
     "iopub.execute_input": "2023-09-08T08:34:47.693815Z",
     "iopub.status.busy": "2023-09-08T08:34:47.693374Z",
     "iopub.status.idle": "2023-09-08T08:34:47.703546Z",
     "shell.execute_reply": "2023-09-08T08:34:47.702363Z"
    },
    "papermill": {
     "duration": 0.022038,
     "end_time": "2023-09-08T08:34:47.706129",
     "exception": false,
     "start_time": "2023-09-08T08:34:47.684091",
     "status": "completed"
    },
    "tags": []
   },
   "outputs": [
    {
     "data": {
      "text/plain": [
       "array([240000.])"
      ]
     },
     "execution_count": 4,
     "metadata": {},
     "output_type": "execute_result"
    }
   ],
   "source": [
    "regressor.predict([[7.1]])"
   ]
  },
  {
   "cell_type": "markdown",
   "id": "4a7ad630",
   "metadata": {
    "id": "kLqF9yMbYTon",
    "papermill": {
     "duration": 0.006977,
     "end_time": "2023-09-08T08:34:47.720406",
     "exception": false,
     "start_time": "2023-09-08T08:34:47.713429",
     "status": "completed"
    },
    "tags": []
   },
   "source": [
    "## Visualising the Random Forest Regression results (higher resolution)"
   ]
  },
  {
   "cell_type": "code",
   "execution_count": 5,
   "id": "3386d609",
   "metadata": {
    "execution": {
     "iopub.execute_input": "2023-09-08T08:34:47.736414Z",
     "iopub.status.busy": "2023-09-08T08:34:47.735461Z",
     "iopub.status.idle": "2023-09-08T08:34:48.141845Z",
     "shell.execute_reply": "2023-09-08T08:34:48.140360Z"
    },
    "papermill": {
     "duration": 0.41766,
     "end_time": "2023-09-08T08:34:48.144962",
     "exception": false,
     "start_time": "2023-09-08T08:34:47.727302",
     "status": "completed"
    },
    "tags": []
   },
   "outputs": [
    {
     "data": {
      "image/png": "[encoded data removed]",
      "text/plain": [
       "<Figure size 640x480 with 1 Axes>"
      ]
     },
     "metadata": {},
     "output_type": "display_data"
    }
   ],
   "source": [
    "X_grid = np.arange(min(X),max(X),0.1)\n",
    "X_grid = X_grid.reshape(-1,1)\n",
    "plt.scatter(X,y, color = 'red')\n",
    "plt.plot(X_grid, regressor.predict(X_grid), color='blue')\n",
    "plt.xlabel(\"Positions\")\n",
    "plt.ylabel(\"Salaries\")\n",
    "plt.title(\"Positions vs Salaries using RandomForestRegression\")\n",
    "plt.show()"
   ]
  },
  {
   "cell_type": "code",
   "execution_count": null,
   "id": "6032d20c",
   "metadata": {
    "papermill": {
     "duration": 0.007133,
     "end_time": "2023-09-08T08:34:48.159572",
     "exception": false,
     "start_time": "2023-09-08T08:34:48.152439",
     "status": "completed"
    },
    "tags": []
   },
   "outputs": [],
   "source": []
  }
 ],
 "kernelspec": {
  "display_name": "Python 3",
  "language": "python",
  "name": "python3"
 },
 "language_info": {
  "codemirror_mode": {
   "name": "ipython",
   "version": 3
  },
  "file_extension": ".py",
  "mimetype": "text/x-python",
  "name": "python",
  "nbconvert_exporter": "python",
  "pygments_lexer": "ipython3",
  "version": "3.6.4"
 },
 "metadata": {
  "colab": {
   "name": "random_forest_regression.ipynb",
   "provenance": [],
   "toc_visible": true
  },
  "kernelspec": {
   "display_name": "Python 3",
   "language": "python",
   "name": "python3"
  },
  "language_info": {
   "codemirror_mode": {
    "name": "ipython",
    "version": 3
   },
   "file_extension": ".py",
   "mimetype": "text/x-python",
   "name": "python",
   "nbconvert_exporter": "python",
   "pygments_lexer": "ipython3",
   "version": "3.10.12"
  },
  "papermill": {
   "default_parameters": {},
   "duration": 10.666826,
   "end_time": "2023-09-08T08:34:50.991383",
   "environment_variables": {},
   "exception": null,
   "input_path": "__notebook__.ipynb",
   "output_path": "__notebook__.ipynb",
   "parameters": {},
   "start_time": "2023-09-08T08:34:40.324557",
   "version": "2.4.0"
  }
 },
 "nbformat": 4,
 "nbformat_minor": 5
}
