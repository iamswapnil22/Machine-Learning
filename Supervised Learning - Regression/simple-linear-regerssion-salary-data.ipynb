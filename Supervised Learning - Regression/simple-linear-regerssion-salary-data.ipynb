{
 "cells": [
  {
   "cell_type": "markdown",
   "id": "fe1513fd",
   "metadata": {
    "id": "l_LulNCC8z96",
    "papermill": {
     "duration": 0.006738,
     "end_time": "2023-08-29T10:07:09.101594",
     "exception": false,
     "start_time": "2023-08-29T10:07:09.094856",
     "status": "completed"
    },
    "tags": []
   },
   "source": [
    "# Simple Linear Regression"
   ]
  },
  {
   "cell_type": "markdown",
   "id": "a1067c26",
   "metadata": {
    "id": "xpXdowrE9DxW",
    "papermill": {
     "duration": 0.006212,
     "end_time": "2023-08-29T10:07:09.114268",
     "exception": false,
     "start_time": "2023-08-29T10:07:09.108056",
     "status": "completed"
    },
    "tags": []
   },
   "source": [
    "## Importing the libraries"
   ]
  },
  {
   "cell_type": "code",
   "execution_count": 1,
   "id": "7776a8ae",
   "metadata": {
    "execution": {
     "iopub.execute_input": "2023-08-29T10:07:09.129877Z",
     "iopub.status.busy": "2023-08-29T10:07:09.129381Z",
     "iopub.status.idle": "2023-08-29T10:07:09.144466Z",
     "shell.execute_reply": "2023-08-29T10:07:09.143071Z"
    },
    "id": "nhKd4hWx9GFt",
    "papermill": {
     "duration": 0.026633,
     "end_time": "2023-08-29T10:07:09.147540",
     "exception": false,
     "start_time": "2023-08-29T10:07:09.120907",
     "status": "completed"
    },
    "tags": []
   },
   "outputs": [],
   "source": [
    "import numpy as np\n",
    "import matplotlib.pyplot as plt\n",
    "import pandas as pd"
   ]
  },
  {
   "cell_type": "markdown",
   "id": "27b8f6b5",
   "metadata": {
    "id": "6JhpWJi59J1p",
    "papermill": {
     "duration": 0.006072,
     "end_time": "2023-08-29T10:07:09.160192",
     "exception": false,
     "start_time": "2023-08-29T10:07:09.154120",
     "status": "completed"
    },
    "tags": []
   },
   "source": [
    "## Importing the dataset"
   ]
  },
  {
   "cell_type": "code",
   "execution_count": 2,
   "id": "9a72723f",
   "metadata": {
    "execution": {
     "iopub.execute_input": "2023-08-29T10:07:09.175929Z",
     "iopub.status.busy": "2023-08-29T10:07:09.175098Z",
     "iopub.status.idle": "2023-08-29T10:07:09.198181Z",
     "shell.execute_reply": "2023-08-29T10:07:09.196891Z"
    },
    "id": "f8GfYDZ59O18",
    "papermill": {
     "duration": 0.033703,
     "end_time": "2023-08-29T10:07:09.200919",
     "exception": false,
     "start_time": "2023-08-29T10:07:09.167216",
     "status": "completed"
    },
    "tags": []
   },
   "outputs": [],
   "source": [
    "dataset = pd.read_csv('/kaggle/input/salary-datacsv/Salary_Data.csv')\n",
    "X = dataset.iloc[:, :-1].values\n",
    "y = dataset.iloc[:, -1].values"
   ]
  },
  {
   "cell_type": "markdown",
   "id": "ce00ce7f",
   "metadata": {
    "id": "AyhQaTwP9RzG",
    "papermill": {
     "duration": 0.006234,
     "end_time": "2023-08-29T10:07:09.213418",
     "exception": false,
     "start_time": "2023-08-29T10:07:09.207184",
     "status": "completed"
    },
    "tags": []
   },
   "source": [
    "## Splitting the dataset into the Training set and Test set"
   ]
  },
  {
   "cell_type": "code",
   "execution_count": 3,
   "id": "5ce5986c",
   "metadata": {
    "execution": {
     "iopub.execute_input": "2023-08-29T10:07:09.229136Z",
     "iopub.status.busy": "2023-08-29T10:07:09.228258Z",
     "iopub.status.idle": "2023-08-29T10:07:10.657179Z",
     "shell.execute_reply": "2023-08-29T10:07:10.655863Z"
    },
    "id": "bxOOauiN9VpC",
    "papermill": {
     "duration": 1.440155,
     "end_time": "2023-08-29T10:07:10.660049",
     "exception": false,
     "start_time": "2023-08-29T10:07:09.219894",
     "status": "completed"
    },
    "tags": []
   },
   "outputs": [
    {
     "name": "stderr",
     "output_type": "stream",
     "text": [
      "/opt/conda/lib/python3.10/site-packages/scipy/__init__.py:146: UserWarning: A NumPy version >=1.16.5 and <1.23.0 is required for this version of SciPy (detected version 1.23.5\n",
      "  warnings.warn(f\"A NumPy version >={np_minversion} and <{np_maxversion}\"\n"
     ]
    }
   ],
   "source": [
    "from sklearn.model_selection import train_test_split\n",
    "X_train, X_test, y_train, y_test = train_test_split(X, y, test_size = 1/3, random_state = 0)"
   ]
  },
  {
   "cell_type": "markdown",
   "id": "c24a1325",
   "metadata": {
    "id": "ZijQwFMQ9itx",
    "papermill": {
     "duration": 0.006085,
     "end_time": "2023-08-29T10:07:10.672510",
     "exception": false,
     "start_time": "2023-08-29T10:07:10.666425",
     "status": "completed"
    },
    "tags": []
   },
   "source": [
    "## Training the Simple Linear Regression model on the Training set"
   ]
  },
  {
   "cell_type": "code",
   "execution_count": 4,
   "id": "2e1a627a",
   "metadata": {
    "execution": {
     "iopub.execute_input": "2023-08-29T10:07:10.688029Z",
     "iopub.status.busy": "2023-08-29T10:07:10.687066Z",
     "iopub.status.idle": "2023-08-29T10:07:10.847495Z",
     "shell.execute_reply": "2023-08-29T10:07:10.845969Z"
    },
    "executionInfo": {
     "elapsed": 882,
     "status": "ok",
     "timestamp": 1586352495803,
     "user": {
      "displayName": "Hadelin de Ponteves",
      "photoUrl": "https://lh3.googleusercontent.com/a-/AOh14GhEuXdT7eQweUmRPW8_laJuPggSK6hfvpl5a6WBaA=s64",
      "userId": "15047218817161520419"
     },
     "user_tz": -240
    },
    "id": "B4Aj_8YJ9l7J",
    "outputId": "15363111-2a76-4774-88ad-48db22159e9d",
    "papermill": {
     "duration": 0.171387,
     "end_time": "2023-08-29T10:07:10.850310",
     "exception": false,
     "start_time": "2023-08-29T10:07:10.678923",
     "status": "completed"
    },
    "tags": []
   },
   "outputs": [
    {
     "data": {
      "text/html": [
       "<style>#sk-container-id-1 {color: black;background-color: white;}#sk-container-id-1 pre{padding: 0;}#sk-container-id-1 div.sk-toggleable {background-color: white;}#sk-container-id-1 label.sk-toggleable__label {cursor: pointer;display: block;width: 100%;margin-bottom: 0;padding: 0.3em;box-sizing: border-box;text-align: center;}#sk-container-id-1 label.sk-toggleable__label-arrow:before {content: \"▸\";float: left;margin-right: 0.25em;color: #696969;}#sk-container-id-1 label.sk-toggleable__label-arrow:hover:before {color: black;}#sk-container-id-1 div.sk-estimator:hover label.sk-toggleable__label-arrow:before {color: black;}#sk-container-id-1 div.sk-toggleable__content {max-height: 0;max-width: 0;overflow: hidden;text-align: left;background-color: #f0f8ff;}#sk-container-id-1 div.sk-toggleable__content pre {margin: 0.2em;color: black;border-radius: 0.25em;background-color: #f0f8ff;}#sk-container-id-1 input.sk-toggleable__control:checked~div.sk-toggleable__content {max-height: 200px;max-width: 100%;overflow: auto;}#sk-container-id-1 input.sk-toggleable__control:checked~label.sk-toggleable__label-arrow:before {content: \"▾\";}#sk-container-id-1 div.sk-estimator input.sk-toggleable__control:checked~label.sk-toggleable__label {background-color: #d4ebff;}#sk-container-id-1 div.sk-label input.sk-toggleable__control:checked~label.sk-toggleable__label {background-color: #d4ebff;}#sk-container-id-1 input.sk-hidden--visually {border: 0;clip: rect(1px 1px 1px 1px);clip: rect(1px, 1px, 1px, 1px);height: 1px;margin: -1px;overflow: hidden;padding: 0;position: absolute;width: 1px;}#sk-container-id-1 div.sk-estimator {font-family: monospace;background-color: #f0f8ff;border: 1px dotted black;border-radius: 0.25em;box-sizing: border-box;margin-bottom: 0.5em;}#sk-container-id-1 div.sk-estimator:hover {background-color: #d4ebff;}#sk-container-id-1 div.sk-parallel-item::after {content: \"\";width: 100%;border-bottom: 1px solid gray;flex-grow: 1;}#sk-container-id-1 div.sk-label:hover label.sk-toggleable__label {background-color: #d4ebff;}#sk-container-id-1 div.sk-serial::before {content: \"\";position: absolute;border-left: 1px solid gray;box-sizing: border-box;top: 0;bottom: 0;left: 50%;z-index: 0;}#sk-container-id-1 div.sk-serial {display: flex;flex-direction: column;align-items: center;background-color: white;padding-right: 0.2em;padding-left: 0.2em;position: relative;}#sk-container-id-1 div.sk-item {position: relative;z-index: 1;}#sk-container-id-1 div.sk-parallel {display: flex;align-items: stretch;justify-content: center;background-color: white;position: relative;}#sk-container-id-1 div.sk-item::before, #sk-container-id-1 div.sk-parallel-item::before {content: \"\";position: absolute;border-left: 1px solid gray;box-sizing: border-box;top: 0;bottom: 0;left: 50%;z-index: -1;}#sk-container-id-1 div.sk-parallel-item {display: flex;flex-direction: column;z-index: 1;position: relative;background-color: white;}#sk-container-id-1 div.sk-parallel-item:first-child::after {align-self: flex-end;width: 50%;}#sk-container-id-1 div.sk-parallel-item:last-child::after {align-self: flex-start;width: 50%;}#sk-container-id-1 div.sk-parallel-item:only-child::after {width: 0;}#sk-container-id-1 div.sk-dashed-wrapped {border: 1px dashed gray;margin: 0 0.4em 0.5em 0.4em;box-sizing: border-box;padding-bottom: 0.4em;background-color: white;}#sk-container-id-1 div.sk-label label {font-family: monospace;font-weight: bold;display: inline-block;line-height: 1.2em;}#sk-container-id-1 div.sk-label-container {text-align: center;}#sk-container-id-1 div.sk-container {/* jupyter's `normalize.less` sets `[hidden] { display: none; }` but bootstrap.min.css set `[hidden] { display: none !important; }` so we also need the `!important` here to be able to override the default hidden behavior on the sphinx rendered scikit-learn.org. See: https://github.com/scikit-learn/scikit-learn/issues/21755 */display: inline-block !important;position: relative;}#sk-container-id-1 div.sk-text-repr-fallback {display: none;}</style><div id=\"sk-container-id-1\" class=\"sk-top-container\"><div class=\"sk-text-repr-fallback\"><pre>LinearRegression()</pre><b>In a Jupyter environment, please rerun this cell to show the HTML representation or trust the notebook. <br />On GitHub, the HTML representation is unable to render, please try loading this page with nbviewer.org.</b></div><div class=\"sk-container\" hidden><div class=\"sk-item\"><div class=\"sk-estimator sk-toggleable\"><input class=\"sk-toggleable__control sk-hidden--visually\" id=\"sk-estimator-id-1\" type=\"checkbox\" checked><label for=\"sk-estimator-id-1\" class=\"sk-toggleable__label sk-toggleable__label-arrow\">LinearRegression</label><div class=\"sk-toggleable__content\"><pre>LinearRegression()</pre></div></div></div></div></div>"
      ],
      "text/plain": [
       "LinearRegression()"
      ]
     },
     "execution_count": 4,
     "metadata": {},
     "output_type": "execute_result"
    }
   ],
   "source": [
    "from sklearn.linear_model import LinearRegression\n",
    "regressor = LinearRegression()\n",
    "regressor.fit(X_train, y_train)"
   ]
  },
  {
   "cell_type": "markdown",
   "id": "f0ba4604",
   "metadata": {
    "id": "wa2T1Lq89o5H",
    "papermill": {
     "duration": 0.006359,
     "end_time": "2023-08-29T10:07:10.863803",
     "exception": false,
     "start_time": "2023-08-29T10:07:10.857444",
     "status": "completed"
    },
    "tags": []
   },
   "source": [
    "## Predicting the Test set results"
   ]
  },
  {
   "cell_type": "code",
   "execution_count": 5,
   "id": "67cb798b",
   "metadata": {
    "execution": {
     "iopub.execute_input": "2023-08-29T10:07:10.881145Z",
     "iopub.status.busy": "2023-08-29T10:07:10.879746Z",
     "iopub.status.idle": "2023-08-29T10:07:10.887650Z",
     "shell.execute_reply": "2023-08-29T10:07:10.885924Z"
    },
    "id": "Rn_sTJ2o9smm",
    "papermill": {
     "duration": 0.019482,
     "end_time": "2023-08-29T10:07:10.891295",
     "exception": false,
     "start_time": "2023-08-29T10:07:10.871813",
     "status": "completed"
    },
    "tags": []
   },
   "outputs": [],
   "source": [
    "y_pred = regressor.predict(X_test)"
   ]
  },
  {
   "cell_type": "markdown",
   "id": "081712c8",
   "metadata": {
    "id": "-zSoMZ-P9v8t",
    "papermill": {
     "duration": 0.006284,
     "end_time": "2023-08-29T10:07:10.904489",
     "exception": false,
     "start_time": "2023-08-29T10:07:10.898205",
     "status": "completed"
    },
    "tags": []
   },
   "source": [
    "## Visualising the Training set results"
   ]
  },
  {
   "cell_type": "code",
   "execution_count": 6,
   "id": "c1d09f2b",
   "metadata": {
    "execution": {
     "iopub.execute_input": "2023-08-29T10:07:10.921411Z",
     "iopub.status.busy": "2023-08-29T10:07:10.920825Z",
     "iopub.status.idle": "2023-08-29T10:07:11.272719Z",
     "shell.execute_reply": "2023-08-29T10:07:11.271510Z"
    },
    "executionInfo": {
     "elapsed": 763,
     "status": "ok",
     "timestamp": 1586352502760,
     "user": {
      "displayName": "Hadelin de Ponteves",
      "photoUrl": "https://lh3.googleusercontent.com/a-/AOh14GhEuXdT7eQweUmRPW8_laJuPggSK6hfvpl5a6WBaA=s64",
      "userId": "15047218817161520419"
     },
     "user_tz": -240
    },
    "id": "IAePn_u-93tI",
    "outputId": "b860fdce-5757-4104-b6e9-0f180e3fca05",
    "papermill": {
     "duration": 0.364055,
     "end_time": "2023-08-29T10:07:11.275287",
     "exception": false,
     "start_time": "2023-08-29T10:07:10.911232",
     "status": "completed"
    },
    "tags": []
   },
   "outputs": [
    {
     "data": {
      "image/png": "[encoded data removed]",
      "text/plain": [
       "<Figure size 640x480 with 1 Axes>"
      ]
     },
     "metadata": {},
     "output_type": "display_data"
    }
   ],
   "source": [
    "plt.scatter(X_train, y_train, color = 'red')\n",
    "plt.plot(X_train, regressor.predict(X_train), color = 'blue')\n",
    "plt.title('Salary vs Experience (Training set)')\n",
    "plt.xlabel('Years of Experience')\n",
    "plt.ylabel('Salary')\n",
    "plt.show()"
   ]
  },
  {
   "cell_type": "markdown",
   "id": "28126c4e",
   "metadata": {
    "id": "EUX1Vhsv97ZT",
    "papermill": {
     "duration": 0.006803,
     "end_time": "2023-08-29T10:07:11.289102",
     "exception": false,
     "start_time": "2023-08-29T10:07:11.282299",
     "status": "completed"
    },
    "tags": []
   },
   "source": [
    "## Visualising the Test set results"
   ]
  },
  {
   "cell_type": "code",
   "execution_count": 7,
   "id": "57476728",
   "metadata": {
    "execution": {
     "iopub.execute_input": "2023-08-29T10:07:11.307675Z",
     "iopub.status.busy": "2023-08-29T10:07:11.307034Z",
     "iopub.status.idle": "2023-08-29T10:07:11.604903Z",
     "shell.execute_reply": "2023-08-29T10:07:11.603624Z"
    },
    "executionInfo": {
     "elapsed": 1097,
     "status": "ok",
     "timestamp": 1586352506966,
     "user": {
      "displayName": "Hadelin de Ponteves",
      "photoUrl": "https://lh3.googleusercontent.com/a-/AOh14GhEuXdT7eQweUmRPW8_laJuPggSK6hfvpl5a6WBaA=s64",
      "userId": "15047218817161520419"
     },
     "user_tz": -240
    },
    "id": "Ze9vpBTf-Bol",
    "outputId": "58359ab2-7a52-4960-f49e-3d8b5ef6f7a1",
    "papermill": {
     "duration": 0.30974,
     "end_time": "2023-08-29T10:07:11.607811",
     "exception": false,
     "start_time": "2023-08-29T10:07:11.298071",
     "status": "completed"
    },
    "tags": []
   },
   "outputs": [
    {
     "data": {
      "image/png": "[encoded data removed]",
      "text/plain": [
       "<Figure size 640x480 with 1 Axes>"
      ]
     },
     "metadata": {},
     "output_type": "display_data"
    }
   ],
   "source": [
    "plt.scatter(X_test, y_test, color = 'red')\n",
    "plt.plot(X_train, regressor.predict(X_train), color = 'blue')\n",
    "plt.title('Salary vs Experience (Test set)')\n",
    "plt.xlabel('Years of Experience')\n",
    "plt.ylabel('Salary')\n",
    "plt.show()"
   ]
  },
  {
   "cell_type": "code",
   "execution_count": 8,
   "id": "66c54b47",
   "metadata": {
    "execution": {
     "iopub.execute_input": "2023-08-29T10:07:11.625957Z",
     "iopub.status.busy": "2023-08-29T10:07:11.625486Z",
     "iopub.status.idle": "2023-08-29T10:07:11.634475Z",
     "shell.execute_reply": "2023-08-29T10:07:11.633104Z"
    },
    "papermill": {
     "duration": 0.021522,
     "end_time": "2023-08-29T10:07:11.637091",
     "exception": false,
     "start_time": "2023-08-29T10:07:11.615569",
     "status": "completed"
    },
    "tags": []
   },
   "outputs": [
    {
     "data": {
      "text/plain": [
       "array([64199.96201652])"
      ]
     },
     "execution_count": 8,
     "metadata": {},
     "output_type": "execute_result"
    }
   ],
   "source": [
    "regressor.predict([[4.0]])"
   ]
  },
  {
   "cell_type": "code",
   "execution_count": null,
   "id": "62240a48",
   "metadata": {
    "papermill": {
     "duration": 0.007865,
     "end_time": "2023-08-29T10:07:11.652861",
     "exception": false,
     "start_time": "2023-08-29T10:07:11.644996",
     "status": "completed"
    },
    "tags": []
   },
   "outputs": [],
   "source": []
  },
  {
   "cell_type": "code",
   "execution_count": null,
   "id": "ec4516d9",
   "metadata": {
    "papermill": {
     "duration": 0.007586,
     "end_time": "2023-08-29T10:07:11.668464",
     "exception": false,
     "start_time": "2023-08-29T10:07:11.660878",
     "status": "completed"
    },
    "tags": []
   },
   "outputs": [],
   "source": []
  }
 ],
 "metadata": {
  "kernelspec": {
   "display_name": "Python 3",
   "language": "python",
   "name": "python3"
  },
  "language_info": {
   "codemirror_mode": {
    "name": "ipython",
    "version": 3
   },
   "file_extension": ".py",
   "mimetype": "text/x-python",
   "name": "python",
   "nbconvert_exporter": "python",
   "pygments_lexer": "ipython3",
   "version": "3.10.12"
  },
  "papermill": {
   "default_parameters": {},
   "duration": 17.012811,
   "end_time": "2023-08-29T10:07:12.699190",
   "environment_variables": {},
   "exception": null,
   "input_path": "__notebook__.ipynb",
   "output_path": "__notebook__.ipynb",
   "parameters": {},
   "start_time": "2023-08-29T10:06:55.686379",
   "version": "2.4.0"
  }
 },
 "nbformat": 4,
 "nbformat_minor": 5
}
