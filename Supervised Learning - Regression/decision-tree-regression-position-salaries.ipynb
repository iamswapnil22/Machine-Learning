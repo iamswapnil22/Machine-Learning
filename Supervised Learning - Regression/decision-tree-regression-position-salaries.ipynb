{
 "cells": [
  {
   "cell_type": "markdown",
   "id": "c9f3e33d",
   "metadata": {
    "id": "r3cas2_1T98w",
    "papermill": {
     "duration": 0.006696,
     "end_time": "2023-09-04T18:47:10.520284",
     "exception": false,
     "start_time": "2023-09-04T18:47:10.513588",
     "status": "completed"
    },
    "tags": []
   },
   "source": [
    "# Decision Tree Regression"
   ]
  },
  {
   "cell_type": "markdown",
   "id": "e8d5e9ca",
   "metadata": {
    "id": "IODliia6U1xO",
    "papermill": {
     "duration": 0.005684,
     "end_time": "2023-09-04T18:47:10.532249",
     "exception": false,
     "start_time": "2023-09-04T18:47:10.526565",
     "status": "completed"
    },
    "tags": []
   },
   "source": [
    "## Importing the libraries"
   ]
  },
  {
   "cell_type": "code",
   "execution_count": 1,
   "id": "25797d29",
   "metadata": {
    "execution": {
     "iopub.execute_input": "2023-09-04T18:47:10.545746Z",
     "iopub.status.busy": "2023-09-04T18:47:10.545326Z",
     "iopub.status.idle": "2023-09-04T18:47:10.968549Z",
     "shell.execute_reply": "2023-09-04T18:47:10.966997Z"
    },
    "id": "y98nA5UdU6Hf",
    "papermill": {
     "duration": 0.433328,
     "end_time": "2023-09-04T18:47:10.971389",
     "exception": false,
     "start_time": "2023-09-04T18:47:10.538061",
     "status": "completed"
    },
    "tags": []
   },
   "outputs": [],
   "source": [
    "import numpy as np\n",
    "import matplotlib.pyplot as plt\n",
    "import pandas as pd"
   ]
  },
  {
   "cell_type": "markdown",
   "id": "9695eb24",
   "metadata": {
    "id": "jpjZ43YlU8eI",
    "papermill": {
     "duration": 0.005702,
     "end_time": "2023-09-04T18:47:10.983243",
     "exception": false,
     "start_time": "2023-09-04T18:47:10.977541",
     "status": "completed"
    },
    "tags": []
   },
   "source": [
    "## Importing the dataset"
   ]
  },
  {
   "cell_type": "code",
   "execution_count": 2,
   "id": "09a9fa0d",
   "metadata": {
    "execution": {
     "iopub.execute_input": "2023-09-04T18:47:10.997339Z",
     "iopub.status.busy": "2023-09-04T18:47:10.996746Z",
     "iopub.status.idle": "2023-09-04T18:47:11.023320Z",
     "shell.execute_reply": "2023-09-04T18:47:11.022088Z"
    },
    "id": "pLVaXoYVU_Uy",
    "papermill": {
     "duration": 0.036935,
     "end_time": "2023-09-04T18:47:11.026170",
     "exception": false,
     "start_time": "2023-09-04T18:47:10.989235",
     "status": "completed"
    },
    "tags": []
   },
   "outputs": [],
   "source": [
    "dataset = pd.read_csv('/kaggle/input/position-salaries-polynomial-linear-regression/position_salaries.csv')\n",
    "X = dataset.iloc[:, 1:-1].values\n",
    "y = dataset.iloc[:, -1].values"
   ]
  },
  {
   "cell_type": "markdown",
   "id": "e303b257",
   "metadata": {
    "id": "g16qFkFQVC35",
    "papermill": {
     "duration": 0.005791,
     "end_time": "2023-09-04T18:47:11.038045",
     "exception": false,
     "start_time": "2023-09-04T18:47:11.032254",
     "status": "completed"
    },
    "tags": []
   },
   "source": [
    "## Training the Decision Tree Regression model on the whole dataset"
   ]
  },
  {
   "cell_type": "code",
   "execution_count": 3,
   "id": "34946c64",
   "metadata": {
    "execution": {
     "iopub.execute_input": "2023-09-04T18:47:11.051699Z",
     "iopub.status.busy": "2023-09-04T18:47:11.051305Z",
     "iopub.status.idle": "2023-09-04T18:47:12.908847Z",
     "shell.execute_reply": "2023-09-04T18:47:12.907634Z"
    },
    "papermill": {
     "duration": 1.867718,
     "end_time": "2023-09-04T18:47:12.911643",
     "exception": false,
     "start_time": "2023-09-04T18:47:11.043925",
     "status": "completed"
    },
    "tags": []
   },
   "outputs": [
    {
     "data": {
      "text/html": [
       "<style>#sk-container-id-1 {color: black;background-color: white;}#sk-container-id-1 pre{padding: 0;}#sk-container-id-1 div.sk-toggleable {background-color: white;}#sk-container-id-1 label.sk-toggleable__label {cursor: pointer;display: block;width: 100%;margin-bottom: 0;padding: 0.3em;box-sizing: border-box;text-align: center;}#sk-container-id-1 label.sk-toggleable__label-arrow:before {content: \"▸\";float: left;margin-right: 0.25em;color: #696969;}#sk-container-id-1 label.sk-toggleable__label-arrow:hover:before {color: black;}#sk-container-id-1 div.sk-estimator:hover label.sk-toggleable__label-arrow:before {color: black;}#sk-container-id-1 div.sk-toggleable__content {max-height: 0;max-width: 0;overflow: hidden;text-align: left;background-color: #f0f8ff;}#sk-container-id-1 div.sk-toggleable__content pre {margin: 0.2em;color: black;border-radius: 0.25em;background-color: #f0f8ff;}#sk-container-id-1 input.sk-toggleable__control:checked~div.sk-toggleable__content {max-height: 200px;max-width: 100%;overflow: auto;}#sk-container-id-1 input.sk-toggleable__control:checked~label.sk-toggleable__label-arrow:before {content: \"▾\";}#sk-container-id-1 div.sk-estimator input.sk-toggleable__control:checked~label.sk-toggleable__label {background-color: #d4ebff;}#sk-container-id-1 div.sk-label input.sk-toggleable__control:checked~label.sk-toggleable__label {background-color: #d4ebff;}#sk-container-id-1 input.sk-hidden--visually {border: 0;clip: rect(1px 1px 1px 1px);clip: rect(1px, 1px, 1px, 1px);height: 1px;margin: -1px;overflow: hidden;padding: 0;position: absolute;width: 1px;}#sk-container-id-1 div.sk-estimator {font-family: monospace;background-color: #f0f8ff;border: 1px dotted black;border-radius: 0.25em;box-sizing: border-box;margin-bottom: 0.5em;}#sk-container-id-1 div.sk-estimator:hover {background-color: #d4ebff;}#sk-container-id-1 div.sk-parallel-item::after {content: \"\";width: 100%;border-bottom: 1px solid gray;flex-grow: 1;}#sk-container-id-1 div.sk-label:hover label.sk-toggleable__label {background-color: #d4ebff;}#sk-container-id-1 div.sk-serial::before {content: \"\";position: absolute;border-left: 1px solid gray;box-sizing: border-box;top: 0;bottom: 0;left: 50%;z-index: 0;}#sk-container-id-1 div.sk-serial {display: flex;flex-direction: column;align-items: center;background-color: white;padding-right: 0.2em;padding-left: 0.2em;position: relative;}#sk-container-id-1 div.sk-item {position: relative;z-index: 1;}#sk-container-id-1 div.sk-parallel {display: flex;align-items: stretch;justify-content: center;background-color: white;position: relative;}#sk-container-id-1 div.sk-item::before, #sk-container-id-1 div.sk-parallel-item::before {content: \"\";position: absolute;border-left: 1px solid gray;box-sizing: border-box;top: 0;bottom: 0;left: 50%;z-index: -1;}#sk-container-id-1 div.sk-parallel-item {display: flex;flex-direction: column;z-index: 1;position: relative;background-color: white;}#sk-container-id-1 div.sk-parallel-item:first-child::after {align-self: flex-end;width: 50%;}#sk-container-id-1 div.sk-parallel-item:last-child::after {align-self: flex-start;width: 50%;}#sk-container-id-1 div.sk-parallel-item:only-child::after {width: 0;}#sk-container-id-1 div.sk-dashed-wrapped {border: 1px dashed gray;margin: 0 0.4em 0.5em 0.4em;box-sizing: border-box;padding-bottom: 0.4em;background-color: white;}#sk-container-id-1 div.sk-label label {font-family: monospace;font-weight: bold;display: inline-block;line-height: 1.2em;}#sk-container-id-1 div.sk-label-container {text-align: center;}#sk-container-id-1 div.sk-container {/* jupyter's `normalize.less` sets `[hidden] { display: none; }` but bootstrap.min.css set `[hidden] { display: none !important; }` so we also need the `!important` here to be able to override the default hidden behavior on the sphinx rendered scikit-learn.org. See: https://github.com/scikit-learn/scikit-learn/issues/21755 */display: inline-block !important;position: relative;}#sk-container-id-1 div.sk-text-repr-fallback {display: none;}</style><div id=\"sk-container-id-1\" class=\"sk-top-container\"><div class=\"sk-text-repr-fallback\"><pre>DecisionTreeRegressor(random_state=0)</pre><b>In a Jupyter environment, please rerun this cell to show the HTML representation or trust the notebook. <br />On GitHub, the HTML representation is unable to render, please try loading this page with nbviewer.org.</b></div><div class=\"sk-container\" hidden><div class=\"sk-item\"><div class=\"sk-estimator sk-toggleable\"><input class=\"sk-toggleable__control sk-hidden--visually\" id=\"sk-estimator-id-1\" type=\"checkbox\" checked><label for=\"sk-estimator-id-1\" class=\"sk-toggleable__label sk-toggleable__label-arrow\">DecisionTreeRegressor</label><div class=\"sk-toggleable__content\"><pre>DecisionTreeRegressor(random_state=0)</pre></div></div></div></div></div>"
      ],
      "text/plain": [
       "DecisionTreeRegressor(random_state=0)"
      ]
     },
     "execution_count": 3,
     "metadata": {},
     "output_type": "execute_result"
    }
   ],
   "source": [
    "from sklearn.tree import DecisionTreeRegressor\n",
    "regressor = DecisionTreeRegressor(random_state = 0)\n",
    "regressor.fit(X,y)"
   ]
  },
  {
   "cell_type": "markdown",
   "id": "de01c1cf",
   "metadata": {
    "id": "MQRGPTH3VcOn",
    "papermill": {
     "duration": 0.0061,
     "end_time": "2023-09-04T18:47:12.924163",
     "exception": false,
     "start_time": "2023-09-04T18:47:12.918063",
     "status": "completed"
    },
    "tags": []
   },
   "source": [
    "## Predicting a new result"
   ]
  },
  {
   "cell_type": "code",
   "execution_count": 4,
   "id": "828a9837",
   "metadata": {
    "execution": {
     "iopub.execute_input": "2023-09-04T18:47:12.938895Z",
     "iopub.status.busy": "2023-09-04T18:47:12.938006Z",
     "iopub.status.idle": "2023-09-04T18:47:12.946180Z",
     "shell.execute_reply": "2023-09-04T18:47:12.945075Z"
    },
    "papermill": {
     "duration": 0.018312,
     "end_time": "2023-09-04T18:47:12.948578",
     "exception": false,
     "start_time": "2023-09-04T18:47:12.930266",
     "status": "completed"
    },
    "tags": []
   },
   "outputs": [
    {
     "data": {
      "text/plain": [
       "array([150000.])"
      ]
     },
     "execution_count": 4,
     "metadata": {},
     "output_type": "execute_result"
    }
   ],
   "source": [
    "regressor.predict([[6.5]])"
   ]
  },
  {
   "cell_type": "markdown",
   "id": "7bf7a343",
   "metadata": {
    "id": "ph8ExBj0VkIT",
    "papermill": {
     "duration": 0.006103,
     "end_time": "2023-09-04T18:47:12.960994",
     "exception": false,
     "start_time": "2023-09-04T18:47:12.954891",
     "status": "completed"
    },
    "tags": []
   },
   "source": [
    "## Visualising the Decision Tree Regression results (higher resolution)"
   ]
  },
  {
   "cell_type": "code",
   "execution_count": 5,
   "id": "2249d8c1",
   "metadata": {
    "execution": {
     "iopub.execute_input": "2023-09-04T18:47:12.975988Z",
     "iopub.status.busy": "2023-09-04T18:47:12.975173Z",
     "iopub.status.idle": "2023-09-04T18:47:13.323233Z",
     "shell.execute_reply": "2023-09-04T18:47:13.322180Z"
    },
    "papermill": {
     "duration": 0.358439,
     "end_time": "2023-09-04T18:47:13.325710",
     "exception": false,
     "start_time": "2023-09-04T18:47:12.967271",
     "status": "completed"
    },
    "tags": []
   },
   "outputs": [
    {
     "data": {
      "image/png": "[encoded data removed]",
      "text/plain": [
       "<Figure size 640x480 with 1 Axes>"
      ]
     },
     "metadata": {},
     "output_type": "display_data"
    }
   ],
   "source": [
    "X_grid = np.arange(min(X),max(X),0.1)\n",
    "X_grid = X_grid.reshape(-1,1)\n",
    "plt.scatter(X,y,color='blue')\n",
    "plt.plot(X_grid,regressor.predict(X_grid),color='red')\n",
    "plt.title(\" Position Salaries using Decision Tree Reg. \")\n",
    "plt.xlabel(\" Positions \")\n",
    "plt.ylabel(\" Salaries \")\n",
    "plt.show()\n"
   ]
  }
 ],
 "kernelspec": {
  "display_name": "Python 3",
  "language": "python",
  "name": "python3"
 },
 "language_info": {
  "codemirror_mode": {
   "name": "ipython",
   "version": 3
  },
  "file_extension": ".py",
  "mimetype": "text/x-python",
  "name": "python",
  "nbconvert_exporter": "python",
  "pygments_lexer": "ipython3",
  "version": "3.6.4"
 },
 "metadata": {
  "colab": {
   "collapsed_sections": [],
   "name": "decision_tree_regression.ipynb",
   "provenance": [],
   "toc_visible": true
  },
  "kernelspec": {
   "display_name": "Python 3",
   "language": "python",
   "name": "python3"
  },
  "language_info": {
   "codemirror_mode": {
    "name": "ipython",
    "version": 3
   },
   "file_extension": ".py",
   "mimetype": "text/x-python",
   "name": "python",
   "nbconvert_exporter": "python",
   "pygments_lexer": "ipython3",
   "version": "3.10.12"
  },
  "papermill": {
   "default_parameters": {},
   "duration": 7.15883,
   "end_time": "2023-09-04T18:47:13.954264",
   "environment_variables": {},
   "exception": null,
   "input_path": "__notebook__.ipynb",
   "output_path": "__notebook__.ipynb",
   "parameters": {},
   "start_time": "2023-09-04T18:47:06.795434",
   "version": "2.4.0"
  }
 },
 "nbformat": 4,
 "nbformat_minor": 5
}
