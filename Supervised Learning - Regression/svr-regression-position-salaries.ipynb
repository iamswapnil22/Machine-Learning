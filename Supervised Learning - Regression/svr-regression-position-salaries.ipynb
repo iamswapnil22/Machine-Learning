{
 "cells": [
  {
   "cell_type": "markdown",
   "id": "ea3a0ea1",
   "metadata": {
    "id": "m3PAEPRDRLA3",
    "papermill": {
     "duration": 0.007071,
     "end_time": "2023-09-03T18:40:41.939526",
     "exception": false,
     "start_time": "2023-09-03T18:40:41.932455",
     "status": "completed"
    },
    "tags": []
   },
   "source": [
    "# Support Vector Regression (SVR)"
   ]
  },
  {
   "cell_type": "markdown",
   "id": "4845fbdf",
   "metadata": {
    "id": "0VCUAVIjRdzZ",
    "papermill": {
     "duration": 0.005965,
     "end_time": "2023-09-03T18:40:41.951764",
     "exception": false,
     "start_time": "2023-09-03T18:40:41.945799",
     "status": "completed"
    },
    "tags": []
   },
   "source": [
    "## Importing the libraries"
   ]
  },
  {
   "cell_type": "code",
   "execution_count": 1,
   "id": "5b3b22af",
   "metadata": {
    "execution": {
     "iopub.execute_input": "2023-09-03T18:40:41.965377Z",
     "iopub.status.busy": "2023-09-03T18:40:41.965011Z",
     "iopub.status.idle": "2023-09-03T18:40:42.265290Z",
     "shell.execute_reply": "2023-09-03T18:40:42.264258Z"
    },
    "papermill": {
     "duration": 0.310318,
     "end_time": "2023-09-03T18:40:42.268093",
     "exception": false,
     "start_time": "2023-09-03T18:40:41.957775",
     "status": "completed"
    },
    "tags": []
   },
   "outputs": [],
   "source": [
    "import pandas as pd\n",
    "import numpy as np\n",
    "import matplotlib.pyplot as plt"
   ]
  },
  {
   "cell_type": "markdown",
   "id": "d827e64d",
   "metadata": {
    "id": "fXVXoFWtSF4_",
    "papermill": {
     "duration": 0.005985,
     "end_time": "2023-09-03T18:40:42.280671",
     "exception": false,
     "start_time": "2023-09-03T18:40:42.274686",
     "status": "completed"
    },
    "tags": []
   },
   "source": [
    "## Importing the dataset"
   ]
  },
  {
   "cell_type": "code",
   "execution_count": 2,
   "id": "13b05d26",
   "metadata": {
    "execution": {
     "iopub.execute_input": "2023-09-03T18:40:42.294965Z",
     "iopub.status.busy": "2023-09-03T18:40:42.294543Z",
     "iopub.status.idle": "2023-09-03T18:40:42.321416Z",
     "shell.execute_reply": "2023-09-03T18:40:42.320391Z"
    },
    "papermill": {
     "duration": 0.036621,
     "end_time": "2023-09-03T18:40:42.323596",
     "exception": false,
     "start_time": "2023-09-03T18:40:42.286975",
     "status": "completed"
    },
    "tags": []
   },
   "outputs": [],
   "source": [
    "dataset = pd.read_csv('/kaggle/input/position-salaries-polynomial-linear-regression/position_salaries.csv')\n",
    "X = dataset.iloc[:,1:-1].values\n",
    "y = dataset.iloc[:,-1].values"
   ]
  },
  {
   "cell_type": "code",
   "execution_count": 3,
   "id": "d7261b48",
   "metadata": {
    "execution": {
     "iopub.execute_input": "2023-09-03T18:40:42.337635Z",
     "iopub.status.busy": "2023-09-03T18:40:42.337243Z",
     "iopub.status.idle": "2023-09-03T18:40:42.343804Z",
     "shell.execute_reply": "2023-09-03T18:40:42.342954Z"
    },
    "papermill": {
     "duration": 0.01575,
     "end_time": "2023-09-03T18:40:42.345625",
     "exception": false,
     "start_time": "2023-09-03T18:40:42.329875",
     "status": "completed"
    },
    "tags": []
   },
   "outputs": [
    {
     "name": "stdout",
     "output_type": "stream",
     "text": [
      "X : [[ 1]\n",
      " [ 2]\n",
      " [ 3]\n",
      " [ 4]\n",
      " [ 5]\n",
      " [ 6]\n",
      " [ 7]\n",
      " [ 8]\n",
      " [ 9]\n",
      " [10]]\n"
     ]
    }
   ],
   "source": [
    "print(\"X :\",X)"
   ]
  },
  {
   "cell_type": "code",
   "execution_count": 4,
   "id": "b536add4",
   "metadata": {
    "execution": {
     "iopub.execute_input": "2023-09-03T18:40:42.359862Z",
     "iopub.status.busy": "2023-09-03T18:40:42.359523Z",
     "iopub.status.idle": "2023-09-03T18:40:42.364767Z",
     "shell.execute_reply": "2023-09-03T18:40:42.363610Z"
    },
    "papermill": {
     "duration": 0.015318,
     "end_time": "2023-09-03T18:40:42.367052",
     "exception": false,
     "start_time": "2023-09-03T18:40:42.351734",
     "status": "completed"
    },
    "tags": []
   },
   "outputs": [
    {
     "name": "stdout",
     "output_type": "stream",
     "text": [
      "y : [  45000   50000   60000   80000  110000  150000  200000  300000  500000\n",
      " 1000000]\n"
     ]
    }
   ],
   "source": [
    "print(\"y :\",y)    #reshape to 2D-Array"
   ]
  },
  {
   "cell_type": "code",
   "execution_count": 5,
   "id": "7f65608f",
   "metadata": {
    "execution": {
     "iopub.execute_input": "2023-09-03T18:40:42.381868Z",
     "iopub.status.busy": "2023-09-03T18:40:42.381335Z",
     "iopub.status.idle": "2023-09-03T18:40:42.384824Z",
     "shell.execute_reply": "2023-09-03T18:40:42.384184Z"
    },
    "papermill": {
     "duration": 0.012997,
     "end_time": "2023-09-03T18:40:42.386867",
     "exception": false,
     "start_time": "2023-09-03T18:40:42.373870",
     "status": "completed"
    },
    "tags": []
   },
   "outputs": [],
   "source": [
    "y = y.reshape(-1,1)"
   ]
  },
  {
   "cell_type": "markdown",
   "id": "0aa064a0",
   "metadata": {
    "id": "YS8FeLHYS-nI",
    "papermill": {
     "duration": 0.006212,
     "end_time": "2023-09-03T18:40:42.399887",
     "exception": false,
     "start_time": "2023-09-03T18:40:42.393675",
     "status": "completed"
    },
    "tags": []
   },
   "source": [
    "## Feature Scaling"
   ]
  },
  {
   "cell_type": "code",
   "execution_count": 6,
   "id": "d8402766",
   "metadata": {
    "execution": {
     "iopub.execute_input": "2023-09-03T18:40:42.414471Z",
     "iopub.status.busy": "2023-09-03T18:40:42.413938Z",
     "iopub.status.idle": "2023-09-03T18:40:43.527508Z",
     "shell.execute_reply": "2023-09-03T18:40:43.526437Z"
    },
    "papermill": {
     "duration": 1.123662,
     "end_time": "2023-09-03T18:40:43.529873",
     "exception": false,
     "start_time": "2023-09-03T18:40:42.406211",
     "status": "completed"
    },
    "tags": []
   },
   "outputs": [],
   "source": [
    "from sklearn.preprocessing import StandardScaler\n",
    "sc_X = StandardScaler()\n",
    "sc_y = StandardScaler()\n",
    "\n",
    "X = sc_X.fit_transform(X)\n",
    "y = sc_y.fit_transform(y)"
   ]
  },
  {
   "cell_type": "code",
   "execution_count": 7,
   "id": "b1453785",
   "metadata": {
    "execution": {
     "iopub.execute_input": "2023-09-03T18:40:43.544747Z",
     "iopub.status.busy": "2023-09-03T18:40:43.544415Z",
     "iopub.status.idle": "2023-09-03T18:40:43.550657Z",
     "shell.execute_reply": "2023-09-03T18:40:43.549320Z"
    },
    "papermill": {
     "duration": 0.016278,
     "end_time": "2023-09-03T18:40:43.552871",
     "exception": false,
     "start_time": "2023-09-03T18:40:43.536593",
     "status": "completed"
    },
    "tags": []
   },
   "outputs": [
    {
     "name": "stdout",
     "output_type": "stream",
     "text": [
      "Values of Metrics of Features X :\n",
      " [[-1.5666989 ]\n",
      " [-1.21854359]\n",
      " [-0.87038828]\n",
      " [-0.52223297]\n",
      " [-0.17407766]\n",
      " [ 0.17407766]\n",
      " [ 0.52223297]\n",
      " [ 0.87038828]\n",
      " [ 1.21854359]\n",
      " [ 1.5666989 ]]\n"
     ]
    }
   ],
   "source": [
    "print(\"Values of Metrics of Features X :\\n\",X)"
   ]
  },
  {
   "cell_type": "code",
   "execution_count": 8,
   "id": "a97ab9be",
   "metadata": {
    "execution": {
     "iopub.execute_input": "2023-09-03T18:40:43.567724Z",
     "iopub.status.busy": "2023-09-03T18:40:43.567344Z",
     "iopub.status.idle": "2023-09-03T18:40:43.572834Z",
     "shell.execute_reply": "2023-09-03T18:40:43.571415Z"
    },
    "papermill": {
     "duration": 0.01564,
     "end_time": "2023-09-03T18:40:43.575168",
     "exception": false,
     "start_time": "2023-09-03T18:40:43.559528",
     "status": "completed"
    },
    "tags": []
   },
   "outputs": [
    {
     "name": "stdout",
     "output_type": "stream",
     "text": [
      "Values of Dependant Variable y :\n",
      " [[-0.72004253]\n",
      " [-0.70243757]\n",
      " [-0.66722767]\n",
      " [-0.59680786]\n",
      " [-0.49117815]\n",
      " [-0.35033854]\n",
      " [-0.17428902]\n",
      " [ 0.17781001]\n",
      " [ 0.88200808]\n",
      " [ 2.64250325]]\n"
     ]
    }
   ],
   "source": [
    "print(\"Values of Dependant Variable y :\\n\",y)"
   ]
  },
  {
   "cell_type": "code",
   "execution_count": 9,
   "id": "b4339696",
   "metadata": {
    "execution": {
     "iopub.execute_input": "2023-09-03T18:40:43.590058Z",
     "iopub.status.busy": "2023-09-03T18:40:43.589681Z",
     "iopub.status.idle": "2023-09-03T18:40:43.594926Z",
     "shell.execute_reply": "2023-09-03T18:40:43.593823Z"
    },
    "papermill": {
     "duration": 0.015893,
     "end_time": "2023-09-03T18:40:43.597826",
     "exception": false,
     "start_time": "2023-09-03T18:40:43.581933",
     "status": "completed"
    },
    "tags": []
   },
   "outputs": [],
   "source": [
    "#y = np.ravel(y)"
   ]
  },
  {
   "cell_type": "code",
   "execution_count": 10,
   "id": "662a0206",
   "metadata": {
    "execution": {
     "iopub.execute_input": "2023-09-03T18:40:43.613117Z",
     "iopub.status.busy": "2023-09-03T18:40:43.612790Z",
     "iopub.status.idle": "2023-09-03T18:40:43.620390Z",
     "shell.execute_reply": "2023-09-03T18:40:43.619234Z"
    },
    "papermill": {
     "duration": 0.017574,
     "end_time": "2023-09-03T18:40:43.622258",
     "exception": false,
     "start_time": "2023-09-03T18:40:43.604684",
     "status": "completed"
    },
    "tags": []
   },
   "outputs": [
    {
     "data": {
      "text/plain": [
       "array([[-0.72004253],\n",
       "       [-0.70243757],\n",
       "       [-0.66722767],\n",
       "       [-0.59680786],\n",
       "       [-0.49117815],\n",
       "       [-0.35033854],\n",
       "       [-0.17428902],\n",
       "       [ 0.17781001],\n",
       "       [ 0.88200808],\n",
       "       [ 2.64250325]])"
      ]
     },
     "execution_count": 10,
     "metadata": {},
     "output_type": "execute_result"
    }
   ],
   "source": [
    "y"
   ]
  },
  {
   "cell_type": "markdown",
   "id": "a151f189",
   "metadata": {
    "id": "eiU6D2QFRjxY",
    "papermill": {
     "duration": 0.006544,
     "end_time": "2023-09-03T18:40:43.635685",
     "exception": false,
     "start_time": "2023-09-03T18:40:43.629141",
     "status": "completed"
    },
    "tags": []
   },
   "source": [
    "## Training the SVR model on the whole dataset"
   ]
  },
  {
   "cell_type": "code",
   "execution_count": 11,
   "id": "5e08ea73",
   "metadata": {
    "execution": {
     "iopub.execute_input": "2023-09-03T18:40:43.651199Z",
     "iopub.status.busy": "2023-09-03T18:40:43.650573Z",
     "iopub.status.idle": "2023-09-03T18:40:43.883293Z",
     "shell.execute_reply": "2023-09-03T18:40:43.882122Z"
    },
    "papermill": {
     "duration": 0.243157,
     "end_time": "2023-09-03T18:40:43.885315",
     "exception": false,
     "start_time": "2023-09-03T18:40:43.642158",
     "status": "completed"
    },
    "tags": []
   },
   "outputs": [
    {
     "name": "stderr",
     "output_type": "stream",
     "text": [
      "/opt/conda/lib/python3.10/site-packages/sklearn/utils/validation.py:1143: DataConversionWarning: A column-vector y was passed when a 1d array was expected. Please change the shape of y to (n_samples, ), for example using ravel().\n",
      "  y = column_or_1d(y, warn=True)\n"
     ]
    },
    {
     "data": {
      "text/html": [
       "<style>#sk-container-id-1 {color: black;background-color: white;}#sk-container-id-1 pre{padding: 0;}#sk-container-id-1 div.sk-toggleable {background-color: white;}#sk-container-id-1 label.sk-toggleable__label {cursor: pointer;display: block;width: 100%;margin-bottom: 0;padding: 0.3em;box-sizing: border-box;text-align: center;}#sk-container-id-1 label.sk-toggleable__label-arrow:before {content: \"▸\";float: left;margin-right: 0.25em;color: #696969;}#sk-container-id-1 label.sk-toggleable__label-arrow:hover:before {color: black;}#sk-container-id-1 div.sk-estimator:hover label.sk-toggleable__label-arrow:before {color: black;}#sk-container-id-1 div.sk-toggleable__content {max-height: 0;max-width: 0;overflow: hidden;text-align: left;background-color: #f0f8ff;}#sk-container-id-1 div.sk-toggleable__content pre {margin: 0.2em;color: black;border-radius: 0.25em;background-color: #f0f8ff;}#sk-container-id-1 input.sk-toggleable__control:checked~div.sk-toggleable__content {max-height: 200px;max-width: 100%;overflow: auto;}#sk-container-id-1 input.sk-toggleable__control:checked~label.sk-toggleable__label-arrow:before {content: \"▾\";}#sk-container-id-1 div.sk-estimator input.sk-toggleable__control:checked~label.sk-toggleable__label {background-color: #d4ebff;}#sk-container-id-1 div.sk-label input.sk-toggleable__control:checked~label.sk-toggleable__label {background-color: #d4ebff;}#sk-container-id-1 input.sk-hidden--visually {border: 0;clip: rect(1px 1px 1px 1px);clip: rect(1px, 1px, 1px, 1px);height: 1px;margin: -1px;overflow: hidden;padding: 0;position: absolute;width: 1px;}#sk-container-id-1 div.sk-estimator {font-family: monospace;background-color: #f0f8ff;border: 1px dotted black;border-radius: 0.25em;box-sizing: border-box;margin-bottom: 0.5em;}#sk-container-id-1 div.sk-estimator:hover {background-color: #d4ebff;}#sk-container-id-1 div.sk-parallel-item::after {content: \"\";width: 100%;border-bottom: 1px solid gray;flex-grow: 1;}#sk-container-id-1 div.sk-label:hover label.sk-toggleable__label {background-color: #d4ebff;}#sk-container-id-1 div.sk-serial::before {content: \"\";position: absolute;border-left: 1px solid gray;box-sizing: border-box;top: 0;bottom: 0;left: 50%;z-index: 0;}#sk-container-id-1 div.sk-serial {display: flex;flex-direction: column;align-items: center;background-color: white;padding-right: 0.2em;padding-left: 0.2em;position: relative;}#sk-container-id-1 div.sk-item {position: relative;z-index: 1;}#sk-container-id-1 div.sk-parallel {display: flex;align-items: stretch;justify-content: center;background-color: white;position: relative;}#sk-container-id-1 div.sk-item::before, #sk-container-id-1 div.sk-parallel-item::before {content: \"\";position: absolute;border-left: 1px solid gray;box-sizing: border-box;top: 0;bottom: 0;left: 50%;z-index: -1;}#sk-container-id-1 div.sk-parallel-item {display: flex;flex-direction: column;z-index: 1;position: relative;background-color: white;}#sk-container-id-1 div.sk-parallel-item:first-child::after {align-self: flex-end;width: 50%;}#sk-container-id-1 div.sk-parallel-item:last-child::after {align-self: flex-start;width: 50%;}#sk-container-id-1 div.sk-parallel-item:only-child::after {width: 0;}#sk-container-id-1 div.sk-dashed-wrapped {border: 1px dashed gray;margin: 0 0.4em 0.5em 0.4em;box-sizing: border-box;padding-bottom: 0.4em;background-color: white;}#sk-container-id-1 div.sk-label label {font-family: monospace;font-weight: bold;display: inline-block;line-height: 1.2em;}#sk-container-id-1 div.sk-label-container {text-align: center;}#sk-container-id-1 div.sk-container {/* jupyter's `normalize.less` sets `[hidden] { display: none; }` but bootstrap.min.css set `[hidden] { display: none !important; }` so we also need the `!important` here to be able to override the default hidden behavior on the sphinx rendered scikit-learn.org. See: https://github.com/scikit-learn/scikit-learn/issues/21755 */display: inline-block !important;position: relative;}#sk-container-id-1 div.sk-text-repr-fallback {display: none;}</style><div id=\"sk-container-id-1\" class=\"sk-top-container\"><div class=\"sk-text-repr-fallback\"><pre>SVR()</pre><b>In a Jupyter environment, please rerun this cell to show the HTML representation or trust the notebook. <br />On GitHub, the HTML representation is unable to render, please try loading this page with nbviewer.org.</b></div><div class=\"sk-container\" hidden><div class=\"sk-item\"><div class=\"sk-estimator sk-toggleable\"><input class=\"sk-toggleable__control sk-hidden--visually\" id=\"sk-estimator-id-1\" type=\"checkbox\" checked><label for=\"sk-estimator-id-1\" class=\"sk-toggleable__label sk-toggleable__label-arrow\">SVR</label><div class=\"sk-toggleable__content\"><pre>SVR()</pre></div></div></div></div></div>"
      ],
      "text/plain": [
       "SVR()"
      ]
     },
     "execution_count": 11,
     "metadata": {},
     "output_type": "execute_result"
    }
   ],
   "source": [
    "from sklearn.svm import SVR\n",
    "svr = SVR(kernel='rbf')\n",
    "svr.fit(X,y)"
   ]
  },
  {
   "cell_type": "markdown",
   "id": "f0897060",
   "metadata": {
    "id": "deDnDr8UR5vq",
    "papermill": {
     "duration": 0.007338,
     "end_time": "2023-09-03T18:40:43.899748",
     "exception": false,
     "start_time": "2023-09-03T18:40:43.892410",
     "status": "completed"
    },
    "tags": []
   },
   "source": [
    "## Predicting a new result"
   ]
  },
  {
   "cell_type": "code",
   "execution_count": 12,
   "id": "e9d62e65",
   "metadata": {
    "execution": {
     "iopub.execute_input": "2023-09-03T18:40:43.916496Z",
     "iopub.status.busy": "2023-09-03T18:40:43.916130Z",
     "iopub.status.idle": "2023-09-03T18:40:43.924869Z",
     "shell.execute_reply": "2023-09-03T18:40:43.923646Z"
    },
    "papermill": {
     "duration": 0.019112,
     "end_time": "2023-09-03T18:40:43.926728",
     "exception": false,
     "start_time": "2023-09-03T18:40:43.907616",
     "status": "completed"
    },
    "tags": []
   },
   "outputs": [
    {
     "data": {
      "text/plain": [
       "array([[209410.23132923]])"
      ]
     },
     "execution_count": 12,
     "metadata": {},
     "output_type": "execute_result"
    }
   ],
   "source": [
    "sc_y.inverse_transform(svr.predict(sc_X.transform([[7]])).reshape(-1,1))"
   ]
  },
  {
   "cell_type": "markdown",
   "id": "cf940fba",
   "metadata": {
    "id": "zzedFlUISSu_",
    "papermill": {
     "duration": 0.006765,
     "end_time": "2023-09-03T18:40:43.940760",
     "exception": false,
     "start_time": "2023-09-03T18:40:43.933995",
     "status": "completed"
    },
    "tags": []
   },
   "source": [
    "## Visualising the SVR results"
   ]
  },
  {
   "cell_type": "code",
   "execution_count": 13,
   "id": "1a96ad81",
   "metadata": {
    "execution": {
     "iopub.execute_input": "2023-09-03T18:40:43.956321Z",
     "iopub.status.busy": "2023-09-03T18:40:43.955910Z",
     "iopub.status.idle": "2023-09-03T18:40:43.961021Z",
     "shell.execute_reply": "2023-09-03T18:40:43.959771Z"
    },
    "papermill": {
     "duration": 0.016322,
     "end_time": "2023-09-03T18:40:43.963874",
     "exception": false,
     "start_time": "2023-09-03T18:40:43.947552",
     "status": "completed"
    },
    "tags": []
   },
   "outputs": [],
   "source": [
    "y_t = svr.predict(X)"
   ]
  },
  {
   "cell_type": "code",
   "execution_count": 14,
   "id": "91a8130e",
   "metadata": {
    "execution": {
     "iopub.execute_input": "2023-09-03T18:40:43.980293Z",
     "iopub.status.busy": "2023-09-03T18:40:43.979977Z",
     "iopub.status.idle": "2023-09-03T18:40:43.986039Z",
     "shell.execute_reply": "2023-09-03T18:40:43.985232Z"
    },
    "papermill": {
     "duration": 0.016789,
     "end_time": "2023-09-03T18:40:43.988190",
     "exception": false,
     "start_time": "2023-09-03T18:40:43.971401",
     "status": "completed"
    },
    "tags": []
   },
   "outputs": [
    {
     "data": {
      "text/plain": [
       "array([[ 73474.15615697],\n",
       "       [ 70786.94584626],\n",
       "       [ 88213.00902103],\n",
       "       [108254.98574956],\n",
       "       [122574.52250599],\n",
       "       [145503.10688572],\n",
       "       [209410.23132923],\n",
       "       [330606.89204569],\n",
       "       [471671.95587315],\n",
       "       [557821.75899897]])"
      ]
     },
     "execution_count": 14,
     "metadata": {},
     "output_type": "execute_result"
    }
   ],
   "source": [
    "sc_y.inverse_transform(y_t.reshape(-1,1))"
   ]
  },
  {
   "cell_type": "code",
   "execution_count": 15,
   "id": "49d5f848",
   "metadata": {
    "execution": {
     "iopub.execute_input": "2023-09-03T18:40:44.004546Z",
     "iopub.status.busy": "2023-09-03T18:40:44.004140Z",
     "iopub.status.idle": "2023-09-03T18:40:44.315611Z",
     "shell.execute_reply": "2023-09-03T18:40:44.314122Z"
    },
    "papermill": {
     "duration": 0.32244,
     "end_time": "2023-09-03T18:40:44.318148",
     "exception": false,
     "start_time": "2023-09-03T18:40:43.995708",
     "status": "completed"
    },
    "tags": []
   },
   "outputs": [
    {
     "data": {
      "image/png": "[encoded data removed]",
      "text/plain": [
       "<Figure size 640x480 with 1 Axes>"
      ]
     },
     "metadata": {},
     "output_type": "display_data"
    }
   ],
   "source": [
    "plt.scatter(sc_X.inverse_transform(X),sc_y.inverse_transform(y), color='blue')\n",
    "plt.plot(sc_X.inverse_transform(X), sc_y.inverse_transform(svr.predict(X).reshape(-1,1)), color='red')\n",
    "plt.xlabel(\"Levels\")\n",
    "plt.ylabel(\"Salaries\")\n",
    "plt.title(\"Truth or Bluff (Support Vector Regression) \")\n",
    "plt.show()"
   ]
  },
  {
   "cell_type": "code",
   "execution_count": 16,
   "id": "aac18b79",
   "metadata": {
    "execution": {
     "iopub.execute_input": "2023-09-03T18:40:44.334726Z",
     "iopub.status.busy": "2023-09-03T18:40:44.334338Z",
     "iopub.status.idle": "2023-09-03T18:40:44.342090Z",
     "shell.execute_reply": "2023-09-03T18:40:44.340759Z"
    },
    "papermill": {
     "duration": 0.018438,
     "end_time": "2023-09-03T18:40:44.344195",
     "exception": false,
     "start_time": "2023-09-03T18:40:44.325757",
     "status": "completed"
    },
    "tags": []
   },
   "outputs": [
    {
     "data": {
      "text/plain": [
       "array([[-1.5666989 ],\n",
       "       [-1.21854359],\n",
       "       [-0.87038828],\n",
       "       [-0.52223297],\n",
       "       [-0.17407766],\n",
       "       [ 0.17407766],\n",
       "       [ 0.52223297],\n",
       "       [ 0.87038828],\n",
       "       [ 1.21854359],\n",
       "       [ 1.5666989 ]])"
      ]
     },
     "execution_count": 16,
     "metadata": {},
     "output_type": "execute_result"
    }
   ],
   "source": [
    "X"
   ]
  },
  {
   "cell_type": "markdown",
   "id": "ea76bb6c",
   "metadata": {
    "id": "UahPVNlJSZ-K",
    "papermill": {
     "duration": 0.00703,
     "end_time": "2023-09-03T18:40:44.359007",
     "exception": false,
     "start_time": "2023-09-03T18:40:44.351977",
     "status": "completed"
    },
    "tags": []
   },
   "source": [
    "## Visualising the SVR results (for higher resolution and smoother curve)"
   ]
  },
  {
   "cell_type": "code",
   "execution_count": 17,
   "id": "09d530c9",
   "metadata": {
    "execution": {
     "iopub.execute_input": "2023-09-03T18:40:44.374720Z",
     "iopub.status.busy": "2023-09-03T18:40:44.374388Z",
     "iopub.status.idle": "2023-09-03T18:40:44.805453Z",
     "shell.execute_reply": "2023-09-03T18:40:44.804420Z"
    },
    "papermill": {
     "duration": 0.441784,
     "end_time": "2023-09-03T18:40:44.807926",
     "exception": false,
     "start_time": "2023-09-03T18:40:44.366142",
     "status": "completed"
    },
    "tags": []
   },
   "outputs": [
    {
     "data": {
      "image/png": "[encoded data removed]",
      "text/plain": [
       "<Figure size 640x480 with 1 Axes>"
      ]
     },
     "metadata": {},
     "output_type": "display_data"
    }
   ],
   "source": [
    "X_grid = np.arange(min(sc_X.inverse_transform(X)),max(sc_X.inverse_transform(X)),0.00001)\n",
    "X_grid = X_grid.reshape(-1,1)\n",
    "\n",
    "plt.scatter(sc_X.inverse_transform(X),sc_y.inverse_transform(y),color ='blue')\n",
    "plt.plot(X_grid, sc_y.inverse_transform(svr.predict(sc_X.transform(X_grid)).reshape(-1,1)), color='red')\n",
    "plt.xlabel(\"Levels\")\n",
    "plt.ylabel(\"Salaries\")\n",
    "plt.title(\"Truth or Bluff (Support Vector Regression) \")\n",
    "plt.show()"
   ]
  },
  {
   "cell_type": "code",
   "execution_count": null,
   "id": "b81e7634",
   "metadata": {
    "papermill": {
     "duration": 0.008016,
     "end_time": "2023-09-03T18:40:44.824270",
     "exception": false,
     "start_time": "2023-09-03T18:40:44.816254",
     "status": "completed"
    },
    "tags": []
   },
   "outputs": [],
   "source": []
  }
 ],
 "kernelspec": {
  "display_name": "Python 3",
  "language": "python",
  "name": "python3"
 },
 "language_info": {
  "codemirror_mode": {
   "name": "ipython",
   "version": 3
  },
  "file_extension": ".py",
  "mimetype": "text/x-python",
  "name": "python",
  "nbconvert_exporter": "python",
  "pygments_lexer": "ipython3",
  "version": "3.6.4"
 },
 "metadata": {
  "colab": {
   "collapsed_sections": [],
   "provenance": []
  },
  "kernelspec": {
   "display_name": "Python 3",
   "language": "python",
   "name": "python3"
  },
  "language_info": {
   "codemirror_mode": {
    "name": "ipython",
    "version": 3
   },
   "file_extension": ".py",
   "mimetype": "text/x-python",
   "name": "python",
   "nbconvert_exporter": "python",
   "pygments_lexer": "ipython3",
   "version": "3.10.12"
  },
  "papermill": {
   "default_parameters": {},
   "duration": 6.219593,
   "end_time": "2023-09-03T18:40:45.352114",
   "environment_variables": {},
   "exception": null,
   "input_path": "__notebook__.ipynb",
   "output_path": "__notebook__.ipynb",
   "parameters": {},
   "start_time": "2023-09-03T18:40:39.132521",
   "version": "2.4.0"
  }
 },
 "nbformat": 4,
 "nbformat_minor": 5
}
