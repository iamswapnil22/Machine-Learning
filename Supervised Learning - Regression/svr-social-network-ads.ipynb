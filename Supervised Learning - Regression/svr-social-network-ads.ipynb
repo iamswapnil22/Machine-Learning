{
 "cells": [
  {
   "cell_type": "markdown",
   "id": "222fc3f6",
   "metadata": {
    "papermill": {
     "duration": 0.008627,
     "end_time": "2023-09-03T14:10:45.284834",
     "exception": false,
     "start_time": "2023-09-03T14:10:45.276207",
     "status": "completed"
    },
    "tags": []
   },
   "source": [
    "## Support Vector Regression for Predicting A Particular Person Ourchased the Product or not"
   ]
  },
  {
   "cell_type": "markdown",
   "id": "6d92aa2f",
   "metadata": {
    "papermill": {
     "duration": 0.007905,
     "end_time": "2023-09-03T14:10:45.300684",
     "exception": false,
     "start_time": "2023-09-03T14:10:45.292779",
     "status": "completed"
    },
    "tags": []
   },
   "source": [
    "### Import Imp Libraries"
   ]
  },
  {
   "cell_type": "code",
   "execution_count": 1,
   "id": "282d95e0",
   "metadata": {
    "execution": {
     "iopub.execute_input": "2023-09-03T14:10:45.318023Z",
     "iopub.status.busy": "2023-09-03T14:10:45.317648Z",
     "iopub.status.idle": "2023-09-03T14:10:45.740880Z",
     "shell.execute_reply": "2023-09-03T14:10:45.739686Z"
    },
    "papermill": {
     "duration": 0.435079,
     "end_time": "2023-09-03T14:10:45.743732",
     "exception": false,
     "start_time": "2023-09-03T14:10:45.308653",
     "status": "completed"
    },
    "tags": []
   },
   "outputs": [],
   "source": [
    "import numpy as np\n",
    "import pandas as pd\n",
    "import matplotlib.pyplot as plt "
   ]
  },
  {
   "cell_type": "markdown",
   "id": "4c861673",
   "metadata": {
    "papermill": {
     "duration": 0.007457,
     "end_time": "2023-09-03T14:10:45.758986",
     "exception": false,
     "start_time": "2023-09-03T14:10:45.751529",
     "status": "completed"
    },
    "tags": []
   },
   "source": [
    "### Import Dataset from CSV"
   ]
  },
  {
   "cell_type": "code",
   "execution_count": 2,
   "id": "49d2a26c",
   "metadata": {
    "execution": {
     "iopub.execute_input": "2023-09-03T14:10:45.776347Z",
     "iopub.status.busy": "2023-09-03T14:10:45.775825Z",
     "iopub.status.idle": "2023-09-03T14:10:45.811686Z",
     "shell.execute_reply": "2023-09-03T14:10:45.810723Z"
    },
    "papermill": {
     "duration": 0.047729,
     "end_time": "2023-09-03T14:10:45.814432",
     "exception": false,
     "start_time": "2023-09-03T14:10:45.766703",
     "status": "completed"
    },
    "tags": []
   },
   "outputs": [],
   "source": [
    "dataset = pd.read_csv('/kaggle/input/social-network-ads/Social_Network_Ads.csv')\n",
    "X = dataset.iloc[:,2:-1].values\n",
    "y = dataset.iloc[:,-1].values"
   ]
  },
  {
   "cell_type": "code",
   "execution_count": 3,
   "id": "95f5ceef",
   "metadata": {
    "execution": {
     "iopub.execute_input": "2023-09-03T14:10:45.832155Z",
     "iopub.status.busy": "2023-09-03T14:10:45.831390Z",
     "iopub.status.idle": "2023-09-03T14:10:45.837331Z",
     "shell.execute_reply": "2023-09-03T14:10:45.836579Z"
    },
    "papermill": {
     "duration": 0.017376,
     "end_time": "2023-09-03T14:10:45.839688",
     "exception": false,
     "start_time": "2023-09-03T14:10:45.822312",
     "status": "completed"
    },
    "tags": []
   },
   "outputs": [
    {
     "name": "stdout",
     "output_type": "stream",
     "text": [
      "X =  [[    19  19000]\n",
      " [    35  20000]\n",
      " [    26  43000]\n",
      " [    27  57000]\n",
      " [    19  76000]\n",
      " [    27  58000]\n",
      " [    27  84000]\n",
      " [    32 150000]\n",
      " [    25  33000]\n",
      " [    35  65000]]\n"
     ]
    }
   ],
   "source": [
    "print(\"X = \",X[:10,:])"
   ]
  },
  {
   "cell_type": "code",
   "execution_count": 4,
   "id": "a46f22b1",
   "metadata": {
    "execution": {
     "iopub.execute_input": "2023-09-03T14:10:45.857248Z",
     "iopub.status.busy": "2023-09-03T14:10:45.856842Z",
     "iopub.status.idle": "2023-09-03T14:10:45.862874Z",
     "shell.execute_reply": "2023-09-03T14:10:45.861717Z"
    },
    "papermill": {
     "duration": 0.017505,
     "end_time": "2023-09-03T14:10:45.865068",
     "exception": false,
     "start_time": "2023-09-03T14:10:45.847563",
     "status": "completed"
    },
    "tags": []
   },
   "outputs": [
    {
     "name": "stdout",
     "output_type": "stream",
     "text": [
      "y =  [[0]\n",
      " [0]\n",
      " [0]\n",
      " [0]\n",
      " [0]\n",
      " [0]\n",
      " [0]\n",
      " [1]\n",
      " [0]\n",
      " [0]]\n"
     ]
    }
   ],
   "source": [
    "y=y.reshape(-1,1)\n",
    "print(\"y = \",y[:10])"
   ]
  },
  {
   "cell_type": "code",
   "execution_count": 5,
   "id": "18aaf2c8",
   "metadata": {
    "execution": {
     "iopub.execute_input": "2023-09-03T14:10:45.883266Z",
     "iopub.status.busy": "2023-09-03T14:10:45.882868Z",
     "iopub.status.idle": "2023-09-03T14:10:45.914714Z",
     "shell.execute_reply": "2023-09-03T14:10:45.913567Z"
    },
    "papermill": {
     "duration": 0.044123,
     "end_time": "2023-09-03T14:10:45.917218",
     "exception": false,
     "start_time": "2023-09-03T14:10:45.873095",
     "status": "completed"
    },
    "tags": []
   },
   "outputs": [
    {
     "name": "stdout",
     "output_type": "stream",
     "text": [
      "<class 'pandas.core.frame.DataFrame'>\n",
      "RangeIndex: 400 entries, 0 to 399\n",
      "Data columns (total 5 columns):\n",
      " #   Column           Non-Null Count  Dtype \n",
      "---  ------           --------------  ----- \n",
      " 0   User ID          400 non-null    int64 \n",
      " 1   Gender           400 non-null    object\n",
      " 2   Age              400 non-null    int64 \n",
      " 3   EstimatedSalary  400 non-null    int64 \n",
      " 4   Purchased        400 non-null    int64 \n",
      "dtypes: int64(4), object(1)\n",
      "memory usage: 15.8+ KB\n"
     ]
    }
   ],
   "source": [
    "dataset.info()"
   ]
  },
  {
   "cell_type": "markdown",
   "id": "ff61c354",
   "metadata": {
    "papermill": {
     "duration": 0.007939,
     "end_time": "2023-09-03T14:10:45.933675",
     "exception": false,
     "start_time": "2023-09-03T14:10:45.925736",
     "status": "completed"
    },
    "tags": []
   },
   "source": [
    "### Spliting Data in Train and Test Set"
   ]
  },
  {
   "cell_type": "code",
   "execution_count": 6,
   "id": "2ec7f003",
   "metadata": {
    "execution": {
     "iopub.execute_input": "2023-09-03T14:10:45.952012Z",
     "iopub.status.busy": "2023-09-03T14:10:45.951262Z",
     "iopub.status.idle": "2023-09-03T14:10:47.296710Z",
     "shell.execute_reply": "2023-09-03T14:10:47.295399Z"
    },
    "papermill": {
     "duration": 1.357619,
     "end_time": "2023-09-03T14:10:47.299586",
     "exception": false,
     "start_time": "2023-09-03T14:10:45.941967",
     "status": "completed"
    },
    "tags": []
   },
   "outputs": [],
   "source": [
    "from sklearn.model_selection import train_test_split\n",
    "X_train,X_test,y_train,y_test = train_test_split(X,y,test_size=0.25,random_state=42)"
   ]
  },
  {
   "cell_type": "code",
   "execution_count": 7,
   "id": "5d10e448",
   "metadata": {
    "execution": {
     "iopub.execute_input": "2023-09-03T14:10:47.318043Z",
     "iopub.status.busy": "2023-09-03T14:10:47.317624Z",
     "iopub.status.idle": "2023-09-03T14:10:47.322177Z",
     "shell.execute_reply": "2023-09-03T14:10:47.321086Z"
    },
    "papermill": {
     "duration": 0.016598,
     "end_time": "2023-09-03T14:10:47.324399",
     "exception": false,
     "start_time": "2023-09-03T14:10:47.307801",
     "status": "completed"
    },
    "tags": []
   },
   "outputs": [],
   "source": [
    "# as we can see above metrics of features X has some feature with high value we need to apply feature scaling to make them in small valuee we need to apply feature scaling"
   ]
  },
  {
   "cell_type": "markdown",
   "id": "1a9ad669",
   "metadata": {
    "papermill": {
     "duration": 0.007625,
     "end_time": "2023-09-03T14:10:47.340100",
     "exception": false,
     "start_time": "2023-09-03T14:10:47.332475",
     "status": "completed"
    },
    "tags": []
   },
   "source": [
    "### Apply Feature Scaling"
   ]
  },
  {
   "cell_type": "code",
   "execution_count": 8,
   "id": "4f078e70",
   "metadata": {
    "execution": {
     "iopub.execute_input": "2023-09-03T14:10:47.358031Z",
     "iopub.status.busy": "2023-09-03T14:10:47.357642Z",
     "iopub.status.idle": "2023-09-03T14:10:47.364827Z",
     "shell.execute_reply": "2023-09-03T14:10:47.363935Z"
    },
    "papermill": {
     "duration": 0.01888,
     "end_time": "2023-09-03T14:10:47.366963",
     "exception": false,
     "start_time": "2023-09-03T14:10:47.348083",
     "status": "completed"
    },
    "tags": []
   },
   "outputs": [],
   "source": [
    "from sklearn.preprocessing import StandardScaler\n",
    "sc_X = StandardScaler()\n",
    "X_train_scaled =  sc_X.fit_transform(X_train)\n",
    "X_test_scaled = sc_X.transform(X_test)\n"
   ]
  },
  {
   "cell_type": "markdown",
   "id": "b7155008",
   "metadata": {
    "papermill": {
     "duration": 0.007753,
     "end_time": "2023-09-03T14:10:47.382765",
     "exception": false,
     "start_time": "2023-09-03T14:10:47.375012",
     "status": "completed"
    },
    "tags": []
   },
   "source": [
    "### Implement Support Vector Regression"
   ]
  },
  {
   "cell_type": "code",
   "execution_count": 9,
   "id": "3d4cff13",
   "metadata": {
    "execution": {
     "iopub.execute_input": "2023-09-03T14:10:47.400603Z",
     "iopub.status.busy": "2023-09-03T14:10:47.400188Z",
     "iopub.status.idle": "2023-09-03T14:10:47.525465Z",
     "shell.execute_reply": "2023-09-03T14:10:47.524219Z"
    },
    "papermill": {
     "duration": 0.137378,
     "end_time": "2023-09-03T14:10:47.528152",
     "exception": false,
     "start_time": "2023-09-03T14:10:47.390774",
     "status": "completed"
    },
    "tags": []
   },
   "outputs": [
    {
     "name": "stderr",
     "output_type": "stream",
     "text": [
      "/opt/conda/lib/python3.10/site-packages/sklearn/utils/validation.py:1143: DataConversionWarning: A column-vector y was passed when a 1d array was expected. Please change the shape of y to (n_samples, ), for example using ravel().\n",
      "  y = column_or_1d(y, warn=True)\n"
     ]
    },
    {
     "data": {
      "text/html": [
       "<style>#sk-container-id-1 {color: black;background-color: white;}#sk-container-id-1 pre{padding: 0;}#sk-container-id-1 div.sk-toggleable {background-color: white;}#sk-container-id-1 label.sk-toggleable__label {cursor: pointer;display: block;width: 100%;margin-bottom: 0;padding: 0.3em;box-sizing: border-box;text-align: center;}#sk-container-id-1 label.sk-toggleable__label-arrow:before {content: \"▸\";float: left;margin-right: 0.25em;color: #696969;}#sk-container-id-1 label.sk-toggleable__label-arrow:hover:before {color: black;}#sk-container-id-1 div.sk-estimator:hover label.sk-toggleable__label-arrow:before {color: black;}#sk-container-id-1 div.sk-toggleable__content {max-height: 0;max-width: 0;overflow: hidden;text-align: left;background-color: #f0f8ff;}#sk-container-id-1 div.sk-toggleable__content pre {margin: 0.2em;color: black;border-radius: 0.25em;background-color: #f0f8ff;}#sk-container-id-1 input.sk-toggleable__control:checked~div.sk-toggleable__content {max-height: 200px;max-width: 100%;overflow: auto;}#sk-container-id-1 input.sk-toggleable__control:checked~label.sk-toggleable__label-arrow:before {content: \"▾\";}#sk-container-id-1 div.sk-estimator input.sk-toggleable__control:checked~label.sk-toggleable__label {background-color: #d4ebff;}#sk-container-id-1 div.sk-label input.sk-toggleable__control:checked~label.sk-toggleable__label {background-color: #d4ebff;}#sk-container-id-1 input.sk-hidden--visually {border: 0;clip: rect(1px 1px 1px 1px);clip: rect(1px, 1px, 1px, 1px);height: 1px;margin: -1px;overflow: hidden;padding: 0;position: absolute;width: 1px;}#sk-container-id-1 div.sk-estimator {font-family: monospace;background-color: #f0f8ff;border: 1px dotted black;border-radius: 0.25em;box-sizing: border-box;margin-bottom: 0.5em;}#sk-container-id-1 div.sk-estimator:hover {background-color: #d4ebff;}#sk-container-id-1 div.sk-parallel-item::after {content: \"\";width: 100%;border-bottom: 1px solid gray;flex-grow: 1;}#sk-container-id-1 div.sk-label:hover label.sk-toggleable__label {background-color: #d4ebff;}#sk-container-id-1 div.sk-serial::before {content: \"\";position: absolute;border-left: 1px solid gray;box-sizing: border-box;top: 0;bottom: 0;left: 50%;z-index: 0;}#sk-container-id-1 div.sk-serial {display: flex;flex-direction: column;align-items: center;background-color: white;padding-right: 0.2em;padding-left: 0.2em;position: relative;}#sk-container-id-1 div.sk-item {position: relative;z-index: 1;}#sk-container-id-1 div.sk-parallel {display: flex;align-items: stretch;justify-content: center;background-color: white;position: relative;}#sk-container-id-1 div.sk-item::before, #sk-container-id-1 div.sk-parallel-item::before {content: \"\";position: absolute;border-left: 1px solid gray;box-sizing: border-box;top: 0;bottom: 0;left: 50%;z-index: -1;}#sk-container-id-1 div.sk-parallel-item {display: flex;flex-direction: column;z-index: 1;position: relative;background-color: white;}#sk-container-id-1 div.sk-parallel-item:first-child::after {align-self: flex-end;width: 50%;}#sk-container-id-1 div.sk-parallel-item:last-child::after {align-self: flex-start;width: 50%;}#sk-container-id-1 div.sk-parallel-item:only-child::after {width: 0;}#sk-container-id-1 div.sk-dashed-wrapped {border: 1px dashed gray;margin: 0 0.4em 0.5em 0.4em;box-sizing: border-box;padding-bottom: 0.4em;background-color: white;}#sk-container-id-1 div.sk-label label {font-family: monospace;font-weight: bold;display: inline-block;line-height: 1.2em;}#sk-container-id-1 div.sk-label-container {text-align: center;}#sk-container-id-1 div.sk-container {/* jupyter's `normalize.less` sets `[hidden] { display: none; }` but bootstrap.min.css set `[hidden] { display: none !important; }` so we also need the `!important` here to be able to override the default hidden behavior on the sphinx rendered scikit-learn.org. See: https://github.com/scikit-learn/scikit-learn/issues/21755 */display: inline-block !important;position: relative;}#sk-container-id-1 div.sk-text-repr-fallback {display: none;}</style><div id=\"sk-container-id-1\" class=\"sk-top-container\"><div class=\"sk-text-repr-fallback\"><pre>SVR()</pre><b>In a Jupyter environment, please rerun this cell to show the HTML representation or trust the notebook. <br />On GitHub, the HTML representation is unable to render, please try loading this page with nbviewer.org.</b></div><div class=\"sk-container\" hidden><div class=\"sk-item\"><div class=\"sk-estimator sk-toggleable\"><input class=\"sk-toggleable__control sk-hidden--visually\" id=\"sk-estimator-id-1\" type=\"checkbox\" checked><label for=\"sk-estimator-id-1\" class=\"sk-toggleable__label sk-toggleable__label-arrow\">SVR</label><div class=\"sk-toggleable__content\"><pre>SVR()</pre></div></div></div></div></div>"
      ],
      "text/plain": [
       "SVR()"
      ]
     },
     "execution_count": 9,
     "metadata": {},
     "output_type": "execute_result"
    }
   ],
   "source": [
    "from sklearn.svm import SVR\n",
    "svr = SVR(kernel='rbf',C=1.0, epsilon=0.1)\n",
    "svr.fit(X_train,y_train)"
   ]
  },
  {
   "cell_type": "markdown",
   "id": "c91a84cc",
   "metadata": {
    "papermill": {
     "duration": 0.008706,
     "end_time": "2023-09-03T14:10:47.545816",
     "exception": false,
     "start_time": "2023-09-03T14:10:47.537110",
     "status": "completed"
    },
    "tags": []
   },
   "source": [
    "### Predicting Result using Test set"
   ]
  },
  {
   "cell_type": "code",
   "execution_count": 10,
   "id": "cdd2ee0a",
   "metadata": {
    "execution": {
     "iopub.execute_input": "2023-09-03T14:10:47.565571Z",
     "iopub.status.busy": "2023-09-03T14:10:47.565104Z",
     "iopub.status.idle": "2023-09-03T14:10:47.571129Z",
     "shell.execute_reply": "2023-09-03T14:10:47.569962Z"
    },
    "papermill": {
     "duration": 0.018383,
     "end_time": "2023-09-03T14:10:47.573403",
     "exception": false,
     "start_time": "2023-09-03T14:10:47.555020",
     "status": "completed"
    },
    "tags": []
   },
   "outputs": [],
   "source": [
    "y_pred = svr.predict(X_test)"
   ]
  },
  {
   "cell_type": "code",
   "execution_count": 11,
   "id": "4fa14d5b",
   "metadata": {
    "execution": {
     "iopub.execute_input": "2023-09-03T14:10:47.594023Z",
     "iopub.status.busy": "2023-09-03T14:10:47.592997Z",
     "iopub.status.idle": "2023-09-03T14:10:47.602156Z",
     "shell.execute_reply": "2023-09-03T14:10:47.600828Z"
    },
    "papermill": {
     "duration": 0.022587,
     "end_time": "2023-09-03T14:10:47.604837",
     "exception": false,
     "start_time": "2023-09-03T14:10:47.582250",
     "status": "completed"
    },
    "tags": []
   },
   "outputs": [
    {
     "data": {
      "text/plain": [
       "0.1763451814824143"
      ]
     },
     "execution_count": 11,
     "metadata": {},
     "output_type": "execute_result"
    }
   ],
   "source": [
    "from sklearn.metrics import r2_score\n",
    "r2_score(y_test,y_pred)"
   ]
  },
  {
   "cell_type": "markdown",
   "id": "a940e567",
   "metadata": {
    "papermill": {
     "duration": 0.00929,
     "end_time": "2023-09-03T14:10:47.623119",
     "exception": false,
     "start_time": "2023-09-03T14:10:47.613829",
     "status": "completed"
    },
    "tags": []
   },
   "source": [
    "###                     - This Model Not Fit Well for Give Data set we need to used Classification Model -"
   ]
  }
 ],
 "kernelspec": {
  "display_name": "Python 3",
  "language": "python",
  "name": "python3"
 },
 "language_info": {
  "codemirror_mode": {
   "name": "ipython",
   "version": 3
  },
  "file_extension": ".py",
  "mimetype": "text/x-python",
  "name": "python",
  "nbconvert_exporter": "python",
  "pygments_lexer": "ipython3",
  "version": "3.6.4"
 },
 "metadata": {
  "kernelspec": {
   "display_name": "Python 3",
   "language": "python",
   "name": "python3"
  },
  "language_info": {
   "codemirror_mode": {
    "name": "ipython",
    "version": 3
   },
   "file_extension": ".py",
   "mimetype": "text/x-python",
   "name": "python",
   "nbconvert_exporter": "python",
   "pygments_lexer": "ipython3",
   "version": "3.10.12"
  },
  "papermill": {
   "default_parameters": {},
   "duration": 6.641637,
   "end_time": "2023-09-03T14:10:48.253294",
   "environment_variables": {},
   "exception": null,
   "input_path": "__notebook__.ipynb",
   "output_path": "__notebook__.ipynb",
   "parameters": {},
   "start_time": "2023-09-03T14:10:41.611657",
   "version": "2.4.0"
  }
 },
 "nbformat": 4,
 "nbformat_minor": 5
}
