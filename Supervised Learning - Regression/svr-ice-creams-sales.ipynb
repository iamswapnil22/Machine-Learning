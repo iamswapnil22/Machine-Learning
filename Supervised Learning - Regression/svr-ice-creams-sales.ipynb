{
 "cells": [
  {
   "cell_type": "markdown",
   "id": "992a4925",
   "metadata": {
    "papermill": {
     "duration": 0.010415,
     "end_time": "2023-09-04T06:16:56.119200",
     "exception": false,
     "start_time": "2023-09-04T06:16:56.108785",
     "status": "completed"
    },
    "tags": []
   },
   "source": [
    "## Ice-Cream Sales Prediction Using SVR"
   ]
  },
  {
   "cell_type": "markdown",
   "id": "f2545893",
   "metadata": {
    "papermill": {
     "duration": 0.009044,
     "end_time": "2023-09-04T06:16:56.137978",
     "exception": false,
     "start_time": "2023-09-04T06:16:56.128934",
     "status": "completed"
    },
    "tags": []
   },
   "source": [
    "## Import Libraries"
   ]
  },
  {
   "cell_type": "code",
   "execution_count": 1,
   "id": "bef5c087",
   "metadata": {
    "execution": {
     "iopub.execute_input": "2023-09-04T06:16:56.158550Z",
     "iopub.status.busy": "2023-09-04T06:16:56.158137Z",
     "iopub.status.idle": "2023-09-04T06:16:56.587935Z",
     "shell.execute_reply": "2023-09-04T06:16:56.584903Z"
    },
    "papermill": {
     "duration": 0.443556,
     "end_time": "2023-09-04T06:16:56.590913",
     "exception": false,
     "start_time": "2023-09-04T06:16:56.147357",
     "status": "completed"
    },
    "tags": []
   },
   "outputs": [],
   "source": [
    "import numpy as np\n",
    "import pandas as pd\n",
    "import matplotlib.pyplot as plt"
   ]
  },
  {
   "cell_type": "markdown",
   "id": "ae57a2f8",
   "metadata": {
    "papermill": {
     "duration": 0.009147,
     "end_time": "2023-09-04T06:16:56.609964",
     "exception": false,
     "start_time": "2023-09-04T06:16:56.600817",
     "status": "completed"
    },
    "tags": []
   },
   "source": [
    "## Import Dataset into Notebook"
   ]
  },
  {
   "cell_type": "code",
   "execution_count": 2,
   "id": "b76006f0",
   "metadata": {
    "execution": {
     "iopub.execute_input": "2023-09-04T06:16:56.630989Z",
     "iopub.status.busy": "2023-09-04T06:16:56.630397Z",
     "iopub.status.idle": "2023-09-04T06:16:56.667526Z",
     "shell.execute_reply": "2023-09-04T06:16:56.666656Z"
    },
    "papermill": {
     "duration": 0.050993,
     "end_time": "2023-09-04T06:16:56.670261",
     "exception": false,
     "start_time": "2023-09-04T06:16:56.619268",
     "status": "completed"
    },
    "tags": []
   },
   "outputs": [],
   "source": [
    "dataset = pd.read_csv('/kaggle/input/polynomial-regression/Ice_cream selling data.csv')\n",
    "X = dataset['Temperature (°C)'].values\n",
    "y = dataset['Ice Cream Sales (units)'].values"
   ]
  },
  {
   "cell_type": "markdown",
   "id": "36922e8e",
   "metadata": {
    "papermill": {
     "duration": 0.009294,
     "end_time": "2023-09-04T06:16:56.689081",
     "exception": false,
     "start_time": "2023-09-04T06:16:56.679787",
     "status": "completed"
    },
    "tags": []
   },
   "source": [
    "## Checking Missing Data "
   ]
  },
  {
   "cell_type": "code",
   "execution_count": 3,
   "id": "56efd400",
   "metadata": {
    "execution": {
     "iopub.execute_input": "2023-09-04T06:16:56.709966Z",
     "iopub.status.busy": "2023-09-04T06:16:56.708855Z",
     "iopub.status.idle": "2023-09-04T06:16:56.721137Z",
     "shell.execute_reply": "2023-09-04T06:16:56.720029Z"
    },
    "papermill": {
     "duration": 0.025254,
     "end_time": "2023-09-04T06:16:56.723673",
     "exception": false,
     "start_time": "2023-09-04T06:16:56.698419",
     "status": "completed"
    },
    "tags": []
   },
   "outputs": [
    {
     "data": {
      "text/plain": [
       "Temperature (°C)           0\n",
       "Ice Cream Sales (units)    0\n",
       "dtype: int64"
      ]
     },
     "execution_count": 3,
     "metadata": {},
     "output_type": "execute_result"
    }
   ],
   "source": [
    "dataset.isnull().sum()"
   ]
  },
  {
   "cell_type": "code",
   "execution_count": 4,
   "id": "0d52b0f9",
   "metadata": {
    "execution": {
     "iopub.execute_input": "2023-09-04T06:16:56.744972Z",
     "iopub.status.busy": "2023-09-04T06:16:56.744544Z",
     "iopub.status.idle": "2023-09-04T06:16:56.770899Z",
     "shell.execute_reply": "2023-09-04T06:16:56.769673Z"
    },
    "papermill": {
     "duration": 0.040214,
     "end_time": "2023-09-04T06:16:56.773577",
     "exception": false,
     "start_time": "2023-09-04T06:16:56.733363",
     "status": "completed"
    },
    "tags": []
   },
   "outputs": [
    {
     "name": "stdout",
     "output_type": "stream",
     "text": [
      "<class 'pandas.core.frame.DataFrame'>\n",
      "RangeIndex: 49 entries, 0 to 48\n",
      "Data columns (total 2 columns):\n",
      " #   Column                   Non-Null Count  Dtype  \n",
      "---  ------                   --------------  -----  \n",
      " 0   Temperature (°C)         49 non-null     float64\n",
      " 1   Ice Cream Sales (units)  49 non-null     float64\n",
      "dtypes: float64(2)\n",
      "memory usage: 912.0 bytes\n"
     ]
    }
   ],
   "source": [
    "dataset.info()"
   ]
  },
  {
   "cell_type": "markdown",
   "id": "b1268608",
   "metadata": {
    "papermill": {
     "duration": 0.009787,
     "end_time": "2023-09-04T06:16:56.793140",
     "exception": false,
     "start_time": "2023-09-04T06:16:56.783353",
     "status": "completed"
    },
    "tags": []
   },
   "source": [
    "## Ploting Graph for Checking Linear/Non-Linear "
   ]
  },
  {
   "cell_type": "code",
   "execution_count": 5,
   "id": "97f05917",
   "metadata": {
    "execution": {
     "iopub.execute_input": "2023-09-04T06:16:56.814991Z",
     "iopub.status.busy": "2023-09-04T06:16:56.814582Z",
     "iopub.status.idle": "2023-09-04T06:16:57.112795Z",
     "shell.execute_reply": "2023-09-04T06:16:57.111688Z"
    },
    "papermill": {
     "duration": 0.312023,
     "end_time": "2023-09-04T06:16:57.115389",
     "exception": false,
     "start_time": "2023-09-04T06:16:56.803366",
     "status": "completed"
    },
    "tags": []
   },
   "outputs": [
    {
     "data": {
      "image/png": "[encoded data removed]",
      "text/plain": [
       "<Figure size 640x480 with 1 Axes>"
      ]
     },
     "metadata": {},
     "output_type": "display_data"
    }
   ],
   "source": [
    "plt.scatter(X,y,color='red')\n",
    "plt.xlabel(\"Temprature\")\n",
    "plt.ylabel('Ice Cream Sales')\n",
    "plt.show()"
   ]
  },
  {
   "cell_type": "code",
   "execution_count": 6,
   "id": "e28a7775",
   "metadata": {
    "execution": {
     "iopub.execute_input": "2023-09-04T06:16:57.138068Z",
     "iopub.status.busy": "2023-09-04T06:16:57.137650Z",
     "iopub.status.idle": "2023-09-04T06:16:57.142328Z",
     "shell.execute_reply": "2023-09-04T06:16:57.141259Z"
    },
    "papermill": {
     "duration": 0.018947,
     "end_time": "2023-09-04T06:16:57.144851",
     "exception": false,
     "start_time": "2023-09-04T06:16:57.125904",
     "status": "completed"
    },
    "tags": []
   },
   "outputs": [],
   "source": [
    "#Since Scatter points form non linear relationship we are going to use Support Vector Regression "
   ]
  },
  {
   "cell_type": "code",
   "execution_count": 7,
   "id": "f5120e27",
   "metadata": {
    "execution": {
     "iopub.execute_input": "2023-09-04T06:16:57.167274Z",
     "iopub.status.busy": "2023-09-04T06:16:57.166713Z",
     "iopub.status.idle": "2023-09-04T06:16:57.174078Z",
     "shell.execute_reply": "2023-09-04T06:16:57.172810Z"
    },
    "papermill": {
     "duration": 0.022737,
     "end_time": "2023-09-04T06:16:57.178156",
     "exception": false,
     "start_time": "2023-09-04T06:16:57.155419",
     "status": "completed"
    },
    "tags": []
   },
   "outputs": [
    {
     "name": "stdout",
     "output_type": "stream",
     "text": [
      "X - \n",
      " [-4.66226268 -4.31655945 -4.21398476 -3.94966109 -3.57855372 -3.4557117\n",
      " -3.10844012 -3.08130332 -2.67246083 -2.65228679 -2.65149803 -2.288264\n",
      " -2.11186969 -1.81893761 -1.66034773 -1.32637898 -1.17312327 -0.77333004\n",
      " -0.6737528  -0.14963487 -0.0361565  -0.03389529  0.0086077   0.14924457\n",
      "  0.68878091  0.69359887  0.87490503  1.02418081  1.24071162  1.35981267\n",
      "  1.74000001  1.85055193  1.99931037  2.0751006   2.31859124  2.471946\n",
      "  2.78483646  2.83176021  2.95993209  3.02087431  3.21136614  3.27004407\n",
      "  3.31607252  3.33593241  3.61077848  3.70405744  4.13086796  4.13353379\n",
      "  4.89903151]\n",
      "y - \n",
      " [41.84298632 34.66111954 39.38300088 37.53984488 32.28453119 30.00113848\n",
      " 22.63540128 25.36502221 19.22697005 20.27967918 13.2758285  18.12399121\n",
      " 11.21829447 10.01286785 12.61518115 10.95773134  6.68912264  9.39296866\n",
      "  5.21016262  4.67364254  0.32862552  0.89760319  3.16560001  1.93141603\n",
      "  2.57678224  4.62568946  0.78997365  2.31380636  1.29236081  0.95311531\n",
      "  3.78257014  4.8579878   8.94382321  8.17073494  7.41209403 10.33663062\n",
      " 15.99661997 12.56823739 21.34291574 20.11441346 22.8394055  16.98327874\n",
      " 25.14208223 26.10474041 28.91218793 17.84395652 34.53074274 27.69838335\n",
      " 41.51482194]\n"
     ]
    }
   ],
   "source": [
    "print(\"X - \\n\",X)\n",
    "print(\"y - \\n\",y)"
   ]
  },
  {
   "cell_type": "code",
   "execution_count": 8,
   "id": "4e544768",
   "metadata": {
    "execution": {
     "iopub.execute_input": "2023-09-04T06:16:57.201560Z",
     "iopub.status.busy": "2023-09-04T06:16:57.200424Z",
     "iopub.status.idle": "2023-09-04T06:16:57.206144Z",
     "shell.execute_reply": "2023-09-04T06:16:57.205328Z"
    },
    "papermill": {
     "duration": 0.019469,
     "end_time": "2023-09-04T06:16:57.208426",
     "exception": false,
     "start_time": "2023-09-04T06:16:57.188957",
     "status": "completed"
    },
    "tags": []
   },
   "outputs": [],
   "source": [
    "## setting X and y to 2D array\n",
    "X = X.reshape(len(X),1)\n",
    "y = y.reshape(len(y),1)"
   ]
  },
  {
   "cell_type": "markdown",
   "id": "5154d7fa",
   "metadata": {
    "papermill": {
     "duration": 0.009655,
     "end_time": "2023-09-04T06:16:57.228075",
     "exception": false,
     "start_time": "2023-09-04T06:16:57.218420",
     "status": "completed"
    },
    "tags": []
   },
   "source": [
    "## Feature Scaling"
   ]
  },
  {
   "cell_type": "code",
   "execution_count": 9,
   "id": "c0d14ec6",
   "metadata": {
    "execution": {
     "iopub.execute_input": "2023-09-04T06:16:57.250192Z",
     "iopub.status.busy": "2023-09-04T06:16:57.249511Z",
     "iopub.status.idle": "2023-09-04T06:16:58.780099Z",
     "shell.execute_reply": "2023-09-04T06:16:58.779120Z"
    },
    "papermill": {
     "duration": 1.545339,
     "end_time": "2023-09-04T06:16:58.783325",
     "exception": false,
     "start_time": "2023-09-04T06:16:57.237986",
     "status": "completed"
    },
    "tags": []
   },
   "outputs": [],
   "source": [
    "from sklearn.preprocessing import StandardScaler\n",
    "sc_X = StandardScaler()\n",
    "sc_Y = StandardScaler()\n",
    "\n",
    "X_scaled = sc_X.fit_transform(X)\n",
    "y_scaled = sc_Y.fit_transform(y)\n"
   ]
  },
  {
   "cell_type": "code",
   "execution_count": 10,
   "id": "e0421245",
   "metadata": {
    "collapsed": true,
    "execution": {
     "iopub.execute_input": "2023-09-04T06:16:58.815712Z",
     "iopub.status.busy": "2023-09-04T06:16:58.814962Z",
     "iopub.status.idle": "2023-09-04T06:16:58.822029Z",
     "shell.execute_reply": "2023-09-04T06:16:58.821222Z"
    },
    "jupyter": {
     "outputs_hidden": true
    },
    "papermill": {
     "duration": 0.026372,
     "end_time": "2023-09-04T06:16:58.824706",
     "exception": false,
     "start_time": "2023-09-04T06:16:58.798334",
     "status": "completed"
    },
    "tags": []
   },
   "outputs": [
    {
     "data": {
      "text/plain": [
       "array([[-1.8479452 ],\n",
       "       [-1.71846845],\n",
       "       [-1.680051  ],\n",
       "       [-1.58105345],\n",
       "       [-1.44206205],\n",
       "       [-1.39605385],\n",
       "       [-1.26598971],\n",
       "       [-1.25582612],\n",
       "       [-1.10270173],\n",
       "       [-1.09514592],\n",
       "       [-1.0948505 ],\n",
       "       [-0.95880791],\n",
       "       [-0.89274269],\n",
       "       [-0.7830304 ],\n",
       "       [-0.72363349],\n",
       "       [-0.59855168],\n",
       "       [-0.54115259],\n",
       "       [-0.39141743],\n",
       "       [-0.35412262],\n",
       "       [-0.15782394],\n",
       "       [-0.11532272],\n",
       "       [-0.11447582],\n",
       "       [-0.09855712],\n",
       "       [-0.04588418],\n",
       "       [ 0.15618917],\n",
       "       [ 0.15799365],\n",
       "       [ 0.22589852],\n",
       "       [ 0.281807  ],\n",
       "       [ 0.36290461],\n",
       "       [ 0.40751171],\n",
       "       [ 0.54990384],\n",
       "       [ 0.59130901],\n",
       "       [ 0.64702374],\n",
       "       [ 0.67540956],\n",
       "       [ 0.76660448],\n",
       "       [ 0.82404067],\n",
       "       [ 0.941228  ],\n",
       "       [ 0.95880242],\n",
       "       [ 1.00680683],\n",
       "       [ 1.02963161],\n",
       "       [ 1.1009768 ],\n",
       "       [ 1.12295353],\n",
       "       [ 1.14019264],\n",
       "       [ 1.14763079],\n",
       "       [ 1.2505693 ],\n",
       "       [ 1.28550521],\n",
       "       [ 1.44535919],\n",
       "       [ 1.44635763],\n",
       "       [ 1.73306064]])"
      ]
     },
     "execution_count": 10,
     "metadata": {},
     "output_type": "execute_result"
    }
   ],
   "source": [
    "X_scaled"
   ]
  },
  {
   "cell_type": "code",
   "execution_count": 11,
   "id": "20e232c9",
   "metadata": {
    "collapsed": true,
    "execution": {
     "iopub.execute_input": "2023-09-04T06:16:58.856782Z",
     "iopub.status.busy": "2023-09-04T06:16:58.856084Z",
     "iopub.status.idle": "2023-09-04T06:16:58.863387Z",
     "shell.execute_reply": "2023-09-04T06:16:58.862172Z"
    },
    "jupyter": {
     "outputs_hidden": true
    },
    "papermill": {
     "duration": 0.028247,
     "end_time": "2023-09-04T06:16:58.867553",
     "exception": false,
     "start_time": "2023-09-04T06:16:58.839306",
     "status": "completed"
    },
    "tags": []
   },
   "outputs": [
    {
     "data": {
      "text/plain": [
       "array([[ 2.13674266],\n",
       "       [ 1.54510138],\n",
       "       [ 1.93408937],\n",
       "       [ 1.78225041],\n",
       "       [ 1.34931834],\n",
       "       [ 1.16121274],\n",
       "       [ 0.55442424],\n",
       "       [ 0.77929007],\n",
       "       [ 0.27363811],\n",
       "       [ 0.36036015],\n",
       "       [-0.21661617],\n",
       "       [ 0.18277485],\n",
       "       [-0.38611557],\n",
       "       [-0.48541846],\n",
       "       [-0.27104022],\n",
       "       [-0.40758072],\n",
       "       [-0.75922817],\n",
       "       [-0.53648567],\n",
       "       [-0.8810647 ],\n",
       "       [-0.92526316],\n",
       "       [-1.28320511],\n",
       "       [-1.2363328 ],\n",
       "       [-1.04949551],\n",
       "       [-1.15116743],\n",
       "       [-1.09800224],\n",
       "       [-0.92921353],\n",
       "       [-1.24519931],\n",
       "       [-1.11966616],\n",
       "       [-1.20381272],\n",
       "       [-1.23175972],\n",
       "       [-0.99866959],\n",
       "       [-0.91007682],\n",
       "       [-0.57348622],\n",
       "       [-0.63717313],\n",
       "       [-0.69966987],\n",
       "       [-0.45874692],\n",
       "       [ 0.00752228],\n",
       "       [-0.27490744],\n",
       "       [ 0.44794945],\n",
       "       [ 0.34674559],\n",
       "       [ 0.57123008],\n",
       "       [ 0.08880311],\n",
       "       [ 0.7609243 ],\n",
       "       [ 0.84022796],\n",
       "       [ 1.07150513],\n",
       "       [ 0.15970563],\n",
       "       [ 1.53436096],\n",
       "       [ 0.97151206],\n",
       "       [ 2.10970852]])"
      ]
     },
     "execution_count": 11,
     "metadata": {},
     "output_type": "execute_result"
    }
   ],
   "source": [
    "y_scaled"
   ]
  },
  {
   "cell_type": "markdown",
   "id": "045070f1",
   "metadata": {
    "papermill": {
     "duration": 0.01531,
     "end_time": "2023-09-04T06:16:58.898155",
     "exception": false,
     "start_time": "2023-09-04T06:16:58.882845",
     "status": "completed"
    },
    "tags": []
   },
   "source": [
    "## Training the SVR model on the whole dataset"
   ]
  },
  {
   "cell_type": "code",
   "execution_count": 12,
   "id": "7090dc44",
   "metadata": {
    "execution": {
     "iopub.execute_input": "2023-09-04T06:16:58.924095Z",
     "iopub.status.busy": "2023-09-04T06:16:58.923702Z",
     "iopub.status.idle": "2023-09-04T06:16:59.268274Z",
     "shell.execute_reply": "2023-09-04T06:16:59.267155Z"
    },
    "papermill": {
     "duration": 0.359395,
     "end_time": "2023-09-04T06:16:59.270662",
     "exception": false,
     "start_time": "2023-09-04T06:16:58.911267",
     "status": "completed"
    },
    "tags": []
   },
   "outputs": [
    {
     "name": "stderr",
     "output_type": "stream",
     "text": [
      "/opt/conda/lib/python3.10/site-packages/sklearn/utils/validation.py:1143: DataConversionWarning: A column-vector y was passed when a 1d array was expected. Please change the shape of y to (n_samples, ), for example using ravel().\n",
      "  y = column_or_1d(y, warn=True)\n"
     ]
    },
    {
     "data": {
      "text/html": [
       "<style>#sk-container-id-1 {color: black;background-color: white;}#sk-container-id-1 pre{padding: 0;}#sk-container-id-1 div.sk-toggleable {background-color: white;}#sk-container-id-1 label.sk-toggleable__label {cursor: pointer;display: block;width: 100%;margin-bottom: 0;padding: 0.3em;box-sizing: border-box;text-align: center;}#sk-container-id-1 label.sk-toggleable__label-arrow:before {content: \"▸\";float: left;margin-right: 0.25em;color: #696969;}#sk-container-id-1 label.sk-toggleable__label-arrow:hover:before {color: black;}#sk-container-id-1 div.sk-estimator:hover label.sk-toggleable__label-arrow:before {color: black;}#sk-container-id-1 div.sk-toggleable__content {max-height: 0;max-width: 0;overflow: hidden;text-align: left;background-color: #f0f8ff;}#sk-container-id-1 div.sk-toggleable__content pre {margin: 0.2em;color: black;border-radius: 0.25em;background-color: #f0f8ff;}#sk-container-id-1 input.sk-toggleable__control:checked~div.sk-toggleable__content {max-height: 200px;max-width: 100%;overflow: auto;}#sk-container-id-1 input.sk-toggleable__control:checked~label.sk-toggleable__label-arrow:before {content: \"▾\";}#sk-container-id-1 div.sk-estimator input.sk-toggleable__control:checked~label.sk-toggleable__label {background-color: #d4ebff;}#sk-container-id-1 div.sk-label input.sk-toggleable__control:checked~label.sk-toggleable__label {background-color: #d4ebff;}#sk-container-id-1 input.sk-hidden--visually {border: 0;clip: rect(1px 1px 1px 1px);clip: rect(1px, 1px, 1px, 1px);height: 1px;margin: -1px;overflow: hidden;padding: 0;position: absolute;width: 1px;}#sk-container-id-1 div.sk-estimator {font-family: monospace;background-color: #f0f8ff;border: 1px dotted black;border-radius: 0.25em;box-sizing: border-box;margin-bottom: 0.5em;}#sk-container-id-1 div.sk-estimator:hover {background-color: #d4ebff;}#sk-container-id-1 div.sk-parallel-item::after {content: \"\";width: 100%;border-bottom: 1px solid gray;flex-grow: 1;}#sk-container-id-1 div.sk-label:hover label.sk-toggleable__label {background-color: #d4ebff;}#sk-container-id-1 div.sk-serial::before {content: \"\";position: absolute;border-left: 1px solid gray;box-sizing: border-box;top: 0;bottom: 0;left: 50%;z-index: 0;}#sk-container-id-1 div.sk-serial {display: flex;flex-direction: column;align-items: center;background-color: white;padding-right: 0.2em;padding-left: 0.2em;position: relative;}#sk-container-id-1 div.sk-item {position: relative;z-index: 1;}#sk-container-id-1 div.sk-parallel {display: flex;align-items: stretch;justify-content: center;background-color: white;position: relative;}#sk-container-id-1 div.sk-item::before, #sk-container-id-1 div.sk-parallel-item::before {content: \"\";position: absolute;border-left: 1px solid gray;box-sizing: border-box;top: 0;bottom: 0;left: 50%;z-index: -1;}#sk-container-id-1 div.sk-parallel-item {display: flex;flex-direction: column;z-index: 1;position: relative;background-color: white;}#sk-container-id-1 div.sk-parallel-item:first-child::after {align-self: flex-end;width: 50%;}#sk-container-id-1 div.sk-parallel-item:last-child::after {align-self: flex-start;width: 50%;}#sk-container-id-1 div.sk-parallel-item:only-child::after {width: 0;}#sk-container-id-1 div.sk-dashed-wrapped {border: 1px dashed gray;margin: 0 0.4em 0.5em 0.4em;box-sizing: border-box;padding-bottom: 0.4em;background-color: white;}#sk-container-id-1 div.sk-label label {font-family: monospace;font-weight: bold;display: inline-block;line-height: 1.2em;}#sk-container-id-1 div.sk-label-container {text-align: center;}#sk-container-id-1 div.sk-container {/* jupyter's `normalize.less` sets `[hidden] { display: none; }` but bootstrap.min.css set `[hidden] { display: none !important; }` so we also need the `!important` here to be able to override the default hidden behavior on the sphinx rendered scikit-learn.org. See: https://github.com/scikit-learn/scikit-learn/issues/21755 */display: inline-block !important;position: relative;}#sk-container-id-1 div.sk-text-repr-fallback {display: none;}</style><div id=\"sk-container-id-1\" class=\"sk-top-container\"><div class=\"sk-text-repr-fallback\"><pre>SVR()</pre><b>In a Jupyter environment, please rerun this cell to show the HTML representation or trust the notebook. <br />On GitHub, the HTML representation is unable to render, please try loading this page with nbviewer.org.</b></div><div class=\"sk-container\" hidden><div class=\"sk-item\"><div class=\"sk-estimator sk-toggleable\"><input class=\"sk-toggleable__control sk-hidden--visually\" id=\"sk-estimator-id-1\" type=\"checkbox\" checked><label for=\"sk-estimator-id-1\" class=\"sk-toggleable__label sk-toggleable__label-arrow\">SVR</label><div class=\"sk-toggleable__content\"><pre>SVR()</pre></div></div></div></div></div>"
      ],
      "text/plain": [
       "SVR()"
      ]
     },
     "execution_count": 12,
     "metadata": {},
     "output_type": "execute_result"
    }
   ],
   "source": [
    "from sklearn.svm import SVR\n",
    "regressor = SVR(kernel='rbf')\n",
    "regressor.fit(X_scaled,y_scaled)"
   ]
  },
  {
   "cell_type": "markdown",
   "id": "6194af8f",
   "metadata": {
    "papermill": {
     "duration": 0.010565,
     "end_time": "2023-09-04T06:16:59.292248",
     "exception": false,
     "start_time": "2023-09-04T06:16:59.281683",
     "status": "completed"
    },
    "tags": []
   },
   "source": [
    "## Predicting a new result"
   ]
  },
  {
   "cell_type": "code",
   "execution_count": 13,
   "id": "c7a13466",
   "metadata": {
    "execution": {
     "iopub.execute_input": "2023-09-04T06:16:59.316790Z",
     "iopub.status.busy": "2023-09-04T06:16:59.316262Z",
     "iopub.status.idle": "2023-09-04T06:16:59.326842Z",
     "shell.execute_reply": "2023-09-04T06:16:59.325640Z"
    },
    "papermill": {
     "duration": 0.025906,
     "end_time": "2023-09-04T06:16:59.329544",
     "exception": false,
     "start_time": "2023-09-04T06:16:59.303638",
     "status": "completed"
    },
    "tags": []
   },
   "outputs": [
    {
     "data": {
      "text/plain": [
       "array([[32.33083939]])"
      ]
     },
     "execution_count": 13,
     "metadata": {},
     "output_type": "execute_result"
    }
   ],
   "source": [
    "y_scaled_res = regressor.predict(sc_X.transform([[4.130867961260749]])).reshape(-1,1)\n",
    "sc_Y.inverse_transform(y_scaled_res)"
   ]
  },
  {
   "cell_type": "markdown",
   "id": "940eb67a",
   "metadata": {
    "papermill": {
     "duration": 0.010869,
     "end_time": "2023-09-04T06:16:59.353971",
     "exception": false,
     "start_time": "2023-09-04T06:16:59.343102",
     "status": "completed"
    },
    "tags": []
   },
   "source": [
    "## Visualising the SVR results for Ice Cream vs Temprature"
   ]
  },
  {
   "cell_type": "code",
   "execution_count": 14,
   "id": "8688ee63",
   "metadata": {
    "execution": {
     "iopub.execute_input": "2023-09-04T06:16:59.378095Z",
     "iopub.status.busy": "2023-09-04T06:16:59.377680Z",
     "iopub.status.idle": "2023-09-04T06:16:59.634335Z",
     "shell.execute_reply": "2023-09-04T06:16:59.633133Z"
    },
    "papermill": {
     "duration": 0.272091,
     "end_time": "2023-09-04T06:16:59.637085",
     "exception": false,
     "start_time": "2023-09-04T06:16:59.364994",
     "status": "completed"
    },
    "tags": []
   },
   "outputs": [
    {
     "data": {
      "image/png": "[encoded data removed]",
      "text/plain": [
       "<Figure size 640x480 with 1 Axes>"
      ]
     },
     "metadata": {},
     "output_type": "display_data"
    }
   ],
   "source": [
    "# X_grid = np.arange(min(X),max(y),0.1)\n",
    "# X_grid = X_grid.reshape(-1,1)\n",
    "plt.scatter(X,y, color='red')\n",
    "plt.plot(X , sc_Y.inverse_transform(regressor.predict(X_scaled).reshape(-1,1)),color='blue' )\n",
    "plt.xlabel('Temperature (°C)')\n",
    "plt.ylabel('Ice Cream Sales (units)')\n",
    "plt.show()"
   ]
  },
  {
   "cell_type": "code",
   "execution_count": 15,
   "id": "2596437e",
   "metadata": {
    "execution": {
     "iopub.execute_input": "2023-09-04T06:16:59.662480Z",
     "iopub.status.busy": "2023-09-04T06:16:59.662070Z",
     "iopub.status.idle": "2023-09-04T06:16:59.667009Z",
     "shell.execute_reply": "2023-09-04T06:16:59.665778Z"
    },
    "papermill": {
     "duration": 0.020407,
     "end_time": "2023-09-04T06:16:59.669383",
     "exception": false,
     "start_time": "2023-09-04T06:16:59.648976",
     "status": "completed"
    },
    "tags": []
   },
   "outputs": [],
   "source": [
    "## We Successfully Implemented SVR for Predeciting IceCreamSales using SVR"
   ]
  }
 ],
 "kernelspec": {
  "display_name": "Python 3",
  "language": "python",
  "name": "python3"
 },
 "language_info": {
  "codemirror_mode": {
   "name": "ipython",
   "version": 3
  },
  "file_extension": ".py",
  "mimetype": "text/x-python",
  "name": "python",
  "nbconvert_exporter": "python",
  "pygments_lexer": "ipython3",
  "version": "3.6.4"
 },
 "metadata": {
  "kernelspec": {
   "display_name": "Python 3",
   "language": "python",
   "name": "python3"
  },
  "language_info": {
   "codemirror_mode": {
    "name": "ipython",
    "version": 3
   },
   "file_extension": ".py",
   "mimetype": "text/x-python",
   "name": "python",
   "nbconvert_exporter": "python",
   "pygments_lexer": "ipython3",
   "version": "3.10.12"
  },
  "papermill": {
   "default_parameters": {},
   "duration": 8.09924,
   "end_time": "2023-09-04T06:17:00.303863",
   "environment_variables": {},
   "exception": null,
   "input_path": "__notebook__.ipynb",
   "output_path": "__notebook__.ipynb",
   "parameters": {},
   "start_time": "2023-09-04T06:16:52.204623",
   "version": "2.4.0"
  }
 },
 "nbformat": 4,
 "nbformat_minor": 5
}
