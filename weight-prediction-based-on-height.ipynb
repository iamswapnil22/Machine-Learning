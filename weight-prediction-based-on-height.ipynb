{
 "cells": [
  {
   "cell_type": "markdown",
   "id": "fa5b4346",
   "metadata": {
    "papermill": {
     "duration": 0.006524,
     "end_time": "2023-08-25T17:32:18.124598",
     "exception": false,
     "start_time": "2023-08-25T17:32:18.118074",
     "status": "completed"
    },
    "tags": []
   },
   "source": [
    "## **Simple Linear Regression to Predict**"
   ]
  },
  {
   "cell_type": "code",
   "execution_count": 1,
   "id": "d1febf28",
   "metadata": {
    "execution": {
     "iopub.execute_input": "2023-08-25T17:32:18.140350Z",
     "iopub.status.busy": "2023-08-25T17:32:18.139336Z",
     "iopub.status.idle": "2023-08-25T17:32:18.154257Z",
     "shell.execute_reply": "2023-08-25T17:32:18.153062Z"
    },
    "papermill": {
     "duration": 0.025792,
     "end_time": "2023-08-25T17:32:18.156882",
     "exception": false,
     "start_time": "2023-08-25T17:32:18.131090",
     "status": "completed"
    },
    "tags": []
   },
   "outputs": [],
   "source": [
    "#import necessary module\n",
    "import pandas as pd\n",
    "import numpy as np\n",
    "import matplotlib.pyplot as plt"
   ]
  },
  {
   "cell_type": "code",
   "execution_count": 2,
   "id": "d14f997b",
   "metadata": {
    "execution": {
     "iopub.execute_input": "2023-08-25T17:32:18.173464Z",
     "iopub.status.busy": "2023-08-25T17:32:18.172973Z",
     "iopub.status.idle": "2023-08-25T17:32:18.201835Z",
     "shell.execute_reply": "2023-08-25T17:32:18.200803Z"
    },
    "papermill": {
     "duration": 0.041789,
     "end_time": "2023-08-25T17:32:18.204940",
     "exception": false,
     "start_time": "2023-08-25T17:32:18.163151",
     "status": "completed"
    },
    "tags": []
   },
   "outputs": [],
   "source": [
    "#import csv to notebook\n",
    "df = pd.read_csv('/kaggle/input/heights-and-weights/data.csv')"
   ]
  },
  {
   "cell_type": "code",
   "execution_count": 3,
   "id": "1d015b1e",
   "metadata": {
    "execution": {
     "iopub.execute_input": "2023-08-25T17:32:18.224463Z",
     "iopub.status.busy": "2023-08-25T17:32:18.223697Z",
     "iopub.status.idle": "2023-08-25T17:32:18.233197Z",
     "shell.execute_reply": "2023-08-25T17:32:18.232210Z"
    },
    "papermill": {
     "duration": 0.022641,
     "end_time": "2023-08-25T17:32:18.236466",
     "exception": false,
     "start_time": "2023-08-25T17:32:18.213825",
     "status": "completed"
    },
    "tags": []
   },
   "outputs": [],
   "source": [
    "#specifiying X and y as dependant and independant variable\n",
    "X = df['Height'].values\n",
    "y = df['Weight'].values"
   ]
  },
  {
   "cell_type": "code",
   "execution_count": 4,
   "id": "a77d58d3",
   "metadata": {
    "execution": {
     "iopub.execute_input": "2023-08-25T17:32:18.255448Z",
     "iopub.status.busy": "2023-08-25T17:32:18.254476Z",
     "iopub.status.idle": "2023-08-25T17:32:18.263579Z",
     "shell.execute_reply": "2023-08-25T17:32:18.262281Z"
    },
    "papermill": {
     "duration": 0.02132,
     "end_time": "2023-08-25T17:32:18.266170",
     "exception": false,
     "start_time": "2023-08-25T17:32:18.244850",
     "status": "completed"
    },
    "tags": []
   },
   "outputs": [
    {
     "name": "stdout",
     "output_type": "stream",
     "text": [
      "[1.47 1.5  1.52 1.55 1.57 1.6  1.63 1.65 1.68 1.7  1.73 1.75 1.78 1.8\n",
      " 1.83]\n"
     ]
    }
   ],
   "source": [
    "print(X)"
   ]
  },
  {
   "cell_type": "code",
   "execution_count": 5,
   "id": "79e2b1bd",
   "metadata": {
    "execution": {
     "iopub.execute_input": "2023-08-25T17:32:18.280206Z",
     "iopub.status.busy": "2023-08-25T17:32:18.279774Z",
     "iopub.status.idle": "2023-08-25T17:32:18.289156Z",
     "shell.execute_reply": "2023-08-25T17:32:18.287764Z"
    },
    "papermill": {
     "duration": 0.019498,
     "end_time": "2023-08-25T17:32:18.291893",
     "exception": false,
     "start_time": "2023-08-25T17:32:18.272395",
     "status": "completed"
    },
    "tags": []
   },
   "outputs": [
    {
     "data": {
      "text/plain": [
       "array([[1.47],\n",
       "       [1.5 ],\n",
       "       [1.52],\n",
       "       [1.55],\n",
       "       [1.57],\n",
       "       [1.6 ],\n",
       "       [1.63],\n",
       "       [1.65],\n",
       "       [1.68],\n",
       "       [1.7 ],\n",
       "       [1.73],\n",
       "       [1.75],\n",
       "       [1.78],\n",
       "       [1.8 ],\n",
       "       [1.83]])"
      ]
     },
     "execution_count": 5,
     "metadata": {},
     "output_type": "execute_result"
    }
   ],
   "source": [
    "X.reshape(-1,1)"
   ]
  },
  {
   "cell_type": "code",
   "execution_count": 6,
   "id": "e8973359",
   "metadata": {
    "execution": {
     "iopub.execute_input": "2023-08-25T17:32:18.307127Z",
     "iopub.status.busy": "2023-08-25T17:32:18.306678Z",
     "iopub.status.idle": "2023-08-25T17:32:18.313411Z",
     "shell.execute_reply": "2023-08-25T17:32:18.312065Z"
    },
    "papermill": {
     "duration": 0.017102,
     "end_time": "2023-08-25T17:32:18.315783",
     "exception": false,
     "start_time": "2023-08-25T17:32:18.298681",
     "status": "completed"
    },
    "tags": []
   },
   "outputs": [
    {
     "name": "stdout",
     "output_type": "stream",
     "text": [
      "[52.21 53.12 54.48 55.84 57.2  58.57 59.93 61.29 63.11 64.47 66.28 68.1\n",
      " 69.92 72.19 74.46]\n"
     ]
    }
   ],
   "source": [
    "print(y)"
   ]
  },
  {
   "cell_type": "code",
   "execution_count": 7,
   "id": "93705f6b",
   "metadata": {
    "execution": {
     "iopub.execute_input": "2023-08-25T17:32:18.331040Z",
     "iopub.status.busy": "2023-08-25T17:32:18.330510Z",
     "iopub.status.idle": "2023-08-25T17:32:18.338976Z",
     "shell.execute_reply": "2023-08-25T17:32:18.337926Z"
    },
    "papermill": {
     "duration": 0.018981,
     "end_time": "2023-08-25T17:32:18.341142",
     "exception": false,
     "start_time": "2023-08-25T17:32:18.322161",
     "status": "completed"
    },
    "tags": []
   },
   "outputs": [
    {
     "data": {
      "text/plain": [
       "array([[52.21],\n",
       "       [53.12],\n",
       "       [54.48],\n",
       "       [55.84],\n",
       "       [57.2 ],\n",
       "       [58.57],\n",
       "       [59.93],\n",
       "       [61.29],\n",
       "       [63.11],\n",
       "       [64.47],\n",
       "       [66.28],\n",
       "       [68.1 ],\n",
       "       [69.92],\n",
       "       [72.19],\n",
       "       [74.46]])"
      ]
     },
     "execution_count": 7,
     "metadata": {},
     "output_type": "execute_result"
    }
   ],
   "source": [
    "y.reshape(-1,1)"
   ]
  },
  {
   "cell_type": "code",
   "execution_count": 8,
   "id": "bc14f844",
   "metadata": {
    "execution": {
     "iopub.execute_input": "2023-08-25T17:32:18.357004Z",
     "iopub.status.busy": "2023-08-25T17:32:18.356085Z",
     "iopub.status.idle": "2023-08-25T17:32:19.698681Z",
     "shell.execute_reply": "2023-08-25T17:32:19.697622Z"
    },
    "papermill": {
     "duration": 1.353574,
     "end_time": "2023-08-25T17:32:19.701361",
     "exception": false,
     "start_time": "2023-08-25T17:32:18.347787",
     "status": "completed"
    },
    "tags": []
   },
   "outputs": [
    {
     "name": "stderr",
     "output_type": "stream",
     "text": [
      "/opt/conda/lib/python3.10/site-packages/scipy/__init__.py:146: UserWarning: A NumPy version >=1.16.5 and <1.23.0 is required for this version of SciPy (detected version 1.23.5\n",
      "  warnings.warn(f\"A NumPy version >={np_minversion} and <{np_maxversion}\"\n"
     ]
    }
   ],
   "source": [
    "#Now we need to Split X AND Y to train And test set using train_test_split\n",
    "from sklearn.model_selection import train_test_split\n",
    "X_train, X_test, y_train, y_test = train_test_split(X,y, test_size=0.2, random_state=0)"
   ]
  },
  {
   "cell_type": "code",
   "execution_count": 9,
   "id": "5d6221bc",
   "metadata": {
    "execution": {
     "iopub.execute_input": "2023-08-25T17:32:19.716812Z",
     "iopub.status.busy": "2023-08-25T17:32:19.716427Z",
     "iopub.status.idle": "2023-08-25T17:32:19.854500Z",
     "shell.execute_reply": "2023-08-25T17:32:19.853198Z"
    },
    "papermill": {
     "duration": 0.148839,
     "end_time": "2023-08-25T17:32:19.856949",
     "exception": false,
     "start_time": "2023-08-25T17:32:19.708110",
     "status": "completed"
    },
    "tags": []
   },
   "outputs": [
    {
     "data": {
      "text/html": [
       "<style>#sk-container-id-1 {color: black;background-color: white;}#sk-container-id-1 pre{padding: 0;}#sk-container-id-1 div.sk-toggleable {background-color: white;}#sk-container-id-1 label.sk-toggleable__label {cursor: pointer;display: block;width: 100%;margin-bottom: 0;padding: 0.3em;box-sizing: border-box;text-align: center;}#sk-container-id-1 label.sk-toggleable__label-arrow:before {content: \"▸\";float: left;margin-right: 0.25em;color: #696969;}#sk-container-id-1 label.sk-toggleable__label-arrow:hover:before {color: black;}#sk-container-id-1 div.sk-estimator:hover label.sk-toggleable__label-arrow:before {color: black;}#sk-container-id-1 div.sk-toggleable__content {max-height: 0;max-width: 0;overflow: hidden;text-align: left;background-color: #f0f8ff;}#sk-container-id-1 div.sk-toggleable__content pre {margin: 0.2em;color: black;border-radius: 0.25em;background-color: #f0f8ff;}#sk-container-id-1 input.sk-toggleable__control:checked~div.sk-toggleable__content {max-height: 200px;max-width: 100%;overflow: auto;}#sk-container-id-1 input.sk-toggleable__control:checked~label.sk-toggleable__label-arrow:before {content: \"▾\";}#sk-container-id-1 div.sk-estimator input.sk-toggleable__control:checked~label.sk-toggleable__label {background-color: #d4ebff;}#sk-container-id-1 div.sk-label input.sk-toggleable__control:checked~label.sk-toggleable__label {background-color: #d4ebff;}#sk-container-id-1 input.sk-hidden--visually {border: 0;clip: rect(1px 1px 1px 1px);clip: rect(1px, 1px, 1px, 1px);height: 1px;margin: -1px;overflow: hidden;padding: 0;position: absolute;width: 1px;}#sk-container-id-1 div.sk-estimator {font-family: monospace;background-color: #f0f8ff;border: 1px dotted black;border-radius: 0.25em;box-sizing: border-box;margin-bottom: 0.5em;}#sk-container-id-1 div.sk-estimator:hover {background-color: #d4ebff;}#sk-container-id-1 div.sk-parallel-item::after {content: \"\";width: 100%;border-bottom: 1px solid gray;flex-grow: 1;}#sk-container-id-1 div.sk-label:hover label.sk-toggleable__label {background-color: #d4ebff;}#sk-container-id-1 div.sk-serial::before {content: \"\";position: absolute;border-left: 1px solid gray;box-sizing: border-box;top: 0;bottom: 0;left: 50%;z-index: 0;}#sk-container-id-1 div.sk-serial {display: flex;flex-direction: column;align-items: center;background-color: white;padding-right: 0.2em;padding-left: 0.2em;position: relative;}#sk-container-id-1 div.sk-item {position: relative;z-index: 1;}#sk-container-id-1 div.sk-parallel {display: flex;align-items: stretch;justify-content: center;background-color: white;position: relative;}#sk-container-id-1 div.sk-item::before, #sk-container-id-1 div.sk-parallel-item::before {content: \"\";position: absolute;border-left: 1px solid gray;box-sizing: border-box;top: 0;bottom: 0;left: 50%;z-index: -1;}#sk-container-id-1 div.sk-parallel-item {display: flex;flex-direction: column;z-index: 1;position: relative;background-color: white;}#sk-container-id-1 div.sk-parallel-item:first-child::after {align-self: flex-end;width: 50%;}#sk-container-id-1 div.sk-parallel-item:last-child::after {align-self: flex-start;width: 50%;}#sk-container-id-1 div.sk-parallel-item:only-child::after {width: 0;}#sk-container-id-1 div.sk-dashed-wrapped {border: 1px dashed gray;margin: 0 0.4em 0.5em 0.4em;box-sizing: border-box;padding-bottom: 0.4em;background-color: white;}#sk-container-id-1 div.sk-label label {font-family: monospace;font-weight: bold;display: inline-block;line-height: 1.2em;}#sk-container-id-1 div.sk-label-container {text-align: center;}#sk-container-id-1 div.sk-container {/* jupyter's `normalize.less` sets `[hidden] { display: none; }` but bootstrap.min.css set `[hidden] { display: none !important; }` so we also need the `!important` here to be able to override the default hidden behavior on the sphinx rendered scikit-learn.org. See: https://github.com/scikit-learn/scikit-learn/issues/21755 */display: inline-block !important;position: relative;}#sk-container-id-1 div.sk-text-repr-fallback {display: none;}</style><div id=\"sk-container-id-1\" class=\"sk-top-container\"><div class=\"sk-text-repr-fallback\"><pre>LinearRegression()</pre><b>In a Jupyter environment, please rerun this cell to show the HTML representation or trust the notebook. <br />On GitHub, the HTML representation is unable to render, please try loading this page with nbviewer.org.</b></div><div class=\"sk-container\" hidden><div class=\"sk-item\"><div class=\"sk-estimator sk-toggleable\"><input class=\"sk-toggleable__control sk-hidden--visually\" id=\"sk-estimator-id-1\" type=\"checkbox\" checked><label for=\"sk-estimator-id-1\" class=\"sk-toggleable__label sk-toggleable__label-arrow\">LinearRegression</label><div class=\"sk-toggleable__content\"><pre>LinearRegression()</pre></div></div></div></div></div>"
      ],
      "text/plain": [
       "LinearRegression()"
      ]
     },
     "execution_count": 9,
     "metadata": {},
     "output_type": "execute_result"
    }
   ],
   "source": [
    "#Now the Important step is to import LinearRegression Class from linear_model of sklearn.module\n",
    "#this line train our model using train set of X and y\n",
    "#fit is important method to fit it and learn using tarin and test set\n",
    "\n",
    "from sklearn.linear_model import LinearRegression\n",
    "model = LinearRegression()\n",
    "model.fit(X_train.reshape(-1,1),y_train.reshape(-1,1))"
   ]
  },
  {
   "cell_type": "code",
   "execution_count": 10,
   "id": "f33690cf",
   "metadata": {
    "execution": {
     "iopub.execute_input": "2023-08-25T17:32:19.873893Z",
     "iopub.status.busy": "2023-08-25T17:32:19.873466Z",
     "iopub.status.idle": "2023-08-25T17:32:19.879838Z",
     "shell.execute_reply": "2023-08-25T17:32:19.878783Z"
    },
    "papermill": {
     "duration": 0.016983,
     "end_time": "2023-08-25T17:32:19.882129",
     "exception": false,
     "start_time": "2023-08-25T17:32:19.865146",
     "status": "completed"
    },
    "tags": []
   },
   "outputs": [],
   "source": [
    "#Now the Most Important step is Prediction using predict method of LinearRegression Class\n",
    "y_pred = model.predict(X_test.reshape(-1,1))\n",
    "x_pred = model.predict(X_train.reshape(-1,1))"
   ]
  },
  {
   "cell_type": "code",
   "execution_count": 11,
   "id": "1695b907",
   "metadata": {
    "execution": {
     "iopub.execute_input": "2023-08-25T17:32:19.897494Z",
     "iopub.status.busy": "2023-08-25T17:32:19.897050Z",
     "iopub.status.idle": "2023-08-25T17:32:19.903102Z",
     "shell.execute_reply": "2023-08-25T17:32:19.901794Z"
    },
    "papermill": {
     "duration": 0.016865,
     "end_time": "2023-08-25T17:32:19.905813",
     "exception": false,
     "start_time": "2023-08-25T17:32:19.888948",
     "status": "completed"
    },
    "tags": []
   },
   "outputs": [
    {
     "name": "stdout",
     "output_type": "stream",
     "text": [
      "[[52.93054132]\n",
      " [60.92010826]\n",
      " [63.99301863]]\n"
     ]
    }
   ],
   "source": [
    "print(y_pred)"
   ]
  },
  {
   "cell_type": "code",
   "execution_count": 12,
   "id": "fc06601f",
   "metadata": {
    "execution": {
     "iopub.execute_input": "2023-08-25T17:32:19.921806Z",
     "iopub.status.busy": "2023-08-25T17:32:19.921384Z",
     "iopub.status.idle": "2023-08-25T17:32:19.927848Z",
     "shell.execute_reply": "2023-08-25T17:32:19.926723Z"
    },
    "papermill": {
     "duration": 0.017813,
     "end_time": "2023-08-25T17:32:19.930731",
     "exception": false,
     "start_time": "2023-08-25T17:32:19.912918",
     "status": "completed"
    },
    "tags": []
   },
   "outputs": [
    {
     "name": "stdout",
     "output_type": "stream",
     "text": [
      "[[53.12]\n",
      " [59.93]\n",
      " [63.11]]\n"
     ]
    }
   ],
   "source": [
    "print(y_test.reshape(-1,1))"
   ]
  },
  {
   "cell_type": "code",
   "execution_count": 13,
   "id": "895a2769",
   "metadata": {
    "execution": {
     "iopub.execute_input": "2023-08-25T17:32:19.946501Z",
     "iopub.status.busy": "2023-08-25T17:32:19.946105Z",
     "iopub.status.idle": "2023-08-25T17:32:20.255218Z",
     "shell.execute_reply": "2023-08-25T17:32:20.253874Z"
    },
    "papermill": {
     "duration": 0.320008,
     "end_time": "2023-08-25T17:32:20.257721",
     "exception": false,
     "start_time": "2023-08-25T17:32:19.937713",
     "status": "completed"
    },
    "tags": []
   },
   "outputs": [
    {
     "data": {
      "image/png": "[encoded data removed]",
      "text/plain": [
       "<Figure size 640x480 with 1 Axes>"
      ]
     },
     "metadata": {},
     "output_type": "display_data"
    }
   ],
   "source": [
    "plt.scatter(X_train.reshape(-1,1),y_train.reshape(-1,1) , color='red')\n",
    "plt.plot(X_train.reshape(-1,1), x_pred, color='blue')\n",
    "plt.xlabel(\"Height of Person\")\n",
    "plt.ylabel(\"Weight of Person\")\n",
    "plt.show()"
   ]
  },
  {
   "cell_type": "code",
   "execution_count": 14,
   "id": "21bbd300",
   "metadata": {
    "execution": {
     "iopub.execute_input": "2023-08-25T17:32:20.274598Z",
     "iopub.status.busy": "2023-08-25T17:32:20.274148Z",
     "iopub.status.idle": "2023-08-25T17:32:20.550339Z",
     "shell.execute_reply": "2023-08-25T17:32:20.549074Z"
    },
    "papermill": {
     "duration": 0.287604,
     "end_time": "2023-08-25T17:32:20.552907",
     "exception": false,
     "start_time": "2023-08-25T17:32:20.265303",
     "status": "completed"
    },
    "tags": []
   },
   "outputs": [
    {
     "data": {
      "image/png": "[encoded data removed]",
      "text/plain": [
       "<Figure size 640x480 with 1 Axes>"
      ]
     },
     "metadata": {},
     "output_type": "display_data"
    }
   ],
   "source": [
    "plt.scatter(X_test.reshape(-1,1),y_test.reshape(-1,1) , color='red')\n",
    "plt.plot(X_train.reshape(-1,1), x_pred, color='blue')\n",
    "plt.xlabel(\"Height of Person\")\n",
    "plt.ylabel(\"Weight of Person\")\n",
    "plt.show()"
   ]
  },
  {
   "cell_type": "code",
   "execution_count": 15,
   "id": "dcc23e37",
   "metadata": {
    "execution": {
     "iopub.execute_input": "2023-08-25T17:32:20.571088Z",
     "iopub.status.busy": "2023-08-25T17:32:20.570660Z",
     "iopub.status.idle": "2023-08-25T17:32:20.579105Z",
     "shell.execute_reply": "2023-08-25T17:32:20.577921Z"
    },
    "papermill": {
     "duration": 0.020387,
     "end_time": "2023-08-25T17:32:20.581550",
     "exception": false,
     "start_time": "2023-08-25T17:32:20.561163",
     "status": "completed"
    },
    "tags": []
   },
   "outputs": [
    {
     "data": {
      "text/plain": [
       "array([[52.93054132]])"
      ]
     },
     "execution_count": 15,
     "metadata": {},
     "output_type": "execute_result"
    }
   ],
   "source": [
    "model.predict([[2.0]])\n",
    "model.predict([[1.50]])"
   ]
  },
  {
   "cell_type": "markdown",
   "id": "3970e905",
   "metadata": {
    "papermill": {
     "duration": 0.007729,
     "end_time": "2023-08-25T17:32:20.597507",
     "exception": false,
     "start_time": "2023-08-25T17:32:20.589778",
     "status": "completed"
    },
    "tags": []
   },
   "source": [
    "## - There For We Successfully Implemented Simple Linear Regression -"
   ]
  }
 ],
 "metadata": {
  "kernelspec": {
   "display_name": "Python 3",
   "language": "python",
   "name": "python3"
  },
  "language_info": {
   "codemirror_mode": {
    "name": "ipython",
    "version": 3
   },
   "file_extension": ".py",
   "mimetype": "text/x-python",
   "name": "python",
   "nbconvert_exporter": "python",
   "pygments_lexer": "ipython3",
   "version": "3.10.12"
  },
  "papermill": {
   "default_parameters": {},
   "duration": 14.816603,
   "end_time": "2023-08-25T17:32:21.628240",
   "environment_variables": {},
   "exception": null,
   "input_path": "__notebook__.ipynb",
   "output_path": "__notebook__.ipynb",
   "parameters": {},
   "start_time": "2023-08-25T17:32:06.811637",
   "version": "2.4.0"
  }
 },
 "nbformat": 4,
 "nbformat_minor": 5
}
