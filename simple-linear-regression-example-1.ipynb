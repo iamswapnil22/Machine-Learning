{
 "cells": [
  {
   "cell_type": "markdown",
   "id": "c7accd56",
   "metadata": {
    "papermill": {
     "duration": 0.009305,
     "end_time": "2023-08-25T13:05:56.203571",
     "exception": false,
     "start_time": "2023-08-25T13:05:56.194266",
     "status": "completed"
    },
    "tags": []
   },
   "source": [
    "# ***Simple Linear Regression***"
   ]
  },
  {
   "cell_type": "markdown",
   "id": "3258308f",
   "metadata": {
    "papermill": {
     "duration": 0.007885,
     "end_time": "2023-08-25T13:05:56.219766",
     "exception": false,
     "start_time": "2023-08-25T13:05:56.211881",
     "status": "completed"
    },
    "tags": []
   },
   "source": [
    "#### **Import The Libraries**"
   ]
  },
  {
   "cell_type": "code",
   "execution_count": 1,
   "id": "a1a6bce9",
   "metadata": {
    "execution": {
     "iopub.execute_input": "2023-08-25T13:05:56.238974Z",
     "iopub.status.busy": "2023-08-25T13:05:56.238060Z",
     "iopub.status.idle": "2023-08-25T13:05:56.250831Z",
     "shell.execute_reply": "2023-08-25T13:05:56.249465Z"
    },
    "papermill": {
     "duration": 0.026285,
     "end_time": "2023-08-25T13:05:56.254187",
     "exception": false,
     "start_time": "2023-08-25T13:05:56.227902",
     "status": "completed"
    },
    "tags": []
   },
   "outputs": [],
   "source": [
    "import numpy as np\n",
    "import pandas as pd\n",
    "import matplotlib.pyplot as plt"
   ]
  },
  {
   "cell_type": "markdown",
   "id": "3ec76ffa",
   "metadata": {
    "papermill": {
     "duration": 0.008334,
     "end_time": "2023-08-25T13:05:56.271990",
     "exception": false,
     "start_time": "2023-08-25T13:05:56.263656",
     "status": "completed"
    },
    "tags": []
   },
   "source": [
    "#### **Importing the dataset**"
   ]
  },
  {
   "cell_type": "code",
   "execution_count": 2,
   "id": "6a395e52",
   "metadata": {
    "execution": {
     "iopub.execute_input": "2023-08-25T13:05:56.291350Z",
     "iopub.status.busy": "2023-08-25T13:05:56.290915Z",
     "iopub.status.idle": "2023-08-25T13:05:56.315925Z",
     "shell.execute_reply": "2023-08-25T13:05:56.314690Z"
    },
    "papermill": {
     "duration": 0.03826,
     "end_time": "2023-08-25T13:05:56.319019",
     "exception": false,
     "start_time": "2023-08-25T13:05:56.280759",
     "status": "completed"
    },
    "tags": []
   },
   "outputs": [],
   "source": [
    "dataset = pd.read_csv('/kaggle/input/salary-datacsv/Salary_Data.csv')"
   ]
  },
  {
   "cell_type": "code",
   "execution_count": 3,
   "id": "90d37f44",
   "metadata": {
    "collapsed": true,
    "execution": {
     "iopub.execute_input": "2023-08-25T13:05:56.338146Z",
     "iopub.status.busy": "2023-08-25T13:05:56.337721Z",
     "iopub.status.idle": "2023-08-25T13:05:56.360388Z",
     "shell.execute_reply": "2023-08-25T13:05:56.359458Z"
    },
    "jupyter": {
     "outputs_hidden": true
    },
    "papermill": {
     "duration": 0.035412,
     "end_time": "2023-08-25T13:05:56.362977",
     "exception": false,
     "start_time": "2023-08-25T13:05:56.327565",
     "status": "completed"
    },
    "tags": []
   },
   "outputs": [
    {
     "data": {
      "text/html": [
       "<div>\n",
       "<style scoped>\n",
       "    .dataframe tbody tr th:only-of-type {\n",
       "        vertical-align: middle;\n",
       "    }\n",
       "\n",
       "    .dataframe tbody tr th {\n",
       "        vertical-align: top;\n",
       "    }\n",
       "\n",
       "    .dataframe thead th {\n",
       "        text-align: right;\n",
       "    }\n",
       "</style>\n",
       "<table border=\"1\" class=\"dataframe\">\n",
       "  <thead>\n",
       "    <tr style=\"text-align: right;\">\n",
       "      <th></th>\n",
       "      <th>YearsExperience</th>\n",
       "      <th>Salary</th>\n",
       "    </tr>\n",
       "  </thead>\n",
       "  <tbody>\n",
       "    <tr>\n",
       "      <th>0</th>\n",
       "      <td>1.1</td>\n",
       "      <td>39343.0</td>\n",
       "    </tr>\n",
       "    <tr>\n",
       "      <th>1</th>\n",
       "      <td>1.3</td>\n",
       "      <td>46205.0</td>\n",
       "    </tr>\n",
       "    <tr>\n",
       "      <th>2</th>\n",
       "      <td>1.5</td>\n",
       "      <td>37731.0</td>\n",
       "    </tr>\n",
       "    <tr>\n",
       "      <th>3</th>\n",
       "      <td>2.0</td>\n",
       "      <td>43525.0</td>\n",
       "    </tr>\n",
       "    <tr>\n",
       "      <th>4</th>\n",
       "      <td>2.2</td>\n",
       "      <td>39891.0</td>\n",
       "    </tr>\n",
       "  </tbody>\n",
       "</table>\n",
       "</div>"
      ],
      "text/plain": [
       "   YearsExperience   Salary\n",
       "0              1.1  39343.0\n",
       "1              1.3  46205.0\n",
       "2              1.5  37731.0\n",
       "3              2.0  43525.0\n",
       "4              2.2  39891.0"
      ]
     },
     "execution_count": 3,
     "metadata": {},
     "output_type": "execute_result"
    }
   ],
   "source": [
    "dataset.head()"
   ]
  },
  {
   "cell_type": "code",
   "execution_count": 4,
   "id": "41fcefc8",
   "metadata": {
    "collapsed": true,
    "execution": {
     "iopub.execute_input": "2023-08-25T13:05:56.382602Z",
     "iopub.status.busy": "2023-08-25T13:05:56.381623Z",
     "iopub.status.idle": "2023-08-25T13:05:56.400468Z",
     "shell.execute_reply": "2023-08-25T13:05:56.399230Z"
    },
    "jupyter": {
     "outputs_hidden": true
    },
    "papermill": {
     "duration": 0.031396,
     "end_time": "2023-08-25T13:05:56.403084",
     "exception": false,
     "start_time": "2023-08-25T13:05:56.371688",
     "status": "completed"
    },
    "tags": []
   },
   "outputs": [
    {
     "data": {
      "text/html": [
       "<div>\n",
       "<style scoped>\n",
       "    .dataframe tbody tr th:only-of-type {\n",
       "        vertical-align: middle;\n",
       "    }\n",
       "\n",
       "    .dataframe tbody tr th {\n",
       "        vertical-align: top;\n",
       "    }\n",
       "\n",
       "    .dataframe thead th {\n",
       "        text-align: right;\n",
       "    }\n",
       "</style>\n",
       "<table border=\"1\" class=\"dataframe\">\n",
       "  <thead>\n",
       "    <tr style=\"text-align: right;\">\n",
       "      <th></th>\n",
       "      <th>YearsExperience</th>\n",
       "      <th>Salary</th>\n",
       "    </tr>\n",
       "  </thead>\n",
       "  <tbody>\n",
       "    <tr>\n",
       "      <th>0</th>\n",
       "      <td>1.1</td>\n",
       "      <td>39343.0</td>\n",
       "    </tr>\n",
       "    <tr>\n",
       "      <th>1</th>\n",
       "      <td>1.3</td>\n",
       "      <td>46205.0</td>\n",
       "    </tr>\n",
       "    <tr>\n",
       "      <th>2</th>\n",
       "      <td>1.5</td>\n",
       "      <td>37731.0</td>\n",
       "    </tr>\n",
       "    <tr>\n",
       "      <th>3</th>\n",
       "      <td>2.0</td>\n",
       "      <td>43525.0</td>\n",
       "    </tr>\n",
       "    <tr>\n",
       "      <th>4</th>\n",
       "      <td>2.2</td>\n",
       "      <td>39891.0</td>\n",
       "    </tr>\n",
       "    <tr>\n",
       "      <th>5</th>\n",
       "      <td>2.9</td>\n",
       "      <td>56642.0</td>\n",
       "    </tr>\n",
       "    <tr>\n",
       "      <th>6</th>\n",
       "      <td>3.0</td>\n",
       "      <td>60150.0</td>\n",
       "    </tr>\n",
       "    <tr>\n",
       "      <th>7</th>\n",
       "      <td>3.2</td>\n",
       "      <td>54445.0</td>\n",
       "    </tr>\n",
       "    <tr>\n",
       "      <th>8</th>\n",
       "      <td>3.2</td>\n",
       "      <td>64445.0</td>\n",
       "    </tr>\n",
       "    <tr>\n",
       "      <th>9</th>\n",
       "      <td>3.7</td>\n",
       "      <td>57189.0</td>\n",
       "    </tr>\n",
       "    <tr>\n",
       "      <th>10</th>\n",
       "      <td>3.9</td>\n",
       "      <td>63218.0</td>\n",
       "    </tr>\n",
       "    <tr>\n",
       "      <th>11</th>\n",
       "      <td>4.0</td>\n",
       "      <td>55794.0</td>\n",
       "    </tr>\n",
       "    <tr>\n",
       "      <th>12</th>\n",
       "      <td>4.0</td>\n",
       "      <td>56957.0</td>\n",
       "    </tr>\n",
       "    <tr>\n",
       "      <th>13</th>\n",
       "      <td>4.1</td>\n",
       "      <td>57081.0</td>\n",
       "    </tr>\n",
       "    <tr>\n",
       "      <th>14</th>\n",
       "      <td>4.5</td>\n",
       "      <td>61111.0</td>\n",
       "    </tr>\n",
       "    <tr>\n",
       "      <th>15</th>\n",
       "      <td>4.9</td>\n",
       "      <td>67938.0</td>\n",
       "    </tr>\n",
       "    <tr>\n",
       "      <th>16</th>\n",
       "      <td>5.1</td>\n",
       "      <td>66029.0</td>\n",
       "    </tr>\n",
       "    <tr>\n",
       "      <th>17</th>\n",
       "      <td>5.3</td>\n",
       "      <td>83088.0</td>\n",
       "    </tr>\n",
       "    <tr>\n",
       "      <th>18</th>\n",
       "      <td>5.9</td>\n",
       "      <td>81363.0</td>\n",
       "    </tr>\n",
       "    <tr>\n",
       "      <th>19</th>\n",
       "      <td>6.0</td>\n",
       "      <td>93940.0</td>\n",
       "    </tr>\n",
       "    <tr>\n",
       "      <th>20</th>\n",
       "      <td>6.8</td>\n",
       "      <td>91738.0</td>\n",
       "    </tr>\n",
       "    <tr>\n",
       "      <th>21</th>\n",
       "      <td>7.1</td>\n",
       "      <td>98273.0</td>\n",
       "    </tr>\n",
       "    <tr>\n",
       "      <th>22</th>\n",
       "      <td>7.9</td>\n",
       "      <td>101302.0</td>\n",
       "    </tr>\n",
       "    <tr>\n",
       "      <th>23</th>\n",
       "      <td>8.2</td>\n",
       "      <td>113812.0</td>\n",
       "    </tr>\n",
       "    <tr>\n",
       "      <th>24</th>\n",
       "      <td>8.7</td>\n",
       "      <td>109431.0</td>\n",
       "    </tr>\n",
       "    <tr>\n",
       "      <th>25</th>\n",
       "      <td>9.0</td>\n",
       "      <td>105582.0</td>\n",
       "    </tr>\n",
       "    <tr>\n",
       "      <th>26</th>\n",
       "      <td>9.5</td>\n",
       "      <td>116969.0</td>\n",
       "    </tr>\n",
       "    <tr>\n",
       "      <th>27</th>\n",
       "      <td>9.6</td>\n",
       "      <td>112635.0</td>\n",
       "    </tr>\n",
       "    <tr>\n",
       "      <th>28</th>\n",
       "      <td>10.3</td>\n",
       "      <td>122391.0</td>\n",
       "    </tr>\n",
       "    <tr>\n",
       "      <th>29</th>\n",
       "      <td>10.5</td>\n",
       "      <td>121872.0</td>\n",
       "    </tr>\n",
       "  </tbody>\n",
       "</table>\n",
       "</div>"
      ],
      "text/plain": [
       "    YearsExperience    Salary\n",
       "0               1.1   39343.0\n",
       "1               1.3   46205.0\n",
       "2               1.5   37731.0\n",
       "3               2.0   43525.0\n",
       "4               2.2   39891.0\n",
       "5               2.9   56642.0\n",
       "6               3.0   60150.0\n",
       "7               3.2   54445.0\n",
       "8               3.2   64445.0\n",
       "9               3.7   57189.0\n",
       "10              3.9   63218.0\n",
       "11              4.0   55794.0\n",
       "12              4.0   56957.0\n",
       "13              4.1   57081.0\n",
       "14              4.5   61111.0\n",
       "15              4.9   67938.0\n",
       "16              5.1   66029.0\n",
       "17              5.3   83088.0\n",
       "18              5.9   81363.0\n",
       "19              6.0   93940.0\n",
       "20              6.8   91738.0\n",
       "21              7.1   98273.0\n",
       "22              7.9  101302.0\n",
       "23              8.2  113812.0\n",
       "24              8.7  109431.0\n",
       "25              9.0  105582.0\n",
       "26              9.5  116969.0\n",
       "27              9.6  112635.0\n",
       "28             10.3  122391.0\n",
       "29             10.5  121872.0"
      ]
     },
     "execution_count": 4,
     "metadata": {},
     "output_type": "execute_result"
    }
   ],
   "source": [
    "dataset"
   ]
  },
  {
   "cell_type": "code",
   "execution_count": 5,
   "id": "b68b051c",
   "metadata": {
    "execution": {
     "iopub.execute_input": "2023-08-25T13:05:56.425282Z",
     "iopub.status.busy": "2023-08-25T13:05:56.424858Z",
     "iopub.status.idle": "2023-08-25T13:05:56.430695Z",
     "shell.execute_reply": "2023-08-25T13:05:56.429707Z"
    },
    "papermill": {
     "duration": 0.020452,
     "end_time": "2023-08-25T13:05:56.432853",
     "exception": false,
     "start_time": "2023-08-25T13:05:56.412401",
     "status": "completed"
    },
    "tags": []
   },
   "outputs": [],
   "source": [
    "X = dataset.iloc[:,:-1].values\n",
    "y = dataset.iloc[:,-1].values"
   ]
  },
  {
   "cell_type": "code",
   "execution_count": 6,
   "id": "ced11e8e",
   "metadata": {
    "collapsed": true,
    "execution": {
     "iopub.execute_input": "2023-08-25T13:05:56.453688Z",
     "iopub.status.busy": "2023-08-25T13:05:56.452901Z",
     "iopub.status.idle": "2023-08-25T13:05:56.459008Z",
     "shell.execute_reply": "2023-08-25T13:05:56.458039Z"
    },
    "jupyter": {
     "outputs_hidden": true
    },
    "papermill": {
     "duration": 0.019639,
     "end_time": "2023-08-25T13:05:56.461674",
     "exception": false,
     "start_time": "2023-08-25T13:05:56.442035",
     "status": "completed"
    },
    "tags": []
   },
   "outputs": [
    {
     "name": "stdout",
     "output_type": "stream",
     "text": [
      "[[ 1.1]\n",
      " [ 1.3]\n",
      " [ 1.5]\n",
      " [ 2. ]\n",
      " [ 2.2]\n",
      " [ 2.9]\n",
      " [ 3. ]\n",
      " [ 3.2]\n",
      " [ 3.2]\n",
      " [ 3.7]\n",
      " [ 3.9]\n",
      " [ 4. ]\n",
      " [ 4. ]\n",
      " [ 4.1]\n",
      " [ 4.5]\n",
      " [ 4.9]\n",
      " [ 5.1]\n",
      " [ 5.3]\n",
      " [ 5.9]\n",
      " [ 6. ]\n",
      " [ 6.8]\n",
      " [ 7.1]\n",
      " [ 7.9]\n",
      " [ 8.2]\n",
      " [ 8.7]\n",
      " [ 9. ]\n",
      " [ 9.5]\n",
      " [ 9.6]\n",
      " [10.3]\n",
      " [10.5]]\n"
     ]
    }
   ],
   "source": [
    "print(X)"
   ]
  },
  {
   "cell_type": "code",
   "execution_count": 7,
   "id": "c401c9a6",
   "metadata": {
    "_kg_hide-input": false,
    "_kg_hide-output": false,
    "execution": {
     "iopub.execute_input": "2023-08-25T13:05:56.482098Z",
     "iopub.status.busy": "2023-08-25T13:05:56.481675Z",
     "iopub.status.idle": "2023-08-25T13:05:56.487906Z",
     "shell.execute_reply": "2023-08-25T13:05:56.486230Z"
    },
    "papermill": {
     "duration": 0.019768,
     "end_time": "2023-08-25T13:05:56.490728",
     "exception": false,
     "start_time": "2023-08-25T13:05:56.470960",
     "status": "completed"
    },
    "tags": []
   },
   "outputs": [
    {
     "name": "stdout",
     "output_type": "stream",
     "text": [
      "[ 39343.  46205.  37731.  43525.  39891.  56642.  60150.  54445.  64445.\n",
      "  57189.  63218.  55794.  56957.  57081.  61111.  67938.  66029.  83088.\n",
      "  81363.  93940.  91738.  98273. 101302. 113812. 109431. 105582. 116969.\n",
      " 112635. 122391. 121872.]\n"
     ]
    }
   ],
   "source": [
    "print(y)"
   ]
  },
  {
   "cell_type": "markdown",
   "id": "870881d6",
   "metadata": {
    "papermill": {
     "duration": 0.009351,
     "end_time": "2023-08-25T13:05:56.509591",
     "exception": false,
     "start_time": "2023-08-25T13:05:56.500240",
     "status": "completed"
    },
    "tags": []
   },
   "source": [
    "#### **Spliting Data in to Train and Test Set**"
   ]
  },
  {
   "cell_type": "code",
   "execution_count": 8,
   "id": "fc6e8bd8",
   "metadata": {
    "execution": {
     "iopub.execute_input": "2023-08-25T13:05:56.530036Z",
     "iopub.status.busy": "2023-08-25T13:05:56.529612Z",
     "iopub.status.idle": "2023-08-25T13:05:57.921921Z",
     "shell.execute_reply": "2023-08-25T13:05:57.920835Z"
    },
    "papermill": {
     "duration": 1.405943,
     "end_time": "2023-08-25T13:05:57.924902",
     "exception": false,
     "start_time": "2023-08-25T13:05:56.518959",
     "status": "completed"
    },
    "tags": []
   },
   "outputs": [
    {
     "name": "stderr",
     "output_type": "stream",
     "text": [
      "/opt/conda/lib/python3.10/site-packages/scipy/__init__.py:146: UserWarning: A NumPy version >=1.16.5 and <1.23.0 is required for this version of SciPy (detected version 1.23.5\n",
      "  warnings.warn(f\"A NumPy version >={np_minversion} and <{np_maxversion}\"\n"
     ]
    }
   ],
   "source": [
    "from sklearn.model_selection import train_test_split\n",
    "X_train, X_test, y_train, y_test = train_test_split(X, y, test_size=0.2, random_state=0)"
   ]
  },
  {
   "cell_type": "code",
   "execution_count": 9,
   "id": "d3cd32f8",
   "metadata": {
    "execution": {
     "iopub.execute_input": "2023-08-25T13:05:57.947097Z",
     "iopub.status.busy": "2023-08-25T13:05:57.945789Z",
     "iopub.status.idle": "2023-08-25T13:05:57.953871Z",
     "shell.execute_reply": "2023-08-25T13:05:57.952666Z"
    },
    "papermill": {
     "duration": 0.022059,
     "end_time": "2023-08-25T13:05:57.956815",
     "exception": false,
     "start_time": "2023-08-25T13:05:57.934756",
     "status": "completed"
    },
    "tags": []
   },
   "outputs": [
    {
     "data": {
      "text/plain": [
       "array([[ 1.5],\n",
       "       [10.3],\n",
       "       [ 4.1],\n",
       "       [ 3.9],\n",
       "       [ 9.5],\n",
       "       [ 8.7]])"
      ]
     },
     "execution_count": 9,
     "metadata": {},
     "output_type": "execute_result"
    }
   ],
   "source": [
    "#type(X_test)\n",
    "X_test\n"
   ]
  },
  {
   "cell_type": "code",
   "execution_count": 10,
   "id": "63e665e5",
   "metadata": {
    "execution": {
     "iopub.execute_input": "2023-08-25T13:05:57.979156Z",
     "iopub.status.busy": "2023-08-25T13:05:57.978130Z",
     "iopub.status.idle": "2023-08-25T13:05:57.987549Z",
     "shell.execute_reply": "2023-08-25T13:05:57.986093Z"
    },
    "papermill": {
     "duration": 0.023514,
     "end_time": "2023-08-25T13:05:57.990156",
     "exception": false,
     "start_time": "2023-08-25T13:05:57.966642",
     "status": "completed"
    },
    "tags": []
   },
   "outputs": [
    {
     "data": {
      "text/plain": [
       "array([ 37731., 122391.,  57081.,  63218., 116969., 109431.])"
      ]
     },
     "execution_count": 10,
     "metadata": {},
     "output_type": "execute_result"
    }
   ],
   "source": [
    "y_test"
   ]
  },
  {
   "cell_type": "markdown",
   "id": "b43ca74c",
   "metadata": {
    "papermill": {
     "duration": 0.01661,
     "end_time": "2023-08-25T13:05:58.016513",
     "exception": false,
     "start_time": "2023-08-25T13:05:57.999903",
     "status": "completed"
    },
    "tags": []
   },
   "source": [
    "#### **Implement Simple Linear Regression**"
   ]
  },
  {
   "cell_type": "code",
   "execution_count": 11,
   "id": "d24f4217",
   "metadata": {
    "execution": {
     "iopub.execute_input": "2023-08-25T13:05:58.038779Z",
     "iopub.status.busy": "2023-08-25T13:05:58.038289Z",
     "iopub.status.idle": "2023-08-25T13:05:58.180481Z",
     "shell.execute_reply": "2023-08-25T13:05:58.179138Z"
    },
    "papermill": {
     "duration": 0.15656,
     "end_time": "2023-08-25T13:05:58.183301",
     "exception": false,
     "start_time": "2023-08-25T13:05:58.026741",
     "status": "completed"
    },
    "tags": []
   },
   "outputs": [
    {
     "data": {
      "text/html": [
       "<style>#sk-container-id-1 {color: black;background-color: white;}#sk-container-id-1 pre{padding: 0;}#sk-container-id-1 div.sk-toggleable {background-color: white;}#sk-container-id-1 label.sk-toggleable__label {cursor: pointer;display: block;width: 100%;margin-bottom: 0;padding: 0.3em;box-sizing: border-box;text-align: center;}#sk-container-id-1 label.sk-toggleable__label-arrow:before {content: \"▸\";float: left;margin-right: 0.25em;color: #696969;}#sk-container-id-1 label.sk-toggleable__label-arrow:hover:before {color: black;}#sk-container-id-1 div.sk-estimator:hover label.sk-toggleable__label-arrow:before {color: black;}#sk-container-id-1 div.sk-toggleable__content {max-height: 0;max-width: 0;overflow: hidden;text-align: left;background-color: #f0f8ff;}#sk-container-id-1 div.sk-toggleable__content pre {margin: 0.2em;color: black;border-radius: 0.25em;background-color: #f0f8ff;}#sk-container-id-1 input.sk-toggleable__control:checked~div.sk-toggleable__content {max-height: 200px;max-width: 100%;overflow: auto;}#sk-container-id-1 input.sk-toggleable__control:checked~label.sk-toggleable__label-arrow:before {content: \"▾\";}#sk-container-id-1 div.sk-estimator input.sk-toggleable__control:checked~label.sk-toggleable__label {background-color: #d4ebff;}#sk-container-id-1 div.sk-label input.sk-toggleable__control:checked~label.sk-toggleable__label {background-color: #d4ebff;}#sk-container-id-1 input.sk-hidden--visually {border: 0;clip: rect(1px 1px 1px 1px);clip: rect(1px, 1px, 1px, 1px);height: 1px;margin: -1px;overflow: hidden;padding: 0;position: absolute;width: 1px;}#sk-container-id-1 div.sk-estimator {font-family: monospace;background-color: #f0f8ff;border: 1px dotted black;border-radius: 0.25em;box-sizing: border-box;margin-bottom: 0.5em;}#sk-container-id-1 div.sk-estimator:hover {background-color: #d4ebff;}#sk-container-id-1 div.sk-parallel-item::after {content: \"\";width: 100%;border-bottom: 1px solid gray;flex-grow: 1;}#sk-container-id-1 div.sk-label:hover label.sk-toggleable__label {background-color: #d4ebff;}#sk-container-id-1 div.sk-serial::before {content: \"\";position: absolute;border-left: 1px solid gray;box-sizing: border-box;top: 0;bottom: 0;left: 50%;z-index: 0;}#sk-container-id-1 div.sk-serial {display: flex;flex-direction: column;align-items: center;background-color: white;padding-right: 0.2em;padding-left: 0.2em;position: relative;}#sk-container-id-1 div.sk-item {position: relative;z-index: 1;}#sk-container-id-1 div.sk-parallel {display: flex;align-items: stretch;justify-content: center;background-color: white;position: relative;}#sk-container-id-1 div.sk-item::before, #sk-container-id-1 div.sk-parallel-item::before {content: \"\";position: absolute;border-left: 1px solid gray;box-sizing: border-box;top: 0;bottom: 0;left: 50%;z-index: -1;}#sk-container-id-1 div.sk-parallel-item {display: flex;flex-direction: column;z-index: 1;position: relative;background-color: white;}#sk-container-id-1 div.sk-parallel-item:first-child::after {align-self: flex-end;width: 50%;}#sk-container-id-1 div.sk-parallel-item:last-child::after {align-self: flex-start;width: 50%;}#sk-container-id-1 div.sk-parallel-item:only-child::after {width: 0;}#sk-container-id-1 div.sk-dashed-wrapped {border: 1px dashed gray;margin: 0 0.4em 0.5em 0.4em;box-sizing: border-box;padding-bottom: 0.4em;background-color: white;}#sk-container-id-1 div.sk-label label {font-family: monospace;font-weight: bold;display: inline-block;line-height: 1.2em;}#sk-container-id-1 div.sk-label-container {text-align: center;}#sk-container-id-1 div.sk-container {/* jupyter's `normalize.less` sets `[hidden] { display: none; }` but bootstrap.min.css set `[hidden] { display: none !important; }` so we also need the `!important` here to be able to override the default hidden behavior on the sphinx rendered scikit-learn.org. See: https://github.com/scikit-learn/scikit-learn/issues/21755 */display: inline-block !important;position: relative;}#sk-container-id-1 div.sk-text-repr-fallback {display: none;}</style><div id=\"sk-container-id-1\" class=\"sk-top-container\"><div class=\"sk-text-repr-fallback\"><pre>LinearRegression()</pre><b>In a Jupyter environment, please rerun this cell to show the HTML representation or trust the notebook. <br />On GitHub, the HTML representation is unable to render, please try loading this page with nbviewer.org.</b></div><div class=\"sk-container\" hidden><div class=\"sk-item\"><div class=\"sk-estimator sk-toggleable\"><input class=\"sk-toggleable__control sk-hidden--visually\" id=\"sk-estimator-id-1\" type=\"checkbox\" checked><label for=\"sk-estimator-id-1\" class=\"sk-toggleable__label sk-toggleable__label-arrow\">LinearRegression</label><div class=\"sk-toggleable__content\"><pre>LinearRegression()</pre></div></div></div></div></div>"
      ],
      "text/plain": [
       "LinearRegression()"
      ]
     },
     "execution_count": 11,
     "metadata": {},
     "output_type": "execute_result"
    }
   ],
   "source": [
    "from sklearn.linear_model import LinearRegression\n",
    "regressor = LinearRegression()\n",
    "regressor.fit(X_train, y_train)"
   ]
  },
  {
   "cell_type": "markdown",
   "id": "58e2a854",
   "metadata": {
    "papermill": {
     "duration": 0.009602,
     "end_time": "2023-08-25T13:05:58.203121",
     "exception": false,
     "start_time": "2023-08-25T13:05:58.193519",
     "status": "completed"
    },
    "tags": []
   },
   "source": [
    "#### **Predicting TestSet Result**"
   ]
  },
  {
   "cell_type": "code",
   "execution_count": 12,
   "id": "1f83ef7f",
   "metadata": {
    "execution": {
     "iopub.execute_input": "2023-08-25T13:05:58.225473Z",
     "iopub.status.busy": "2023-08-25T13:05:58.225012Z",
     "iopub.status.idle": "2023-08-25T13:05:58.230701Z",
     "shell.execute_reply": "2023-08-25T13:05:58.229641Z"
    },
    "papermill": {
     "duration": 0.019527,
     "end_time": "2023-08-25T13:05:58.232917",
     "exception": false,
     "start_time": "2023-08-25T13:05:58.213390",
     "status": "completed"
    },
    "tags": []
   },
   "outputs": [],
   "source": [
    "y_pred = regressor.predict(X_test)"
   ]
  },
  {
   "cell_type": "code",
   "execution_count": 13,
   "id": "17a1ecdb",
   "metadata": {
    "execution": {
     "iopub.execute_input": "2023-08-25T13:05:58.255616Z",
     "iopub.status.busy": "2023-08-25T13:05:58.254644Z",
     "iopub.status.idle": "2023-08-25T13:05:58.261902Z",
     "shell.execute_reply": "2023-08-25T13:05:58.260787Z"
    },
    "papermill": {
     "duration": 0.021383,
     "end_time": "2023-08-25T13:05:58.264398",
     "exception": false,
     "start_time": "2023-08-25T13:05:58.243015",
     "status": "completed"
    },
    "tags": []
   },
   "outputs": [
    {
     "data": {
      "text/plain": [
       "array([ 40748.96184072, 122699.62295594,  64961.65717022,  63099.14214487,\n",
       "       115249.56285456, 107799.50275317])"
      ]
     },
     "execution_count": 13,
     "metadata": {},
     "output_type": "execute_result"
    }
   ],
   "source": [
    "y_pred"
   ]
  },
  {
   "cell_type": "code",
   "execution_count": 14,
   "id": "c574d1d3",
   "metadata": {
    "execution": {
     "iopub.execute_input": "2023-08-25T13:05:58.287130Z",
     "iopub.status.busy": "2023-08-25T13:05:58.286701Z",
     "iopub.status.idle": "2023-08-25T13:05:58.291558Z",
     "shell.execute_reply": "2023-08-25T13:05:58.290351Z"
    },
    "papermill": {
     "duration": 0.019722,
     "end_time": "2023-08-25T13:05:58.294405",
     "exception": false,
     "start_time": "2023-08-25T13:05:58.274683",
     "status": "completed"
    },
    "tags": []
   },
   "outputs": [],
   "source": [
    "# from sklearn import metrics\n",
    "# print(\"Accuracy : \",metrics.accuracy_score(y_train,y_pred))"
   ]
  },
  {
   "cell_type": "markdown",
   "id": "1ae46806",
   "metadata": {
    "papermill": {
     "duration": 0.009464,
     "end_time": "2023-08-25T13:05:58.313922",
     "exception": false,
     "start_time": "2023-08-25T13:05:58.304458",
     "status": "completed"
    },
    "tags": []
   },
   "source": [
    "### **Visualizing Train Set**"
   ]
  },
  {
   "cell_type": "code",
   "execution_count": 15,
   "id": "00c6cbef",
   "metadata": {
    "execution": {
     "iopub.execute_input": "2023-08-25T13:05:58.336474Z",
     "iopub.status.busy": "2023-08-25T13:05:58.335717Z",
     "iopub.status.idle": "2023-08-25T13:05:58.684834Z",
     "shell.execute_reply": "2023-08-25T13:05:58.683624Z"
    },
    "papermill": {
     "duration": 0.364024,
     "end_time": "2023-08-25T13:05:58.687861",
     "exception": false,
     "start_time": "2023-08-25T13:05:58.323837",
     "status": "completed"
    },
    "tags": []
   },
   "outputs": [
    {
     "data": {
      "image/png": "[encoded data removed]",
      "text/plain": [
       "<Figure size 640x480 with 1 Axes>"
      ]
     },
     "metadata": {},
     "output_type": "display_data"
    }
   ],
   "source": [
    "plt.scatter(X_train,y_train, color ='red')\n",
    "plt.plot(X_train, regressor.predict(X_train), color='blue')\n",
    "plt.title(\"Salary vs Experience\")\n",
    "plt.xlabel('Experiences')\n",
    "plt.ylabel('Salaries')\n",
    "plt.show() "
   ]
  },
  {
   "cell_type": "markdown",
   "id": "84faa607",
   "metadata": {
    "papermill": {
     "duration": 0.010487,
     "end_time": "2023-08-25T13:05:58.709068",
     "exception": false,
     "start_time": "2023-08-25T13:05:58.698581",
     "status": "completed"
    },
    "tags": []
   },
   "source": [
    "### **Visualizing Test Set**"
   ]
  },
  {
   "cell_type": "code",
   "execution_count": 16,
   "id": "dc544325",
   "metadata": {
    "execution": {
     "iopub.execute_input": "2023-08-25T13:05:58.735705Z",
     "iopub.status.busy": "2023-08-25T13:05:58.735072Z",
     "iopub.status.idle": "2023-08-25T13:05:59.044676Z",
     "shell.execute_reply": "2023-08-25T13:05:59.043371Z"
    },
    "papermill": {
     "duration": 0.327582,
     "end_time": "2023-08-25T13:05:59.047895",
     "exception": false,
     "start_time": "2023-08-25T13:05:58.720313",
     "status": "completed"
    },
    "tags": []
   },
   "outputs": [
    {
     "data": {
      "image/png": "[encoded data removed]",
      "text/plain": [
       "<Figure size 640x480 with 1 Axes>"
      ]
     },
     "metadata": {},
     "output_type": "display_data"
    }
   ],
   "source": [
    "plt.scatter(X_test,y_test, color ='red')\n",
    "plt.plot(X_train, regressor.predict(X_train), color='blue')\n",
    "plt.title(\"Salary vs Experience\")\n",
    "plt.xlabel('Experiences')\n",
    "plt.ylabel('Salaries')\n",
    "plt.show() "
   ]
  },
  {
   "cell_type": "code",
   "execution_count": 17,
   "id": "2a9a69f4",
   "metadata": {
    "execution": {
     "iopub.execute_input": "2023-08-25T13:05:59.076662Z",
     "iopub.status.busy": "2023-08-25T13:05:59.074706Z",
     "iopub.status.idle": "2023-08-25T13:05:59.087771Z",
     "shell.execute_reply": "2023-08-25T13:05:59.086168Z"
    },
    "papermill": {
     "duration": 0.034733,
     "end_time": "2023-08-25T13:05:59.093919",
     "exception": false,
     "start_time": "2023-08-25T13:05:59.059186",
     "status": "completed"
    },
    "tags": []
   },
   "outputs": [
    {
     "data": {
      "text/plain": [
       "array([54717.82453082])"
      ]
     },
     "execution_count": 17,
     "metadata": {},
     "output_type": "execute_result"
    }
   ],
   "source": [
    "regressor.predict([[3.0]])"
   ]
  },
  {
   "cell_type": "code",
   "execution_count": null,
   "id": "5b4803d7",
   "metadata": {
    "papermill": {
     "duration": 0.017028,
     "end_time": "2023-08-25T13:05:59.128946",
     "exception": false,
     "start_time": "2023-08-25T13:05:59.111918",
     "status": "completed"
    },
    "tags": []
   },
   "outputs": [],
   "source": []
  }
 ],
 "metadata": {
  "kernelspec": {
   "display_name": "Python 3",
   "language": "python",
   "name": "python3"
  },
  "language_info": {
   "codemirror_mode": {
    "name": "ipython",
    "version": 3
   },
   "file_extension": ".py",
   "mimetype": "text/x-python",
   "name": "python",
   "nbconvert_exporter": "python",
   "pygments_lexer": "ipython3",
   "version": "3.10.12"
  },
  "papermill": {
   "default_parameters": {},
   "duration": 17.284564,
   "end_time": "2023-08-25T13:06:00.567262",
   "environment_variables": {},
   "exception": null,
   "input_path": "__notebook__.ipynb",
   "output_path": "__notebook__.ipynb",
   "parameters": {},
   "start_time": "2023-08-25T13:05:43.282698",
   "version": "2.4.0"
  }
 },
 "nbformat": 4,
 "nbformat_minor": 5
}
