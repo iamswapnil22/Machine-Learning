{
 "cells": [
  {
   "cell_type": "markdown",
   "id": "49a358ac",
   "metadata": {
    "papermill": {
     "duration": 0.005014,
     "end_time": "2023-08-25T13:16:52.820847",
     "exception": false,
     "start_time": "2023-08-25T13:16:52.815833",
     "status": "completed"
    },
    "tags": []
   },
   "source": [
    "# ***Simple Linear Regression***"
   ]
  },
  {
   "cell_type": "markdown",
   "id": "c60ce103",
   "metadata": {
    "papermill": {
     "duration": 0.004748,
     "end_time": "2023-08-25T13:16:52.830096",
     "exception": false,
     "start_time": "2023-08-25T13:16:52.825348",
     "status": "completed"
    },
    "tags": []
   },
   "source": [
    "#### **Import The Libraries**"
   ]
  },
  {
   "cell_type": "code",
   "execution_count": 1,
   "id": "aa1a9efa",
   "metadata": {
    "execution": {
     "iopub.execute_input": "2023-08-25T13:16:52.841197Z",
     "iopub.status.busy": "2023-08-25T13:16:52.840808Z",
     "iopub.status.idle": "2023-08-25T13:16:52.851383Z",
     "shell.execute_reply": "2023-08-25T13:16:52.850273Z"
    },
    "papermill": {
     "duration": 0.018593,
     "end_time": "2023-08-25T13:16:52.853725",
     "exception": false,
     "start_time": "2023-08-25T13:16:52.835132",
     "status": "completed"
    },
    "tags": []
   },
   "outputs": [],
   "source": [
    "import numpy as np\n",
    "import pandas as pd\n",
    "import matplotlib.pyplot as plt"
   ]
  },
  {
   "cell_type": "markdown",
   "id": "98a18232",
   "metadata": {
    "papermill": {
     "duration": 0.003866,
     "end_time": "2023-08-25T13:16:52.861992",
     "exception": false,
     "start_time": "2023-08-25T13:16:52.858126",
     "status": "completed"
    },
    "tags": []
   },
   "source": [
    "#### **Importing the dataset**"
   ]
  },
  {
   "cell_type": "code",
   "execution_count": 2,
   "id": "849d78b3",
   "metadata": {
    "execution": {
     "iopub.execute_input": "2023-08-25T13:16:52.871872Z",
     "iopub.status.busy": "2023-08-25T13:16:52.871499Z",
     "iopub.status.idle": "2023-08-25T13:16:52.898148Z",
     "shell.execute_reply": "2023-08-25T13:16:52.897217Z"
    },
    "papermill": {
     "duration": 0.034917,
     "end_time": "2023-08-25T13:16:52.901006",
     "exception": false,
     "start_time": "2023-08-25T13:16:52.866089",
     "status": "completed"
    },
    "tags": []
   },
   "outputs": [],
   "source": [
    "dataset = pd.read_csv('/kaggle/input/salary-datacsv/Salary_Data.csv')"
   ]
  },
  {
   "cell_type": "code",
   "execution_count": 3,
   "id": "2c83520d",
   "metadata": {
    "execution": {
     "iopub.execute_input": "2023-08-25T13:16:52.911831Z",
     "iopub.status.busy": "2023-08-25T13:16:52.911440Z",
     "iopub.status.idle": "2023-08-25T13:16:52.916257Z",
     "shell.execute_reply": "2023-08-25T13:16:52.915279Z"
    },
    "papermill": {
     "duration": 0.012737,
     "end_time": "2023-08-25T13:16:52.918399",
     "exception": false,
     "start_time": "2023-08-25T13:16:52.905662",
     "status": "completed"
    },
    "tags": []
   },
   "outputs": [],
   "source": [
    "X = dataset.iloc[:,:-1].values\n",
    "y = dataset.iloc[:,-1].values"
   ]
  },
  {
   "cell_type": "markdown",
   "id": "535de0ab",
   "metadata": {
    "papermill": {
     "duration": 0.004438,
     "end_time": "2023-08-25T13:16:52.927098",
     "exception": false,
     "start_time": "2023-08-25T13:16:52.922660",
     "status": "completed"
    },
    "tags": []
   },
   "source": [
    "#### **Spliting Data in to Train and Test Set**"
   ]
  },
  {
   "cell_type": "code",
   "execution_count": 4,
   "id": "60caa43f",
   "metadata": {
    "execution": {
     "iopub.execute_input": "2023-08-25T13:16:52.937720Z",
     "iopub.status.busy": "2023-08-25T13:16:52.936930Z",
     "iopub.status.idle": "2023-08-25T13:16:54.333832Z",
     "shell.execute_reply": "2023-08-25T13:16:54.332913Z"
    },
    "papermill": {
     "duration": 1.405053,
     "end_time": "2023-08-25T13:16:54.336376",
     "exception": false,
     "start_time": "2023-08-25T13:16:52.931323",
     "status": "completed"
    },
    "tags": []
   },
   "outputs": [
    {
     "name": "stderr",
     "output_type": "stream",
     "text": [
      "/opt/conda/lib/python3.10/site-packages/scipy/__init__.py:146: UserWarning: A NumPy version >=1.16.5 and <1.23.0 is required for this version of SciPy (detected version 1.23.5\n",
      "  warnings.warn(f\"A NumPy version >={np_minversion} and <{np_maxversion}\"\n"
     ]
    }
   ],
   "source": [
    "from sklearn.model_selection import train_test_split\n",
    "X_train, X_test, y_train, y_test = train_test_split(X, y, test_size=1/3, random_state=0)"
   ]
  },
  {
   "cell_type": "markdown",
   "id": "c6eefbad",
   "metadata": {
    "papermill": {
     "duration": 0.004144,
     "end_time": "2023-08-25T13:16:54.345008",
     "exception": false,
     "start_time": "2023-08-25T13:16:54.340864",
     "status": "completed"
    },
    "tags": []
   },
   "source": [
    "#### **Implement Simple Linear Regression**"
   ]
  },
  {
   "cell_type": "code",
   "execution_count": 5,
   "id": "57b86941",
   "metadata": {
    "execution": {
     "iopub.execute_input": "2023-08-25T13:16:54.355873Z",
     "iopub.status.busy": "2023-08-25T13:16:54.355491Z",
     "iopub.status.idle": "2023-08-25T13:16:54.503786Z",
     "shell.execute_reply": "2023-08-25T13:16:54.502593Z"
    },
    "papermill": {
     "duration": 0.156019,
     "end_time": "2023-08-25T13:16:54.506110",
     "exception": false,
     "start_time": "2023-08-25T13:16:54.350091",
     "status": "completed"
    },
    "tags": []
   },
   "outputs": [
    {
     "data": {
      "text/html": [
       "<style>#sk-container-id-1 {color: black;background-color: white;}#sk-container-id-1 pre{padding: 0;}#sk-container-id-1 div.sk-toggleable {background-color: white;}#sk-container-id-1 label.sk-toggleable__label {cursor: pointer;display: block;width: 100%;margin-bottom: 0;padding: 0.3em;box-sizing: border-box;text-align: center;}#sk-container-id-1 label.sk-toggleable__label-arrow:before {content: \"▸\";float: left;margin-right: 0.25em;color: #696969;}#sk-container-id-1 label.sk-toggleable__label-arrow:hover:before {color: black;}#sk-container-id-1 div.sk-estimator:hover label.sk-toggleable__label-arrow:before {color: black;}#sk-container-id-1 div.sk-toggleable__content {max-height: 0;max-width: 0;overflow: hidden;text-align: left;background-color: #f0f8ff;}#sk-container-id-1 div.sk-toggleable__content pre {margin: 0.2em;color: black;border-radius: 0.25em;background-color: #f0f8ff;}#sk-container-id-1 input.sk-toggleable__control:checked~div.sk-toggleable__content {max-height: 200px;max-width: 100%;overflow: auto;}#sk-container-id-1 input.sk-toggleable__control:checked~label.sk-toggleable__label-arrow:before {content: \"▾\";}#sk-container-id-1 div.sk-estimator input.sk-toggleable__control:checked~label.sk-toggleable__label {background-color: #d4ebff;}#sk-container-id-1 div.sk-label input.sk-toggleable__control:checked~label.sk-toggleable__label {background-color: #d4ebff;}#sk-container-id-1 input.sk-hidden--visually {border: 0;clip: rect(1px 1px 1px 1px);clip: rect(1px, 1px, 1px, 1px);height: 1px;margin: -1px;overflow: hidden;padding: 0;position: absolute;width: 1px;}#sk-container-id-1 div.sk-estimator {font-family: monospace;background-color: #f0f8ff;border: 1px dotted black;border-radius: 0.25em;box-sizing: border-box;margin-bottom: 0.5em;}#sk-container-id-1 div.sk-estimator:hover {background-color: #d4ebff;}#sk-container-id-1 div.sk-parallel-item::after {content: \"\";width: 100%;border-bottom: 1px solid gray;flex-grow: 1;}#sk-container-id-1 div.sk-label:hover label.sk-toggleable__label {background-color: #d4ebff;}#sk-container-id-1 div.sk-serial::before {content: \"\";position: absolute;border-left: 1px solid gray;box-sizing: border-box;top: 0;bottom: 0;left: 50%;z-index: 0;}#sk-container-id-1 div.sk-serial {display: flex;flex-direction: column;align-items: center;background-color: white;padding-right: 0.2em;padding-left: 0.2em;position: relative;}#sk-container-id-1 div.sk-item {position: relative;z-index: 1;}#sk-container-id-1 div.sk-parallel {display: flex;align-items: stretch;justify-content: center;background-color: white;position: relative;}#sk-container-id-1 div.sk-item::before, #sk-container-id-1 div.sk-parallel-item::before {content: \"\";position: absolute;border-left: 1px solid gray;box-sizing: border-box;top: 0;bottom: 0;left: 50%;z-index: -1;}#sk-container-id-1 div.sk-parallel-item {display: flex;flex-direction: column;z-index: 1;position: relative;background-color: white;}#sk-container-id-1 div.sk-parallel-item:first-child::after {align-self: flex-end;width: 50%;}#sk-container-id-1 div.sk-parallel-item:last-child::after {align-self: flex-start;width: 50%;}#sk-container-id-1 div.sk-parallel-item:only-child::after {width: 0;}#sk-container-id-1 div.sk-dashed-wrapped {border: 1px dashed gray;margin: 0 0.4em 0.5em 0.4em;box-sizing: border-box;padding-bottom: 0.4em;background-color: white;}#sk-container-id-1 div.sk-label label {font-family: monospace;font-weight: bold;display: inline-block;line-height: 1.2em;}#sk-container-id-1 div.sk-label-container {text-align: center;}#sk-container-id-1 div.sk-container {/* jupyter's `normalize.less` sets `[hidden] { display: none; }` but bootstrap.min.css set `[hidden] { display: none !important; }` so we also need the `!important` here to be able to override the default hidden behavior on the sphinx rendered scikit-learn.org. See: https://github.com/scikit-learn/scikit-learn/issues/21755 */display: inline-block !important;position: relative;}#sk-container-id-1 div.sk-text-repr-fallback {display: none;}</style><div id=\"sk-container-id-1\" class=\"sk-top-container\"><div class=\"sk-text-repr-fallback\"><pre>LinearRegression()</pre><b>In a Jupyter environment, please rerun this cell to show the HTML representation or trust the notebook. <br />On GitHub, the HTML representation is unable to render, please try loading this page with nbviewer.org.</b></div><div class=\"sk-container\" hidden><div class=\"sk-item\"><div class=\"sk-estimator sk-toggleable\"><input class=\"sk-toggleable__control sk-hidden--visually\" id=\"sk-estimator-id-1\" type=\"checkbox\" checked><label for=\"sk-estimator-id-1\" class=\"sk-toggleable__label sk-toggleable__label-arrow\">LinearRegression</label><div class=\"sk-toggleable__content\"><pre>LinearRegression()</pre></div></div></div></div></div>"
      ],
      "text/plain": [
       "LinearRegression()"
      ]
     },
     "execution_count": 5,
     "metadata": {},
     "output_type": "execute_result"
    }
   ],
   "source": [
    "from sklearn.linear_model import LinearRegression\n",
    "regressor = LinearRegression()\n",
    "regressor.fit(X_train, y_train)"
   ]
  },
  {
   "cell_type": "markdown",
   "id": "65f955e2",
   "metadata": {
    "papermill": {
     "duration": 0.005739,
     "end_time": "2023-08-25T13:16:54.517008",
     "exception": false,
     "start_time": "2023-08-25T13:16:54.511269",
     "status": "completed"
    },
    "tags": []
   },
   "source": [
    "#### **Predicting TestSet Result**"
   ]
  },
  {
   "cell_type": "code",
   "execution_count": 6,
   "id": "5e1a4d68",
   "metadata": {
    "execution": {
     "iopub.execute_input": "2023-08-25T13:16:54.527519Z",
     "iopub.status.busy": "2023-08-25T13:16:54.527136Z",
     "iopub.status.idle": "2023-08-25T13:16:54.532339Z",
     "shell.execute_reply": "2023-08-25T13:16:54.531422Z"
    },
    "papermill": {
     "duration": 0.012905,
     "end_time": "2023-08-25T13:16:54.534395",
     "exception": false,
     "start_time": "2023-08-25T13:16:54.521490",
     "status": "completed"
    },
    "tags": []
   },
   "outputs": [],
   "source": [
    "y_pred = regressor.predict(X_test)"
   ]
  },
  {
   "cell_type": "markdown",
   "id": "e5dd2735",
   "metadata": {
    "papermill": {
     "duration": 0.004466,
     "end_time": "2023-08-25T13:16:54.543544",
     "exception": false,
     "start_time": "2023-08-25T13:16:54.539078",
     "status": "completed"
    },
    "tags": []
   },
   "source": [
    "### **Visualizing Train Set**"
   ]
  },
  {
   "cell_type": "code",
   "execution_count": 7,
   "id": "8b56bad9",
   "metadata": {
    "execution": {
     "iopub.execute_input": "2023-08-25T13:16:54.554615Z",
     "iopub.status.busy": "2023-08-25T13:16:54.553932Z",
     "iopub.status.idle": "2023-08-25T13:16:54.851182Z",
     "shell.execute_reply": "2023-08-25T13:16:54.849998Z"
    },
    "papermill": {
     "duration": 0.305502,
     "end_time": "2023-08-25T13:16:54.853570",
     "exception": false,
     "start_time": "2023-08-25T13:16:54.548068",
     "status": "completed"
    },
    "tags": []
   },
   "outputs": [
    {
     "data": {
      "image/png": "[encoded data removed]",
      "text/plain": [
       "<Figure size 640x480 with 1 Axes>"
      ]
     },
     "metadata": {},
     "output_type": "display_data"
    }
   ],
   "source": [
    "plt.scatter(X_train,y_train, color ='red')\n",
    "plt.plot(X_train, regressor.predict(X_train), color='blue')\n",
    "plt.title(\"Salary vs Experience\")\n",
    "plt.xlabel('Experiences')\n",
    "plt.ylabel('Salaries')\n",
    "plt.show() "
   ]
  },
  {
   "cell_type": "markdown",
   "id": "72360731",
   "metadata": {
    "papermill": {
     "duration": 0.004645,
     "end_time": "2023-08-25T13:16:54.863204",
     "exception": false,
     "start_time": "2023-08-25T13:16:54.858559",
     "status": "completed"
    },
    "tags": []
   },
   "source": [
    "### **Visualizing Test Set**"
   ]
  },
  {
   "cell_type": "code",
   "execution_count": 8,
   "id": "0de1398d",
   "metadata": {
    "execution": {
     "iopub.execute_input": "2023-08-25T13:16:54.874895Z",
     "iopub.status.busy": "2023-08-25T13:16:54.874539Z",
     "iopub.status.idle": "2023-08-25T13:16:55.127823Z",
     "shell.execute_reply": "2023-08-25T13:16:55.126564Z"
    },
    "papermill": {
     "duration": 0.262047,
     "end_time": "2023-08-25T13:16:55.130291",
     "exception": false,
     "start_time": "2023-08-25T13:16:54.868244",
     "status": "completed"
    },
    "tags": []
   },
   "outputs": [
    {
     "data": {
      "image/png": "[encoded data removed]",
      "text/plain": [
       "<Figure size 640x480 with 1 Axes>"
      ]
     },
     "metadata": {},
     "output_type": "display_data"
    }
   ],
   "source": [
    "plt.scatter(X_test,y_test, color ='red')\n",
    "plt.plot(X_train, regressor.predict(X_train), color='blue')\n",
    "plt.title(\"Salary vs Experience\")\n",
    "plt.xlabel('Experiences')\n",
    "plt.ylabel('Salaries')\n",
    "plt.show() "
   ]
  },
  {
   "cell_type": "code",
   "execution_count": 9,
   "id": "9233e256",
   "metadata": {
    "execution": {
     "iopub.execute_input": "2023-08-25T13:16:55.143401Z",
     "iopub.status.busy": "2023-08-25T13:16:55.143038Z",
     "iopub.status.idle": "2023-08-25T13:16:55.150177Z",
     "shell.execute_reply": "2023-08-25T13:16:55.148450Z"
    },
    "papermill": {
     "duration": 0.016733,
     "end_time": "2023-08-25T13:16:55.152565",
     "exception": false,
     "start_time": "2023-08-25T13:16:55.135832",
     "status": "completed"
    },
    "tags": []
   },
   "outputs": [
    {
     "data": {
      "text/plain": [
       "array([64199.96201652])"
      ]
     },
     "execution_count": 9,
     "metadata": {},
     "output_type": "execute_result"
    }
   ],
   "source": [
    "regressor.predict([[4.0]])"
   ]
  },
  {
   "cell_type": "code",
   "execution_count": null,
   "id": "a58bde65",
   "metadata": {
    "papermill": {
     "duration": 0.005215,
     "end_time": "2023-08-25T13:16:55.163304",
     "exception": false,
     "start_time": "2023-08-25T13:16:55.158089",
     "status": "completed"
    },
    "tags": []
   },
   "outputs": [],
   "source": []
  }
 ],
 "metadata": {
  "kernelspec": {
   "display_name": "Python 3",
   "language": "python",
   "name": "python3"
  },
  "language_info": {
   "codemirror_mode": {
    "name": "ipython",
    "version": 3
   },
   "file_extension": ".py",
   "mimetype": "text/x-python",
   "name": "python",
   "nbconvert_exporter": "python",
   "pygments_lexer": "ipython3",
   "version": "3.10.12"
  },
  "papermill": {
   "default_parameters": {},
   "duration": 15.348652,
   "end_time": "2023-08-25T13:16:56.194482",
   "environment_variables": {},
   "exception": null,
   "input_path": "__notebook__.ipynb",
   "output_path": "__notebook__.ipynb",
   "parameters": {},
   "start_time": "2023-08-25T13:16:40.845830",
   "version": "2.4.0"
  }
 },
 "nbformat": 4,
 "nbformat_minor": 5
}
